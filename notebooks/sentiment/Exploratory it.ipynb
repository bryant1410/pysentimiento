{
 "cells": [
  {
   "cell_type": "markdown",
   "metadata": {},
   "source": [
    "## Exploratory Analysis\n",
    "\n"
   ]
  },
  {
   "cell_type": "code",
   "execution_count": 1,
   "metadata": {},
   "outputs": [],
   "source": [
    "%load_ext autoreload\n",
    "%autoreload 2\n",
    "import os\n",
    "import pandas as pd\n",
    "\n",
    "train_path = \"../../data/sentiment/training_set_sentipolc16.csv\"\n",
    "test_path = \"../../data/sentiment/test_set_sentipolc16_gold2000.csv\"\n",
    "\n",
    "# Read SENTIPOLC16 data\n",
    "# Take care that data is separated by commas and double quotes\n",
    "train_df = pd.read_csv(train_path, sep=\",\", quotechar='\"')"
   ]
  },
  {
   "cell_type": "code",
   "execution_count": 2,
   "metadata": {},
   "outputs": [],
   "source": [
    "# Try with csv reader\n",
    "import csv\n",
    "\n",
    "\n",
    "lines = list(open(test_path, \"r\"))\n",
    "\n",
    "reader = csv.reader(lines, quotechar='\"', delimiter=',',\n",
    "                     quoting=csv.QUOTE_ALL, skipinitialspace=True)\n",
    "\n",
    "test_data = []\n",
    "\n",
    "for row in reader:\n",
    "    while len(row) != 9:\n",
    "        # Join last one with commas\n",
    "        last = row.pop()\n",
    "        before_last = row.pop()\n",
    "\n",
    "        row.append(before_last + \",\" + last)\n",
    "    test_data.append(row)\n"
   ]
  },
  {
   "cell_type": "code",
   "execution_count": 3,
   "metadata": {},
   "outputs": [
    {
     "data": {
      "text/plain": [
       "Counter({9: 2000})"
      ]
     },
     "execution_count": 3,
     "metadata": {},
     "output_type": "execute_result"
    }
   ],
   "source": [
    "from collections import Counter\n",
    "Counter(len(t) for t in test_data)"
   ]
  },
  {
   "cell_type": "code",
   "execution_count": 4,
   "metadata": {},
   "outputs": [],
   "source": [
    "df_test = pd.DataFrame(test_data, columns=[\"idtwitter\",\"subj\",\"opos\",\"oneg\",\"iro\",\"lpos\",\"lneg\",\"top\",\"text\"])"
   ]
  },
  {
   "cell_type": "code",
   "execution_count": 5,
   "metadata": {},
   "outputs": [],
   "source": [
    "from sklearn.model_selection import train_test_split\n",
    "\n",
    "\n",
    "train_df, dev_df = train_test_split(\n",
    "    train_df, test_size=0.2, random_state=2022)"
   ]
  },
  {
   "cell_type": "code",
   "execution_count": 6,
   "metadata": {},
   "outputs": [],
   "source": [
    "from datasets import DatasetDict, Dataset, Value, Features, ClassLabel\n",
    "\n",
    "features = Features({\n",
    "    'idtwitter': Value('string'),\n",
    "    'text': Value('string'),\n",
    "    'subj': ClassLabel(num_classes=2, names=[\"objective\", \"subjective\"]),\n",
    "    'opos': ClassLabel(num_classes=2, names=[\"obj. non positive\", \"obj,  positive\"]),\n",
    "    \"oneg\": ClassLabel(num_classes=2, names=[\"obj. non negative\", \"obj,  negative\"]),\n",
    "    \"iro\": ClassLabel(num_classes=2, names=[\"non ironic\", \"ironic\"]),\n",
    "    \"lpos\": ClassLabel(num_classes=2, names=[\"lit. non positive\", \"lit. positive\"]),\n",
    "    \"lneg\": ClassLabel(num_classes=2, names=[\"lit. non negative\", \"lit. negative\"]),\n",
    "    \"top\": Value('int64'),\n",
    "})\n",
    "\n",
    "train = Dataset.from_pandas(train_df, features=features, preserve_index=False)\n",
    "dev = Dataset.from_pandas(dev_df, features=features, preserve_index=False)\n",
    "test = Dataset.from_pandas(df_test, features=features, preserve_index=False)\n",
    "\n",
    "ds = DatasetDict(\n",
    "    train=train,\n",
    "    dev=dev,\n",
    "    test=test\n",
    ")"
   ]
  },
  {
   "attachments": {},
   "cell_type": "markdown",
   "metadata": {},
   "source": [
    "See http://www.di.unito.it/~tutreeb/sentipolc-evalita16/sentipolc-guidelines2016UPDATED130916.pdf for the guidelines."
   ]
  },
  {
   "cell_type": "code",
   "execution_count": 7,
   "metadata": {},
   "outputs": [
    {
     "name": "stderr",
     "output_type": "stream",
     "text": [
      "Using custom data configuration pysentimiento--it_sentipolc16-8c8db12a2ed2bd1e\n",
      "Found cached dataset parquet (/users/jmperez/.cache/huggingface/datasets/pysentimiento___parquet/pysentimiento--it_sentipolc16-8c8db12a2ed2bd1e/0.0.0/2a3b91fbd88a2c90d1dbbb32b460cf621d31bd5b05b934492fdef7d8d6f236ec)\n"
     ]
    },
    {
     "data": {
      "application/vnd.jupyter.widget-view+json": {
       "model_id": "9f9e8bda246f4097b54f61f803e1b409",
       "version_major": 2,
       "version_minor": 0
      },
      "text/plain": [
       "  0%|          | 0/3 [00:00<?, ?it/s]"
      ]
     },
     "metadata": {},
     "output_type": "display_data"
    },
    {
     "name": "stderr",
     "output_type": "stream",
     "text": [
      "Loading cached processed dataset at /users/jmperez/.cache/huggingface/datasets/pysentimiento___parquet/pysentimiento--it_sentipolc16-8c8db12a2ed2bd1e/0.0.0/2a3b91fbd88a2c90d1dbbb32b460cf621d31bd5b05b934492fdef7d8d6f236ec/cache-0a1d8f889d9b04fd.arrow\n",
      "Loading cached processed dataset at /users/jmperez/.cache/huggingface/datasets/pysentimiento___parquet/pysentimiento--it_sentipolc16-8c8db12a2ed2bd1e/0.0.0/2a3b91fbd88a2c90d1dbbb32b460cf621d31bd5b05b934492fdef7d8d6f236ec/cache-11aa6dec258a6c5d.arrow\n",
      "Loading cached processed dataset at /users/jmperez/.cache/huggingface/datasets/pysentimiento___parquet/pysentimiento--it_sentipolc16-8c8db12a2ed2bd1e/0.0.0/2a3b91fbd88a2c90d1dbbb32b460cf621d31bd5b05b934492fdef7d8d6f236ec/cache-a2324e4886af8dca.arrow\n"
     ]
    },
    {
     "data": {
      "text/plain": [
       "DatasetDict({\n",
       "    dev: Dataset({\n",
       "        features: ['idtwitter', 'text', 'subj', 'opos', 'oneg', 'iro', 'lpos', 'lneg', 'top'],\n",
       "        num_rows: 1482\n",
       "    })\n",
       "    train: Dataset({\n",
       "        features: ['idtwitter', 'text', 'subj', 'opos', 'oneg', 'iro', 'lpos', 'lneg', 'top'],\n",
       "        num_rows: 5928\n",
       "    })\n",
       "    test: Dataset({\n",
       "        features: ['idtwitter', 'text', 'subj', 'opos', 'oneg', 'iro', 'lpos', 'lneg', 'top'],\n",
       "        num_rows: 2000\n",
       "    })\n",
       "})"
      ]
     },
     "execution_count": 7,
     "metadata": {},
     "output_type": "execute_result"
    }
   ],
   "source": [
    "from pysentimiento.sentipolc import load_datasets\n",
    "\n",
    "ds = load_datasets()\n",
    "\n",
    "ds"
   ]
  },
  {
   "cell_type": "code",
   "execution_count": 8,
   "metadata": {},
   "outputs": [
    {
     "name": "stderr",
     "output_type": "stream",
     "text": [
      "Loading cached processed dataset at /users/jmperez/.cache/huggingface/datasets/pysentimiento___parquet/pysentimiento--it_sentipolc16-8c8db12a2ed2bd1e/0.0.0/2a3b91fbd88a2c90d1dbbb32b460cf621d31bd5b05b934492fdef7d8d6f236ec/cache-d008cb808199df88.arrow\n",
      "Loading cached processed dataset at /users/jmperez/.cache/huggingface/datasets/pysentimiento___parquet/pysentimiento--it_sentipolc16-8c8db12a2ed2bd1e/0.0.0/2a3b91fbd88a2c90d1dbbb32b460cf621d31bd5b05b934492fdef7d8d6f236ec/cache-0183ffeb7f69a3ef.arrow\n",
      "Loading cached processed dataset at /users/jmperez/.cache/huggingface/datasets/pysentimiento___parquet/pysentimiento--it_sentipolc16-8c8db12a2ed2bd1e/0.0.0/2a3b91fbd88a2c90d1dbbb32b460cf621d31bd5b05b934492fdef7d8d6f236ec/cache-49b2b6a32026d0a2.arrow\n"
     ]
    }
   ],
   "source": [
    "import torch \n",
    "\n",
    "ds = ds.map(lambda ex: {\"labels\": torch.Tensor([ex[\"opos\"], ex[\"oneg\"]])}, batched=False)"
   ]
  },
  {
   "cell_type": "code",
   "execution_count": 10,
   "metadata": {},
   "outputs": [
    {
     "data": {
      "text/html": [],
      "text/plain": [
       "<IPython.core.display.HTML object>"
      ]
     },
     "metadata": {},
     "output_type": "display_data"
    }
   ],
   "source": [
    "from pysentimiento.training import train_and_eval\n",
    "from pysentimiento.tuning import get_training_arguments\n",
    "\n",
    "model_name = \"m-polignano-uniba/bert_uncased_L-12_H-768_A-12_italian_alb3rt0\"\n",
    "\n",
    "training_args = get_training_arguments(model_name, task_name=\"sentiment\", lang=\"it\", use_defaults_if_not_tuned=True, metric_for_best_model=\"macro_f1\")\n",
    "\n",
    "\n",
    "trainer, test_results = train_and_eval(\n",
    "    model_name, ds, id2label=[\"pos\", \"neg\"], lang=\"it\", training_args=training_args, \n",
    ")\n",
    "\n"
   ]
  },
  {
   "cell_type": "code",
   "execution_count": 11,
   "metadata": {},
   "outputs": [
    {
     "data": {
      "text/plain": [
       "PredictionOutput(predictions=array([[-4.4218407 , -5.0760736 ],\n",
       "       [-3.871193  , -5.0263996 ],\n",
       "       [-4.6962266 , -4.291049  ],\n",
       "       ...,\n",
       "       [-1.8943374 ,  3.911604  ],\n",
       "       [-4.185651  ,  3.0266716 ],\n",
       "       [ 0.17544602,  0.6613426 ]], dtype=float32), label_ids=array([[0., 0.],\n",
       "       [1., 0.],\n",
       "       [0., 1.],\n",
       "       ...,\n",
       "       [1., 1.],\n",
       "       [0., 1.],\n",
       "       [1., 0.]], dtype=float32), metrics={'test_loss': 0.5763788223266602, 'test_pos_f1': 0.5150421179302045, 'test_pos_precision': 0.44676409185803756, 'test_pos_recall': 0.6079545454545454, 'test_neg_f1': 0.6456692913385826, 'test_neg_precision': 0.82, 'test_neg_recall': 0.5324675324675324, 'test_emr': 0.624, 'test_macro_f1': 0.580355703830719, 'test_macro_precision': 0.6333820223808289, 'test_macro_recall': 0.5702110528945923, 'test_runtime': 3.7992, 'test_samples_per_second': 526.424, 'test_steps_per_second': 16.582})"
      ]
     },
     "execution_count": 11,
     "metadata": {},
     "output_type": "execute_result"
    }
   ],
   "source": [
    "test_results"
   ]
  },
  {
   "cell_type": "code",
   "execution_count": null,
   "metadata": {},
   "outputs": [],
   "source": []
  }
 ],
 "metadata": {
  "kernelspec": {
   "display_name": ".venv",
   "language": "python",
   "name": "python3"
  },
  "language_info": {
   "codemirror_mode": {
    "name": "ipython",
    "version": 3
   },
   "file_extension": ".py",
   "mimetype": "text/x-python",
   "name": "python",
   "nbconvert_exporter": "python",
   "pygments_lexer": "ipython3",
   "version": "3.8.16"
  },
  "metadata": {
   "interpreter": {
    "hash": "1b2ee3c7e4be117f16044e4287774c113d04cbc1cc9e7e3b16e6e098f73486a4"
   }
  },
  "orig_nbformat": 3,
  "vscode": {
   "interpreter": {
    "hash": "3fc79ed69e4c2b5a1db8fa17ebb1e82d66421519e5b018d314116a7b4cda9238"
   }
  }
 },
 "nbformat": 4,
 "nbformat_minor": 4
}
