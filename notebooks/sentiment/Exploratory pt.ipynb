{
 "cells": [
  {
   "cell_type": "code",
   "execution_count": 4,
   "metadata": {},
   "outputs": [
    {
     "name": "stdout",
     "output_type": "stream",
     "text": [
      "The autoreload extension is already loaded. To reload it, use:\n",
      "  %reload_ext autoreload\n"
     ]
    },
    {
     "data": {
      "text/html": [
       "<div>\n",
       "<style scoped>\n",
       "    .dataframe tbody tr th:only-of-type {\n",
       "        vertical-align: middle;\n",
       "    }\n",
       "\n",
       "    .dataframe tbody tr th {\n",
       "        vertical-align: top;\n",
       "    }\n",
       "\n",
       "    .dataframe thead th {\n",
       "        text-align: right;\n",
       "    }\n",
       "</style>\n",
       "<table border=\"1\" class=\"dataframe\">\n",
       "  <thead>\n",
       "    <tr style=\"text-align: right;\">\n",
       "      <th></th>\n",
       "      <th>tweet_id</th>\n",
       "      <th>text</th>\n",
       "      <th>label</th>\n",
       "    </tr>\n",
       "  </thead>\n",
       "  <tbody>\n",
       "    <tr>\n",
       "      <th>0</th>\n",
       "      <td>865572794016378882</td>\n",
       "      <td>tô passada com esse cara quanta merda pode sai...</td>\n",
       "      <td>NEG</td>\n",
       "    </tr>\n",
       "    <tr>\n",
       "      <th>1</th>\n",
       "      <td>865566046320832512</td>\n",
       "      <td>coitada da namorada\\n</td>\n",
       "      <td>NEG</td>\n",
       "    </tr>\n",
       "    <tr>\n",
       "      <th>2</th>\n",
       "      <td>862307799258329089</td>\n",
       "      <td>esse japa não entendi porra nenhuma de orquíde...</td>\n",
       "      <td>NEG</td>\n",
       "    </tr>\n",
       "    <tr>\n",
       "      <th>3</th>\n",
       "      <td>864814104745320449</td>\n",
       "      <td>aí vc fica até NUMBER assistindo e acorda cedo...</td>\n",
       "      <td>NEG</td>\n",
       "    </tr>\n",
       "    <tr>\n",
       "      <th>4</th>\n",
       "      <td>864665198359183361</td>\n",
       "      <td>imagina que insuportável ter de dar de comer p...</td>\n",
       "      <td>NEG</td>\n",
       "    </tr>\n",
       "    <tr>\n",
       "      <th>...</th>\n",
       "      <td>...</td>\n",
       "      <td>...</td>\n",
       "      <td>...</td>\n",
       "    </tr>\n",
       "    <tr>\n",
       "      <th>14995</th>\n",
       "      <td>864097252591194112</td>\n",
       "      <td>lazaro falou bale fitness e ana maria braga es...</td>\n",
       "      <td>NEU</td>\n",
       "    </tr>\n",
       "    <tr>\n",
       "      <th>14996</th>\n",
       "      <td>863089429656817665</td>\n",
       "      <td>simpatia na trama das seis ingrid guimarães mo...</td>\n",
       "      <td>NEU</td>\n",
       "    </tr>\n",
       "    <tr>\n",
       "      <th>14997</th>\n",
       "      <td>864699532961091584</td>\n",
       "      <td>ocidentais tem mta dificuldade pra aceitar com...</td>\n",
       "      <td>NEU</td>\n",
       "    </tr>\n",
       "    <tr>\n",
       "      <th>14998</th>\n",
       "      <td>865628931621232640</td>\n",
       "      <td>USERNAME que horas vc chega em belém / aeropor...</td>\n",
       "      <td>NEU</td>\n",
       "    </tr>\n",
       "    <tr>\n",
       "      <th>14999</th>\n",
       "      <td>862456397484740609</td>\n",
       "      <td>não dou conta de cozinhar com apenas minha esp...</td>\n",
       "      <td>NEU</td>\n",
       "    </tr>\n",
       "  </tbody>\n",
       "</table>\n",
       "<p>15000 rows × 3 columns</p>\n",
       "</div>"
      ],
      "text/plain": [
       "                 tweet_id                                               text  \\\n",
       "0      865572794016378882  tô passada com esse cara quanta merda pode sai...   \n",
       "1      865566046320832512                              coitada da namorada\\n   \n",
       "2      862307799258329089  esse japa não entendi porra nenhuma de orquíde...   \n",
       "3      864814104745320449  aí vc fica até NUMBER assistindo e acorda cedo...   \n",
       "4      864665198359183361  imagina que insuportável ter de dar de comer p...   \n",
       "...                   ...                                                ...   \n",
       "14995  864097252591194112  lazaro falou bale fitness e ana maria braga es...   \n",
       "14996  863089429656817665  simpatia na trama das seis ingrid guimarães mo...   \n",
       "14997  864699532961091584  ocidentais tem mta dificuldade pra aceitar com...   \n",
       "14998  865628931621232640  USERNAME que horas vc chega em belém / aeropor...   \n",
       "14999  862456397484740609  não dou conta de cozinhar com apenas minha esp...   \n",
       "\n",
       "      label  \n",
       "0       NEG  \n",
       "1       NEG  \n",
       "2       NEG  \n",
       "3       NEG  \n",
       "4       NEG  \n",
       "...     ...  \n",
       "14995   NEU  \n",
       "14996   NEU  \n",
       "14997   NEU  \n",
       "14998   NEU  \n",
       "14999   NEU  \n",
       "\n",
       "[15000 rows x 3 columns]"
      ]
     },
     "execution_count": 4,
     "metadata": {},
     "output_type": "execute_result"
    }
   ],
   "source": [
    "%load_ext autoreload\n",
    "%autoreload 2\n",
    "\n",
    "import pandas as pd\n",
    "\n",
    "\n",
    "files = [\n",
    "    (\"NEG\", \"../../data/sentiment/ttsbr/tweets.neg\"),\n",
    "    (\"POS\", \"../../data/sentiment/ttsbr/tweets.pos\"),\n",
    "    (\"NEU\", \"../../data/sentiment/ttsbr/tweets.neu\"),\n",
    "]\n",
    "\n",
    "\n",
    "data = []\n",
    "for label, file in files:\n",
    "    with open(file) as f:\n",
    "        for line in f:\n",
    "            twid, text = line.split(\" \", 1)\n",
    "\n",
    "            data.append({\n",
    "                \"tweet_id\": twid, \n",
    "                \"text\": text,\n",
    "                \"label\": label\n",
    "            })\n",
    "\n",
    "df = pd.DataFrame(data)\n",
    "\n",
    "df"
   ]
  },
  {
   "cell_type": "code",
   "execution_count": 6,
   "metadata": {},
   "outputs": [
    {
     "data": {
      "text/plain": [
       "POS    6648\n",
       "NEG    4426\n",
       "NEU    3926\n",
       "Name: label, dtype: int64"
      ]
     },
     "execution_count": 6,
     "metadata": {},
     "output_type": "execute_result"
    }
   ],
   "source": [
    "\n",
    "pd.options.display.max_colwidth = 200\n",
    "\n",
    "df[\"label\"].value_counts()"
   ]
  },
  {
   "cell_type": "code",
   "execution_count": 12,
   "metadata": {},
   "outputs": [
    {
     "data": {
      "text/plain": [
       "((9600, 3), (2400, 3), (3000, 3))"
      ]
     },
     "execution_count": 12,
     "metadata": {},
     "output_type": "execute_result"
    }
   ],
   "source": [
    "# Perform train test split\n",
    "\n",
    "from sklearn.model_selection import train_test_split\n",
    "\n",
    "\n",
    "label2id = {\n",
    "    \"NEG\": 0,\n",
    "    \"NEU\": 1,\n",
    "    \"POS\": 2,\n",
    "}\n",
    "\n",
    "\n",
    "df[\"label\"] = df[\"label\"].apply(lambda x: label2id[x])\n",
    "\n",
    "\n",
    "train, test = train_test_split(df, test_size=0.2, random_state=42)\n",
    "\n",
    "train, dev = train_test_split(train, test_size=0.2, random_state=42)\n",
    "\n",
    "train.shape, dev.shape, test.shape"
   ]
  },
  {
   "cell_type": "code",
   "execution_count": 15,
   "metadata": {},
   "outputs": [
    {
     "data": {
      "text/plain": [
       "DatasetDict({\n",
       "    train: Dataset({\n",
       "        features: ['tweet_id', 'text', 'label'],\n",
       "        num_rows: 9600\n",
       "    })\n",
       "    dev: Dataset({\n",
       "        features: ['tweet_id', 'text', 'label'],\n",
       "        num_rows: 2400\n",
       "    })\n",
       "    test: Dataset({\n",
       "        features: ['tweet_id', 'text', 'label'],\n",
       "        num_rows: 3000\n",
       "    })\n",
       "})"
      ]
     },
     "execution_count": 15,
     "metadata": {},
     "output_type": "execute_result"
    }
   ],
   "source": [
    "from datasets import Dataset, Features, Value, ClassLabel, DatasetDict\n",
    "\n",
    "\n",
    "features = Features({\n",
    "    'tweet_id': Value('string'),\n",
    "    'text': Value('string'),\n",
    "    \"label\": ClassLabel(num_classes=3, names=[\"NEG\", \"NEU\", \"POS\"]),\n",
    "})\n",
    "\n",
    "\n",
    "train = Dataset.from_pandas(train, features=features, preserve_index=False)\n",
    "dev = Dataset.from_pandas(dev, features=features, preserve_index=False)\n",
    "test = Dataset.from_pandas(test, features=features, preserve_index=False)\n",
    "\n",
    "ds = DatasetDict({\n",
    "    \"train\": train,\n",
    "    \"dev\": dev,\n",
    "    \"test\": test,\n",
    "})\n",
    "\n",
    "\n",
    "ds"
   ]
  },
  {
   "cell_type": "code",
   "execution_count": 16,
   "metadata": {},
   "outputs": [
    {
     "name": "stderr",
     "output_type": "stream",
     "text": [
      "Pushing split train to the Hub.\n"
     ]
    },
    {
     "data": {
      "application/vnd.jupyter.widget-view+json": {
       "model_id": "22beb960a2bc4152a7378e638f0036b5",
       "version_major": 2,
       "version_minor": 0
      },
      "text/plain": [
       "Pushing dataset shards to the dataset hub:   0%|          | 0/1 [00:00<?, ?it/s]"
      ]
     },
     "metadata": {},
     "output_type": "display_data"
    },
    {
     "data": {
      "application/vnd.jupyter.widget-view+json": {
       "model_id": "e562ced7732f46438f7bbcca9b0f37ed",
       "version_major": 2,
       "version_minor": 0
      },
      "text/plain": [
       "Creating parquet from Arrow format:   0%|          | 0/10 [00:00<?, ?ba/s]"
      ]
     },
     "metadata": {},
     "output_type": "display_data"
    },
    {
     "data": {
      "application/vnd.jupyter.widget-view+json": {
       "model_id": "246ea87e26ea49fc8efe789c69b7c0d0",
       "version_major": 2,
       "version_minor": 0
      },
      "text/plain": [
       "Upload 1 LFS files:   0%|          | 0/1 [00:00<?, ?it/s]"
      ]
     },
     "metadata": {},
     "output_type": "display_data"
    },
    {
     "name": "stderr",
     "output_type": "stream",
     "text": [
      "Pushing split dev to the Hub.\n"
     ]
    },
    {
     "data": {
      "application/vnd.jupyter.widget-view+json": {
       "model_id": "f566fa9dc79b47af89abc6c1422fca64",
       "version_major": 2,
       "version_minor": 0
      },
      "text/plain": [
       "Pushing dataset shards to the dataset hub:   0%|          | 0/1 [00:00<?, ?it/s]"
      ]
     },
     "metadata": {},
     "output_type": "display_data"
    },
    {
     "data": {
      "application/vnd.jupyter.widget-view+json": {
       "model_id": "d16748a5e04b4ea8af4e3beb10cd1e99",
       "version_major": 2,
       "version_minor": 0
      },
      "text/plain": [
       "Creating parquet from Arrow format:   0%|          | 0/3 [00:00<?, ?ba/s]"
      ]
     },
     "metadata": {},
     "output_type": "display_data"
    },
    {
     "data": {
      "application/vnd.jupyter.widget-view+json": {
       "model_id": "f236468b3ca14313a6805f4d9fbde56d",
       "version_major": 2,
       "version_minor": 0
      },
      "text/plain": [
       "Upload 1 LFS files:   0%|          | 0/1 [00:00<?, ?it/s]"
      ]
     },
     "metadata": {},
     "output_type": "display_data"
    },
    {
     "name": "stderr",
     "output_type": "stream",
     "text": [
      "Pushing split test to the Hub.\n"
     ]
    },
    {
     "data": {
      "application/vnd.jupyter.widget-view+json": {
       "model_id": "d1ce0afd3967468aa2b1d6349caf491b",
       "version_major": 2,
       "version_minor": 0
      },
      "text/plain": [
       "Pushing dataset shards to the dataset hub:   0%|          | 0/1 [00:00<?, ?it/s]"
      ]
     },
     "metadata": {},
     "output_type": "display_data"
    },
    {
     "data": {
      "application/vnd.jupyter.widget-view+json": {
       "model_id": "b2c994f3e03646a88813520e7c284313",
       "version_major": 2,
       "version_minor": 0
      },
      "text/plain": [
       "Creating parquet from Arrow format:   0%|          | 0/3 [00:00<?, ?ba/s]"
      ]
     },
     "metadata": {},
     "output_type": "display_data"
    },
    {
     "data": {
      "application/vnd.jupyter.widget-view+json": {
       "model_id": "1db7c21b0632498f99c53c6a6429c195",
       "version_major": 2,
       "version_minor": 0
      },
      "text/plain": [
       "Upload 1 LFS files:   0%|          | 0/1 [00:00<?, ?it/s]"
      ]
     },
     "metadata": {},
     "output_type": "display_data"
    }
   ],
   "source": [
    "ds.push_to_hub(\"pysentimiento/pt_sentiment\", private=True)"
   ]
  },
  {
   "cell_type": "code",
   "execution_count": null,
   "metadata": {},
   "outputs": [],
   "source": []
  }
 ],
 "metadata": {
  "kernelspec": {
   "display_name": ".venv",
   "language": "python",
   "name": "python3"
  },
  "language_info": {
   "codemirror_mode": {
    "name": "ipython",
    "version": 3
   },
   "file_extension": ".py",
   "mimetype": "text/x-python",
   "name": "python",
   "nbconvert_exporter": "python",
   "pygments_lexer": "ipython3",
   "version": "3.8.16"
  },
  "orig_nbformat": 4,
  "vscode": {
   "interpreter": {
    "hash": "3fc79ed69e4c2b5a1db8fa17ebb1e82d66421519e5b018d314116a7b4cda9238"
   }
  }
 },
 "nbformat": 4,
 "nbformat_minor": 2
}
