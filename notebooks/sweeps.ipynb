{
 "cells": [
  {
   "cell_type": "code",
   "execution_count": 5,
   "metadata": {},
   "outputs": [],
   "source": [
    "# Get wandb api object\n",
    "import wandb\n",
    "\n",
    "api = wandb.Api()"
   ]
  },
  {
   "cell_type": "code",
   "execution_count": 7,
   "metadata": {},
   "outputs": [],
   "source": [
    "project = api.project(\"pysentimiento\")\n",
    "\n",
    "sweeps = project.sweeps()"
   ]
  },
  {
   "cell_type": "code",
   "execution_count": 8,
   "metadata": {},
   "outputs": [],
   "source": [
    "# Get sweeps names\n",
    "sweeps_names = [sweep.name for sweep in sweeps]\n",
    "\n",
    "model_name = \"dccuchile/bert-base-spanish-wwm-cased\"\n",
    "task_name = \"sentiment\"\n",
    "lang = \"es\"\n",
    "\n",
    "# Get project sweep\n",
    "sweep = next(\n",
    "    sweep for sweep in sweeps if sweep.name == f\"swp-{task_name}-{lang}-{model_name}\"\n",
    ")"
   ]
  },
  {
   "cell_type": "code",
   "execution_count": 18,
   "metadata": {},
   "outputs": [
    {
     "name": "stderr",
     "output_type": "stream",
     "text": [
      "\u001b[34m\u001b[1mwandb\u001b[0m: Sorting runs by -summary_metrics.eval/macro_f1\n"
     ]
    }
   ],
   "source": [
    "run = sweep.best_run(order=\"eval/macro_f1\")"
   ]
  },
  {
   "cell_type": "code",
   "execution_count": 21,
   "metadata": {},
   "outputs": [],
   "source": [
    "from transformers import TrainingArguments\n",
    "from pysentimiento.tuning import parameters_dict\n",
    "# Get training arguments\n",
    "config = run.config\n",
    "# Remove some args\n",
    "\n",
    "\n",
    "\n",
    "training_args = TrainingArguments(\n",
    "    output_dir='./tmp/sweeps',\n",
    "    report_to='wandb',  # Turn on Weights & Biases logging\n",
    "    num_train_epochs=config[\"epochs\"],\n",
    "    learning_rate=config[\"learning_rate\"],\n",
    "    weight_decay=config[\"weight_decay\"],\n",
    "    per_device_train_batch_size=config[\"batch_size\"],\n",
    "    warmup_ratio=config[\"warmup_ratio\"],\n",
    "    per_device_eval_batch_size=config[\"batch_size\"],\n",
    "    evaluation_strategy='epoch',\n",
    "    save_strategy='epoch',\n",
    "    logging_strategy='epoch',\n",
    "    load_best_model_at_end=True,\n",
    "    remove_unused_columns=False,\n",
    "    group_by_length=True,\n",
    ")"
   ]
  },
  {
   "cell_type": "code",
   "execution_count": 15,
   "metadata": {},
   "outputs": [
    {
     "ename": "TypeError",
     "evalue": "agent() missing 1 required positional argument: 'sweep_id'",
     "output_type": "error",
     "traceback": [
      "\u001b[0;31m---------------------------------------------------------------------------\u001b[0m",
      "\u001b[0;31mTypeError\u001b[0m                                 Traceback (most recent call last)",
      "Cell \u001b[0;32mIn[15], line 1\u001b[0m\n\u001b[0;32m----> 1\u001b[0m wandb\u001b[39m.\u001b[39;49magent(entity\u001b[39m=\u001b[39;49m\u001b[39m\"\u001b[39;49m\u001b[39mj26xppet\u001b[39;49m\u001b[39m\"\u001b[39;49m, project\u001b[39m=\u001b[39;49m\u001b[39m\"\u001b[39;49m\u001b[39mpysentimiento\u001b[39;49m\u001b[39m\"\u001b[39;49m)\n",
      "\u001b[0;31mTypeError\u001b[0m: agent() missing 1 required positional argument: 'sweep_id'"
     ]
    }
   ],
   "source": [
    "wandb.agent(entity=\"j26xppet\", project=\"pysentimiento\")"
   ]
  },
  {
   "cell_type": "code",
   "execution_count": null,
   "metadata": {},
   "outputs": [],
   "source": []
  }
 ],
 "metadata": {
  "kernelspec": {
   "display_name": ".venv",
   "language": "python",
   "name": "python3"
  },
  "language_info": {
   "codemirror_mode": {
    "name": "ipython",
    "version": 3
   },
   "file_extension": ".py",
   "mimetype": "text/x-python",
   "name": "python",
   "nbconvert_exporter": "python",
   "pygments_lexer": "ipython3",
   "version": "3.8.16"
  },
  "orig_nbformat": 4,
  "vscode": {
   "interpreter": {
    "hash": "3fc79ed69e4c2b5a1db8fa17ebb1e82d66421519e5b018d314116a7b4cda9238"
   }
  }
 },
 "nbformat": 4,
 "nbformat_minor": 2
}
