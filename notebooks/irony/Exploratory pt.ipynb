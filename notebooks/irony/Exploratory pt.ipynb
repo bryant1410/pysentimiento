{
 "cells": [
  {
   "cell_type": "code",
   "execution_count": 3,
   "metadata": {},
   "outputs": [
    {
     "name": "stdout",
     "output_type": "stream",
     "text": [
      "The autoreload extension is already loaded. To reload it, use:\n",
      "  %reload_ext autoreload\n"
     ]
    }
   ],
   "source": [
    "%load_ext autoreload\n",
    "%autoreload 2\n",
    "import os\n",
    "import pandas as pd\n",
    "from datasets import concatenate_datasets\n",
    "from pysentimiento.irony import load_datasets, id2label\n",
    "\n",
    "df = pd.read_table(\"../../data/irony/idpt/Training/training_tweets.csv\")"
   ]
  },
  {
   "cell_type": "code",
   "execution_count": 7,
   "metadata": {},
   "outputs": [
    {
     "data": {
      "text/html": [
       "<div>\n",
       "<style scoped>\n",
       "    .dataframe tbody tr th:only-of-type {\n",
       "        vertical-align: middle;\n",
       "    }\n",
       "\n",
       "    .dataframe tbody tr th {\n",
       "        vertical-align: top;\n",
       "    }\n",
       "\n",
       "    .dataframe thead th {\n",
       "        text-align: right;\n",
       "    }\n",
       "</style>\n",
       "<table border=\"1\" class=\"dataframe\">\n",
       "  <thead>\n",
       "    <tr style=\"text-align: right;\">\n",
       "      <th></th>\n",
       "      <th>text</th>\n",
       "      <th>label</th>\n",
       "      <th>has_hashtag</th>\n",
       "    </tr>\n",
       "  </thead>\n",
       "  <tbody>\n",
       "    <tr>\n",
       "      <th>0</th>\n",
       "      <td>Para TIM, mudanças regulatórias devem acontecer em conjunto -  / telecom telefonia mercado regulação economia</td>\n",
       "      <td>0</td>\n",
       "      <td>False</td>\n",
       "    </tr>\n",
       "    <tr>\n",
       "      <th>1</th>\n",
       "      <td>Quando cheguei a Montemor, gozavam comigo por montar a cavalo, agora toda a gente anda na equitação</td>\n",
       "      <td>1</td>\n",
       "      <td>False</td>\n",
       "    </tr>\n",
       "    <tr>\n",
       "      <th>2</th>\n",
       "      <td>“: Trepidante liderança\" Foi , Marisa BBB15” Ela não pegou.\"</td>\n",
       "      <td>1</td>\n",
       "      <td>False</td>\n",
       "    </tr>\n",
       "    <tr>\n",
       "      <th>3</th>\n",
       "      <td>Sim sim... nego não sabe diferenciar... você tem que colocar no final  sério</td>\n",
       "      <td>1</td>\n",
       "      <td>False</td>\n",
       "    </tr>\n",
       "    <tr>\n",
       "      <th>4</th>\n",
       "      <td>Obg Rosa !! Mas Mariza n faz fofoca kkkk tem 51 e é um amor de pessoa</td>\n",
       "      <td>1</td>\n",
       "      <td>False</td>\n",
       "    </tr>\n",
       "    <tr>\n",
       "      <th>...</th>\n",
       "      <td>...</td>\n",
       "      <td>...</td>\n",
       "      <td>...</td>\n",
       "    </tr>\n",
       "    <tr>\n",
       "      <th>15207</th>\n",
       "      <td>então , se TODO mundo é contra a corrupção, como acontece?</td>\n",
       "      <td>1</td>\n",
       "      <td>False</td>\n",
       "    </tr>\n",
       "    <tr>\n",
       "      <th>15208</th>\n",
       "      <td>Economia - A NOVA ECONOMIA. [fonte: Estadão]</td>\n",
       "      <td>0</td>\n",
       "      <td>False</td>\n",
       "    </tr>\n",
       "    <tr>\n",
       "      <th>15209</th>\n",
       "      <td>Maioria dos membros da Fed é favorável a uma nova subida das taxas de juro finanças economia dinheiro</td>\n",
       "      <td>0</td>\n",
       "      <td>False</td>\n",
       "    </tr>\n",
       "    <tr>\n",
       "      <th>15210</th>\n",
       "      <td>Míriam Leitão: alta do PIB mostra que recessão acabou, mas ainda não há crescimento. economia…</td>\n",
       "      <td>0</td>\n",
       "      <td>False</td>\n",
       "    </tr>\n",
       "    <tr>\n",
       "      <th>15211</th>\n",
       "      <td>Nem mostrou muito esse trailer de BatmanvSuperman</td>\n",
       "      <td>1</td>\n",
       "      <td>False</td>\n",
       "    </tr>\n",
       "  </tbody>\n",
       "</table>\n",
       "<p>15212 rows × 3 columns</p>\n",
       "</div>"
      ],
      "text/plain": [
       "                                                                                                                 text  \\\n",
       "0      Para TIM, mudanças regulatórias devem acontecer em conjunto -  / telecom telefonia mercado regulação economia    \n",
       "1                Quando cheguei a Montemor, gozavam comigo por montar a cavalo, agora toda a gente anda na equitação    \n",
       "2                                                        “: Trepidante liderança\" Foi , Marisa BBB15” Ela não pegou.\"   \n",
       "3                                        Sim sim... nego não sabe diferenciar... você tem que colocar no final  sério   \n",
       "4                                              Obg Rosa !! Mas Mariza n faz fofoca kkkk tem 51 e é um amor de pessoa    \n",
       "...                                                                                                               ...   \n",
       "15207                                                     então , se TODO mundo é contra a corrupção, como acontece?    \n",
       "15208                                                                   Economia - A NOVA ECONOMIA. [fonte: Estadão]    \n",
       "15209           Maioria dos membros da Fed é favorável a uma nova subida das taxas de juro finanças economia dinheiro   \n",
       "15210                 Míriam Leitão: alta do PIB mostra que recessão acabou, mas ainda não há crescimento. economia…    \n",
       "15211                                                              Nem mostrou muito esse trailer de BatmanvSuperman    \n",
       "\n",
       "       label  has_hashtag  \n",
       "0          0        False  \n",
       "1          1        False  \n",
       "2          1        False  \n",
       "3          1        False  \n",
       "4          1        False  \n",
       "...      ...          ...  \n",
       "15207      1        False  \n",
       "15208      0        False  \n",
       "15209      0        False  \n",
       "15210      0        False  \n",
       "15211      1        False  \n",
       "\n",
       "[15212 rows x 3 columns]"
      ]
     },
     "execution_count": 7,
     "metadata": {},
     "output_type": "execute_result"
    }
   ],
   "source": [
    "pd.options.display.max_colwidth = 1000\n",
    "df = df.rename(columns={\"prediction\": \"label\"})\n",
    "\n",
    "df"
   ]
  },
  {
   "cell_type": "code",
   "execution_count": 8,
   "metadata": {},
   "outputs": [
    {
     "data": {
      "text/html": [
       "<div>\n",
       "<style scoped>\n",
       "    .dataframe tbody tr th:only-of-type {\n",
       "        vertical-align: middle;\n",
       "    }\n",
       "\n",
       "    .dataframe tbody tr th {\n",
       "        vertical-align: top;\n",
       "    }\n",
       "\n",
       "    .dataframe thead th {\n",
       "        text-align: right;\n",
       "    }\n",
       "</style>\n",
       "<table border=\"1\" class=\"dataframe\">\n",
       "  <thead>\n",
       "    <tr style=\"text-align: right;\">\n",
       "      <th></th>\n",
       "      <th>text</th>\n",
       "      <th>label</th>\n",
       "      <th>has_hashtag</th>\n",
       "    </tr>\n",
       "  </thead>\n",
       "  <tbody>\n",
       "    <tr>\n",
       "      <th>28</th>\n",
       "      <td>(...) outro amor na vida igual ao amor de mãe.\";;@misterpinkeyes;#ironia;701571956747980801\"</td>\n",
       "      <td>1</td>\n",
       "      <td>True</td>\n",
       "    </tr>\n",
       "    <tr>\n",
       "      <th>328</th>\n",
       "      <td>Como vai ser a programação do fim do mundo? Vai dar meia noite vai acabar tudo, ou vai ter tempo pra saquear umas lojas e tal??? #QDuvida </td>\n",
       "      <td>1</td>\n",
       "      <td>True</td>\n",
       "    </tr>\n",
       "    <tr>\n",
       "      <th>1423</th>\n",
       "      <td>Se é o fim do mundo, ou não, eu não sei mas se for eu quero que se foda porque eu fui na minha ultima noite então!! #AGORACHUPA</td>\n",
       "      <td>1</td>\n",
       "      <td>True</td>\n",
       "    </tr>\n",
       "    <tr>\n",
       "      <th>1669</th>\n",
       "      <td>Que \"fim do mundo\" mais monótono esse em. #Maiasfail</td>\n",
       "      <td>1</td>\n",
       "      <td>True</td>\n",
       "    </tr>\n",
       "    <tr>\n",
       "      <th>2319</th>\n",
       "      <td>RT @klassmannlucas: Qual será a desculpa da CEEE pra estar faltando luz pra milhares hoje em Poa?? O calor? O fim do mundo?? #incompetentes #provincianos</td>\n",
       "      <td>1</td>\n",
       "      <td>True</td>\n",
       "    </tr>\n",
       "    <tr>\n",
       "      <th>2871</th>\n",
       "      <td>Alguém tem notícia do outro lado do mundo?? Lá o fim do mundo já deveria ter chegado! #FimDoMundoFail</td>\n",
       "      <td>1</td>\n",
       "      <td>True</td>\n",
       "    </tr>\n",
       "    <tr>\n",
       "      <th>2909</th>\n",
       "      <td>“@cyrosmf: \"Não me perguntes onde fica o fim do mundo/Segue o rumo da primeira explosão...\" #GauchanoFimdoMundo” SOS</td>\n",
       "      <td>1</td>\n",
       "      <td>True</td>\n",
       "    </tr>\n",
       "    <tr>\n",
       "      <th>5264</th>\n",
       "      <td>“@jaimeramos21: @deodatoramalho @DanideAssis Definitivamente o fim do mundo está próximo.” #TaBraboIssoAiTche!!</td>\n",
       "      <td>1</td>\n",
       "      <td>True</td>\n",
       "    </tr>\n",
       "    <tr>\n",
       "      <th>5275</th>\n",
       "      <td>RT : O povo brasileiro não quer de volta aqueles que trouxeram o racionamento de energia Dilma13PraVencer\";;@dilmabr;#IRONIA #Dilma13PraVencer;559083130024648704\"</td>\n",
       "      <td>1</td>\n",
       "      <td>True</td>\n",
       "    </tr>\n",
       "    <tr>\n",
       "      <th>5307</th>\n",
       "      <td>Será o fim do mundo? Curta no pensamento do dia, #DailyLift: \"Will the world end?\" com Fujiko Signs, CSB http://t.co/WjjG4lb7</td>\n",
       "      <td>1</td>\n",
       "      <td>True</td>\n",
       "    </tr>\n",
       "    <tr>\n",
       "      <th>5903</th>\n",
       "      <td>@DaiaGomes: Sem luz no escritório e bateria do cel morrendo. #SoDerrota olha o fim do mundo :p</td>\n",
       "      <td>1</td>\n",
       "      <td>True</td>\n",
       "    </tr>\n",
       "    <tr>\n",
       "      <th>6157</th>\n",
       "      <td>A capa do tt da @_pqptaay é o relato do \"fim do mundo\" com as #luzesroxas '0'</td>\n",
       "      <td>1</td>\n",
       "      <td>True</td>\n",
       "    </tr>\n",
       "    <tr>\n",
       "      <th>7237</th>\n",
       "      <td>O fim do mundo não chegou ainda porque está engarrafado na BR116. #GauchanoFimdoMundo :)</td>\n",
       "      <td>1</td>\n",
       "      <td>True</td>\n",
       "    </tr>\n",
       "    <tr>\n",
       "      <th>7356</th>\n",
       "      <td>@RdGaucha: Previsão é que a luz retorne no RS depois do fim do mundo. #GauchanoFimdoMundo hahahaha</td>\n",
       "      <td>1</td>\n",
       "      <td>True</td>\n",
       "    </tr>\n",
       "    <tr>\n",
       "      <th>7406</th>\n",
       "      <td>http://t.co/SNdTSF5e Por enquanto, a melhor notícia pra depois do \"fim do mundo\" #rock #Uol89FM</td>\n",
       "      <td>1</td>\n",
       "      <td>True</td>\n",
       "    </tr>\n",
       "    <tr>\n",
       "      <th>7609</th>\n",
       "      <td>@realmurica Esse negócio de fim do mundo só podia ser coisa da tua familia mesmo. Os MAIAS!!! Mas ele não acabou, ele só gira mesmo!#mybaby</td>\n",
       "      <td>1</td>\n",
       "      <td>True</td>\n",
       "    </tr>\n",
       "    <tr>\n",
       "      <th>8155</th>\n",
       "      <td>http://t.co/Iog0aaV3 Por enquanto, a melhor notícia pra depois do \"fim do mundo\" #rock #Uol89FM</td>\n",
       "      <td>1</td>\n",
       "      <td>True</td>\n",
       "    </tr>\n",
       "    <tr>\n",
       "      <th>8203</th>\n",
       "      <td>E o fim do mundo heim!? http://t.co/YrhcwHZN #Skynerd</td>\n",
       "      <td>1</td>\n",
       "      <td>True</td>\n",
       "    </tr>\n",
       "    <tr>\n",
       "      <th>8470</th>\n",
       "      <td>Cara até falaram que ia ser ás 16:00 o fim do mundo #AtéHoraMarcada???</td>\n",
       "      <td>1</td>\n",
       "      <td>True</td>\n",
       "    </tr>\n",
       "    <tr>\n",
       "      <th>9787</th>\n",
       "      <td>#MundoSalvoPelaConeCrew : \"Mano ta chegando o fim do mundo.\" \"Calma, chama os maluko doido da cone que eles resolve\" kkkkkkkkkkkkkkkkkkkkkkk</td>\n",
       "      <td>1</td>\n",
       "      <td>True</td>\n",
       "    </tr>\n",
       "    <tr>\n",
       "      <th>11502</th>\n",
       "      <td>RT @CarolGomes2: as pessoas já estão com medo do fim do mundo ... e agora São Pedro trollando o povo ! kkkk #sacanagem em ahahahahaha</td>\n",
       "      <td>1</td>\n",
       "      <td>True</td>\n",
       "    </tr>\n",
       "    <tr>\n",
       "      <th>11566</th>\n",
       "      <td>Família é uma coisa linda  --\";;;#ironia;564460468358901760\"</td>\n",
       "      <td>1</td>\n",
       "      <td>True</td>\n",
       "    </tr>\n",
       "    <tr>\n",
       "      <th>12337</th>\n",
       "      <td>RT \"@daniocampo: Enquanto vcs ficam aí especulando o fim do mundo, uma boyband pode estar se formando!! #CoisasRuinsAcontecemTodoDia\"</td>\n",
       "      <td>1</td>\n",
       "      <td>True</td>\n",
       "    </tr>\n",
       "    <tr>\n",
       "      <th>13563</th>\n",
       "      <td>Sério JH, teve gente que usou o ~fim do mundo~ pra cair na farra? #ChurrasDoFimDoMundo</td>\n",
       "      <td>1</td>\n",
       "      <td>True</td>\n",
       "    </tr>\n",
       "    <tr>\n",
       "      <th>13676</th>\n",
       "      <td>RT @Xarao: “@cyrosmf: \"Não me perguntes onde fica o fim do mundo/Segue o rumo da primeira explosão...\" #GauchanoFimdoMundo” SOS</td>\n",
       "      <td>1</td>\n",
       "      <td>True</td>\n",
       "    </tr>\n",
       "  </tbody>\n",
       "</table>\n",
       "</div>"
      ],
      "text/plain": [
       "                                                                                                                                                                      text  \\\n",
       "28                                                                            (...) outro amor na vida igual ao amor de mãe.\";;@misterpinkeyes;#ironia;701571956747980801\"   \n",
       "328                            Como vai ser a programação do fim do mundo? Vai dar meia noite vai acabar tudo, ou vai ter tempo pra saquear umas lojas e tal??? #QDuvida    \n",
       "1423                                       Se é o fim do mundo, ou não, eu não sei mas se for eu quero que se foda porque eu fui na minha ultima noite então!! #AGORACHUPA   \n",
       "1669                                                                                                                  Que \"fim do mundo\" mais monótono esse em. #Maiasfail   \n",
       "2319             RT @klassmannlucas: Qual será a desculpa da CEEE pra estar faltando luz pra milhares hoje em Poa?? O calor? O fim do mundo?? #incompetentes #provincianos   \n",
       "2871                                                                 Alguém tem notícia do outro lado do mundo?? Lá o fim do mundo já deveria ter chegado! #FimDoMundoFail   \n",
       "2909                                                  “@cyrosmf: \"Não me perguntes onde fica o fim do mundo/Segue o rumo da primeira explosão...\" #GauchanoFimdoMundo” SOS   \n",
       "5264                                                       “@jaimeramos21: @deodatoramalho @DanideAssis Definitivamente o fim do mundo está próximo.” #TaBraboIssoAiTche!!   \n",
       "5275    RT : O povo brasileiro não quer de volta aqueles que trouxeram o racionamento de energia Dilma13PraVencer\";;@dilmabr;#IRONIA #Dilma13PraVencer;559083130024648704\"   \n",
       "5307                                         Será o fim do mundo? Curta no pensamento do dia, #DailyLift: \"Will the world end?\" com Fujiko Signs, CSB http://t.co/WjjG4lb7   \n",
       "5903                                                                        @DaiaGomes: Sem luz no escritório e bateria do cel morrendo. #SoDerrota olha o fim do mundo :p   \n",
       "6157                                                                                         A capa do tt da @_pqptaay é o relato do \"fim do mundo\" com as #luzesroxas '0'   \n",
       "7237                                                                              O fim do mundo não chegou ainda porque está engarrafado na BR116. #GauchanoFimdoMundo :)   \n",
       "7356                                                                    @RdGaucha: Previsão é que a luz retorne no RS depois do fim do mundo. #GauchanoFimdoMundo hahahaha   \n",
       "7406                                                                       http://t.co/SNdTSF5e Por enquanto, a melhor notícia pra depois do \"fim do mundo\" #rock #Uol89FM   \n",
       "7609                           @realmurica Esse negócio de fim do mundo só podia ser coisa da tua familia mesmo. Os MAIAS!!! Mas ele não acabou, ele só gira mesmo!#mybaby   \n",
       "8155                                                                       http://t.co/Iog0aaV3 Por enquanto, a melhor notícia pra depois do \"fim do mundo\" #rock #Uol89FM   \n",
       "8203                                                                                                                 E o fim do mundo heim!? http://t.co/YrhcwHZN #Skynerd   \n",
       "8470                                                                                                Cara até falaram que ia ser ás 16:00 o fim do mundo #AtéHoraMarcada???   \n",
       "9787                          #MundoSalvoPelaConeCrew : \"Mano ta chegando o fim do mundo.\" \"Calma, chama os maluko doido da cone que eles resolve\" kkkkkkkkkkkkkkkkkkkkkkk   \n",
       "11502                                RT @CarolGomes2: as pessoas já estão com medo do fim do mundo ... e agora São Pedro trollando o povo ! kkkk #sacanagem em ahahahahaha   \n",
       "11566                                                                                                         Família é uma coisa linda  --\";;;#ironia;564460468358901760\"   \n",
       "12337                                RT \"@daniocampo: Enquanto vcs ficam aí especulando o fim do mundo, uma boyband pode estar se formando!! #CoisasRuinsAcontecemTodoDia\"   \n",
       "13563                                                                               Sério JH, teve gente que usou o ~fim do mundo~ pra cair na farra? #ChurrasDoFimDoMundo   \n",
       "13676                                      RT @Xarao: “@cyrosmf: \"Não me perguntes onde fica o fim do mundo/Segue o rumo da primeira explosão...\" #GauchanoFimdoMundo” SOS   \n",
       "\n",
       "       label  has_hashtag  \n",
       "28         1         True  \n",
       "328        1         True  \n",
       "1423       1         True  \n",
       "1669       1         True  \n",
       "2319       1         True  \n",
       "2871       1         True  \n",
       "2909       1         True  \n",
       "5264       1         True  \n",
       "5275       1         True  \n",
       "5307       1         True  \n",
       "5903       1         True  \n",
       "6157       1         True  \n",
       "7237       1         True  \n",
       "7356       1         True  \n",
       "7406       1         True  \n",
       "7609       1         True  \n",
       "8155       1         True  \n",
       "8203       1         True  \n",
       "8470       1         True  \n",
       "9787       1         True  \n",
       "11502      1         True  \n",
       "11566      1         True  \n",
       "12337      1         True  \n",
       "13563      1         True  \n",
       "13676      1         True  "
      ]
     },
     "execution_count": 8,
     "metadata": {},
     "output_type": "execute_result"
    }
   ],
   "source": [
    "# look for hashtags\n",
    "\n",
    "df[\"has_hashtag\"] = df[\"text\"].str.contains(\"#\")\n",
    "\n",
    "\n",
    "df[df[\"has_hashtag\"] == True]"
   ]
  },
  {
   "cell_type": "code",
   "execution_count": 9,
   "metadata": {},
   "outputs": [
    {
     "data": {
      "text/plain": [
       "((9735, 3), (2434, 3), (3043, 3))"
      ]
     },
     "execution_count": 9,
     "metadata": {},
     "output_type": "execute_result"
    }
   ],
   "source": [
    "# Train dev test split \n",
    "from sklearn.model_selection import train_test_split\n",
    "\n",
    "train, test = train_test_split(df, test_size=0.2, random_state=42)\n",
    "train, dev = train_test_split(train, test_size=0.2, random_state=42)\n",
    "\n",
    "train.shape, dev.shape, test.shape"
   ]
  },
  {
   "cell_type": "code",
   "execution_count": 31,
   "metadata": {},
   "outputs": [
    {
     "data": {
      "text/html": [
       "<style>#sk-container-id-6 {color: black;background-color: white;}#sk-container-id-6 pre{padding: 0;}#sk-container-id-6 div.sk-toggleable {background-color: white;}#sk-container-id-6 label.sk-toggleable__label {cursor: pointer;display: block;width: 100%;margin-bottom: 0;padding: 0.3em;box-sizing: border-box;text-align: center;}#sk-container-id-6 label.sk-toggleable__label-arrow:before {content: \"▸\";float: left;margin-right: 0.25em;color: #696969;}#sk-container-id-6 label.sk-toggleable__label-arrow:hover:before {color: black;}#sk-container-id-6 div.sk-estimator:hover label.sk-toggleable__label-arrow:before {color: black;}#sk-container-id-6 div.sk-toggleable__content {max-height: 0;max-width: 0;overflow: hidden;text-align: left;background-color: #f0f8ff;}#sk-container-id-6 div.sk-toggleable__content pre {margin: 0.2em;color: black;border-radius: 0.25em;background-color: #f0f8ff;}#sk-container-id-6 input.sk-toggleable__control:checked~div.sk-toggleable__content {max-height: 200px;max-width: 100%;overflow: auto;}#sk-container-id-6 input.sk-toggleable__control:checked~label.sk-toggleable__label-arrow:before {content: \"▾\";}#sk-container-id-6 div.sk-estimator input.sk-toggleable__control:checked~label.sk-toggleable__label {background-color: #d4ebff;}#sk-container-id-6 div.sk-label input.sk-toggleable__control:checked~label.sk-toggleable__label {background-color: #d4ebff;}#sk-container-id-6 input.sk-hidden--visually {border: 0;clip: rect(1px 1px 1px 1px);clip: rect(1px, 1px, 1px, 1px);height: 1px;margin: -1px;overflow: hidden;padding: 0;position: absolute;width: 1px;}#sk-container-id-6 div.sk-estimator {font-family: monospace;background-color: #f0f8ff;border: 1px dotted black;border-radius: 0.25em;box-sizing: border-box;margin-bottom: 0.5em;}#sk-container-id-6 div.sk-estimator:hover {background-color: #d4ebff;}#sk-container-id-6 div.sk-parallel-item::after {content: \"\";width: 100%;border-bottom: 1px solid gray;flex-grow: 1;}#sk-container-id-6 div.sk-label:hover label.sk-toggleable__label {background-color: #d4ebff;}#sk-container-id-6 div.sk-serial::before {content: \"\";position: absolute;border-left: 1px solid gray;box-sizing: border-box;top: 0;bottom: 0;left: 50%;z-index: 0;}#sk-container-id-6 div.sk-serial {display: flex;flex-direction: column;align-items: center;background-color: white;padding-right: 0.2em;padding-left: 0.2em;position: relative;}#sk-container-id-6 div.sk-item {position: relative;z-index: 1;}#sk-container-id-6 div.sk-parallel {display: flex;align-items: stretch;justify-content: center;background-color: white;position: relative;}#sk-container-id-6 div.sk-item::before, #sk-container-id-6 div.sk-parallel-item::before {content: \"\";position: absolute;border-left: 1px solid gray;box-sizing: border-box;top: 0;bottom: 0;left: 50%;z-index: -1;}#sk-container-id-6 div.sk-parallel-item {display: flex;flex-direction: column;z-index: 1;position: relative;background-color: white;}#sk-container-id-6 div.sk-parallel-item:first-child::after {align-self: flex-end;width: 50%;}#sk-container-id-6 div.sk-parallel-item:last-child::after {align-self: flex-start;width: 50%;}#sk-container-id-6 div.sk-parallel-item:only-child::after {width: 0;}#sk-container-id-6 div.sk-dashed-wrapped {border: 1px dashed gray;margin: 0 0.4em 0.5em 0.4em;box-sizing: border-box;padding-bottom: 0.4em;background-color: white;}#sk-container-id-6 div.sk-label label {font-family: monospace;font-weight: bold;display: inline-block;line-height: 1.2em;}#sk-container-id-6 div.sk-label-container {text-align: center;}#sk-container-id-6 div.sk-container {/* jupyter's `normalize.less` sets `[hidden] { display: none; }` but bootstrap.min.css set `[hidden] { display: none !important; }` so we also need the `!important` here to be able to override the default hidden behavior on the sphinx rendered scikit-learn.org. See: https://github.com/scikit-learn/scikit-learn/issues/21755 */display: inline-block !important;position: relative;}#sk-container-id-6 div.sk-text-repr-fallback {display: none;}</style><div id=\"sk-container-id-6\" class=\"sk-top-container\"><div class=\"sk-text-repr-fallback\"><pre>LogisticRegression()</pre><b>In a Jupyter environment, please rerun this cell to show the HTML representation or trust the notebook. <br />On GitHub, the HTML representation is unable to render, please try loading this page with nbviewer.org.</b></div><div class=\"sk-container\" hidden><div class=\"sk-item\"><div class=\"sk-estimator sk-toggleable\"><input class=\"sk-toggleable__control sk-hidden--visually\" id=\"sk-estimator-id-6\" type=\"checkbox\" checked><label for=\"sk-estimator-id-6\" class=\"sk-toggleable__label sk-toggleable__label-arrow\">LogisticRegression</label><div class=\"sk-toggleable__content\"><pre>LogisticRegression()</pre></div></div></div></div></div>"
      ],
      "text/plain": [
       "LogisticRegression()"
      ]
     },
     "execution_count": 31,
     "metadata": {},
     "output_type": "execute_result"
    }
   ],
   "source": [
    "# Train a logistic regression model\n",
    "from sklearn.feature_extraction.text import CountVectorizer\n",
    "from sklearn.linear_model import LogisticRegression\n",
    "\n",
    "from nltk.tokenize import TweetTokenizer\n",
    "\n",
    "tknzr = TweetTokenizer()\n",
    "\n",
    "vectorizer = CountVectorizer(tokenizer=tknzr.tokenize, binary=True)\n",
    "\n",
    "X_train = vectorizer.fit_transform(train[\"text\"])\n",
    "X_dev = vectorizer.transform(dev[\"text\"])\n",
    "X_test = vectorizer.transform(test[\"text\"])\n",
    "\n",
    "y_train = train[\"label\"]\n",
    "y_dev = dev[\"label\"]\n",
    "y_test = test[\"label\"]\n",
    "\n",
    "model = LogisticRegression()\n",
    "model.fit(X_train, y_train)\n"
   ]
  },
  {
   "cell_type": "code",
   "execution_count": 32,
   "metadata": {},
   "outputs": [
    {
     "name": "stdout",
     "output_type": "stream",
     "text": [
      "              precision    recall  f1-score   support\n",
      "\n",
      "  not ironic       0.99      0.97      0.98       402\n",
      "      ironic       0.99      1.00      1.00      2032\n",
      "\n",
      "    accuracy                           0.99      2434\n",
      "   macro avg       0.99      0.98      0.99      2434\n",
      "weighted avg       0.99      0.99      0.99      2434\n",
      "\n"
     ]
    }
   ],
   "source": [
    "# Check performance\n",
    "\n",
    "from sklearn.metrics import classification_report\n",
    "\n",
    "y_pred = model.predict(X_dev)\n",
    "print(classification_report(y_dev, y_pred, target_names=id2label.values()))"
   ]
  },
  {
   "cell_type": "code",
   "execution_count": 33,
   "metadata": {},
   "outputs": [
    {
     "data": {
      "image/png": "[encoded data removed]",
      "text/plain": [
       "<Figure size 640x480 with 1 Axes>"
      ]
     },
     "metadata": {},
     "output_type": "display_data"
    }
   ],
   "source": [
    "# Plot histogram of coefficients\n",
    "\n",
    "import matplotlib.pyplot as plt\n",
    "\n",
    "plt.hist(model.coef_[0], bins=20)\n",
    "# Log scale\n",
    "plt.yscale(\"log\")"
   ]
  },
  {
   "cell_type": "code",
   "execution_count": 34,
   "metadata": {},
   "outputs": [
    {
     "data": {
      "text/plain": [
       "(1, 20468)"
      ]
     },
     "execution_count": 34,
     "metadata": {},
     "output_type": "execute_result"
    }
   ],
   "source": [
    "model.coef_.shape"
   ]
  },
  {
   "cell_type": "code",
   "execution_count": 37,
   "metadata": {},
   "outputs": [
    {
     "name": "stdout",
     "output_type": "stream",
     "text": [
      "(16881)rápido: -0.7099825621989335\n",
      "(49)...: 0.7102516856356271\n",
      "(13386)novo: -0.7169510345594823\n",
      "(6876)economiailuminaçãoeficienciaenergeticaluminariaindustrialluminarialedlampadaled: -0.7172364917406987\n",
      "(10669)ironía: 0.7175649733117982\n",
      "(10745)itens: -0.7291661324071421\n",
      "(2358)atenção: -0.7336246610450333\n",
      "(19503)valor: -0.7369127710791374\n",
      "(2990)bi: -0.737917872919724\n",
      "(46)..: 0.7401791942923804\n",
      "(15038)poupadora: -0.7458497723911414\n",
      "(7119)empobreceeconomia: -0.7458497723911414\n",
      "(7263)enriquece: -0.7458497723911414\n",
      "(4988)consumista: -0.7458497723911414\n",
      "(7826)eu: 0.7501367982398781\n",
      "(13146)nem: 0.7522596524131956\n",
      "(15730)q: 0.7577829291038881\n",
      "(6954)eficiência: -0.7591347132229412\n",
      "(1070)acordo: -0.7659648599761026\n",
      "(14589)peça: -0.766945177098089\n",
      "(6874)economiafacilidade: -0.7687850193880695\n",
      "(3073)blog: -0.7774106510030332\n",
      "(6299)dicom: -0.7849207761220663\n",
      "(12337)merecem: -0.7857180109028046\n",
      "(704)?: 0.7915065984133598\n",
      "(670):: -0.7940846282766116\n",
      "(14789)pneus: -0.8012014669040627\n",
      "(8399)ficaadicapollopneuscalibradoseconomiasegurança: -0.8012014669040627\n",
      "(14625)pib: -0.8100107953624\n",
      "(6850)economia.brasil: -0.8244170893593373\n",
      "(23)&: -0.8357620466732344\n",
      "(15800)que: 0.8789164618653913\n",
      "(10718)isso: 0.8901701777742516\n",
      "(17730)sociedade: -0.9473358999652763\n",
      "(6853)economia.crise: -0.9608977389551545\n",
      "(7055)em: -0.9614601369502064\n",
      "(14868)política: -0.9628793902850684\n",
      "(16216)redução: -0.9644056831770593\n",
      "(5321)crescimento: -0.977399485680334\n",
      "(39).: 0.9807185143709314\n",
      "(3283)brasil: -1.006458220327996\n",
      "(6871)economiacom: -1.0201129587387745\n",
      "(8388)fgts: -1.1194615318630015\n",
      "(12472)milhões: -1.1272193380989248\n",
      "(18305)tanto: 1.1554492463735964\n",
      "(16181)recuperação: -1.18913502505636\n",
      "(18648)tianguá: -1.2085555994172383\n",
      "(22)%: -1.3725303742411494\n",
      "(6894)economía: -5.340028616091334\n",
      "(6847)economia: -8.564707684150996\n"
     ]
    }
   ],
   "source": [
    "# Get largest coefficients\n",
    "\n",
    "import numpy as np\n",
    "\n",
    "largest = np.argsort(np.abs(model.coef_[0]))[-50:]\n",
    "inverse_vocab = {v: k for k, v in vectorizer.vocabulary_.items()}\n",
    "\n",
    "for i in largest:\n",
    "    print(f\"({i}){inverse_vocab[i]}: {model.coef_[0][i]}\")"
   ]
  },
  {
   "cell_type": "code",
   "execution_count": 27,
   "metadata": {},
   "outputs": [
    {
     "data": {
      "text/html": [
       "<style>#sk-container-id-5 {color: black;background-color: white;}#sk-container-id-5 pre{padding: 0;}#sk-container-id-5 div.sk-toggleable {background-color: white;}#sk-container-id-5 label.sk-toggleable__label {cursor: pointer;display: block;width: 100%;margin-bottom: 0;padding: 0.3em;box-sizing: border-box;text-align: center;}#sk-container-id-5 label.sk-toggleable__label-arrow:before {content: \"▸\";float: left;margin-right: 0.25em;color: #696969;}#sk-container-id-5 label.sk-toggleable__label-arrow:hover:before {color: black;}#sk-container-id-5 div.sk-estimator:hover label.sk-toggleable__label-arrow:before {color: black;}#sk-container-id-5 div.sk-toggleable__content {max-height: 0;max-width: 0;overflow: hidden;text-align: left;background-color: #f0f8ff;}#sk-container-id-5 div.sk-toggleable__content pre {margin: 0.2em;color: black;border-radius: 0.25em;background-color: #f0f8ff;}#sk-container-id-5 input.sk-toggleable__control:checked~div.sk-toggleable__content {max-height: 200px;max-width: 100%;overflow: auto;}#sk-container-id-5 input.sk-toggleable__control:checked~label.sk-toggleable__label-arrow:before {content: \"▾\";}#sk-container-id-5 div.sk-estimator input.sk-toggleable__control:checked~label.sk-toggleable__label {background-color: #d4ebff;}#sk-container-id-5 div.sk-label input.sk-toggleable__control:checked~label.sk-toggleable__label {background-color: #d4ebff;}#sk-container-id-5 input.sk-hidden--visually {border: 0;clip: rect(1px 1px 1px 1px);clip: rect(1px, 1px, 1px, 1px);height: 1px;margin: -1px;overflow: hidden;padding: 0;position: absolute;width: 1px;}#sk-container-id-5 div.sk-estimator {font-family: monospace;background-color: #f0f8ff;border: 1px dotted black;border-radius: 0.25em;box-sizing: border-box;margin-bottom: 0.5em;}#sk-container-id-5 div.sk-estimator:hover {background-color: #d4ebff;}#sk-container-id-5 div.sk-parallel-item::after {content: \"\";width: 100%;border-bottom: 1px solid gray;flex-grow: 1;}#sk-container-id-5 div.sk-label:hover label.sk-toggleable__label {background-color: #d4ebff;}#sk-container-id-5 div.sk-serial::before {content: \"\";position: absolute;border-left: 1px solid gray;box-sizing: border-box;top: 0;bottom: 0;left: 50%;z-index: 0;}#sk-container-id-5 div.sk-serial {display: flex;flex-direction: column;align-items: center;background-color: white;padding-right: 0.2em;padding-left: 0.2em;position: relative;}#sk-container-id-5 div.sk-item {position: relative;z-index: 1;}#sk-container-id-5 div.sk-parallel {display: flex;align-items: stretch;justify-content: center;background-color: white;position: relative;}#sk-container-id-5 div.sk-item::before, #sk-container-id-5 div.sk-parallel-item::before {content: \"\";position: absolute;border-left: 1px solid gray;box-sizing: border-box;top: 0;bottom: 0;left: 50%;z-index: -1;}#sk-container-id-5 div.sk-parallel-item {display: flex;flex-direction: column;z-index: 1;position: relative;background-color: white;}#sk-container-id-5 div.sk-parallel-item:first-child::after {align-self: flex-end;width: 50%;}#sk-container-id-5 div.sk-parallel-item:last-child::after {align-self: flex-start;width: 50%;}#sk-container-id-5 div.sk-parallel-item:only-child::after {width: 0;}#sk-container-id-5 div.sk-dashed-wrapped {border: 1px dashed gray;margin: 0 0.4em 0.5em 0.4em;box-sizing: border-box;padding-bottom: 0.4em;background-color: white;}#sk-container-id-5 div.sk-label label {font-family: monospace;font-weight: bold;display: inline-block;line-height: 1.2em;}#sk-container-id-5 div.sk-label-container {text-align: center;}#sk-container-id-5 div.sk-container {/* jupyter's `normalize.less` sets `[hidden] { display: none; }` but bootstrap.min.css set `[hidden] { display: none !important; }` so we also need the `!important` here to be able to override the default hidden behavior on the sphinx rendered scikit-learn.org. See: https://github.com/scikit-learn/scikit-learn/issues/21755 */display: inline-block !important;position: relative;}#sk-container-id-5 div.sk-text-repr-fallback {display: none;}</style><div id=\"sk-container-id-5\" class=\"sk-top-container\"><div class=\"sk-text-repr-fallback\"><pre>LogisticRegression()</pre><b>In a Jupyter environment, please rerun this cell to show the HTML representation or trust the notebook. <br />On GitHub, the HTML representation is unable to render, please try loading this page with nbviewer.org.</b></div><div class=\"sk-container\" hidden><div class=\"sk-item\"><div class=\"sk-estimator sk-toggleable\"><input class=\"sk-toggleable__control sk-hidden--visually\" id=\"sk-estimator-id-5\" type=\"checkbox\" checked><label for=\"sk-estimator-id-5\" class=\"sk-toggleable__label sk-toggleable__label-arrow\">LogisticRegression</label><div class=\"sk-toggleable__content\"><pre>LogisticRegression()</pre></div></div></div></div></div>"
      ],
      "text/plain": [
       "LogisticRegression()"
      ]
     },
     "execution_count": 27,
     "metadata": {},
     "output_type": "execute_result"
    }
   ],
   "source": [
    "# Now, let's try to train a model with just the most important features (those in indices)\n",
    "X_train_2 = X_train[:, largest]\n",
    "X_dev_2 = X_dev[:, largest]\n",
    "X_test_2 = X_test[:, largest]\n",
    "\n",
    "\n",
    "model = LogisticRegression()\n",
    "model.fit(X_train_2, y_train)"
   ]
  },
  {
   "cell_type": "code",
   "execution_count": 28,
   "metadata": {},
   "outputs": [
    {
     "name": "stdout",
     "output_type": "stream",
     "text": [
      "              precision    recall  f1-score   support\n",
      "\n",
      "  not ironic       0.99      0.99      0.99       402\n",
      "      ironic       1.00      1.00      1.00      2032\n",
      "\n",
      "    accuracy                           1.00      2434\n",
      "   macro avg       0.99      0.99      0.99      2434\n",
      "weighted avg       1.00      1.00      1.00      2434\n",
      "\n"
     ]
    }
   ],
   "source": [
    "# Check performance\n",
    "\n",
    "from sklearn.metrics import classification_report\n",
    "\n",
    "y_pred = model.predict(X_dev_2)\n",
    "print(classification_report(y_dev, y_pred, target_names=id2label.values()))"
   ]
  },
  {
   "cell_type": "code",
   "execution_count": 40,
   "metadata": {},
   "outputs": [
    {
     "data": {
      "text/plain": [
       "(scipy.sparse._csr.csr_matrix, numpy.ndarray)"
      ]
     },
     "execution_count": 40,
     "metadata": {},
     "output_type": "execute_result"
    }
   ],
   "source": [
    "type(X_train[:,6384]), type(y_train.values.reshape(-1, 1))"
   ]
  },
  {
   "cell_type": "code",
   "execution_count": 11,
   "metadata": {},
   "outputs": [],
   "source": [
    "# Calculate correlations\n",
    "\n",
    "np.corrcoef(X_train[:,6384], y_train.values.reshape(-1, 1))"
   ]
  },
  {
   "cell_type": "code",
   "execution_count": 24,
   "metadata": {},
   "outputs": [
    {
     "data": {
      "text/plain": [
       "DatasetDict({\n",
       "    train: Dataset({\n",
       "        features: ['text', 'label'],\n",
       "        num_rows: 9735\n",
       "    })\n",
       "    dev: Dataset({\n",
       "        features: ['text', 'label'],\n",
       "        num_rows: 2434\n",
       "    })\n",
       "    test: Dataset({\n",
       "        features: ['text', 'label'],\n",
       "        num_rows: 3043\n",
       "    })\n",
       "})"
      ]
     },
     "execution_count": 24,
     "metadata": {},
     "output_type": "execute_result"
    }
   ],
   "source": [
    "from datasets import Dataset, Value, ClassLabel, Features, DatasetDict\n",
    "\n",
    "features = Features({\n",
    "    'text': Value('string'),\n",
    "    'label': ClassLabel(num_classes=2, names=[\"non ironic\", \"ironic\"]),\n",
    "})\n",
    "\n",
    "\n",
    "train = Dataset.from_pandas(train, features=features, preserve_index=False)\n",
    "dev = Dataset.from_pandas(dev, features=features, preserve_index=False)\n",
    "test = Dataset.from_pandas(test, features=features, preserve_index=False)\n",
    "\n",
    "ds = DatasetDict(\n",
    "    train=train,\n",
    "    dev=dev,\n",
    "    test=test\n",
    ")\n",
    "\n",
    "ds"
   ]
  },
  {
   "cell_type": "code",
   "execution_count": 25,
   "metadata": {},
   "outputs": [
    {
     "name": "stderr",
     "output_type": "stream",
     "text": [
      "WARNING:datasets.dataset_dict:Pushing split train to the Hub.\n"
     ]
    },
    {
     "data": {
      "application/vnd.jupyter.widget-view+json": {
       "model_id": "6f80407d1f054251a5382b6ac088dd46",
       "version_major": 2,
       "version_minor": 0
      },
      "text/plain": [
       "Pushing dataset shards to the dataset hub:   0%|          | 0/1 [00:00<?, ?it/s]"
      ]
     },
     "metadata": {},
     "output_type": "display_data"
    },
    {
     "data": {
      "application/vnd.jupyter.widget-view+json": {
       "model_id": "826ba31a2a114aec8466b7e5e574ffb3",
       "version_major": 2,
       "version_minor": 0
      },
      "text/plain": [
       "Creating parquet from Arrow format:   0%|          | 0/10 [00:00<?, ?ba/s]"
      ]
     },
     "metadata": {},
     "output_type": "display_data"
    },
    {
     "data": {
      "application/vnd.jupyter.widget-view+json": {
       "model_id": "7a35d5ba22474356af7ba01b7ab12718",
       "version_major": 2,
       "version_minor": 0
      },
      "text/plain": [
       "Upload 1 LFS files:   0%|          | 0/1 [00:00<?, ?it/s]"
      ]
     },
     "metadata": {},
     "output_type": "display_data"
    },
    {
     "name": "stderr",
     "output_type": "stream",
     "text": [
      "WARNING:datasets.dataset_dict:Pushing split dev to the Hub.\n"
     ]
    },
    {
     "data": {
      "application/vnd.jupyter.widget-view+json": {
       "model_id": "640786be90134ec9af5f3d73b83068ff",
       "version_major": 2,
       "version_minor": 0
      },
      "text/plain": [
       "Pushing dataset shards to the dataset hub:   0%|          | 0/1 [00:00<?, ?it/s]"
      ]
     },
     "metadata": {},
     "output_type": "display_data"
    },
    {
     "data": {
      "application/vnd.jupyter.widget-view+json": {
       "model_id": "8207bac8d79c417fb3e6db66bb013416",
       "version_major": 2,
       "version_minor": 0
      },
      "text/plain": [
       "Creating parquet from Arrow format:   0%|          | 0/3 [00:00<?, ?ba/s]"
      ]
     },
     "metadata": {},
     "output_type": "display_data"
    },
    {
     "data": {
      "application/vnd.jupyter.widget-view+json": {
       "model_id": "964a87dbc8fd4c6e994fad3ed0b7730a",
       "version_major": 2,
       "version_minor": 0
      },
      "text/plain": [
       "Upload 1 LFS files:   0%|          | 0/1 [00:00<?, ?it/s]"
      ]
     },
     "metadata": {},
     "output_type": "display_data"
    },
    {
     "name": "stderr",
     "output_type": "stream",
     "text": [
      "WARNING:datasets.dataset_dict:Pushing split test to the Hub.\n"
     ]
    },
    {
     "data": {
      "application/vnd.jupyter.widget-view+json": {
       "model_id": "6dd23e03acd44e9cb04c21a4ce3903ed",
       "version_major": 2,
       "version_minor": 0
      },
      "text/plain": [
       "Pushing dataset shards to the dataset hub:   0%|          | 0/1 [00:00<?, ?it/s]"
      ]
     },
     "metadata": {},
     "output_type": "display_data"
    },
    {
     "data": {
      "application/vnd.jupyter.widget-view+json": {
       "model_id": "f2f6960415d74bff81066937872ee117",
       "version_major": 2,
       "version_minor": 0
      },
      "text/plain": [
       "Creating parquet from Arrow format:   0%|          | 0/4 [00:00<?, ?ba/s]"
      ]
     },
     "metadata": {},
     "output_type": "display_data"
    },
    {
     "data": {
      "application/vnd.jupyter.widget-view+json": {
       "model_id": "d31655833b1c4770a81fdb76fdb1ed1d",
       "version_major": 2,
       "version_minor": 0
      },
      "text/plain": [
       "Upload 1 LFS files:   0%|          | 0/1 [00:00<?, ?it/s]"
      ]
     },
     "metadata": {},
     "output_type": "display_data"
    }
   ],
   "source": [
    "ds.push_to_hub(\"pysentimiento/pt_irony\", private=True)"
   ]
  },
  {
   "cell_type": "code",
   "execution_count": 27,
   "metadata": {},
   "outputs": [
    {
     "data": {
      "text/plain": [
       "15212"
      ]
     },
     "execution_count": 27,
     "metadata": {},
     "output_type": "execute_result"
    }
   ],
   "source": [
    "# Get unique texts in df \n",
    "\n",
    "df.text.nunique()"
   ]
  },
  {
   "cell_type": "code",
   "execution_count": null,
   "metadata": {},
   "outputs": [],
   "source": []
  }
 ],
 "metadata": {
  "kernelspec": {
   "display_name": ".venv",
   "language": "python",
   "name": "python3"
  },
  "language_info": {
   "codemirror_mode": {
    "name": "ipython",
    "version": 3
   },
   "file_extension": ".py",
   "mimetype": "text/x-python",
   "name": "python",
   "nbconvert_exporter": "python",
   "pygments_lexer": "ipython3",
   "version": "3.8.16"
  },
  "orig_nbformat": 4,
  "vscode": {
   "interpreter": {
    "hash": "3fc79ed69e4c2b5a1db8fa17ebb1e82d66421519e5b018d314116a7b4cda9238"
   }
  }
 },
 "nbformat": 4,
 "nbformat_minor": 2
}
