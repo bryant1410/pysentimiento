{
 "cells": [
  {
   "cell_type": "markdown",
   "metadata": {},
   "source": [
    "## Exploratory Analysis\n",
    "\n"
   ]
  },
  {
   "cell_type": "code",
   "execution_count": 5,
   "metadata": {},
   "outputs": [
    {
     "name": "stdout",
     "output_type": "stream",
     "text": [
      "The autoreload extension is already loaded. To reload it, use:\n",
      "  %reload_ext autoreload\n"
     ]
    }
   ],
   "source": [
    "%load_ext autoreload\n",
    "%autoreload 2\n",
    "import os\n",
    "from datasets import concatenate_datasets\n",
    "from pysentimiento.irony import load_datasets, id2label\n",
    "\n",
    "train, dev, test = load_datasets(lang=\"es\", preprocess=False)\n",
    "\n",
    "\n",
    "df = concatenate_datasets([train, dev, test]).to_pandas()\n",
    "\n",
    "df[\"label\"] = df[\"label\"].apply(lambda x: id2label[x])"
   ]
  },
  {
   "cell_type": "code",
   "execution_count": 6,
   "metadata": {},
   "outputs": [
    {
     "data": {
      "text/plain": [
       "not ironic    66.677778\n",
       "ironic        33.322222\n",
       "Name: label, dtype: float64"
      ]
     },
     "execution_count": 6,
     "metadata": {},
     "output_type": "execute_result"
    }
   ],
   "source": [
    "df[\"label\"].value_counts(normalize=True) * 100"
   ]
  },
  {
   "cell_type": "code",
   "execution_count": 10,
   "metadata": {},
   "outputs": [
    {
     "data": {
      "text/html": [
       "<div>\n",
       "<style scoped>\n",
       "    .dataframe tbody tr th:only-of-type {\n",
       "        vertical-align: middle;\n",
       "    }\n",
       "\n",
       "    .dataframe tbody tr th {\n",
       "        vertical-align: top;\n",
       "    }\n",
       "\n",
       "    .dataframe thead th {\n",
       "        text-align: right;\n",
       "    }\n",
       "</style>\n",
       "<table border=\"1\" class=\"dataframe\">\n",
       "  <thead>\n",
       "    <tr style=\"text-align: right;\">\n",
       "      <th></th>\n",
       "      <th>text</th>\n",
       "      <th>topic</th>\n",
       "      <th>lang</th>\n",
       "      <th>label</th>\n",
       "    </tr>\n",
       "  </thead>\n",
       "  <tbody>\n",
       "    <tr>\n",
       "      <th>7011</th>\n",
       "      <td>@RM_Nalapa @mrwhite939 @AgainJairo Claro y la tierra es plana porque lo dice Vox. Menuda panda de fanáticos, hooligans futboleros...</td>\n",
       "      <td>TIERRAPLANISTAS</td>\n",
       "      <td>es</td>\n",
       "      <td>not ironic</td>\n",
       "    </tr>\n",
       "    <tr>\n",
       "      <th>8882</th>\n",
       "      <td>Decenas de denuncias coordinadas usan un informe de la Fundación Franco para frenar la exhumación https://t.co/gVQjSC8B7a vía @eldiarioes Los recu...</td>\n",
       "      <td>FRANCO</td>\n",
       "      <td>es</td>\n",
       "      <td>not ironic</td>\n",
       "    </tr>\n",
       "    <tr>\n",
       "      <th>1721</th>\n",
       "      <td>No me sirvió para nada todo fue en vano. Espero mejore la calidad.</td>\n",
       "      <td>ETECSA, INTERNET, DATOS MÓVILES</td>\n",
       "      <td>cu</td>\n",
       "      <td>not ironic</td>\n",
       "    </tr>\n",
       "    <tr>\n",
       "      <th>4268</th>\n",
       "      <td>Pensé que era nota del deforma...</td>\n",
       "      <td>estanciasInfantiles</td>\n",
       "      <td>mx</td>\n",
       "      <td>ironic</td>\n",
       "    </tr>\n",
       "    <tr>\n",
       "      <th>7858</th>\n",
       "      <td>Terrible manifestación de ineptitud e ignorancia; trivializar su omisión inexcusable ante uno de los logros más trascendentes en la historia del a...</td>\n",
       "      <td>peliculaRoma</td>\n",
       "      <td>mx</td>\n",
       "      <td>not ironic</td>\n",
       "    </tr>\n",
       "    <tr>\n",
       "      <th>4677</th>\n",
       "      <td>Las abuelas ya criaron hijos, a la vez a muchas ya les tocó trabajar fuera de casa; no es tiempo de dejarlas descansar? O que, vamos a tenerlas tr...</td>\n",
       "      <td>estanciasInfantiles</td>\n",
       "      <td>mx</td>\n",
       "      <td>not ironic</td>\n",
       "    </tr>\n",
       "    <tr>\n",
       "      <th>904</th>\n",
       "      <td>Joan Tardá, ha demostrado una vez mas nuestra capacidad ( los ignorantes nos llaman supremacistas ) de democratas a nivel mundial. Ha demostrado y...</td>\n",
       "      <td>TARDÀ</td>\n",
       "      <td>es</td>\n",
       "      <td>not ironic</td>\n",
       "    </tr>\n",
       "    <tr>\n",
       "      <th>8325</th>\n",
       "      <td>Entre estos tipos, los que dicen que la tierra es plana y que hay que ponerle género X\" a los niños al nacer</td>\n",
       "      <td>tierraPlana</td>\n",
       "      <td>mx</td>\n",
       "      <td>not ironic</td>\n",
       "    </tr>\n",
       "    <tr>\n",
       "      <th>1940</th>\n",
       "      <td>Consideró  que fue todo un \"exito\", no sólo se afectó el motivo de la prueba, también fue difícil los correos y la comunicación de voz. El teléfon...</td>\n",
       "      <td>ETECSA, INTERNET, DATOS MÓVILES</td>\n",
       "      <td>cu</td>\n",
       "      <td>ironic</td>\n",
       "    </tr>\n",
       "    <tr>\n",
       "      <th>7673</th>\n",
       "      <td>Es el mejor del mundo RC7, Messi en traje rojo diferente a todos, se volvió excéntrico?????</td>\n",
       "      <td>ESCÁNDALOS DEPORTIVOS, SERIE NACIONAL, FÚTBOL, BÉISBOL</td>\n",
       "      <td>cu</td>\n",
       "      <td>not ironic</td>\n",
       "    </tr>\n",
       "  </tbody>\n",
       "</table>\n",
       "</div>"
      ],
      "text/plain": [
       "                                                                                                                                                       text  \\\n",
       "7011                   @RM_Nalapa @mrwhite939 @AgainJairo Claro y la tierra es plana porque lo dice Vox. Menuda panda de fanáticos, hooligans futboleros...   \n",
       "8882  Decenas de denuncias coordinadas usan un informe de la Fundación Franco para frenar la exhumación https://t.co/gVQjSC8B7a vía @eldiarioes Los recu...   \n",
       "1721                                                                                     No me sirvió para nada todo fue en vano. Espero mejore la calidad.   \n",
       "4268                                                                                                                      Pensé que era nota del deforma...   \n",
       "7858  Terrible manifestación de ineptitud e ignorancia; trivializar su omisión inexcusable ante uno de los logros más trascendentes en la historia del a...   \n",
       "4677  Las abuelas ya criaron hijos, a la vez a muchas ya les tocó trabajar fuera de casa; no es tiempo de dejarlas descansar? O que, vamos a tenerlas tr...   \n",
       "904   Joan Tardá, ha demostrado una vez mas nuestra capacidad ( los ignorantes nos llaman supremacistas ) de democratas a nivel mundial. Ha demostrado y...   \n",
       "8325                                           Entre estos tipos, los que dicen que la tierra es plana y que hay que ponerle género X\" a los niños al nacer   \n",
       "1940  Consideró  que fue todo un \"exito\", no sólo se afectó el motivo de la prueba, también fue difícil los correos y la comunicación de voz. El teléfon...   \n",
       "7673                                                            Es el mejor del mundo RC7, Messi en traje rojo diferente a todos, se volvió excéntrico?????   \n",
       "\n",
       "                                                       topic lang       label  \n",
       "7011                                         TIERRAPLANISTAS   es  not ironic  \n",
       "8882                                                  FRANCO   es  not ironic  \n",
       "1721                         ETECSA, INTERNET, DATOS MÓVILES   cu  not ironic  \n",
       "4268                                     estanciasInfantiles   mx      ironic  \n",
       "7858                                            peliculaRoma   mx  not ironic  \n",
       "4677                                     estanciasInfantiles   mx  not ironic  \n",
       "904                                                    TARDÀ   es  not ironic  \n",
       "8325                                             tierraPlana   mx  not ironic  \n",
       "1940                         ETECSA, INTERNET, DATOS MÓVILES   cu      ironic  \n",
       "7673  ESCÁNDALOS DEPORTIVOS, SERIE NACIONAL, FÚTBOL, BÉISBOL   cu  not ironic  "
      ]
     },
     "execution_count": 10,
     "metadata": {},
     "output_type": "execute_result"
    }
   ],
   "source": [
    "import pandas as pd\n",
    "pd.options.display.max_colwidth = 150\n",
    "\n",
    "df.sample(10)"
   ]
  },
  {
   "cell_type": "code",
   "execution_count": null,
   "metadata": {},
   "outputs": [],
   "source": []
  }
 ],
 "metadata": {
  "kernelspec": {
   "display_name": ".venv",
   "language": "python",
   "name": "python3"
  },
  "language_info": {
   "codemirror_mode": {
    "name": "ipython",
    "version": 3
   },
   "file_extension": ".py",
   "mimetype": "text/x-python",
   "name": "python",
   "nbconvert_exporter": "python",
   "pygments_lexer": "ipython3",
   "version": "3.8.16"
  },
  "metadata": {
   "interpreter": {
    "hash": "1b2ee3c7e4be117f16044e4287774c113d04cbc1cc9e7e3b16e6e098f73486a4"
   }
  },
  "orig_nbformat": 3,
  "vscode": {
   "interpreter": {
    "hash": "3fc79ed69e4c2b5a1db8fa17ebb1e82d66421519e5b018d314116a7b4cda9238"
   }
  }
 },
 "nbformat": 4,
 "nbformat_minor": 4
}
