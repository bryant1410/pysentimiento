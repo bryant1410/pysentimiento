{
 "cells": [
  {
   "attachments": {},
   "cell_type": "markdown",
   "metadata": {},
   "source": [
    "# Results\n",
    "\n",
    "In this notebook we explore the results of the experiments, which are stored in wandb"
   ]
  },
  {
   "cell_type": "code",
   "execution_count": 1,
   "metadata": {},
   "outputs": [],
   "source": [
    "# Get wandb api object\n",
    "import wandb\n",
    "\n",
    "api = wandb.Api()\n",
    "\n",
    "# Get all runs\n",
    "project = api.project(\"pysentimiento\")\n",
    "\n",
    "\n",
    "# Get all runs for sentiment and lang es\n",
    "runs = [r for r in api.runs(\"pysentimiento\", {\"config.lang\": \"pt\"}) if not r.sweep]"
   ]
  },
  {
   "cell_type": "code",
   "execution_count": 2,
   "metadata": {},
   "outputs": [
    {
     "name": "stdout",
     "output_type": "stream",
     "text": [
      "Run bumbling-hill-722 has no macro f1\n",
      "{'_wandb': {'runtime': 0}}\n",
      "Run driven-sweep-7 has no macro f1\n",
      "{'train/loss': 0.8413, 'eval/macro_recall': 0.4881657063961029, 'train/train_samples_per_second': 57.902, 'eval/neu_precision': 0.39655172413793105, 'eval/pos_precision': 0.5577763897564022, 'eval/pos_f1': 0.6701688555347092, 'eval/runtime': 10.5963, 'eval/macro_f1': 0.4783643782138825, 'eval/neu_recall': 0.18312101910828024, 'eval/neg_precision': 0.6149312377210217, 'eval/samples_per_second': 226.495, 'eval/acc': 0.5504166666666667, 'eval/loss': 0.9725472927093506, 'eval/steps_per_second': 7.078, '_step': 8, 'train/epoch': 4, 'eval/neg_recall': 0.442090395480226, 'train/total_flos': 1689769407283200.0, 'train/global_step': 1200, 'train/train_steps_per_second': 1.809, 'eval/neu_f1': 0.25054466230936817, 'eval/micro_f1': 0.5504166666666667, 'train/train_loss': 0.9332966486612956, 'eval/macro_precision': 0.5230864882469177, '_wandb': {'runtime': 685}, 'eval/neg_f1': 0.514379622021364, 'train/learning_rate': 0, '_runtime': 685.9872334003448, '_timestamp': 1677192014.9587574, 'eval/pos_recall': 0.8392857142857143, 'train/train_runtime': 663.1867}\n",
      "Run valiant-sweep-6 has no macro f1\n",
      "{'eval/acc': 0.5504166666666667, 'train/learning_rate': 0, 'train/train_steps_per_second': 1.812, 'eval/neg_precision': 0.6149312377210217, 'eval/pos_precision': 0.5577763897564022, '_wandb': {'runtime': 683}, 'eval/neu_recall': 0.18312101910828024, 'eval/pos_recall': 0.8392857142857143, 'train/total_flos': 1689769407283200.0, 'train/train_samples_per_second': 57.978, '_timestamp': 1677191314.4089785, 'eval/neg_recall': 0.442090395480226, 'train/train_loss': 0.9332966486612956, 'eval/macro_recall': 0.4881657063961029, 'eval/runtime': 10.6925, 'eval/macro_f1': 0.4783643782138825, 'eval/neu_precision': 0.39655172413793105, 'eval/samples_per_second': 224.456, '_runtime': 684.5104184150696, 'train/epoch': 4, 'eval/micro_f1': 0.5504166666666667, 'train/global_step': 1200, '_step': 8, 'train/loss': 0.8413, 'eval/neg_f1': 0.514379622021364, 'eval/steps_per_second': 7.014, 'eval/loss': 0.9725472927093506, 'eval/pos_f1': 0.6701688555347092, 'eval/macro_precision': 0.5230864882469177, 'eval/neu_f1': 0.25054466230936817, 'train/train_runtime': 662.3225}\n",
      "Run comfy-sweep-5 has no macro f1\n",
      "{'_wandb': {'runtime': 682}, 'eval/pos_f1': 0.6681350954478709, 'train/global_step': 1200, 'eval/neu_precision': 0.4387755102040816, 'train/train_runtime': 659.2697, 'eval/samples_per_second': 229.486, '_step': 8, 'eval/neu_f1': 0.1184573002754821, 'eval/runtime': 10.4582, 'train/total_flos': 1689769407283200.0, 'eval/neg_precision': 0.5404984423676013, 'train/learning_rate': 0, 'eval/acc': 0.5416666666666666, 'eval/micro_f1': 0.5416666666666666, 'eval/pos_recall': 0.8552631578947368, 'eval/macro_f1': 0.4335555136203766, 'eval/steps_per_second': 7.171, '_timestamp': 1677190617.9078648, 'train/epoch': 4, 'eval/macro_recall': 0.4712824821472168, 'eval/pos_precision': 0.5481927710843374, 'eval/loss': 0.958969235420227, 'train/train_samples_per_second': 58.246, 'eval/neg_f1': 0.514074074074074, 'eval/neu_recall': 0.06847133757961783, 'train/train_steps_per_second': 1.82, 'eval/neg_recall': 0.4901129943502825, 'train/loss': 0.917, 'train/train_loss': 0.9841207631429036, 'eval/macro_precision': 0.5091555714607239, '_runtime': 683.0151138305664}\n",
      "Run snowy-sweep-4 has no macro f1\n",
      "{'eval/pos_recall': 0.8543233082706767, 'train/train_runtime': 659.9469, 'train/train_steps_per_second': 1.818, 'eval/pos_f1': 0.6808988764044944, 'eval/runtime': 10.5311, 'train/total_flos': 1689769407283200.0, 'eval/neg_precision': 0.6848341232227488, 'train/train_samples_per_second': 58.186, '_step': 8, 'eval/loss': 0.9830532670021056, 'eval/neu_recall': 0.25796178343949044, 'eval/steps_per_second': 7.122, 'eval/neu_precision': 0.43548387096774194, 'eval/pos_precision': 0.566002490660025, 'eval/samples_per_second': 227.897, '_runtime': 683.6609501838684, 'eval/neu_f1': 0.324, 'eval/macro_f1': 0.5054677724838257, 'train/global_step': 1200, 'eval/macro_precision': 0.5621067881584167, 'eval/neg_f1': 0.5115044247787611, 'train/epoch': 4, 'eval/micro_f1': 0.5666666666666667, 'train/train_loss': 0.8984172693888346, 'train/loss': 0.7612, 'eval/macro_recall': 0.5068257451057434, 'train/learning_rate': 0, '_wandb': {'runtime': 682}, 'eval/acc': 0.5666666666666667, '_timestamp': 1677189922.961156, 'eval/neg_recall': 0.4081920903954802}\n",
      "Run gentle-sweep-3 has no macro f1\n",
      "{'eval/runtime': 10.5835, 'train/learning_rate': 0, '_runtime': 516.1071720123291, 'train/total_flos': 1267327055462400.0, 'eval/neu_precision': 0.4054878048780488, 'eval/samples_per_second': 226.768, 'train/train_steps_per_second': 1.822, 'train/epoch': 3, 'eval/neg_precision': 0.6314699792960663, 'train/train_samples_per_second': 58.301, 'eval/neg_f1': 0.512174643157011, 'eval/neu_f1': 0.2782426778242678, 'eval/pos_recall': 0.8486842105263158, 'train/loss': 0.8155, 'eval/macro_recall': 0.49708619713783264, 'eval/loss': 0.9539783000946044, 'eval/macro_f1': 0.4903853833675385, 'eval/neu_recall': 0.21178343949044587, 'train/train_runtime': 493.9845, 'eval/macro_precision': 0.5350798964500427, 'eval/steps_per_second': 7.087, '_step': 6, '_timestamp': 1677189227.003689, 'train/global_step': 900, '_wandb': {'runtime': 515}, 'eval/acc': 0.55875, 'eval/pos_f1': 0.6807387862796834, 'eval/micro_f1': 0.55875, 'eval/neg_recall': 0.4307909604519774, 'train/train_loss': 0.9230984666612412, 'eval/pos_precision': 0.5682819383259912}\n",
      "Run fresh-sweep-2 has no macro f1\n",
      "{'eval/pos_f1': 0.6143187066974596, 'eval/neu_recall': 0, 'eval/loss': 1.0682480335235596, 'train/epoch': 4, 'eval/macro_f1': 0.2047729045152664, 'eval/pos_recall': 1, '_timestamp': 1677188695.4971075, 'train/total_flos': 1689769407283200.0, 'train/learning_rate': 0, 'train/train_samples_per_second': 58.011, 'eval/micro_f1': 0.44333333333333336, 'train/train_runtime': 661.938, 'eval/acc': 0.44333333333333336, 'eval/neg_precision': 0, 'eval/steps_per_second': 6.992, 'train/train_steps_per_second': 1.813, '_step': 8, 'eval/pos_precision': 0.44333333333333336, 'eval/neg_f1': 0, 'eval/runtime': 10.7271, 'train/global_step': 1200, 'eval/macro_precision': 0.14777778089046478, 'eval/samples_per_second': 223.732, 'eval/neu_f1': 0, '_runtime': 684.5362784862518, 'train/loss': 1.0708, 'eval/neg_recall': 0, 'train/train_loss': 1.073337249755859, 'eval/macro_recall': 0.3333333432674408, 'eval/neu_precision': 0, '_wandb': {'runtime': 683}}\n",
      "Run effortless-sweep-1 has no macro f1\n",
      "{'train/train_steps_per_second': 1.84, '_runtime': 677.4166157245636, 'train/epoch': 4, 'train/train_runtime': 652.3282, 'eval/macro_precision': 0.5307063460350037, '_wandb': {'runtime': 676}, 'eval/pos_precision': 0.5553539019963702, 'eval/steps_per_second': 7.041, 'eval/runtime': 10.6524, 'eval/neu_recall': 0.1464968152866242, 'train/global_step': 1200, 'eval/neu_precision': 0.4360189573459716, 'eval/loss': 0.9527270793914796, 'eval/macro_f1': 0.4709129333496094, 'eval/micro_f1': 0.555, 'eval/samples_per_second': 225.302, 'eval/neu_f1': 0.21930870083432655, 'eval/pos_f1': 0.6757453073242546, 'eval/pos_recall': 0.8627819548872181, 'train/learning_rate': 0, 'eval/neg_f1': 0.517684887459807, 'eval/acc': 0.555, 'train/total_flos': 1689769407283200.0, 'train/train_loss': 0.9413204193115234, 'eval/macro_recall': 0.48802700638771057, 'eval/neg_precision': 0.6007462686567164, 'train/train_samples_per_second': 58.866, '_step': 8, '_timestamp': 1677187996.1402638, 'train/loss': 0.8506, 'eval/neg_recall': 0.4548022598870056}\n"
     ]
    }
   ],
   "source": [
    "data = []\n",
    "\n",
    "renames = {\n",
    "    \"pysentimiento/robertuito-base-uncased\": \"RoBERTuito\",\n",
    "    \"pablocosta/bertabaporu-base-uncased\": \"BERTabaporu\",\n",
    "    'neuralmind/bert-base-portuguese-cased': \"BERT-pt\",\n",
    "    'melll-uff/bertweetbr': \"BERTweet-BR\",\n",
    "}\n",
    "\n",
    "for run in runs:\n",
    "    # Get model name\n",
    "    model_name = run.config[\"model\"]\n",
    "    # Get task \n",
    "    task = run.config[\"task\"]\n",
    "    # Get Macro f1 performance\n",
    "    try:\n",
    "        macro_f1 = run.summary[\"test_macro_f1\"]\n",
    "    except KeyError:\n",
    "        print(f\"Run {run.name} has no macro f1\")\n",
    "        print(run.summary)\n",
    "        continue\n",
    "\n",
    "    data.append({\n",
    "        \"model\": model_name,\n",
    "        \"task\": task,\n",
    "        \"macro_f1\": macro_f1,\n",
    "    })"
   ]
  },
  {
   "cell_type": "code",
   "execution_count": 3,
   "metadata": {},
   "outputs": [
    {
     "data": {
      "text/html": [
       "<div>\n",
       "<style scoped>\n",
       "    .dataframe tbody tr th:only-of-type {\n",
       "        vertical-align: middle;\n",
       "    }\n",
       "\n",
       "    .dataframe tbody tr th {\n",
       "        vertical-align: top;\n",
       "    }\n",
       "\n",
       "    .dataframe thead th {\n",
       "        text-align: right;\n",
       "    }\n",
       "</style>\n",
       "<table border=\"1\" class=\"dataframe\">\n",
       "  <thead>\n",
       "    <tr style=\"text-align: right;\">\n",
       "      <th>task</th>\n",
       "      <th>hate_speech</th>\n",
       "      <th>sentiment</th>\n",
       "    </tr>\n",
       "    <tr>\n",
       "      <th>model</th>\n",
       "      <th></th>\n",
       "      <th></th>\n",
       "    </tr>\n",
       "  </thead>\n",
       "  <tbody>\n",
       "    <tr>\n",
       "      <th>BERT-pt</th>\n",
       "      <td>64.1 +- 1.1</td>\n",
       "      <td>70.0 +- 0.3</td>\n",
       "    </tr>\n",
       "    <tr>\n",
       "      <th>BERTabaporu</th>\n",
       "      <td>70.3 +- 3.3</td>\n",
       "      <td>73.8 +- 0.4</td>\n",
       "    </tr>\n",
       "    <tr>\n",
       "      <th>BERTweet-BR</th>\n",
       "      <td>55.6 +- 5.5</td>\n",
       "      <td>75.3 +- 0.5</td>\n",
       "    </tr>\n",
       "    <tr>\n",
       "      <th>RoBERTuito</th>\n",
       "      <td>70.0 +- 2.4</td>\n",
       "      <td>71.7 +- 0.4</td>\n",
       "    </tr>\n",
       "  </tbody>\n",
       "</table>\n",
       "</div>"
      ],
      "text/plain": [
       "task         hate_speech    sentiment\n",
       "model                                \n",
       "BERT-pt      64.1 +- 1.1  70.0 +- 0.3\n",
       "BERTabaporu  70.3 +- 3.3  73.8 +- 0.4\n",
       "BERTweet-BR  55.6 +- 5.5  75.3 +- 0.5\n",
       "RoBERTuito   70.0 +- 2.4  71.7 +- 0.4"
      ]
     },
     "execution_count": 3,
     "metadata": {},
     "output_type": "execute_result"
    }
   ],
   "source": [
    "import pandas as pd\n",
    "\n",
    "df = pd.DataFrame(data)\n",
    "\n",
    "df[\"model\"] = df[\"model\"].map(lambda x: renames[x])\n",
    "\n",
    "# Group by model and task\n",
    "\n",
    "grouped = df.groupby([\"task\", \"model\"])\n",
    "\n",
    "# Get mean macro f1 plus standard deviation in a single line with +- inbetween\n",
    "\n",
    "df_results = (grouped.mean() * 100).round(1).astype(str) + \" +- \" + (grouped.std() * 100).round(1).astype(str)\n",
    "\n",
    "df_results = df_results.unstack(\"task\")\n",
    "df_results.columns = df_results.columns.droplevel(0)\n",
    "\n",
    "df_results"
   ]
  },
  {
   "cell_type": "code",
   "execution_count": 11,
   "metadata": {},
   "outputs": [
    {
     "name": "stdout",
     "output_type": "stream",
     "text": [
      "| model       | sentiment   | hate_speech   |\n",
      "|:------------|:------------|:--------------|\n",
      "| BERT-pt     | 70.0 +- 0.3 | 64.1 +- 1.1   |\n",
      "| BERTabaporu | 73.8 +- 0.4 | 70.3 +- 3.3   |\n",
      "| BERTweet-BR | 75.3 +- 0.5 | 55.6 +- 5.5   |\n",
      "| RoBERTuito  | 71.7 +- 0.4 | 70.0 +- 2.4   |\n"
     ]
    }
   ],
   "source": [
    "print(df_results[[\"sentiment\", \"hate_speech\"]].to_markdown())"
   ]
  },
  {
   "cell_type": "code",
   "execution_count": 12,
   "metadata": {},
   "outputs": [
    {
     "data": {
      "text/html": [
       "<div>\n",
       "<style scoped>\n",
       "    .dataframe tbody tr th:only-of-type {\n",
       "        vertical-align: middle;\n",
       "    }\n",
       "\n",
       "    .dataframe tbody tr th {\n",
       "        vertical-align: top;\n",
       "    }\n",
       "\n",
       "    .dataframe thead th {\n",
       "        text-align: right;\n",
       "    }\n",
       "</style>\n",
       "<table border=\"1\" class=\"dataframe\">\n",
       "  <thead>\n",
       "    <tr style=\"text-align: right;\">\n",
       "      <th></th>\n",
       "      <th></th>\n",
       "      <th>mean macro f1</th>\n",
       "      <th>std macro f1</th>\n",
       "    </tr>\n",
       "    <tr>\n",
       "      <th>model</th>\n",
       "      <th>task</th>\n",
       "      <th></th>\n",
       "      <th></th>\n",
       "    </tr>\n",
       "  </thead>\n",
       "  <tbody>\n",
       "    <tr>\n",
       "      <th rowspan=\"2\" valign=\"top\">melll-uff/bertweetbr</th>\n",
       "      <th>hate_speech</th>\n",
       "      <td>55.641053</td>\n",
       "      <td>5.467568</td>\n",
       "    </tr>\n",
       "    <tr>\n",
       "      <th>sentiment</th>\n",
       "      <td>75.295410</td>\n",
       "      <td>0.486638</td>\n",
       "    </tr>\n",
       "    <tr>\n",
       "      <th rowspan=\"2\" valign=\"top\">neuralmind/bert-base-portuguese-cased</th>\n",
       "      <th>hate_speech</th>\n",
       "      <td>64.147000</td>\n",
       "      <td>1.099126</td>\n",
       "    </tr>\n",
       "    <tr>\n",
       "      <th>sentiment</th>\n",
       "      <td>69.973505</td>\n",
       "      <td>0.337301</td>\n",
       "    </tr>\n",
       "    <tr>\n",
       "      <th rowspan=\"2\" valign=\"top\">pablocosta/bertabaporu-base-uncased</th>\n",
       "      <th>hate_speech</th>\n",
       "      <td>70.310500</td>\n",
       "      <td>3.260516</td>\n",
       "    </tr>\n",
       "    <tr>\n",
       "      <th>sentiment</th>\n",
       "      <td>73.777885</td>\n",
       "      <td>0.404985</td>\n",
       "    </tr>\n",
       "    <tr>\n",
       "      <th rowspan=\"2\" valign=\"top\">pysentimiento/robertuito-base-uncased</th>\n",
       "      <th>hate_speech</th>\n",
       "      <td>69.953339</td>\n",
       "      <td>2.428643</td>\n",
       "    </tr>\n",
       "    <tr>\n",
       "      <th>sentiment</th>\n",
       "      <td>71.661114</td>\n",
       "      <td>0.427126</td>\n",
       "    </tr>\n",
       "  </tbody>\n",
       "</table>\n",
       "</div>"
      ],
      "text/plain": [
       "                                                   mean macro f1  std macro f1\n",
       "model                                 task                                    \n",
       "melll-uff/bertweetbr                  hate_speech      55.641053      5.467568\n",
       "                                      sentiment        75.295410      0.486638\n",
       "neuralmind/bert-base-portuguese-cased hate_speech      64.147000      1.099126\n",
       "                                      sentiment        69.973505      0.337301\n",
       "pablocosta/bertabaporu-base-uncased   hate_speech      70.310500      3.260516\n",
       "                                      sentiment        73.777885      0.404985\n",
       "pysentimiento/robertuito-base-uncased hate_speech      69.953339      2.428643\n",
       "                                      sentiment        71.661114      0.427126"
      ]
     },
     "execution_count": 12,
     "metadata": {},
     "output_type": "execute_result"
    }
   ],
   "source": [
    "mean_df = pd.DataFrame(data).groupby([\"model\", \"task\"]).mean()\n",
    "std_df = pd.DataFrame(data).groupby([\"model\", \"task\"]).std()\n",
    "\n",
    "# Concat mean and std\n",
    "df = pd.concat([mean_df, std_df], axis=1)\n",
    "\n",
    "df.columns = [\"mean macro f1\", \"std macro f1\"]\n",
    "\n",
    "df = df * 100\n",
    "\n",
    "df"
   ]
  },
  {
   "cell_type": "code",
   "execution_count": 14,
   "metadata": {},
   "outputs": [],
   "source": [
    "df.reset_index().to_csv(\"../data/results_pt.csv\", index=False)"
   ]
  },
  {
   "cell_type": "code",
   "execution_count": 15,
   "metadata": {},
   "outputs": [],
   "source": [
    "df = pd.read_csv(\"../data/results_pt.csv\").set_index([\"model\", \"task\"])"
   ]
  },
  {
   "cell_type": "code",
   "execution_count": 16,
   "metadata": {},
   "outputs": [
    {
     "data": {
      "text/plain": [
       "69.95333909988403"
      ]
     },
     "execution_count": 16,
     "metadata": {},
     "output_type": "execute_result"
    }
   ],
   "source": [
    "df.loc[(\"pysentimiento/robertuito-base-uncased\", \"hate_speech\"), \"mean macro f1\"]"
   ]
  },
  {
   "cell_type": "code",
   "execution_count": null,
   "metadata": {},
   "outputs": [],
   "source": []
  }
 ],
 "metadata": {
  "kernelspec": {
   "display_name": ".venv",
   "language": "python",
   "name": "python3"
  },
  "language_info": {
   "codemirror_mode": {
    "name": "ipython",
    "version": 3
   },
   "file_extension": ".py",
   "mimetype": "text/x-python",
   "name": "python",
   "nbconvert_exporter": "python",
   "pygments_lexer": "ipython3",
   "version": "3.8.16"
  },
  "orig_nbformat": 4,
  "vscode": {
   "interpreter": {
    "hash": "3fc79ed69e4c2b5a1db8fa17ebb1e82d66421519e5b018d314116a7b4cda9238"
   }
  }
 },
 "nbformat": 4,
 "nbformat_minor": 2
}
