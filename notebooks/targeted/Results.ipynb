{
 "cells": [
  {
   "attachments": {},
   "cell_type": "markdown",
   "metadata": {},
   "source": [
    "# Results\n",
    "\n",
    "In this notebook we explore the results of the experiments, which are stored in wandb"
   ]
  },
  {
   "cell_type": "code",
   "execution_count": 1,
   "metadata": {},
   "outputs": [],
   "source": [
    "# Get wandb api object\n",
    "import wandb\n",
    "\n",
    "api = wandb.Api()\n",
    "\n",
    "# Get all runs\n",
    "project = api.project(\"pysentimiento\")\n",
    "\n",
    "\n",
    "# Get all runs for sentiment and lang es\n",
    "runs = [r for r in api.runs(\"pysentimiento\", {\"config.task\": \"targeted_sa\"}) if not r.sweep]\n",
    "\n"
   ]
  },
  {
   "cell_type": "code",
   "execution_count": 2,
   "metadata": {},
   "outputs": [
    {
     "data": {
      "text/plain": [
       "275"
      ]
     },
     "execution_count": 2,
     "metadata": {},
     "output_type": "execute_result"
    }
   ],
   "source": [
    "len(runs)"
   ]
  },
  {
   "attachments": {},
   "cell_type": "markdown",
   "metadata": {},
   "source": [
    "## Spanish results"
   ]
  },
  {
   "cell_type": "code",
   "execution_count": 3,
   "metadata": {},
   "outputs": [
    {
     "name": "stdout",
     "output_type": "stream",
     "text": [
      "Skipping pysentimiento/robertuito-sentiment-analysis targeted_sa because it does not have all metrics\n",
      "'test_pos_f1'\n",
      "Skipping pysentimiento/roberta-es-sentiment_untargeted targeted_sa because it does not have all metrics\n",
      "'test_pos_f1'\n",
      "Skipping PlanTL-GOB-ES/roberta-base-bne_untargeted targeted_sa because it does not have all metrics\n",
      "'test_pos_f1'\n",
      "Skipping dccuchile/bert-base-spanish-wwm-cased_untargeted targeted_sa because it does not have all metrics\n",
      "'test_pos_f1'\n",
      "Skipping pysentimiento/robertuito-base-uncased_untargeted targeted_sa because it does not have all metrics\n",
      "'test_pos_f1'\n",
      "Skipping dccuchile/bert-base-spanish-wwm-cased targeted_sa because it does not have all metrics\n",
      "'test_pos_f1'\n",
      "Skipping mrm8488/electricidad-base-discriminator targeted_sa because it does not have all metrics\n",
      "'test_pos_f1'\n",
      "Skipping dccuchile/bert-base-spanish-wwm-cased targeted_sa because it does not have all metrics\n",
      "'test_pos_f1'\n",
      "Skipping pysentimiento/robertuito-base-uncased targeted_sa because it does not have all metrics\n",
      "'test_pos_f1'\n",
      "Skipping pysentimiento/robertuito-base-uncased targeted_sa because it does not have all metrics\n",
      "'test_pos_f1'\n",
      "Skipping PlanTL-GOB-ES/roberta-base-bne targeted_sa because it does not have all metrics\n",
      "'test_pos_f1'\n",
      "Skipping dccuchile/bert-base-spanish-wwm-cased targeted_sa because it does not have all metrics\n",
      "'test_pos_f1'\n",
      "Skipping dccuchile/bert-base-spanish-wwm-cased targeted_sa because it does not have all metrics\n",
      "'test_pos_f1'\n",
      "Skipping dccuchile/bert-base-spanish-wwm-cased targeted_sa because it does not have all metrics\n",
      "'test_pos_f1'\n"
     ]
    }
   ],
   "source": [
    "data = []\n",
    "\n",
    "renames = {\n",
    "    \"PlanTL-GOB-ES/roberta-base-bne\": \"roberta\",\n",
    "    \"bertin-project/bertin-roberta-base-spanish\": \"bertin\",\n",
    "    \"dccuchile/bert-base-spanish-wwm-cased\": \"beto\",\n",
    "    \"mrm8488/electricidad-base-discriminator\": \"electricidad\",\n",
    "    \"pysentimiento/robertuito-base-uncased\": \"robertuito\",\n",
    "    \"pysentimiento/robertuito-sentiment-analysis\": \"robertuito-sentiment\",\n",
    "    \"pysentimiento/roberta-es-sentiment\": \"roberta-sentiment\",\n",
    "}\n",
    "\n",
    "for run in runs:\n",
    "    # Get model name\n",
    "    model_name = run.config[\"model\"]\n",
    "    # Get task \n",
    "    task = run.config[\"task\"]\n",
    "    # Get Macro f1 performance\n",
    "    try:\n",
    "        pos_f1 = run.summary[\"test_pos_f1\"]\n",
    "        neg_f1 = run.summary[\"test_neg_f1\"]\n",
    "        neu_f1 = run.summary[\"test_neu_f1\"]\n",
    "        macro_f1 = run.summary[\"test_macro_f1\"]\n",
    "    except KeyError as e:\n",
    "        print(f\"Skipping {model_name} {task} because it does not have all metrics\")\n",
    "        print(e)\n",
    "        continue\n",
    "    data.append({\n",
    "        \"model\": model_name,\n",
    "        \"macro_f1\": macro_f1,\n",
    "        \"pos_f1\": pos_f1,\n",
    "        \"neg_f1\": neg_f1,\n",
    "        \"neu_f1\": neu_f1,\n",
    "    })"
   ]
  },
  {
   "cell_type": "code",
   "execution_count": 4,
   "metadata": {},
   "outputs": [
    {
     "data": {
      "text/plain": [
       "261"
      ]
     },
     "execution_count": 4,
     "metadata": {},
     "output_type": "execute_result"
    }
   ],
   "source": [
    "len(data)"
   ]
  },
  {
   "cell_type": "code",
   "execution_count": 5,
   "metadata": {},
   "outputs": [
    {
     "data": {
      "text/html": [
       "<div>\n",
       "<style scoped>\n",
       "    .dataframe tbody tr th:only-of-type {\n",
       "        vertical-align: middle;\n",
       "    }\n",
       "\n",
       "    .dataframe tbody tr th {\n",
       "        vertical-align: top;\n",
       "    }\n",
       "\n",
       "    .dataframe thead th {\n",
       "        text-align: right;\n",
       "    }\n",
       "</style>\n",
       "<table border=\"1\" class=\"dataframe\">\n",
       "  <thead>\n",
       "    <tr style=\"text-align: right;\">\n",
       "      <th></th>\n",
       "      <th>pos_f1</th>\n",
       "      <th>neg_f1</th>\n",
       "      <th>neu_f1</th>\n",
       "      <th>macro_f1</th>\n",
       "    </tr>\n",
       "    <tr>\n",
       "      <th>model</th>\n",
       "      <th></th>\n",
       "      <th></th>\n",
       "      <th></th>\n",
       "      <th></th>\n",
       "    </tr>\n",
       "  </thead>\n",
       "  <tbody>\n",
       "    <tr>\n",
       "      <th>bertin</th>\n",
       "      <td>67.3 +- 5.6</td>\n",
       "      <td>63.6 +- 5.5</td>\n",
       "      <td>58.0 +- 5.5</td>\n",
       "      <td>63.0 +- 4.7</td>\n",
       "    </tr>\n",
       "    <tr>\n",
       "      <th>bertin (untargeted)</th>\n",
       "      <td>68.6 +- 3.6</td>\n",
       "      <td>65.3 +- 4.5</td>\n",
       "      <td>63.2 +- 4.6</td>\n",
       "      <td>65.7 +- 3.3</td>\n",
       "    </tr>\n",
       "    <tr>\n",
       "      <th>beto</th>\n",
       "      <td>73.8 +- 2.1</td>\n",
       "      <td>72.9 +- 3.3</td>\n",
       "      <td>65.9 +- 4.5</td>\n",
       "      <td>70.9 +- 2.3</td>\n",
       "    </tr>\n",
       "    <tr>\n",
       "      <th>beto (untargeted)</th>\n",
       "      <td>70.7 +- 3.7</td>\n",
       "      <td>66.9 +- 4.4</td>\n",
       "      <td>64.4 +- 3.8</td>\n",
       "      <td>67.3 +- 3.1</td>\n",
       "    </tr>\n",
       "    <tr>\n",
       "      <th>electricidad</th>\n",
       "      <td>67.3 +- 1.3</td>\n",
       "      <td>63.1 +- 6.0</td>\n",
       "      <td>55.2 +- 4.9</td>\n",
       "      <td>61.9 +- 2.7</td>\n",
       "    </tr>\n",
       "    <tr>\n",
       "      <th>electricidad (untargeted)</th>\n",
       "      <td>68.0 +- 2.8</td>\n",
       "      <td>61.4 +- 5.5</td>\n",
       "      <td>59.3 +- 3.5</td>\n",
       "      <td>62.9 +- 3.0</td>\n",
       "    </tr>\n",
       "    <tr>\n",
       "      <th>roberta</th>\n",
       "      <td>75.3 +- 3.9</td>\n",
       "      <td>74.2 +- 2.9</td>\n",
       "      <td>68.5 +- 4.7</td>\n",
       "      <td>72.7 +- 2.6</td>\n",
       "    </tr>\n",
       "    <tr>\n",
       "      <th>roberta (untargeted)</th>\n",
       "      <td>72.3 +- 3.5</td>\n",
       "      <td>68.6 +- 4.5</td>\n",
       "      <td>66.8 +- 4.0</td>\n",
       "      <td>69.3 +- 2.9</td>\n",
       "    </tr>\n",
       "    <tr>\n",
       "      <th>roberta-sentiment</th>\n",
       "      <td>75.9 +- 1.5</td>\n",
       "      <td>74.8 +- 3.3</td>\n",
       "      <td>67.0 +- 3.3</td>\n",
       "      <td>72.6 +- 2.0</td>\n",
       "    </tr>\n",
       "    <tr>\n",
       "      <th>roberta-sentiment (untargeted)</th>\n",
       "      <td>70.4 +- 2.7</td>\n",
       "      <td>68.3 +- 2.7</td>\n",
       "      <td>68.3 +- 3.9</td>\n",
       "      <td>69.0 +- 2.2</td>\n",
       "    </tr>\n",
       "    <tr>\n",
       "      <th>robertuito</th>\n",
       "      <td>75.0 +- 2.6</td>\n",
       "      <td>73.8 +- 2.3</td>\n",
       "      <td>67.8 +- 3.2</td>\n",
       "      <td>72.2 +- 1.4</td>\n",
       "    </tr>\n",
       "    <tr>\n",
       "      <th>robertuito (untargeted)</th>\n",
       "      <td>72.6 +- 2.6</td>\n",
       "      <td>68.9 +- 3.1</td>\n",
       "      <td>67.5 +- 4.0</td>\n",
       "      <td>69.7 +- 2.5</td>\n",
       "    </tr>\n",
       "    <tr>\n",
       "      <th>robertuito-sentiment</th>\n",
       "      <td>75.1 +- 3.2</td>\n",
       "      <td>74.4 +- 2.7</td>\n",
       "      <td>68.7 +- 3.0</td>\n",
       "      <td>72.7 +- 2.2</td>\n",
       "    </tr>\n",
       "    <tr>\n",
       "      <th>robertuito-sentiment (untargeted)</th>\n",
       "      <td>73.4 +- 2.5</td>\n",
       "      <td>69.8 +- 3.5</td>\n",
       "      <td>68.6 +- 3.3</td>\n",
       "      <td>70.6 +- 2.1</td>\n",
       "    </tr>\n",
       "  </tbody>\n",
       "</table>\n",
       "</div>"
      ],
      "text/plain": [
       "                                        pos_f1       neg_f1       neu_f1  \\\n",
       "model                                                                      \n",
       "bertin                             67.3 +- 5.6  63.6 +- 5.5  58.0 +- 5.5   \n",
       "bertin (untargeted)                68.6 +- 3.6  65.3 +- 4.5  63.2 +- 4.6   \n",
       "beto                               73.8 +- 2.1  72.9 +- 3.3  65.9 +- 4.5   \n",
       "beto (untargeted)                  70.7 +- 3.7  66.9 +- 4.4  64.4 +- 3.8   \n",
       "electricidad                       67.3 +- 1.3  63.1 +- 6.0  55.2 +- 4.9   \n",
       "electricidad (untargeted)          68.0 +- 2.8  61.4 +- 5.5  59.3 +- 3.5   \n",
       "roberta                            75.3 +- 3.9  74.2 +- 2.9  68.5 +- 4.7   \n",
       "roberta (untargeted)               72.3 +- 3.5  68.6 +- 4.5  66.8 +- 4.0   \n",
       "roberta-sentiment                  75.9 +- 1.5  74.8 +- 3.3  67.0 +- 3.3   \n",
       "roberta-sentiment (untargeted)     70.4 +- 2.7  68.3 +- 2.7  68.3 +- 3.9   \n",
       "robertuito                         75.0 +- 2.6  73.8 +- 2.3  67.8 +- 3.2   \n",
       "robertuito (untargeted)            72.6 +- 2.6  68.9 +- 3.1  67.5 +- 4.0   \n",
       "robertuito-sentiment               75.1 +- 3.2  74.4 +- 2.7  68.7 +- 3.0   \n",
       "robertuito-sentiment (untargeted)  73.4 +- 2.5  69.8 +- 3.5  68.6 +- 3.3   \n",
       "\n",
       "                                      macro_f1  \n",
       "model                                           \n",
       "bertin                             63.0 +- 4.7  \n",
       "bertin (untargeted)                65.7 +- 3.3  \n",
       "beto                               70.9 +- 2.3  \n",
       "beto (untargeted)                  67.3 +- 3.1  \n",
       "electricidad                       61.9 +- 2.7  \n",
       "electricidad (untargeted)          62.9 +- 3.0  \n",
       "roberta                            72.7 +- 2.6  \n",
       "roberta (untargeted)               69.3 +- 2.9  \n",
       "roberta-sentiment                  72.6 +- 2.0  \n",
       "roberta-sentiment (untargeted)     69.0 +- 2.2  \n",
       "robertuito                         72.2 +- 1.4  \n",
       "robertuito (untargeted)            69.7 +- 2.5  \n",
       "robertuito-sentiment               72.7 +- 2.2  \n",
       "robertuito-sentiment (untargeted)  70.6 +- 2.1  "
      ]
     },
     "execution_count": 5,
     "metadata": {},
     "output_type": "execute_result"
    }
   ],
   "source": [
    "import pandas as pd\n",
    "\n",
    "df = pd.DataFrame(data)\n",
    "\n",
    "# Group by model and task\n",
    "\n",
    "def rename_model(model_name):\n",
    "    if model_name.endswith(\"_untargeted\"):\n",
    "        model, _ = model_name.split(\"_untargeted\")\n",
    "        return f\"{renames[model]} (untargeted)\"\n",
    "    else:\n",
    "        return renames[model_name]\n",
    "\n",
    "df[\"model\"] = df[\"model\"].map(rename_model)\n",
    "grouped = df.groupby([\"model\"])\n",
    "\n",
    "# Get mean macro f1 plus standard deviation in a single line with +- inbetween\n",
    "\n",
    "df_results = (grouped.mean() * 100).round(1).astype(str) + \" +- \" + (grouped.std() * 100).round(1).astype(str)\n",
    "\n",
    "#df_results = df_results.unstack(\"task\")\n",
    "#df_results.columns = df_results.columns.droplevel(0)\n",
    "\n",
    "df_results[[\"pos_f1\", \"neg_f1\", \"neu_f1\", \"macro_f1\"]]"
   ]
  },
  {
   "cell_type": "code",
   "execution_count": 6,
   "metadata": {},
   "outputs": [
    {
     "name": "stdout",
     "output_type": "stream",
     "text": [
      "| model                             | macro_f1    | pos_f1      | neg_f1      | neu_f1      |\n",
      "|:----------------------------------|:------------|:------------|:------------|:------------|\n",
      "| bertin                            | 63.0 +- 4.7 | 67.3 +- 5.6 | 63.6 +- 5.5 | 58.0 +- 5.5 |\n",
      "| bertin (untargeted)               | 65.7 +- 3.3 | 68.6 +- 3.6 | 65.3 +- 4.5 | 63.2 +- 4.6 |\n",
      "| beto                              | 70.9 +- 2.3 | 73.8 +- 2.1 | 72.9 +- 3.3 | 65.9 +- 4.5 |\n",
      "| beto (untargeted)                 | 67.3 +- 3.1 | 70.7 +- 3.7 | 66.9 +- 4.4 | 64.4 +- 3.8 |\n",
      "| electricidad                      | 61.9 +- 2.7 | 67.3 +- 1.3 | 63.1 +- 6.0 | 55.2 +- 4.9 |\n",
      "| electricidad (untargeted)         | 62.9 +- 3.0 | 68.0 +- 2.8 | 61.4 +- 5.5 | 59.3 +- 3.5 |\n",
      "| roberta                           | 72.7 +- 2.6 | 75.3 +- 3.9 | 74.2 +- 2.9 | 68.5 +- 4.7 |\n",
      "| roberta (untargeted)              | 69.3 +- 2.9 | 72.3 +- 3.5 | 68.6 +- 4.5 | 66.8 +- 4.0 |\n",
      "| roberta-sentiment                 | 72.6 +- 2.0 | 75.9 +- 1.5 | 74.8 +- 3.3 | 67.0 +- 3.3 |\n",
      "| roberta-sentiment (untargeted)    | 69.0 +- 2.2 | 70.4 +- 2.7 | 68.3 +- 2.7 | 68.3 +- 3.9 |\n",
      "| robertuito                        | 72.2 +- 1.4 | 75.0 +- 2.6 | 73.8 +- 2.3 | 67.8 +- 3.2 |\n",
      "| robertuito (untargeted)           | 69.7 +- 2.5 | 72.6 +- 2.6 | 68.9 +- 3.1 | 67.5 +- 4.0 |\n",
      "| robertuito-sentiment              | 72.7 +- 2.2 | 75.1 +- 3.2 | 74.4 +- 2.7 | 68.7 +- 3.0 |\n",
      "| robertuito-sentiment (untargeted) | 70.6 +- 2.1 | 73.4 +- 2.5 | 69.8 +- 3.5 | 68.6 +- 3.3 |\n"
     ]
    }
   ],
   "source": [
    "print(df_results.to_markdown())"
   ]
  },
  {
   "cell_type": "code",
   "execution_count": 6,
   "metadata": {},
   "outputs": [
    {
     "name": "stdout",
     "output_type": "stream",
     "text": [
      "\\begin{tabular}{lllll}\n",
      "\\toprule\n",
      "{} &     macro\\_f1 &       pos\\_f1 &       neg\\_f1 &       neu\\_f1 \\\\\n",
      "model                             &              &              &              &              \\\\\n",
      "\\midrule\n",
      "bertin                            &  63.0 +- 4.7 &  67.3 +- 5.6 &  63.6 +- 5.5 &  58.0 +- 5.5 \\\\\n",
      "bertin (untargeted)               &  65.7 +- 3.3 &  68.6 +- 3.6 &  65.3 +- 4.5 &  63.2 +- 4.6 \\\\\n",
      "beto                              &  70.9 +- 2.3 &  73.8 +- 2.1 &  72.9 +- 3.3 &  65.9 +- 4.5 \\\\\n",
      "beto (untargeted)                 &  67.3 +- 3.1 &  70.7 +- 3.7 &  66.9 +- 4.4 &  64.4 +- 3.8 \\\\\n",
      "electricidad                      &  61.9 +- 2.7 &  67.3 +- 1.3 &  63.1 +- 6.0 &  55.2 +- 4.9 \\\\\n",
      "electricidad (untargeted)         &  62.9 +- 3.0 &  68.0 +- 2.8 &  61.4 +- 5.5 &  59.3 +- 3.5 \\\\\n",
      "roberta                           &  72.7 +- 2.6 &  75.3 +- 3.9 &  74.2 +- 2.9 &  68.5 +- 4.7 \\\\\n",
      "roberta (untargeted)              &  69.3 +- 2.9 &  72.3 +- 3.5 &  68.6 +- 4.5 &  66.8 +- 4.0 \\\\\n",
      "roberta-sentiment                 &  72.6 +- 2.0 &  75.9 +- 1.5 &  74.8 +- 3.3 &  67.0 +- 3.3 \\\\\n",
      "roberta-sentiment (untargeted)    &  69.0 +- 2.2 &  70.4 +- 2.7 &  68.3 +- 2.7 &  68.3 +- 3.9 \\\\\n",
      "robertuito                        &  72.2 +- 1.4 &  75.0 +- 2.6 &  73.8 +- 2.3 &  67.8 +- 3.2 \\\\\n",
      "robertuito (untargeted)           &  69.7 +- 2.5 &  72.6 +- 2.6 &  68.9 +- 3.1 &  67.5 +- 4.0 \\\\\n",
      "robertuito-sentiment              &  72.7 +- 2.2 &  75.1 +- 3.2 &  74.4 +- 2.7 &  68.7 +- 3.0 \\\\\n",
      "robertuito-sentiment (untargeted) &  70.6 +- 2.1 &  73.4 +- 2.5 &  69.8 +- 3.5 &  68.6 +- 3.3 \\\\\n",
      "\\bottomrule\n",
      "\\end{tabular}\n",
      "\n"
     ]
    },
    {
     "name": "stderr",
     "output_type": "stream",
     "text": [
      "/tmp/ipykernel_4174543/2638068283.py:1: FutureWarning: In future versions `DataFrame.to_latex` is expected to utilise the base implementation of `Styler.to_latex` for formatting and rendering. The arguments signature may therefore change. It is recommended instead to use `DataFrame.style.to_latex` which also contains additional functionality.\n",
      "  print(df_results.to_latex())\n"
     ]
    }
   ],
   "source": [
    "print(df_results.to_latex())"
   ]
  },
  {
   "cell_type": "markdown",
   "metadata": {},
   "source": [
    "## Statistical tests"
   ]
  },
  {
   "cell_type": "code",
   "execution_count": 54,
   "metadata": {},
   "outputs": [
    {
     "name": "stdout",
     "output_type": "stream",
     "text": [
      "================================================================================\n",
      "roberta\n",
      "================================================================================\n",
      "bertin\n",
      "================================================================================\n",
      "beto\n",
      "================================================================================\n",
      "electricidad\n",
      "================================================================================\n",
      "robertuito\n"
     ]
    },
    {
     "data": {
      "text/html": [
       "<div>\n",
       "<style scoped>\n",
       "    .dataframe tbody tr th:only-of-type {\n",
       "        vertical-align: middle;\n",
       "    }\n",
       "\n",
       "    .dataframe tbody tr th {\n",
       "        vertical-align: top;\n",
       "    }\n",
       "\n",
       "    .dataframe thead th {\n",
       "        text-align: right;\n",
       "    }\n",
       "</style>\n",
       "<table border=\"1\" class=\"dataframe\">\n",
       "  <thead>\n",
       "    <tr style=\"text-align: right;\">\n",
       "      <th>metric</th>\n",
       "      <th>macro_f1</th>\n",
       "      <th>neg_f1</th>\n",
       "      <th>neu_f1</th>\n",
       "      <th>pos_f1</th>\n",
       "    </tr>\n",
       "    <tr>\n",
       "      <th>model</th>\n",
       "      <th></th>\n",
       "      <th></th>\n",
       "      <th></th>\n",
       "      <th></th>\n",
       "    </tr>\n",
       "  </thead>\n",
       "  <tbody>\n",
       "    <tr>\n",
       "      <th>bertin</th>\n",
       "      <td>0.962951</td>\n",
       "      <td>0.932949</td>\n",
       "      <td>0.962951</td>\n",
       "      <td>0.930536</td>\n",
       "    </tr>\n",
       "    <tr>\n",
       "      <th>beto</th>\n",
       "      <td>0.000362</td>\n",
       "      <td>0.000107</td>\n",
       "      <td>0.051242</td>\n",
       "      <td>0.005011</td>\n",
       "    </tr>\n",
       "    <tr>\n",
       "      <th>electricidad</th>\n",
       "      <td>0.931564</td>\n",
       "      <td>0.398598</td>\n",
       "      <td>0.962951</td>\n",
       "      <td>0.930536</td>\n",
       "    </tr>\n",
       "    <tr>\n",
       "      <th>roberta</th>\n",
       "      <td>0.002362</td>\n",
       "      <td>0.000826</td>\n",
       "      <td>0.113422</td>\n",
       "      <td>0.011662</td>\n",
       "    </tr>\n",
       "    <tr>\n",
       "      <th>robertuito</th>\n",
       "      <td>0.003297</td>\n",
       "      <td>0.000330</td>\n",
       "      <td>0.743923</td>\n",
       "      <td>0.019677</td>\n",
       "    </tr>\n",
       "  </tbody>\n",
       "</table>\n",
       "</div>"
      ],
      "text/plain": [
       "metric        macro_f1    neg_f1    neu_f1    pos_f1\n",
       "model                                               \n",
       "bertin        0.962951  0.932949  0.962951  0.930536\n",
       "beto          0.000362  0.000107  0.051242  0.005011\n",
       "electricidad  0.931564  0.398598  0.962951  0.930536\n",
       "roberta       0.002362  0.000826  0.113422  0.011662\n",
       "robertuito    0.003297  0.000330  0.743923  0.019677"
      ]
     },
     "execution_count": 54,
     "metadata": {},
     "output_type": "execute_result"
    }
   ],
   "source": [
    "import scipy.stats\n",
    "\n",
    "\n",
    "pvals = []\n",
    "\n",
    "for model_name in renames.values():\n",
    "    print(\"=\" * 80)\n",
    "    print(model_name)\n",
    "\n",
    "    untargeted_model_name = f\"{model_name} (untargeted)\"\n",
    "\n",
    "    targeted_results = df[df[\"model\"] == model_name]\n",
    "    untargeted_results = df[df[\"model\"] == untargeted_model_name]\n",
    "\n",
    "    # Perform u-test for each metric\n",
    "\n",
    "    columns = [\"pos_f1\", \"neg_f1\", \"neu_f1\", \"macro_f1\"]\n",
    "    \n",
    "    for col in columns:\n",
    "        pval = scipy.stats.mannwhitneyu(\n",
    "            x=targeted_results[col].values,\n",
    "            y=untargeted_results[col].values,\n",
    "            alternative=\"greater\"\n",
    "        )\n",
    "        pvals.append((model_name, col, pval.pvalue))\n",
    "\n",
    "df_pvals = pd.DataFrame(pvals, columns=[\"model\", \"metric\", \"pvalue\"])\n",
    "\n",
    "#Benjamini-Hochberg correction\n",
    "from statsmodels.stats import multitest\n",
    "\n",
    "\n",
    "df_pvals[\"pvalue\"] = multitest.multipletests(list(df_pvals[\"pvalue\"]), method=\"fdr_bh\")[1]\n",
    "\n",
    "# Make the metrics the columns\n",
    "df_pvals = df_pvals.pivot(index=\"model\", columns=\"metric\", values=\"pvalue\")\n",
    "\n",
    "\n",
    "\n",
    "\n",
    "df_pvals\n"
   ]
  },
  {
   "cell_type": "code",
   "execution_count": 53,
   "metadata": {},
   "outputs": [
    {
     "data": {
      "text/plain": [
       "array([1.16619809e-02, 8.26346515e-04, 1.13421654e-01, 2.36159383e-03,\n",
       "       9.30536131e-01, 9.32949404e-01, 9.62951259e-01, 9.62951259e-01,\n",
       "       5.01079868e-03, 1.06859427e-04, 5.12416000e-02, 3.62359600e-04,\n",
       "       9.30536131e-01, 3.98598049e-01, 9.62951259e-01, 9.31564322e-01,\n",
       "       1.96771363e-02, 3.29521701e-04, 7.43922982e-01, 3.29749677e-03])"
      ]
     },
     "execution_count": 53,
     "metadata": {},
     "output_type": "execute_result"
    }
   ],
   "source": []
  },
  {
   "cell_type": "code",
   "execution_count": null,
   "metadata": {},
   "outputs": [],
   "source": []
  }
 ],
 "metadata": {
  "kernelspec": {
   "display_name": ".venv",
   "language": "python",
   "name": "python3"
  },
  "language_info": {
   "codemirror_mode": {
    "name": "ipython",
    "version": 3
   },
   "file_extension": ".py",
   "mimetype": "text/x-python",
   "name": "python",
   "nbconvert_exporter": "python",
   "pygments_lexer": "ipython3",
   "version": "3.8.16"
  },
  "orig_nbformat": 4,
  "vscode": {
   "interpreter": {
    "hash": "3fc79ed69e4c2b5a1db8fa17ebb1e82d66421519e5b018d314116a7b4cda9238"
   }
  }
 },
 "nbformat": 4,
 "nbformat_minor": 2
}
