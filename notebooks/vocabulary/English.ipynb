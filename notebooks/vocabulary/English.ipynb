{
 "cells": [
  {
   "cell_type": "code",
   "execution_count": 16,
   "metadata": {},
   "outputs": [
    {
     "name": "stdout",
     "output_type": "stream",
     "text": [
      "The autoreload extension is already loaded. To reload it, use:\n",
      "  %reload_ext autoreload\n"
     ]
    }
   ],
   "source": [
    "%load_ext autoreload\n",
    "%autoreload 2\n",
    "import importlib\n",
    "\n",
    "from pysentimiento.hate import load_datasets as load_hate\n",
    "from pysentimiento.tass import load_datasets as load_sentiment\n",
    "from pysentimiento.emotion import load_datasets as load_emotion\n",
    "from pysentimiento.irony import load_datasets as load_irony\n",
    "from transformers import AutoTokenizer\n",
    "\n",
    "tasks = {\n",
    "    \"hate\": load_hate,\n",
    "    \"sentiment\": load_sentiment,\n",
    "    \"emotion\": load_emotion,\n",
    "    \"irony\": load_irony,\n",
    "}\n",
    "\n",
    "tokenizers = {\n",
    "    \"beto_uncased\" : AutoTokenizer.from_pretrained(\"dccuchile/bert-base-spanish-wwm-uncased\"),\n",
    "    \"beto_cased\" : AutoTokenizer.from_pretrained(\"dccuchile/bert-base-spanish-wwm-cased\"),\n",
    "    \"roberta\" : AutoTokenizer.from_pretrained(\"BSC-TeMU/roberta-base-bne\"),\n",
    "    \"bertin\" : AutoTokenizer.from_pretrained(\"bertin-project/bertin-roberta-base-spanish\"),\n",
    "    \"robertuito_cased\" : AutoTokenizer.from_pretrained(\"pysentimiento/robertuito-base-cased\"),\n",
    "    \"robertuito_uncased\" : AutoTokenizer.from_pretrained(\"pysentimiento/robertuito-base-uncased\"),\n",
    "    \"robertuito_deacc\" : AutoTokenizer.from_pretrained(\"pysentimiento/robertuito-base-deacc\"),\n",
    "}\n"
   ]
  },
  {
   "cell_type": "code",
   "execution_count": 19,
   "metadata": {},
   "outputs": [
    {
     "name": "stderr",
     "output_type": "stream",
     "text": [
      "INFO:pysentimiento:Train path = /content/drive/MyDrive/projects/pysentimiento/data/hate/hateval2019_es_train.csv\n",
      "INFO:pysentimiento:Dev path = /content/drive/MyDrive/projects/pysentimiento/data/hate/hateval2019_es_dev.csv\n",
      "INFO:pysentimiento:Test path = /content/drive/MyDrive/projects/pysentimiento/data/hate/hateval2019_es_test.csv\n"
     ]
    },
    {
     "name": "stdout",
     "output_type": "stream",
     "text": [
      "Task: hate\n",
      "Task: sentiment\n",
      "4802 2443 7264\n",
      "Task: emotion\n",
      "Task: irony\n"
     ]
    }
   ],
   "source": [
    "import pandas as pd\n",
    "\n",
    "df = pd.DataFrame()\n",
    "for task, load_datasets in tasks.items():\n",
    "    print(f\"Task: {task}\")\n",
    "    splits = load_datasets(lang=\"es\")\n",
    "    dataset = pd.concat([x.to_pandas() for x in splits])\n",
    "    dataset[\"task\"] = task.upper()\n",
    "    df = pd.concat([df, dataset.loc[:, [\"text\", \"task\"]]])"
   ]
  },
  {
   "cell_type": "code",
   "execution_count": 20,
   "metadata": {},
   "outputs": [],
   "source": [
    "# Les resto 2 por los tokens iniciales y finales\n",
    "\n",
    "args = {\n",
    "    \"truncation\": True,\n",
    "    \"max_length\": 128,\n",
    "}\n",
    "\n",
    "for tok_name, tokenizer in tokenizers.items():\n",
    "    df[tok_name] = [sum(x) - 2 for x in tokenizer(list(df[\"text\"].values), **args)[\"attention_mask\"]]"
   ]
  },
  {
   "cell_type": "code",
   "execution_count": 52,
   "metadata": {},
   "outputs": [
    {
     "data": {
      "image/png": "[encoded data removed]",
      "text/plain": [
       "<Figure size 864x432 with 1 Axes>"
      ]
     },
     "metadata": {
      "needs_background": "light"
     },
     "output_type": "display_data"
    }
   ],
   "source": [
    "import seaborn as sns\n",
    "import matplotlib.pyplot as plt\n",
    "\n",
    "melted_df = df.melt(id_vars=[\"task\"],\n",
    "    value_vars=tokenizers.keys(), var_name=\"tokenizer\", value_name=\"length\")\n",
    "\n",
    "plt.figure(figsize=(12, 6))\n",
    "\n",
    "sns.barplot(\n",
    "    x=\"task\", y=\"length\", hue=\"tokenizer\", data=melted_df, ci=95, palette=\"colorblind\")\n",
    "\n",
    "plt.xlabel(\"Task\")\n",
    "plt.ylabel(\"Number of tokens per instance\")\n",
    "plt.legend(loc=\"lower left\")\n",
    "plt.savefig(\"spanish_token_lengths.pdf\", bbox_inches=\"tight\")"
   ]
  },
  {
   "cell_type": "code",
   "execution_count": 38,
   "metadata": {},
   "outputs": [
    {
     "data": {
      "text/html": [
       "<div>\n",
       "<style scoped>\n",
       "    .dataframe tbody tr th:only-of-type {\n",
       "        vertical-align: middle;\n",
       "    }\n",
       "\n",
       "    .dataframe tbody tr th {\n",
       "        vertical-align: top;\n",
       "    }\n",
       "\n",
       "    .dataframe thead th {\n",
       "        text-align: right;\n",
       "    }\n",
       "</style>\n",
       "<table border=\"1\" class=\"dataframe\">\n",
       "  <thead>\n",
       "    <tr style=\"text-align: right;\">\n",
       "      <th></th>\n",
       "      <th></th>\n",
       "      <th>length</th>\n",
       "    </tr>\n",
       "    <tr>\n",
       "      <th>task</th>\n",
       "      <th>tokenizer</th>\n",
       "      <th></th>\n",
       "    </tr>\n",
       "  </thead>\n",
       "  <tbody>\n",
       "    <tr>\n",
       "      <th rowspan=\"7\" valign=\"top\">SENTIMENT</th>\n",
       "      <th>robertuito_deacc</th>\n",
       "      <td>7.6</td>\n",
       "    </tr>\n",
       "    <tr>\n",
       "      <th>robertuito_uncased</th>\n",
       "      <td>7.6</td>\n",
       "    </tr>\n",
       "    <tr>\n",
       "      <th>robertuito_cased</th>\n",
       "      <td>7.9</td>\n",
       "    </tr>\n",
       "    <tr>\n",
       "      <th>bertin</th>\n",
       "      <td>8.3</td>\n",
       "    </tr>\n",
       "    <tr>\n",
       "      <th>beto_uncased</th>\n",
       "      <td>8.4</td>\n",
       "    </tr>\n",
       "    <tr>\n",
       "      <th>roberta</th>\n",
       "      <td>8.4</td>\n",
       "    </tr>\n",
       "    <tr>\n",
       "      <th>beto_cased</th>\n",
       "      <td>8.8</td>\n",
       "    </tr>\n",
       "    <tr>\n",
       "      <th rowspan=\"2\" valign=\"top\">EMOTION</th>\n",
       "      <th>robertuito_deacc</th>\n",
       "      <td>16.3</td>\n",
       "    </tr>\n",
       "    <tr>\n",
       "      <th>robertuito_uncased</th>\n",
       "      <td>16.4</td>\n",
       "    </tr>\n",
       "    <tr>\n",
       "      <th rowspan=\"2\" valign=\"top\">HATE</th>\n",
       "      <th>robertuito_deacc</th>\n",
       "      <td>16.6</td>\n",
       "    </tr>\n",
       "    <tr>\n",
       "      <th>robertuito_uncased</th>\n",
       "      <td>16.7</td>\n",
       "    </tr>\n",
       "    <tr>\n",
       "      <th rowspan=\"2\" valign=\"top\">IRONY</th>\n",
       "      <th>robertuito_deacc</th>\n",
       "      <td>17.2</td>\n",
       "    </tr>\n",
       "    <tr>\n",
       "      <th>robertuito_uncased</th>\n",
       "      <td>17.4</td>\n",
       "    </tr>\n",
       "    <tr>\n",
       "      <th>HATE</th>\n",
       "      <th>beto_uncased</th>\n",
       "      <td>17.5</td>\n",
       "    </tr>\n",
       "    <tr>\n",
       "      <th rowspan=\"2\" valign=\"top\">EMOTION</th>\n",
       "      <th>robertuito_cased</th>\n",
       "      <td>17.7</td>\n",
       "    </tr>\n",
       "    <tr>\n",
       "      <th>beto_uncased</th>\n",
       "      <td>17.7</td>\n",
       "    </tr>\n",
       "    <tr>\n",
       "      <th rowspan=\"3\" valign=\"top\">HATE</th>\n",
       "      <th>robertuito_cased</th>\n",
       "      <td>17.9</td>\n",
       "    </tr>\n",
       "    <tr>\n",
       "      <th>roberta</th>\n",
       "      <td>18.1</td>\n",
       "    </tr>\n",
       "    <tr>\n",
       "      <th>bertin</th>\n",
       "      <td>18.1</td>\n",
       "    </tr>\n",
       "    <tr>\n",
       "      <th rowspan=\"2\" valign=\"top\">IRONY</th>\n",
       "      <th>beto_uncased</th>\n",
       "      <td>18.1</td>\n",
       "    </tr>\n",
       "    <tr>\n",
       "      <th>robertuito_cased</th>\n",
       "      <td>18.2</td>\n",
       "    </tr>\n",
       "    <tr>\n",
       "      <th>HATE</th>\n",
       "      <th>beto_cased</th>\n",
       "      <td>19.1</td>\n",
       "    </tr>\n",
       "    <tr>\n",
       "      <th>EMOTION</th>\n",
       "      <th>bertin</th>\n",
       "      <td>19.1</td>\n",
       "    </tr>\n",
       "    <tr>\n",
       "      <th rowspan=\"2\" valign=\"top\">IRONY</th>\n",
       "      <th>bertin</th>\n",
       "      <td>19.2</td>\n",
       "    </tr>\n",
       "    <tr>\n",
       "      <th>roberta</th>\n",
       "      <td>19.3</td>\n",
       "    </tr>\n",
       "    <tr>\n",
       "      <th>EMOTION</th>\n",
       "      <th>roberta</th>\n",
       "      <td>19.4</td>\n",
       "    </tr>\n",
       "    <tr>\n",
       "      <th>IRONY</th>\n",
       "      <th>beto_cased</th>\n",
       "      <td>19.5</td>\n",
       "    </tr>\n",
       "    <tr>\n",
       "      <th>EMOTION</th>\n",
       "      <th>beto_cased</th>\n",
       "      <td>19.7</td>\n",
       "    </tr>\n",
       "  </tbody>\n",
       "</table>\n",
       "</div>"
      ],
      "text/plain": [
       "                              length\n",
       "task      tokenizer                 \n",
       "SENTIMENT robertuito_deacc       7.6\n",
       "          robertuito_uncased     7.6\n",
       "          robertuito_cased       7.9\n",
       "          bertin                 8.3\n",
       "          beto_uncased           8.4\n",
       "          roberta                8.4\n",
       "          beto_cased             8.8\n",
       "EMOTION   robertuito_deacc      16.3\n",
       "          robertuito_uncased    16.4\n",
       "HATE      robertuito_deacc      16.6\n",
       "          robertuito_uncased    16.7\n",
       "IRONY     robertuito_deacc      17.2\n",
       "          robertuito_uncased    17.4\n",
       "HATE      beto_uncased          17.5\n",
       "EMOTION   robertuito_cased      17.7\n",
       "          beto_uncased          17.7\n",
       "HATE      robertuito_cased      17.9\n",
       "          roberta               18.1\n",
       "          bertin                18.1\n",
       "IRONY     beto_uncased          18.1\n",
       "          robertuito_cased      18.2\n",
       "HATE      beto_cased            19.1\n",
       "EMOTION   bertin                19.1\n",
       "IRONY     bertin                19.2\n",
       "          roberta               19.3\n",
       "EMOTION   roberta               19.4\n",
       "IRONY     beto_cased            19.5\n",
       "EMOTION   beto_cased            19.7"
      ]
     },
     "execution_count": 38,
     "metadata": {},
     "output_type": "execute_result"
    }
   ],
   "source": [
    "mean_df = melted_df.groupby([\"task\", \"tokenizer\"]).mean().sort_values(by=\"length\").round(2)\n",
    "std_df = melted_df.groupby([\"task\", \"tokenizer\"]).std().sort_values(by=\"length\").round(1)\n",
    "\n",
    "std_df"
   ]
  },
  {
   "cell_type": "code",
   "execution_count": 54,
   "metadata": {},
   "outputs": [
    {
     "name": "stdout",
     "output_type": "stream",
     "text": [
      "\\begin{tabular}{lllll}\n",
      "\\toprule\n",
      "{} & \\multicolumn{4}{l}{length} \\\\\n",
      "task &       EMOTION &          HATE &         IRONY &    SENTIMENT \\\\\n",
      "tokenizer          &               &               &               &              \\\\\n",
      "\\midrule\n",
      "bertin             &  36.68 ± 19.1 &  29.56 ± 18.1 &  31.87 ± 19.2 &  18.33 ± 8.3 \\\\\n",
      "beto\\_cased         &  41.55 ± 19.7 &   32.4 ± 19.1 &  34.92 ± 19.5 &  20.66 ± 8.8 \\\\\n",
      "beto\\_uncased       &  35.94 ± 17.7 &  30.06 ± 17.5 &  33.14 ± 18.1 &  19.95 ± 8.4 \\\\\n",
      "roberta            &  39.02 ± 19.4 &  31.67 ± 18.1 &  34.21 ± 19.3 &  20.68 ± 8.4 \\\\\n",
      "robertuito\\_cased   &  37.33 ± 17.7 &  29.51 ± 17.9 &  32.71 ± 18.2 &  18.64 ± 7.9 \\\\\n",
      "robertuito\\_deacc   &  33.31 ± 16.3 &  27.39 ± 16.6 &   30.7 ± 17.2 &  17.92 ± 7.6 \\\\\n",
      "robertuito\\_uncased &   33.5 ± 16.4 &   27.7 ± 16.7 &  31.12 ± 17.4 &  18.08 ± 7.6 \\\\\n",
      "\\bottomrule\n",
      "\\end{tabular}\n",
      "\n"
     ]
    }
   ],
   "source": [
    "pepe_df = mean_df.astype(str) + \" ± \" + std_df.astype(str)\n",
    "\n",
    "print(pepe_df.unstack(0).to_latex())"
   ]
  },
  {
   "cell_type": "code",
   "execution_count": 46,
   "metadata": {},
   "outputs": [
    {
     "data": {
      "text/plain": [
       "'\\\\begin{tabular}{lllll}\\n\\\\toprule\\n{} & \\\\multicolumn{4}{l}{length} \\\\\\\\\\ntask &       EMOTION &          HATE &         IRONY &    SENTIMENT \\\\\\\\\\ntokenizer          &               &               &               &              \\\\\\\\\\n\\\\midrule\\nbertin             &  36.68 ± 19.1 &  29.56 ± 18.1 &  31.87 ± 19.2 &  18.33 ± 8.3 \\\\\\\\\\nbeto\\\\_cased         &  41.55 ± 19.7 &   32.4 ± 19.1 &  34.92 ± 19.5 &  20.66 ± 8.8 \\\\\\\\\\nbeto\\\\_uncased       &  35.94 ± 17.7 &  30.06 ± 17.5 &  33.14 ± 18.1 &  19.95 ± 8.4 \\\\\\\\\\nroberta            &  39.02 ± 19.4 &  31.67 ± 18.1 &  34.21 ± 19.3 &  20.68 ± 8.4 \\\\\\\\\\nrobertuito\\\\_cased   &  37.33 ± 17.7 &  29.51 ± 17.9 &  32.71 ± 18.2 &  18.64 ± 7.9 \\\\\\\\\\nrobertuito\\\\_deacc   &  33.31 ± 16.3 &  27.39 ± 16.6 &   30.7 ± 17.2 &  17.92 ± 7.6 \\\\\\\\\\nrobertuito\\\\_uncased &   33.5 ± 16.4 &   27.7 ± 16.7 &  31.12 ± 17.4 &  18.08 ± 7.6 \\\\\\\\\\n\\\\bottomrule\\n\\\\end{tabular}\\n'"
      ]
     },
     "execution_count": 46,
     "metadata": {},
     "output_type": "execute_result"
    }
   ],
   "source": [
    "pepe_df = mean_df.astype(str) + \" ± \" + std_df.astype(str)\n",
    "\n",
    "pepe_df.unstack(0).to_latex()"
   ]
  },
  {
   "cell_type": "code",
   "execution_count": null,
   "metadata": {},
   "outputs": [],
   "source": []
  }
 ],
 "metadata": {
  "interpreter": {
   "hash": "d66fee0d28bd4ff973cb40954a12724f872a5e358c3d085cba51304a5945a0f3"
  },
  "kernelspec": {
   "display_name": "Python 3.7.12 64-bit ('finetune-vs-scratch-gHiQbun3-py3.7': poetry)",
   "name": "python3"
  },
  "language_info": {
   "codemirror_mode": {
    "name": "ipython",
    "version": 3
   },
   "file_extension": ".py",
   "mimetype": "text/x-python",
   "name": "python",
   "nbconvert_exporter": "python",
   "pygments_lexer": "ipython3",
   "version": "3.7.12"
  },
  "orig_nbformat": 4
 },
 "nbformat": 4,
 "nbformat_minor": 2
}
