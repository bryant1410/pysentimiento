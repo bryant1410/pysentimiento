{
 "cells": [
  {
   "cell_type": "code",
   "execution_count": 16,
   "metadata": {},
   "outputs": [
    {
     "name": "stdout",
     "output_type": "stream",
     "text": [
      "The autoreload extension is already loaded. To reload it, use:\n",
      "  %reload_ext autoreload\n"
     ]
    },
    {
     "name": "stderr",
     "output_type": "stream",
     "text": [
      "Special tokens have been added in the vocabulary, make sure the associated word embeddings are fine-tuned or trained.\n"
     ]
    }
   ],
   "source": [
    "%load_ext autoreload\n",
    "%autoreload 2\n",
    "import importlib\n",
    "\n",
    "from pysentimiento.lince.ner import load_datasets as load_ner\n",
    "from pysentimiento.lince.pos import load_datasets as load_pos\n",
    "from pysentimiento.lince.sentiment import load_datasets as load_sentiment\n",
    "from transformers import AutoTokenizer\n",
    "\n",
    "tasks = {\n",
    "    \"sentiment\": load_sentiment,\n",
    "    \"ner\": load_ner,\n",
    "    \"pos\": load_pos,\n",
    "}\n",
    "\n",
    "tokenizers = {\n",
    "    \"beto_uncased\" : AutoTokenizer.from_pretrained(\"dccuchile/bert-base-spanish-wwm-uncased\"),\n",
    "    \"xlm\" : AutoTokenizer.from_pretrained(\"xlm-roberta-base\"),\n",
    "    \"mbert\" : AutoTokenizer.from_pretrained(\"bert-base-multilingual-uncased\"),\n",
    "    \"bert\": AutoTokenizer.from_pretrained(\"bert-base-uncased\"),\n",
    "    \"bertweet\": AutoTokenizer.from_pretrained(\"vinai/bertweet-base\"),\n",
    "    \"robertuito_cased\" : AutoTokenizer.from_pretrained(\"pysentimiento/robertuito-base-cased\"),\n",
    "    \"robertuito_uncased\" : AutoTokenizer.from_pretrained(\"pysentimiento/robertuito-base-uncased\"),\n",
    "    \"robertuito_deacc\" : AutoTokenizer.from_pretrained(\"pysentimiento/robertuito-base-deacc\"),\n",
    "}\n"
   ]
  },
  {
   "cell_type": "code",
   "execution_count": 17,
   "metadata": {},
   "outputs": [
    {
     "name": "stdout",
     "output_type": "stream",
     "text": [
      "Task: sentiment\n"
     ]
    },
    {
     "name": "stderr",
     "output_type": "stream",
     "text": [
      "Reusing dataset lince (/root/.cache/huggingface/datasets/lince/sa_spaeng/1.0.0/10d41747f55f0849fa84ac579ea1acfa7df49aa2015b60426bc459c111b3d589)\n"
     ]
    },
    {
     "data": {
      "application/vnd.jupyter.widget-view+json": {
       "model_id": "c34f1a2a874e43f693c86c775bdaf4c5",
       "version_major": 2,
       "version_minor": 0
      },
      "text/plain": [
       "  0%|          | 0/3 [00:00<?, ?it/s]"
      ]
     },
     "metadata": {},
     "output_type": "display_data"
    },
    {
     "name": "stderr",
     "output_type": "stream",
     "text": [
      "Loading cached processed dataset at /root/.cache/huggingface/datasets/lince/sa_spaeng/1.0.0/10d41747f55f0849fa84ac579ea1acfa7df49aa2015b60426bc459c111b3d589/cache-029bff53c5a1fd47.arrow\n",
      "Loading cached processed dataset at /root/.cache/huggingface/datasets/lince/sa_spaeng/1.0.0/10d41747f55f0849fa84ac579ea1acfa7df49aa2015b60426bc459c111b3d589/cache-818d6ebd3452f42c.arrow\n",
      "Loading cached processed dataset at /root/.cache/huggingface/datasets/lince/sa_spaeng/1.0.0/10d41747f55f0849fa84ac579ea1acfa7df49aa2015b60426bc459c111b3d589/cache-419ab4c207a77fce.arrow\n",
      "Loading cached processed dataset at /root/.cache/huggingface/datasets/lince/sa_spaeng/1.0.0/10d41747f55f0849fa84ac579ea1acfa7df49aa2015b60426bc459c111b3d589/cache-53d17b0587842a60.arrow\n",
      "Loading cached processed dataset at /root/.cache/huggingface/datasets/lince/sa_spaeng/1.0.0/10d41747f55f0849fa84ac579ea1acfa7df49aa2015b60426bc459c111b3d589/cache-eb8144edb12d19a4.arrow\n",
      "Loading cached processed dataset at /root/.cache/huggingface/datasets/lince/sa_spaeng/1.0.0/10d41747f55f0849fa84ac579ea1acfa7df49aa2015b60426bc459c111b3d589/cache-e4ce36494780407e.arrow\n"
     ]
    },
    {
     "name": "stdout",
     "output_type": "stream",
     "text": [
      "Task: ner\n"
     ]
    },
    {
     "name": "stderr",
     "output_type": "stream",
     "text": [
      "Reusing dataset lince (/root/.cache/huggingface/datasets/lince/ner_spaeng/1.0.0/10d41747f55f0849fa84ac579ea1acfa7df49aa2015b60426bc459c111b3d589)\n"
     ]
    },
    {
     "data": {
      "application/vnd.jupyter.widget-view+json": {
       "model_id": "8ff3c7a0e7cf4dae9ad7cfe046f5ddc2",
       "version_major": 2,
       "version_minor": 0
      },
      "text/plain": [
       "  0%|          | 0/3 [00:00<?, ?it/s]"
      ]
     },
     "metadata": {},
     "output_type": "display_data"
    },
    {
     "name": "stderr",
     "output_type": "stream",
     "text": [
      "Loading cached processed dataset at /root/.cache/huggingface/datasets/lince/ner_spaeng/1.0.0/10d41747f55f0849fa84ac579ea1acfa7df49aa2015b60426bc459c111b3d589/cache-98e277271cd16b75.arrow\n",
      "Loading cached processed dataset at /root/.cache/huggingface/datasets/lince/ner_spaeng/1.0.0/10d41747f55f0849fa84ac579ea1acfa7df49aa2015b60426bc459c111b3d589/cache-8ff715c63222e434.arrow\n",
      "Loading cached processed dataset at /root/.cache/huggingface/datasets/lince/ner_spaeng/1.0.0/10d41747f55f0849fa84ac579ea1acfa7df49aa2015b60426bc459c111b3d589/cache-8b685d7fa06b5f0b.arrow\n",
      "Loading cached processed dataset at /root/.cache/huggingface/datasets/lince/ner_spaeng/1.0.0/10d41747f55f0849fa84ac579ea1acfa7df49aa2015b60426bc459c111b3d589/cache-55caa909a08bcd21.arrow\n",
      "Loading cached processed dataset at /root/.cache/huggingface/datasets/lince/ner_spaeng/1.0.0/10d41747f55f0849fa84ac579ea1acfa7df49aa2015b60426bc459c111b3d589/cache-b65994665b58bd1a.arrow\n",
      "Loading cached processed dataset at /root/.cache/huggingface/datasets/lince/ner_spaeng/1.0.0/10d41747f55f0849fa84ac579ea1acfa7df49aa2015b60426bc459c111b3d589/cache-4275eae55528e91d.arrow\n"
     ]
    },
    {
     "name": "stdout",
     "output_type": "stream",
     "text": [
      "Task: pos\n"
     ]
    },
    {
     "name": "stderr",
     "output_type": "stream",
     "text": [
      "Reusing dataset lince (/root/.cache/huggingface/datasets/lince/pos_spaeng/1.0.0/10d41747f55f0849fa84ac579ea1acfa7df49aa2015b60426bc459c111b3d589)\n"
     ]
    },
    {
     "data": {
      "application/vnd.jupyter.widget-view+json": {
       "model_id": "edbeecad483f45aeae990fa3526d31c7",
       "version_major": 2,
       "version_minor": 0
      },
      "text/plain": [
       "  0%|          | 0/3 [00:00<?, ?it/s]"
      ]
     },
     "metadata": {},
     "output_type": "display_data"
    },
    {
     "name": "stderr",
     "output_type": "stream",
     "text": [
      "Loading cached processed dataset at /root/.cache/huggingface/datasets/lince/pos_spaeng/1.0.0/10d41747f55f0849fa84ac579ea1acfa7df49aa2015b60426bc459c111b3d589/cache-135d204f96f66baa.arrow\n",
      "Loading cached processed dataset at /root/.cache/huggingface/datasets/lince/pos_spaeng/1.0.0/10d41747f55f0849fa84ac579ea1acfa7df49aa2015b60426bc459c111b3d589/cache-0ada48fff114da4c.arrow\n",
      "Loading cached processed dataset at /root/.cache/huggingface/datasets/lince/pos_spaeng/1.0.0/10d41747f55f0849fa84ac579ea1acfa7df49aa2015b60426bc459c111b3d589/cache-94a4a8128eaebf6a.arrow\n",
      "Loading cached processed dataset at /root/.cache/huggingface/datasets/lince/pos_spaeng/1.0.0/10d41747f55f0849fa84ac579ea1acfa7df49aa2015b60426bc459c111b3d589/cache-b25ee59dae025001.arrow\n",
      "Loading cached processed dataset at /root/.cache/huggingface/datasets/lince/pos_spaeng/1.0.0/10d41747f55f0849fa84ac579ea1acfa7df49aa2015b60426bc459c111b3d589/cache-7420b238145cf866.arrow\n",
      "Loading cached processed dataset at /root/.cache/huggingface/datasets/lince/pos_spaeng/1.0.0/10d41747f55f0849fa84ac579ea1acfa7df49aa2015b60426bc459c111b3d589/cache-014dc3657611e5ed.arrow\n",
      "Loading cached processed dataset at /root/.cache/huggingface/datasets/lince/pos_spaeng/1.0.0/10d41747f55f0849fa84ac579ea1acfa7df49aa2015b60426bc459c111b3d589/cache-ef7c906f24efde2b.arrow\n",
      "Loading cached processed dataset at /root/.cache/huggingface/datasets/lince/pos_spaeng/1.0.0/10d41747f55f0849fa84ac579ea1acfa7df49aa2015b60426bc459c111b3d589/cache-08034bcb53701a69.arrow\n",
      "Loading cached processed dataset at /root/.cache/huggingface/datasets/lince/pos_spaeng/1.0.0/10d41747f55f0849fa84ac579ea1acfa7df49aa2015b60426bc459c111b3d589/cache-d4e30e2a6e519a52.arrow\n"
     ]
    }
   ],
   "source": [
    "import pandas as pd\n",
    "\n",
    "df = pd.DataFrame()\n",
    "for task, load_datasets in tasks.items():\n",
    "    print(f\"Task: {task}\")\n",
    "    splits = load_datasets(lang=\"es\")\n",
    "    dataset = pd.concat([x.to_pandas() for x in splits])\n",
    "    dataset[\"task\"] = task.upper()\n",
    "    if \"text\" not in dataset.columns:\n",
    "        dataset[\"text\"] = dataset[\"words\"].apply(lambda x: \" \".join(x))\n",
    "    df = pd.concat([df, dataset.loc[:, [\"text\", \"task\"]]])"
   ]
  },
  {
   "cell_type": "code",
   "execution_count": 12,
   "metadata": {},
   "outputs": [],
   "source": [
    "# Les resto 2 por los tokens iniciales y finales\n",
    "\n",
    "args = {\n",
    "    \"truncation\": True,\n",
    "    \"max_length\": 128,\n",
    "}\n",
    "\n",
    "for tok_name, tokenizer in tokenizers.items():\n",
    "    df[tok_name] = [sum(x) - 2 for x in tokenizer(list(df[\"text\"].values), **args)[\"attention_mask\"]]"
   ]
  },
  {
   "cell_type": "code",
   "execution_count": 13,
   "metadata": {},
   "outputs": [
    {
     "data": {
      "text/plain": [
       "<matplotlib.legend.Legend at 0x7fc2e3580c50>"
      ]
     },
     "execution_count": 13,
     "metadata": {},
     "output_type": "execute_result"
    },
    {
     "data": {
      "image/png": "[encoded data removed]",
      "text/plain": [
       "<Figure size 864x432 with 1 Axes>"
      ]
     },
     "metadata": {
      "needs_background": "light"
     },
     "output_type": "display_data"
    }
   ],
   "source": [
    "import seaborn as sns\n",
    "import matplotlib.pyplot as plt\n",
    "\n",
    "melted_df = df.melt(\n",
    "    id_vars=[\"task\"], \n",
    "    value_vars=tokenizers.keys(), \n",
    "    var_name=\"tokenizer\", value_name=\"length\"\n",
    ")\n",
    "\n",
    "plt.figure(figsize=(12, 6))\n",
    "\n",
    "sns.barplot(x=\"task\", y=\"length\", hue=\"tokenizer\", data=melted_df, ci=95)\n",
    "\n",
    "plt.xlabel(\"Task\")\n",
    "plt.ylabel(\"Number of tokens per instance\")\n",
    "plt.legend(loc=\"lower left\")"
   ]
  },
  {
   "cell_type": "code",
   "execution_count": 18,
   "metadata": {},
   "outputs": [
    {
     "data": {
      "text/html": [
       "<div>\n",
       "<style scoped>\n",
       "    .dataframe tbody tr th:only-of-type {\n",
       "        vertical-align: middle;\n",
       "    }\n",
       "\n",
       "    .dataframe tbody tr th {\n",
       "        vertical-align: top;\n",
       "    }\n",
       "\n",
       "    .dataframe thead th {\n",
       "        text-align: right;\n",
       "    }\n",
       "</style>\n",
       "<table border=\"1\" class=\"dataframe\">\n",
       "  <thead>\n",
       "    <tr style=\"text-align: right;\">\n",
       "      <th></th>\n",
       "      <th></th>\n",
       "      <th>length</th>\n",
       "    </tr>\n",
       "    <tr>\n",
       "      <th>task</th>\n",
       "      <th>tokenizer</th>\n",
       "      <th></th>\n",
       "    </tr>\n",
       "  </thead>\n",
       "  <tbody>\n",
       "    <tr>\n",
       "      <th rowspan=\"8\" valign=\"top\">LOAD_POS</th>\n",
       "      <th>robertuito_deacc</th>\n",
       "      <td>6.8</td>\n",
       "    </tr>\n",
       "    <tr>\n",
       "      <th>robertuito_uncased</th>\n",
       "      <td>6.8</td>\n",
       "    </tr>\n",
       "    <tr>\n",
       "      <th>robertuito_cased</th>\n",
       "      <td>7.0</td>\n",
       "    </tr>\n",
       "    <tr>\n",
       "      <th>xlm</th>\n",
       "      <td>7.1</td>\n",
       "    </tr>\n",
       "    <tr>\n",
       "      <th>mbert</th>\n",
       "      <td>7.6</td>\n",
       "    </tr>\n",
       "    <tr>\n",
       "      <th>bertweet</th>\n",
       "      <td>7.7</td>\n",
       "    </tr>\n",
       "    <tr>\n",
       "      <th>bert</th>\n",
       "      <td>8.4</td>\n",
       "    </tr>\n",
       "    <tr>\n",
       "      <th>beto_uncased</th>\n",
       "      <td>8.7</td>\n",
       "    </tr>\n",
       "    <tr>\n",
       "      <th rowspan=\"6\" valign=\"top\">NER</th>\n",
       "      <th>robertuito_deacc</th>\n",
       "      <td>9.0</td>\n",
       "    </tr>\n",
       "    <tr>\n",
       "      <th>robertuito_uncased</th>\n",
       "      <td>9.0</td>\n",
       "    </tr>\n",
       "    <tr>\n",
       "      <th>robertuito_cased</th>\n",
       "      <td>9.7</td>\n",
       "    </tr>\n",
       "    <tr>\n",
       "      <th>mbert</th>\n",
       "      <td>9.7</td>\n",
       "    </tr>\n",
       "    <tr>\n",
       "      <th>beto_uncased</th>\n",
       "      <td>10.1</td>\n",
       "    </tr>\n",
       "    <tr>\n",
       "      <th>xlm</th>\n",
       "      <td>10.6</td>\n",
       "    </tr>\n",
       "    <tr>\n",
       "      <th rowspan=\"2\" valign=\"top\">SENTIMENT</th>\n",
       "      <th>robertuito_deacc</th>\n",
       "      <td>11.0</td>\n",
       "    </tr>\n",
       "    <tr>\n",
       "      <th>robertuito_uncased</th>\n",
       "      <td>11.1</td>\n",
       "    </tr>\n",
       "    <tr>\n",
       "      <th>NER</th>\n",
       "      <th>bertweet</th>\n",
       "      <td>11.3</td>\n",
       "    </tr>\n",
       "    <tr>\n",
       "      <th>SENTIMENT</th>\n",
       "      <th>robertuito_cased</th>\n",
       "      <td>11.6</td>\n",
       "    </tr>\n",
       "    <tr>\n",
       "      <th>NER</th>\n",
       "      <th>bert</th>\n",
       "      <td>12.0</td>\n",
       "    </tr>\n",
       "    <tr>\n",
       "      <th rowspan=\"5\" valign=\"top\">SENTIMENT</th>\n",
       "      <th>beto_uncased</th>\n",
       "      <td>12.5</td>\n",
       "    </tr>\n",
       "    <tr>\n",
       "      <th>mbert</th>\n",
       "      <td>13.2</td>\n",
       "    </tr>\n",
       "    <tr>\n",
       "      <th>xlm</th>\n",
       "      <td>13.5</td>\n",
       "    </tr>\n",
       "    <tr>\n",
       "      <th>bertweet</th>\n",
       "      <td>14.3</td>\n",
       "    </tr>\n",
       "    <tr>\n",
       "      <th>bert</th>\n",
       "      <td>17.0</td>\n",
       "    </tr>\n",
       "  </tbody>\n",
       "</table>\n",
       "</div>"
      ],
      "text/plain": [
       "                              length\n",
       "task      tokenizer                 \n",
       "LOAD_POS  robertuito_deacc       6.8\n",
       "          robertuito_uncased     6.8\n",
       "          robertuito_cased       7.0\n",
       "          xlm                    7.1\n",
       "          mbert                  7.6\n",
       "          bertweet               7.7\n",
       "          bert                   8.4\n",
       "          beto_uncased           8.7\n",
       "NER       robertuito_deacc       9.0\n",
       "          robertuito_uncased     9.0\n",
       "          robertuito_cased       9.7\n",
       "          mbert                  9.7\n",
       "          beto_uncased          10.1\n",
       "          xlm                   10.6\n",
       "SENTIMENT robertuito_deacc      11.0\n",
       "          robertuito_uncased    11.1\n",
       "NER       bertweet              11.3\n",
       "SENTIMENT robertuito_cased      11.6\n",
       "NER       bert                  12.0\n",
       "SENTIMENT beto_uncased          12.5\n",
       "          mbert                 13.2\n",
       "          xlm                   13.5\n",
       "          bertweet              14.3\n",
       "          bert                  17.0"
      ]
     },
     "execution_count": 18,
     "metadata": {},
     "output_type": "execute_result"
    }
   ],
   "source": [
    "mean_df = melted_df.groupby([\"task\", \"tokenizer\"]).mean().sort_values(by=\"length\").round(2)\n",
    "std_df = melted_df.groupby([\"task\", \"tokenizer\"]).std().sort_values(by=\"length\").round(1)\n",
    "\n",
    "std_df"
   ]
  },
  {
   "cell_type": "code",
   "execution_count": 19,
   "metadata": {},
   "outputs": [
    {
     "data": {
      "text/html": [
       "<div>\n",
       "<style scoped>\n",
       "    .dataframe tbody tr th:only-of-type {\n",
       "        vertical-align: middle;\n",
       "    }\n",
       "\n",
       "    .dataframe tbody tr th {\n",
       "        vertical-align: top;\n",
       "    }\n",
       "\n",
       "    .dataframe thead tr th {\n",
       "        text-align: left;\n",
       "    }\n",
       "\n",
       "    .dataframe thead tr:last-of-type th {\n",
       "        text-align: right;\n",
       "    }\n",
       "</style>\n",
       "<table border=\"1\" class=\"dataframe\">\n",
       "  <thead>\n",
       "    <tr>\n",
       "      <th></th>\n",
       "      <th colspan=\"3\" halign=\"left\">length</th>\n",
       "    </tr>\n",
       "    <tr>\n",
       "      <th>task</th>\n",
       "      <th>LOAD_POS</th>\n",
       "      <th>NER</th>\n",
       "      <th>SENTIMENT</th>\n",
       "    </tr>\n",
       "    <tr>\n",
       "      <th>tokenizer</th>\n",
       "      <th></th>\n",
       "      <th></th>\n",
       "      <th></th>\n",
       "    </tr>\n",
       "  </thead>\n",
       "  <tbody>\n",
       "    <tr>\n",
       "      <th>bert</th>\n",
       "      <td>10.32 ± 8.4</td>\n",
       "      <td>20.88 ± 12.0</td>\n",
       "      <td>29.87 ± 17.0</td>\n",
       "    </tr>\n",
       "    <tr>\n",
       "      <th>bertweet</th>\n",
       "      <td>9.55 ± 7.7</td>\n",
       "      <td>18.47 ± 11.3</td>\n",
       "      <td>26.29 ± 14.3</td>\n",
       "    </tr>\n",
       "    <tr>\n",
       "      <th>beto_uncased</th>\n",
       "      <td>10.78 ± 8.7</td>\n",
       "      <td>16.99 ± 10.1</td>\n",
       "      <td>24.16 ± 12.5</td>\n",
       "    </tr>\n",
       "    <tr>\n",
       "      <th>mbert</th>\n",
       "      <td>9.63 ± 7.6</td>\n",
       "      <td>16.47 ± 9.7</td>\n",
       "      <td>23.82 ± 13.2</td>\n",
       "    </tr>\n",
       "    <tr>\n",
       "      <th>robertuito_cased</th>\n",
       "      <td>9.01 ± 7.0</td>\n",
       "      <td>15.41 ± 9.7</td>\n",
       "      <td>22.14 ± 11.6</td>\n",
       "    </tr>\n",
       "    <tr>\n",
       "      <th>robertuito_deacc</th>\n",
       "      <td>8.8 ± 6.8</td>\n",
       "      <td>14.27 ± 9.0</td>\n",
       "      <td>20.65 ± 11.0</td>\n",
       "    </tr>\n",
       "    <tr>\n",
       "      <th>robertuito_uncased</th>\n",
       "      <td>8.84 ± 6.8</td>\n",
       "      <td>14.34 ± 9.0</td>\n",
       "      <td>20.75 ± 11.1</td>\n",
       "    </tr>\n",
       "    <tr>\n",
       "      <th>xlm</th>\n",
       "      <td>9.92 ± 7.1</td>\n",
       "      <td>18.23 ± 10.6</td>\n",
       "      <td>25.36 ± 13.5</td>\n",
       "    </tr>\n",
       "  </tbody>\n",
       "</table>\n",
       "</div>"
      ],
      "text/plain": [
       "                         length                            \n",
       "task                   LOAD_POS           NER     SENTIMENT\n",
       "tokenizer                                                  \n",
       "bert                10.32 ± 8.4  20.88 ± 12.0  29.87 ± 17.0\n",
       "bertweet             9.55 ± 7.7  18.47 ± 11.3  26.29 ± 14.3\n",
       "beto_uncased        10.78 ± 8.7  16.99 ± 10.1  24.16 ± 12.5\n",
       "mbert                9.63 ± 7.6   16.47 ± 9.7  23.82 ± 13.2\n",
       "robertuito_cased     9.01 ± 7.0   15.41 ± 9.7  22.14 ± 11.6\n",
       "robertuito_deacc      8.8 ± 6.8   14.27 ± 9.0  20.65 ± 11.0\n",
       "robertuito_uncased   8.84 ± 6.8   14.34 ± 9.0  20.75 ± 11.1\n",
       "xlm                  9.92 ± 7.1  18.23 ± 10.6  25.36 ± 13.5"
      ]
     },
     "execution_count": 19,
     "metadata": {},
     "output_type": "execute_result"
    }
   ],
   "source": [
    "pepe_df = mean_df.astype(str) + \" ± \" + std_df.astype(str)\n",
    "\n",
    "pepe_df.unstack(0)"
   ]
  }
 ],
 "metadata": {
  "interpreter": {
   "hash": "d66fee0d28bd4ff973cb40954a12724f872a5e358c3d085cba51304a5945a0f3"
  },
  "kernelspec": {
   "display_name": "Python 3.7.12 64-bit ('finetune-vs-scratch-gHiQbun3-py3.7': poetry)",
   "name": "python3"
  },
  "language_info": {
   "codemirror_mode": {
    "name": "ipython",
    "version": 3
   },
   "file_extension": ".py",
   "mimetype": "text/x-python",
   "name": "python",
   "nbconvert_exporter": "python",
   "pygments_lexer": "ipython3",
   "version": "3.7.12"
  },
  "orig_nbformat": 4
 },
 "nbformat": 4,
 "nbformat_minor": 2
}
