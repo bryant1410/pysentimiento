{
 "cells": [
  {
   "cell_type": "code",
   "execution_count": 1,
   "metadata": {},
   "outputs": [
    {
     "name": "stderr",
     "output_type": "stream",
     "text": [
      "Found cached dataset multiconer2 (/users/jmperez/.cache/huggingface/datasets/aashsach___multiconer2/en/1.0.0/f8781e365f606105430f8dae7fad131df6b2e8cd35c0973165579f0ddc8a1bbc)\n"
     ]
    },
    {
     "data": {
      "application/vnd.jupyter.widget-view+json": {
       "model_id": "6d05fec568534501b4373cbca44de038",
       "version_major": 2,
       "version_minor": 0
      },
      "text/plain": [
       "  0%|          | 0/2 [00:00<?, ?it/s]"
      ]
     },
     "metadata": {},
     "output_type": "display_data"
    }
   ],
   "source": [
    "%load_ext autoreload\n",
    "%autoreload 2\n",
    "\n",
    "from datasets import load_dataset, load_dataset_builder\n",
    "\n",
    "ds = load_dataset(\"aashsach/multiconer2\", \"en\")\n",
    "\n"
   ]
  },
  {
   "cell_type": "code",
   "execution_count": 2,
   "metadata": {},
   "outputs": [],
   "source": [
    "import os\n",
    "\n",
    "os.environ[\"CUDA_VISIBLE_DEVICES\"] = \"0\""
   ]
  },
  {
   "cell_type": "code",
   "execution_count": 3,
   "metadata": {},
   "outputs": [
    {
     "name": "stderr",
     "output_type": "stream",
     "text": [
      "Loading cached processed dataset at /users/jmperez/.cache/huggingface/datasets/aashsach___multiconer2/en/1.0.0/f8781e365f606105430f8dae7fad131df6b2e8cd35c0973165579f0ddc8a1bbc/cache-65691de3e43a9f42.arrow\n",
      "Loading cached processed dataset at /users/jmperez/.cache/huggingface/datasets/aashsach___multiconer2/en/1.0.0/f8781e365f606105430f8dae7fad131df6b2e8cd35c0973165579f0ddc8a1bbc/cache-7354ddfb71e081c2.arrow\n"
     ]
    }
   ],
   "source": [
    "ds = ds.map(lambda ex: {\"text\": \" \".join(ex[\"tokens\"])})"
   ]
  },
  {
   "cell_type": "code",
   "execution_count": 4,
   "metadata": {},
   "outputs": [],
   "source": [
    "import requests\n",
    "from pysentimiento.config import config\n",
    "\n",
    "# URL for the Google Knowledge Graph Search API\n",
    "GOOGLE_KG_URL = 'https://kgsearch.googleapis.com/v1/entities:search'\n",
    "\n",
    "# URL for retrieving wikidata id\n",
    "WIKIDATA_URL_TEMPLATE = \"https://en.wikipedia.org/w/api.php?action=query&prop=pageprops&titles={}&format=json\"\n",
    "\n",
    "API_KEY = config['GOOGLE']['API_KEY']\n",
    "\n",
    "def kg_search(query, api_key=API_KEY, limit=10, indent=True, **kwargs):\n",
    "    \"\"\"\n",
    "    Performs a Knowledge Graph Search query.\n",
    "\n",
    "    Args:\n",
    "\n",
    "        query (str): The query string.\n",
    "\n",
    "        params (dict): The parameters to pass to the API.\n",
    "\n",
    "    Returns:\n",
    "\n",
    "        dict: The JSON response from the API.\n",
    "    \"\"\"\n",
    "\n",
    "    # Remove accents from query\n",
    "    query = query.encode('ascii', 'ignore').decode('ascii')\n",
    "    # Merge params and kwargs\n",
    "    params = {\n",
    "        'query': query,\n",
    "        'key': api_key,\n",
    "        'limit': limit,\n",
    "        'indent': indent,\n",
    "    }\n",
    "    params.update(kwargs)\n",
    "\n",
    "    req = requests.get(GOOGLE_KG_URL, params=params)\n",
    "    jsn = req.json()\n",
    "\n",
    "    return jsn\n"
   ]
  },
  {
   "cell_type": "code",
   "execution_count": 5,
   "metadata": {},
   "outputs": [],
   "source": [
    "id2label = ds[\"train\"].features[\"ner_tags\"].feature.names\n",
    "\n",
    "id2label = {i: label for i, label in enumerate(id2label)}\n",
    "label2id = {label: i for i, label in id2label.items()}"
   ]
  },
  {
   "cell_type": "code",
   "execution_count": 6,
   "metadata": {},
   "outputs": [
    {
     "name": "stderr",
     "output_type": "stream",
     "text": [
      "/users/jmperez/projects/pysentimiento/pysentimiento/ner.py:5: FutureWarning: load_metric is deprecated and will be removed in the next major version of datasets. Use 'evaluate.load' instead, from the new library 🤗 Evaluate: https://huggingface.co/docs/evaluate\n",
      "  metric = load_metric(\"seqeval\")\n"
     ]
    }
   ],
   "source": [
    "from pysentimiento.ner import tokenize_and_align_labels, compute_metrics\n",
    "from pysentimiento.training import train_and_eval\n",
    "from transformers import AutoModelForTokenClassification, DataCollatorForTokenClassification\n",
    "from pysentimiento.tuning import get_training_arguments\n",
    "\n",
    "base_model = \"roberta-large\"\n",
    "\n",
    "\n",
    "training_args = get_training_arguments(\n",
    "    base_model, task_name=\"multiconer\", lang=\"en\",\n",
    "    metric_for_best_model=\"eval/micro_f1\", use_defaults_if_not_tuned=True\n",
    ")\n",
    "\n",
    "training_args.num_train_epochs = 5\n"
   ]
  },
  {
   "cell_type": "code",
   "execution_count": 7,
   "metadata": {},
   "outputs": [],
   "source": [
    "import numpy as np\n",
    "from seqeval.metrics import f1_score\n",
    "from datasets import load_metric\n",
    "\n",
    "metric = load_metric(\"seqeval\")\n",
    "\n",
    "def compute_metrics(eval_preds, id2label):\n",
    "    \"\"\"\n",
    "    Compute metrics for NER\n",
    "    \"\"\"\n",
    "    logits, labels = eval_preds\n",
    "    predictions = np.argmax(logits, axis=-1)\n",
    "\n",
    "    # Remove ignored index (special tokens) and convert to labels\n",
    "    true_labels = [[id2label[l] for l in label if l != -100]\n",
    "                   for label in labels]\n",
    "\n",
    "    true_predictions = [\n",
    "        [id2label[p] for (p, l) in zip(prediction, label) if l != -100]\n",
    "        for prediction, label in zip(predictions, labels)\n",
    "    ]\n",
    "\n",
    "    # I also calculate mention metrics\n",
    "    # That is, we ignore the I- and B- tags and only consider O and MENTION\n",
    "    def label_to_mention(label):\n",
    "        if label == \"O\":\n",
    "            return \"O\"\n",
    "        elif label.startswith(\"B-\"):\n",
    "            return \"B-MENTION\"\n",
    "        else:\n",
    "            return \"I-MENTION\"\n",
    "\n",
    "\n",
    "    mention_labels = [\n",
    "        [label_to_mention(l) for l in labels]\n",
    "        for labels in true_labels\n",
    "    ]\n",
    "\n",
    "    mention_predictions = [\n",
    "        [label_to_mention(p) for p in labels]\n",
    "        for labels in true_predictions\n",
    "    ]\n",
    "    \n",
    "    all_metrics = metric.compute(\n",
    "        predictions=true_predictions, references=true_labels)\n",
    "    \n",
    "    mention_metrics = metric.compute(\n",
    "        predictions=mention_predictions, references=mention_labels)\n",
    "\n",
    "    ret = {\n",
    "        \"precision\": all_metrics[\"overall_precision\"],\n",
    "        \"recall\": all_metrics[\"overall_recall\"],\n",
    "        \"mention_precision\": mention_metrics[\"overall_precision\"],\n",
    "        \"mention_recall\": mention_metrics[\"overall_recall\"],\n",
    "        \"mention_f1\": mention_metrics[\"overall_f1\"],\n",
    "        \"macro_f1\": f1_score(true_labels, true_predictions, average=\"macro\"),\n",
    "        \"micro_f1\": f1_score(true_labels, true_predictions, average=\"micro\"),\n",
    "        \"accuracy\": all_metrics[\"overall_accuracy\"],\n",
    "    }\n",
    "\n",
    "    for k, v in all_metrics.items():\n",
    "        if not k.startswith(\"overall\"):\n",
    "            ret[k + \"_f1\"] = v[\"f1\"]\n",
    "            ret[k + \"_precision\"] = v[\"precision\"]\n",
    "            ret[k + \"_recall\"] = v[\"recall\"]\n",
    "\n",
    "    return ret\n",
    "\n"
   ]
  },
  {
   "cell_type": "code",
   "execution_count": 8,
   "metadata": {},
   "outputs": [
    {
     "data": {
      "application/vnd.jupyter.widget-view+json": {
       "model_id": "14e99a65577646a59f88acf4d15877dd",
       "version_major": 2,
       "version_minor": 0
      },
      "text/plain": [
       "Downloading (…)\"pytorch_model.bin\";:   0%|          | 0.00/1.43G [00:00<?, ?B/s]"
      ]
     },
     "metadata": {},
     "output_type": "display_data"
    },
    {
     "name": "stderr",
     "output_type": "stream",
     "text": [
      "Some weights of the model checkpoint at roberta-large were not used when initializing RobertaForTokenClassification: ['lm_head.dense.bias', 'lm_head.layer_norm.weight', 'lm_head.bias', 'lm_head.layer_norm.bias', 'lm_head.decoder.weight', 'lm_head.dense.weight']\n",
      "- This IS expected if you are initializing RobertaForTokenClassification from the checkpoint of a model trained on another task or with another architecture (e.g. initializing a BertForSequenceClassification model from a BertForPreTraining model).\n",
      "- This IS NOT expected if you are initializing RobertaForTokenClassification from the checkpoint of a model that you expect to be exactly identical (initializing a BertForSequenceClassification model from a BertForSequenceClassification model).\n",
      "Some weights of RobertaForTokenClassification were not initialized from the model checkpoint at roberta-large and are newly initialized: ['classifier.bias', 'classifier.weight']\n",
      "You should probably TRAIN this model on a down-stream task to be able to use it for predictions and inference.\n"
     ]
    },
    {
     "data": {
      "application/vnd.jupyter.widget-view+json": {
       "model_id": "4b510e71bd924e16815e14ee4b90fd0e",
       "version_major": 2,
       "version_minor": 0
      },
      "text/plain": [
       "Downloading (…)olve/main/vocab.json:   0%|          | 0.00/899k [00:00<?, ?B/s]"
      ]
     },
     "metadata": {},
     "output_type": "display_data"
    },
    {
     "data": {
      "application/vnd.jupyter.widget-view+json": {
       "model_id": "f43983c524f9498db174b95a810ab957",
       "version_major": 2,
       "version_minor": 0
      },
      "text/plain": [
       "Downloading (…)olve/main/merges.txt:   0%|          | 0.00/456k [00:00<?, ?B/s]"
      ]
     },
     "metadata": {},
     "output_type": "display_data"
    },
    {
     "data": {
      "application/vnd.jupyter.widget-view+json": {
       "model_id": "201141a8dbc7409ebc075ff336d404eb",
       "version_major": 2,
       "version_minor": 0
      },
      "text/plain": [
       "Downloading (…)/main/tokenizer.json:   0%|          | 0.00/1.36M [00:00<?, ?B/s]"
      ]
     },
     "metadata": {},
     "output_type": "display_data"
    },
    {
     "data": {
      "application/vnd.jupyter.widget-view+json": {
       "model_id": "858404415daa4543bd694f8cdabcfcf8",
       "version_major": 2,
       "version_minor": 0
      },
      "text/plain": [
       "  0%|          | 0/17 [00:00<?, ?ba/s]"
      ]
     },
     "metadata": {},
     "output_type": "display_data"
    },
    {
     "data": {
      "application/vnd.jupyter.widget-view+json": {
       "model_id": "124566e730804349b0cc15fae3df4988",
       "version_major": 2,
       "version_minor": 0
      },
      "text/plain": [
       "  0%|          | 0/1 [00:00<?, ?ba/s]"
      ]
     },
     "metadata": {},
     "output_type": "display_data"
    },
    {
     "name": "stderr",
     "output_type": "stream",
     "text": [
      "WARNING:datasets.arrow_dataset:Loading cached processed dataset at /users/jmperez/.cache/huggingface/datasets/aashsach___multiconer2/en/1.0.0/f8781e365f606105430f8dae7fad131df6b2e8cd35c0973165579f0ddc8a1bbc/cache-a0486d7f44b4d6b7.arrow\n",
      "WARNING:datasets.arrow_dataset:Loading cached processed dataset at /users/jmperez/.cache/huggingface/datasets/aashsach___multiconer2/en/1.0.0/f8781e365f606105430f8dae7fad131df6b2e8cd35c0973165579f0ddc8a1bbc/cache-a0486d7f44b4d6b7.arrow\n",
      "The following columns in the training set don't have a corresponding argument in `RobertaForTokenClassification.forward` and have been ignored: text, ner_tags, word_ids, ner_macro_tags, tokens, id. If text, ner_tags, word_ids, ner_macro_tags, tokens, id are not expected by `RobertaForTokenClassification.forward`,  you can safely ignore this message.\n",
      "/users/jmperez/projects/pysentimiento/.venv/lib/python3.10/site-packages/transformers/optimization.py:306: FutureWarning: This implementation of AdamW is deprecated and will be removed in a future version. Use the PyTorch implementation torch.optim.AdamW instead, or set `no_deprecation_warning=True` to disable this warning\n",
      "  warnings.warn(\n",
      "***** Running training *****\n",
      "  Num examples = 16778\n",
      "  Num Epochs = 5\n",
      "  Instantaneous batch size per device = 32\n",
      "  Total train batch size (w. parallel, distributed & accumulation) = 32\n",
      "  Gradient Accumulation steps = 1\n",
      "  Total optimization steps = 2625\n",
      "  Number of trainable parameters = 354381891\n",
      "Automatic Weights & Biases logging enabled, to disable set os.environ[\"WANDB_DISABLED\"] = \"true\"\n",
      "ERROR:wandb.jupyter:Failed to detect the name of this notebook, you can set it manually with the WANDB_NOTEBOOK_NAME environment variable to enable code saving.\n",
      "\u001b[34m\u001b[1mwandb\u001b[0m: Currently logged in as: \u001b[33mjmperez\u001b[0m. Use \u001b[1m`wandb login --relogin`\u001b[0m to force relogin\n"
     ]
    },
    {
     "data": {
      "text/html": [
       "Tracking run with wandb version 0.13.9"
      ],
      "text/plain": [
       "<IPython.core.display.HTML object>"
      ]
     },
     "metadata": {},
     "output_type": "display_data"
    },
    {
     "data": {
      "text/html": [
       "Run data is saved locally in <code>/users/jmperez/projects/pysentimiento/notebooks/multiconer/wandb/run-20230131_182533-b8aa3c4d</code>"
      ],
      "text/plain": [
       "<IPython.core.display.HTML object>"
      ]
     },
     "metadata": {},
     "output_type": "display_data"
    },
    {
     "data": {
      "text/html": [
       "Syncing run <strong><a href=\"https://wandb.ai/jmperez/huggingface/runs/b8aa3c4d\" target=\"_blank\">golden-mandu-5</a></strong> to <a href=\"https://wandb.ai/jmperez/huggingface\" target=\"_blank\">Weights & Biases</a> (<a href=\"https://wandb.me/run\" target=\"_blank\">docs</a>)<br/>"
      ],
      "text/plain": [
       "<IPython.core.display.HTML object>"
      ]
     },
     "metadata": {},
     "output_type": "display_data"
    },
    {
     "data": {
      "text/html": [
       " View project at <a href=\"https://wandb.ai/jmperez/huggingface\" target=\"_blank\">https://wandb.ai/jmperez/huggingface</a>"
      ],
      "text/plain": [
       "<IPython.core.display.HTML object>"
      ]
     },
     "metadata": {},
     "output_type": "display_data"
    },
    {
     "data": {
      "text/html": [
       " View run at <a href=\"https://wandb.ai/jmperez/huggingface/runs/b8aa3c4d\" target=\"_blank\">https://wandb.ai/jmperez/huggingface/runs/b8aa3c4d</a>"
      ],
      "text/plain": [
       "<IPython.core.display.HTML object>"
      ]
     },
     "metadata": {},
     "output_type": "display_data"
    },
    {
     "name": "stderr",
     "output_type": "stream",
     "text": [
      "You're using a RobertaTokenizerFast tokenizer. Please note that with a fast tokenizer, using the `__call__` method is faster than using a method to encode the text followed by a call to the `pad` method to get a padded encoding.\n"
     ]
    }
   ],
   "source": [
    "\n",
    "\n",
    "ds[\"dev\"] = ds[\"validation\"]\n",
    "ds[\"test\"] = ds[\"validation\"]\n",
    "\n",
    "\n",
    "train_and_eval(\n",
    "    base_model, dataset=ds,\n",
    "    id2label=id2label, lang=\"en\", \n",
    "    training_args=training_args,\n",
    "    # Custom stuff for this thing to work\n",
    "    tokenize_fun=tokenize_and_align_labels,\n",
    "    auto_class=AutoModelForTokenClassification,\n",
    "    data_collator_class=DataCollatorForTokenClassification,\n",
    "    metrics_fun=lambda x: compute_metrics(x, id2label),\n",
    "    metric_for_best_model=\"micro_f1\"\n",
    ")"
   ]
  },
  {
   "cell_type": "code",
   "execution_count": null,
   "metadata": {},
   "outputs": [],
   "source": []
  }
 ],
 "metadata": {
  "kernelspec": {
   "display_name": ".venv",
   "language": "python",
   "name": "python3"
  },
  "language_info": {
   "codemirror_mode": {
    "name": "ipython",
    "version": 3
   },
   "file_extension": ".py",
   "mimetype": "text/x-python",
   "name": "python",
   "nbconvert_exporter": "python",
   "pygments_lexer": "ipython3",
   "version": "3.10.7"
  },
  "orig_nbformat": 4,
  "vscode": {
   "interpreter": {
    "hash": "3fc79ed69e4c2b5a1db8fa17ebb1e82d66421519e5b018d314116a7b4cda9238"
   }
  }
 },
 "nbformat": 4,
 "nbformat_minor": 2
}
