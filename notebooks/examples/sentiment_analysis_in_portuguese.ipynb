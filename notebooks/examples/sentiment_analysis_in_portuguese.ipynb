{
  "cells": [
    {
      "attachments": {},
      "cell_type": "markdown",
      "metadata": {
        "id": "C-5ccq7RKfIV"
      },
      "source": [
        "# pysentimiento: A multilingual toolkit for Sentiment Analysis and SocialNLP tasks\n",
        "\n",
        "# Sentiment Analysis and Opinion Mining in Portuguese\n",
        "\n",
        "\n",
        "\n",
        "In this notebook we show a brief example of how to use [pysentimiento](https://github.com/pysentimiento/pysentimiento/), a multilingual toolkit for opinion mining and sentiment analysis for Portuguese tasks.\n",
        "\n",
        "`pysentimiento` supports the following tasks for Portuguese:\n",
        "\n",
        "- Sentiment Analysis \n",
        "- Hate Speech Detection\n",
        "- Irony Detection\n",
        "\n",
        "First, let's install the library\n",
        "\n",
        "------------\n",
        "\n",
        "Neste notebook, mostramos um breve exemplo de como usar [pysentimiento](https://github.com/pysentimiento/pysentimiento/), um kit de ferramentas multilíngue para mineração de opinião e análise de sentimentos para português.\n",
        "\n",
        "`pysentimiento` suporta as seguintes tarefas para o português:\n",
        "\n",
        "- Análise de sentimentos\n",
        "- Detecção de discurso de ódio\n",
        "- Detecção de Ironia\n",
        "\n",
        "Primeiro, vamos instalar a biblioteca\n"
      ]
    },
    {
      "cell_type": "code",
      "execution_count": 1,
      "metadata": {
        "colab": {
          "base_uri": "https://localhost:8080/"
        },
        "id": "KVnFbpovDEa6",
        "outputId": "c7f7190b-314a-4c0c-f6af-f802eed4afb9"
      },
      "outputs": [
        {
          "name": "stdout",
          "output_type": "stream",
          "text": [
            "Requirement already satisfied: pysentimiento in /users/jmperez/projects/pysentimiento/.venv/lib/python3.8/site-packages (0.5.2rc4)\n",
            "Requirement already satisfied: emoji<2.0.0,>=1.6.1 in /users/jmperez/projects/pysentimiento/.venv/lib/python3.8/site-packages (from pysentimiento) (1.7.0)\n",
            "Requirement already satisfied: transformers>=4.13.0 in /users/jmperez/projects/pysentimiento/.venv/lib/python3.8/site-packages (from pysentimiento) (4.26.0)\n",
            "Requirement already satisfied: torch<2.0.0,>=1.13.1 in /users/jmperez/projects/pysentimiento/.venv/lib/python3.8/site-packages (from pysentimiento) (1.13.1)\n",
            "Requirement already satisfied: spacy<4.0.0,>=3.5.0 in /users/jmperez/projects/pysentimiento/.venv/lib/python3.8/site-packages (from pysentimiento) (3.5.0)\n",
            "Requirement already satisfied: datasets>=1.13.3 in /users/jmperez/projects/pysentimiento/.venv/lib/python3.8/site-packages (from pysentimiento) (2.9.0)\n",
            "Requirement already satisfied: responses<0.19 in /users/jmperez/projects/pysentimiento/.venv/lib/python3.8/site-packages (from datasets>=1.13.3->pysentimiento) (0.18.0)\n",
            "Requirement already satisfied: aiohttp in /users/jmperez/projects/pysentimiento/.venv/lib/python3.8/site-packages (from datasets>=1.13.3->pysentimiento) (3.7.4.post0)\n",
            "Requirement already satisfied: dill<0.3.7 in /users/jmperez/projects/pysentimiento/.venv/lib/python3.8/site-packages (from datasets>=1.13.3->pysentimiento) (0.3.6)\n",
            "Requirement already satisfied: pyarrow>=6.0.0 in /users/jmperez/projects/pysentimiento/.venv/lib/python3.8/site-packages (from datasets>=1.13.3->pysentimiento) (11.0.0)\n",
            "Requirement already satisfied: multiprocess in /users/jmperez/projects/pysentimiento/.venv/lib/python3.8/site-packages (from datasets>=1.13.3->pysentimiento) (0.70.14)\n",
            "Requirement already satisfied: huggingface-hub<1.0.0,>=0.2.0 in /users/jmperez/projects/pysentimiento/.venv/lib/python3.8/site-packages (from datasets>=1.13.3->pysentimiento) (0.12.0)\n",
            "Requirement already satisfied: fsspec[http]>=2021.11.1 in /users/jmperez/projects/pysentimiento/.venv/lib/python3.8/site-packages (from datasets>=1.13.3->pysentimiento) (2023.1.0)\n",
            "Requirement already satisfied: packaging in /users/jmperez/projects/pysentimiento/.venv/lib/python3.8/site-packages (from datasets>=1.13.3->pysentimiento) (23.0)\n",
            "Requirement already satisfied: pyyaml>=5.1 in /users/jmperez/projects/pysentimiento/.venv/lib/python3.8/site-packages (from datasets>=1.13.3->pysentimiento) (6.0)\n",
            "Requirement already satisfied: pandas in /users/jmperez/projects/pysentimiento/.venv/lib/python3.8/site-packages (from datasets>=1.13.3->pysentimiento) (1.5.3)\n",
            "Requirement already satisfied: numpy>=1.17 in /users/jmperez/projects/pysentimiento/.venv/lib/python3.8/site-packages (from datasets>=1.13.3->pysentimiento) (1.24.2)\n",
            "Requirement already satisfied: tqdm>=4.62.1 in /users/jmperez/projects/pysentimiento/.venv/lib/python3.8/site-packages (from datasets>=1.13.3->pysentimiento) (4.64.1)\n",
            "Requirement already satisfied: xxhash in /users/jmperez/projects/pysentimiento/.venv/lib/python3.8/site-packages (from datasets>=1.13.3->pysentimiento) (3.2.0)\n",
            "Requirement already satisfied: requests>=2.19.0 in /users/jmperez/projects/pysentimiento/.venv/lib/python3.8/site-packages (from datasets>=1.13.3->pysentimiento) (2.28.2)\n",
            "Requirement already satisfied: pathy>=0.10.0 in /users/jmperez/projects/pysentimiento/.venv/lib/python3.8/site-packages (from spacy<4.0.0,>=3.5.0->pysentimiento) (0.10.1)\n",
            "Requirement already satisfied: wasabi<1.2.0,>=0.9.1 in /users/jmperez/projects/pysentimiento/.venv/lib/python3.8/site-packages (from spacy<4.0.0,>=3.5.0->pysentimiento) (1.1.1)\n",
            "Requirement already satisfied: setuptools in /users/jmperez/projects/pysentimiento/.venv/lib/python3.8/site-packages (from spacy<4.0.0,>=3.5.0->pysentimiento) (67.2.0)\n",
            "Requirement already satisfied: preshed<3.1.0,>=3.0.2 in /users/jmperez/projects/pysentimiento/.venv/lib/python3.8/site-packages (from spacy<4.0.0,>=3.5.0->pysentimiento) (3.0.8)\n",
            "Requirement already satisfied: typer<0.8.0,>=0.3.0 in /users/jmperez/projects/pysentimiento/.venv/lib/python3.8/site-packages (from spacy<4.0.0,>=3.5.0->pysentimiento) (0.7.0)\n",
            "Requirement already satisfied: catalogue<2.1.0,>=2.0.6 in /users/jmperez/projects/pysentimiento/.venv/lib/python3.8/site-packages (from spacy<4.0.0,>=3.5.0->pysentimiento) (2.0.8)\n",
            "Requirement already satisfied: thinc<8.2.0,>=8.1.0 in /users/jmperez/projects/pysentimiento/.venv/lib/python3.8/site-packages (from spacy<4.0.0,>=3.5.0->pysentimiento) (8.1.7)\n",
            "Requirement already satisfied: spacy-loggers<2.0.0,>=1.0.0 in /users/jmperez/projects/pysentimiento/.venv/lib/python3.8/site-packages (from spacy<4.0.0,>=3.5.0->pysentimiento) (1.0.4)\n",
            "Requirement already satisfied: murmurhash<1.1.0,>=0.28.0 in /users/jmperez/projects/pysentimiento/.venv/lib/python3.8/site-packages (from spacy<4.0.0,>=3.5.0->pysentimiento) (1.0.9)\n",
            "Requirement already satisfied: spacy-legacy<3.1.0,>=3.0.11 in /users/jmperez/projects/pysentimiento/.venv/lib/python3.8/site-packages (from spacy<4.0.0,>=3.5.0->pysentimiento) (3.0.12)\n",
            "Requirement already satisfied: smart-open<7.0.0,>=5.2.1 in /users/jmperez/projects/pysentimiento/.venv/lib/python3.8/site-packages (from spacy<4.0.0,>=3.5.0->pysentimiento) (6.3.0)\n",
            "Requirement already satisfied: jinja2 in /users/jmperez/projects/pysentimiento/.venv/lib/python3.8/site-packages (from spacy<4.0.0,>=3.5.0->pysentimiento) (3.1.2)\n",
            "Requirement already satisfied: langcodes<4.0.0,>=3.2.0 in /users/jmperez/projects/pysentimiento/.venv/lib/python3.8/site-packages (from spacy<4.0.0,>=3.5.0->pysentimiento) (3.3.0)\n",
            "Requirement already satisfied: pydantic!=1.8,!=1.8.1,<1.11.0,>=1.7.4 in /users/jmperez/projects/pysentimiento/.venv/lib/python3.8/site-packages (from spacy<4.0.0,>=3.5.0->pysentimiento) (1.10.5)\n",
            "Requirement already satisfied: srsly<3.0.0,>=2.4.3 in /users/jmperez/projects/pysentimiento/.venv/lib/python3.8/site-packages (from spacy<4.0.0,>=3.5.0->pysentimiento) (2.4.5)\n",
            "Requirement already satisfied: cymem<2.1.0,>=2.0.2 in /users/jmperez/projects/pysentimiento/.venv/lib/python3.8/site-packages (from spacy<4.0.0,>=3.5.0->pysentimiento) (2.0.7)\n",
            "Requirement already satisfied: nvidia-cuda-nvrtc-cu11==11.7.99 in /users/jmperez/projects/pysentimiento/.venv/lib/python3.8/site-packages (from torch<2.0.0,>=1.13.1->pysentimiento) (11.7.99)\n",
            "Requirement already satisfied: nvidia-cuda-runtime-cu11==11.7.99 in /users/jmperez/projects/pysentimiento/.venv/lib/python3.8/site-packages (from torch<2.0.0,>=1.13.1->pysentimiento) (11.7.99)\n",
            "Requirement already satisfied: typing-extensions in /users/jmperez/projects/pysentimiento/.venv/lib/python3.8/site-packages (from torch<2.0.0,>=1.13.1->pysentimiento) (4.4.0)\n",
            "Requirement already satisfied: nvidia-cublas-cu11==11.10.3.66 in /users/jmperez/projects/pysentimiento/.venv/lib/python3.8/site-packages (from torch<2.0.0,>=1.13.1->pysentimiento) (11.10.3.66)\n",
            "Requirement already satisfied: nvidia-cudnn-cu11==8.5.0.96 in /users/jmperez/projects/pysentimiento/.venv/lib/python3.8/site-packages (from torch<2.0.0,>=1.13.1->pysentimiento) (8.5.0.96)\n",
            "Requirement already satisfied: wheel in /users/jmperez/projects/pysentimiento/.venv/lib/python3.8/site-packages (from nvidia-cublas-cu11==11.10.3.66->torch<2.0.0,>=1.13.1->pysentimiento) (0.38.4)\n",
            "Requirement already satisfied: regex!=2019.12.17 in /users/jmperez/projects/pysentimiento/.venv/lib/python3.8/site-packages (from transformers>=4.13.0->pysentimiento) (2022.10.31)\n",
            "Requirement already satisfied: filelock in /users/jmperez/projects/pysentimiento/.venv/lib/python3.8/site-packages (from transformers>=4.13.0->pysentimiento) (3.9.0)\n",
            "Requirement already satisfied: tokenizers!=0.11.3,<0.14,>=0.11.1 in /users/jmperez/projects/pysentimiento/.venv/lib/python3.8/site-packages (from transformers>=4.13.0->pysentimiento) (0.13.2)\n",
            "Requirement already satisfied: async-timeout<4.0,>=3.0 in /users/jmperez/projects/pysentimiento/.venv/lib/python3.8/site-packages (from aiohttp->datasets>=1.13.3->pysentimiento) (3.0.1)\n",
            "Requirement already satisfied: multidict<7.0,>=4.5 in /users/jmperez/projects/pysentimiento/.venv/lib/python3.8/site-packages (from aiohttp->datasets>=1.13.3->pysentimiento) (6.0.4)\n",
            "Requirement already satisfied: yarl<2.0,>=1.0 in /users/jmperez/projects/pysentimiento/.venv/lib/python3.8/site-packages (from aiohttp->datasets>=1.13.3->pysentimiento) (1.8.2)\n",
            "Requirement already satisfied: attrs>=17.3.0 in /users/jmperez/projects/pysentimiento/.venv/lib/python3.8/site-packages (from aiohttp->datasets>=1.13.3->pysentimiento) (22.2.0)\n",
            "Requirement already satisfied: chardet<5.0,>=2.0 in /users/jmperez/projects/pysentimiento/.venv/lib/python3.8/site-packages (from aiohttp->datasets>=1.13.3->pysentimiento) (4.0.0)\n",
            "Requirement already satisfied: charset-normalizer<4,>=2 in /users/jmperez/projects/pysentimiento/.venv/lib/python3.8/site-packages (from requests>=2.19.0->datasets>=1.13.3->pysentimiento) (3.0.1)\n",
            "Requirement already satisfied: certifi>=2017.4.17 in /users/jmperez/projects/pysentimiento/.venv/lib/python3.8/site-packages (from requests>=2.19.0->datasets>=1.13.3->pysentimiento) (2022.12.7)\n",
            "Requirement already satisfied: idna<4,>=2.5 in /users/jmperez/projects/pysentimiento/.venv/lib/python3.8/site-packages (from requests>=2.19.0->datasets>=1.13.3->pysentimiento) (3.4)\n",
            "Requirement already satisfied: urllib3<1.27,>=1.21.1 in /users/jmperez/projects/pysentimiento/.venv/lib/python3.8/site-packages (from requests>=2.19.0->datasets>=1.13.3->pysentimiento) (1.26.14)\n",
            "Requirement already satisfied: blis<0.8.0,>=0.7.8 in /users/jmperez/projects/pysentimiento/.venv/lib/python3.8/site-packages (from thinc<8.2.0,>=8.1.0->spacy<4.0.0,>=3.5.0->pysentimiento) (0.7.9)\n",
            "Requirement already satisfied: confection<1.0.0,>=0.0.1 in /users/jmperez/projects/pysentimiento/.venv/lib/python3.8/site-packages (from thinc<8.2.0,>=8.1.0->spacy<4.0.0,>=3.5.0->pysentimiento) (0.0.4)\n",
            "Requirement already satisfied: click<9.0.0,>=7.1.1 in /users/jmperez/projects/pysentimiento/.venv/lib/python3.8/site-packages (from typer<0.8.0,>=0.3.0->spacy<4.0.0,>=3.5.0->pysentimiento) (8.1.3)\n",
            "Requirement already satisfied: MarkupSafe>=2.0 in /users/jmperez/projects/pysentimiento/.venv/lib/python3.8/site-packages (from jinja2->spacy<4.0.0,>=3.5.0->pysentimiento) (2.1.2)\n",
            "Requirement already satisfied: python-dateutil>=2.8.1 in /users/jmperez/projects/pysentimiento/.venv/lib/python3.8/site-packages (from pandas->datasets>=1.13.3->pysentimiento) (2.8.2)\n",
            "Requirement already satisfied: pytz>=2020.1 in /users/jmperez/projects/pysentimiento/.venv/lib/python3.8/site-packages (from pandas->datasets>=1.13.3->pysentimiento) (2022.7.1)\n",
            "Requirement already satisfied: six>=1.5 in /users/jmperez/projects/pysentimiento/.venv/lib/python3.8/site-packages (from python-dateutil>=2.8.1->pandas->datasets>=1.13.3->pysentimiento) (1.16.0)\n",
            "\n",
            "\u001b[1m[\u001b[0m\u001b[34;49mnotice\u001b[0m\u001b[1;39;49m]\u001b[0m\u001b[39;49m A new release of pip available: \u001b[0m\u001b[31;49m22.3.1\u001b[0m\u001b[39;49m -> \u001b[0m\u001b[32;49m23.0.1\u001b[0m\n",
            "\u001b[1m[\u001b[0m\u001b[34;49mnotice\u001b[0m\u001b[1;39;49m]\u001b[0m\u001b[39;49m To update, run: \u001b[0m\u001b[32;49mpip install --upgrade pip\u001b[0m\n"
          ]
        }
      ],
      "source": [
        "!pip install pysentimiento"
      ]
    },
    {
      "cell_type": "markdown",
      "metadata": {
        "id": "Hoei-uwvLV9-"
      },
      "source": [
        "Let's create an analyzer. The `create_analyzer` receives the task and the language as parameters (currently supports \"es\" and \"en\")."
      ]
    },
    {
      "cell_type": "code",
      "execution_count": 2,
      "metadata": {
        "colab": {
          "base_uri": "https://localhost:8080/"
        },
        "id": "zeHz6sDuAbFz",
        "outputId": "65b47abc-54bf-4804-bb00-1c8ce6b649b0"
      },
      "outputs": [],
      "source": [
        "from pysentimiento import create_analyzer\n",
        "analyzer = create_analyzer(task=\"sentiment\", lang=\"pt\")\n"
      ]
    },
    {
      "cell_type": "markdown",
      "metadata": {
        "id": "PVuD_60yLnYN"
      },
      "source": [
        "\n",
        "Let's check out some examples:\n",
        "\n",
        "Veamos algunos ejemplos:"
      ]
    },
    {
      "cell_type": "code",
      "execution_count": 3,
      "metadata": {
        "colab": {
          "base_uri": "https://localhost:8080/"
        },
        "id": "Gq-i7iU-Lfyl",
        "outputId": "07418a53-cb1c-498c-f287-e60c8af00dc9"
      },
      "outputs": [
        {
          "data": {
            "text/plain": [
              "AnalyzerOutput(output=POS, probas={POS: 0.961, NEU: 0.036, NEG: 0.003})"
            ]
          },
          "execution_count": 3,
          "metadata": {},
          "output_type": "execute_result"
        }
      ],
      "source": [
        "analyzer.predict(\"oh estou muito feliz porque é verão\")"
      ]
    },
    {
      "cell_type": "code",
      "execution_count": 4,
      "metadata": {
        "colab": {
          "base_uri": "https://localhost:8080/"
        },
        "id": "ktkizc1FLjXZ",
        "outputId": "39e1ff35-b573-486c-b3de-6b439cd99d40"
      },
      "outputs": [
        {
          "data": {
            "text/plain": [
              "AnalyzerOutput(output=NEG, probas={NEG: 0.991, POS: 0.005, NEU: 0.005})"
            ]
          },
          "execution_count": 4,
          "metadata": {},
          "output_type": "execute_result"
        }
      ],
      "source": [
        "analyzer.predict(\"Como isso me entristece! Não pode ser!!!\")"
      ]
    },
    {
      "cell_type": "code",
      "execution_count": 5,
      "metadata": {
        "colab": {
          "base_uri": "https://localhost:8080/"
        },
        "id": "AWczZn9KLlod",
        "outputId": "9d445bf1-7429-4887-a3e3-c9bca9503b4c"
      },
      "outputs": [
        {
          "data": {
            "text/plain": [
              "AnalyzerOutput(output=NEU, probas={NEU: 0.910, NEG: 0.063, POS: 0.027})"
            ]
          },
          "execution_count": 5,
          "metadata": {},
          "output_type": "execute_result"
        }
      ],
      "source": [
        "analyzer.predict(\"O que o cocô quer dizer sobre sua saúde? Médica revela em 5 pontos, de cor a formato ideal\")"
      ]
    },
    {
      "attachments": {},
      "cell_type": "markdown",
      "metadata": {
        "id": "HZVo2CUNmGoK"
      },
      "source": [
        "### Emojis\n",
        "\n",
        "It supports the use of emojis through the [emoji](https://pypi.org/project/emoji/) library.\n"
      ]
    },
    {
      "cell_type": "code",
      "execution_count": 6,
      "metadata": {
        "colab": {
          "base_uri": "https://localhost:8080/"
        },
        "id": "yCFPVTwyuPI_",
        "outputId": "47feaa5a-e3ce-4155-dd7e-8554913bd2c8"
      },
      "outputs": [
        {
          "data": {
            "text/plain": [
              "AnalyzerOutput(output=NEG, probas={NEG: 0.976, NEU: 0.016, POS: 0.008})"
            ]
          },
          "execution_count": 6,
          "metadata": {},
          "output_type": "execute_result"
        }
      ],
      "source": [
        "analyzer.predict(\"🤢\")"
      ]
    },
    {
      "attachments": {},
      "cell_type": "markdown",
      "metadata": {
        "id": "LdN1CDnqnhtQ"
      },
      "source": [
        "## Hate Speech\n",
        "\n",
        "`pysentimiento` also supports hate speech detection, by training models using the dataset from [\"A Hierarchically Labeled Portuguese Hate Speech Dataset\"](https://github.com/paulafortuna/Portuguese-Hate-Speech-Dataset)."
      ]
    },
    {
      "cell_type": "code",
      "execution_count": 9,
      "metadata": {
        "colab": {
          "base_uri": "https://localhost:8080/"
        },
        "id": "ZeuozqEWnhtQ",
        "outputId": "ab02de9e-020f-4830-ea65-dfcbb58ac2a3"
      },
      "outputs": [
        {
          "name": "stderr",
          "output_type": "stream",
          "text": [
            "loading configuration file config.json from cache at /users/jmperez/.cache/huggingface/hub/models--pysentimiento--bertabaporu-pt-hate-speech/snapshots/22acaa49cd237583c60359bf087b42bc2622841b/config.json\n",
            "Model config BertConfig {\n",
            "  \"_name_or_path\": \"pysentimiento/bertabaporu-pt-hate-speech\",\n",
            "  \"architectures\": [\n",
            "    \"BertForSequenceClassification\"\n",
            "  ],\n",
            "  \"attention_probs_dropout_prob\": 0.1,\n",
            "  \"classifier_dropout\": null,\n",
            "  \"hidden_act\": \"gelu\",\n",
            "  \"hidden_dropout_prob\": 0.1,\n",
            "  \"hidden_size\": 768,\n",
            "  \"id2label\": {\n",
            "    \"0\": \"Sexism\",\n",
            "    \"1\": \"Body\",\n",
            "    \"2\": \"Racism\",\n",
            "    \"3\": \"Ideology\",\n",
            "    \"4\": \"Homophobia\"\n",
            "  },\n",
            "  \"initializer_range\": 0.02,\n",
            "  \"intermediate_size\": 3072,\n",
            "  \"label2id\": {\n",
            "    \"Body\": 1,\n",
            "    \"Homophobia\": 4,\n",
            "    \"Ideology\": 3,\n",
            "    \"Racism\": 2,\n",
            "    \"Sexism\": 0\n",
            "  },\n",
            "  \"layer_norm_eps\": 1e-12,\n",
            "  \"max_position_embeddings\": 512,\n",
            "  \"model_type\": \"bert\",\n",
            "  \"num_attention_heads\": 8,\n",
            "  \"num_hidden_layers\": 12,\n",
            "  \"pad_token_id\": 0,\n",
            "  \"position_embedding_type\": \"absolute\",\n",
            "  \"problem_type\": \"multi_label_classification\",\n",
            "  \"torch_dtype\": \"float32\",\n",
            "  \"transformers_version\": \"4.26.0\",\n",
            "  \"type_vocab_size\": 2,\n",
            "  \"use_cache\": true,\n",
            "  \"vocab_size\": 64002\n",
            "}\n",
            "\n",
            "loading weights file pytorch_model.bin from cache at /users/jmperez/.cache/huggingface/hub/models--pysentimiento--bertabaporu-pt-hate-speech/snapshots/22acaa49cd237583c60359bf087b42bc2622841b/pytorch_model.bin\n",
            "All model checkpoint weights were used when initializing BertForSequenceClassification.\n",
            "\n",
            "All the weights of BertForSequenceClassification were initialized from the model checkpoint at pysentimiento/bertabaporu-pt-hate-speech.\n",
            "If your task is similar to the task the model of the checkpoint was trained on, you can already use BertForSequenceClassification for predictions without further training.\n",
            "loading file vocab.txt from cache at /users/jmperez/.cache/huggingface/hub/models--pysentimiento--bertabaporu-pt-hate-speech/snapshots/22acaa49cd237583c60359bf087b42bc2622841b/vocab.txt\n",
            "loading file tokenizer.json from cache at /users/jmperez/.cache/huggingface/hub/models--pysentimiento--bertabaporu-pt-hate-speech/snapshots/22acaa49cd237583c60359bf087b42bc2622841b/tokenizer.json\n",
            "loading file added_tokens.json from cache at /users/jmperez/.cache/huggingface/hub/models--pysentimiento--bertabaporu-pt-hate-speech/snapshots/22acaa49cd237583c60359bf087b42bc2622841b/added_tokens.json\n",
            "loading file special_tokens_map.json from cache at /users/jmperez/.cache/huggingface/hub/models--pysentimiento--bertabaporu-pt-hate-speech/snapshots/22acaa49cd237583c60359bf087b42bc2622841b/special_tokens_map.json\n",
            "loading file tokenizer_config.json from cache at /users/jmperez/.cache/huggingface/hub/models--pysentimiento--bertabaporu-pt-hate-speech/snapshots/22acaa49cd237583c60359bf087b42bc2622841b/tokenizer_config.json\n",
            "PyTorch: setting up devices\n",
            "The default value for the training argument `--report_to` will change in v5 (from all installed integrations to none). In v5, you will need to use `--report_to all` to get the same behavior as now. You should start updating your code and make this info disappear :-).\n"
          ]
        }
      ],
      "source": [
        "hate_speech_analyzer = create_analyzer(task=\"hate_speech\", lang=\"pt\")"
      ]
    },
    {
      "cell_type": "markdown",
      "metadata": {
        "id": "skwcDo6bed2f"
      },
      "source": [
        "This model is a multi-label classification algorithm, returning three different variables at the same time:\n",
        "\n",
        "- Is the message hateful or not?\n",
        "- Is the hateful message targeted at a specific person or a group?\n",
        "- Is the hateful message aggressive?"
      ]
    },
    {
      "cell_type": "code",
      "execution_count": 12,
      "metadata": {
        "colab": {
          "base_uri": "https://localhost:8080/"
        },
        "id": "DCVoCKLcnhtQ",
        "outputId": "4850bc59-a058-402b-be63-4a57ad47a46e"
      },
      "outputs": [
        {
          "data": {
            "text/plain": [
              "AnalyzerOutput(output=['Sexism', 'Body'], probas={Sexism: 0.822, Body: 0.864, Racism: 0.060, Ideology: 0.066, Homophobia: 0.009})"
            ]
          },
          "execution_count": 12,
          "metadata": {},
          "output_type": "execute_result"
        }
      ],
      "source": [
        "hate_speech_analyzer.predict(\"gordas são realmente nojentos, por que eles não pensam em si mesmos?\")"
      ]
    },
    {
      "cell_type": "code",
      "execution_count": 23,
      "metadata": {
        "colab": {
          "base_uri": "https://localhost:8080/"
        },
        "id": "BPDxtfWJnhtR",
        "outputId": "14f002c4-bce9-4968-833d-e61767191278"
      },
      "outputs": [
        {
          "data": {
            "text/plain": [
              "AnalyzerOutput(output=['Ideology'], probas={Sexism: 0.059, Body: 0.018, Racism: 0.051, Ideology: 0.805, Homophobia: 0.046})"
            ]
          },
          "execution_count": 23,
          "metadata": {},
          "output_type": "execute_result"
        }
      ],
      "source": [
        "hate_speech_analyzer.predict(\"todos os comunistas são terroristas\")"
      ]
    },
    {
      "cell_type": "code",
      "execution_count": 31,
      "metadata": {
        "colab": {
          "base_uri": "https://localhost:8080/"
        },
        "id": "ZaX94rk7nhtR",
        "outputId": "aa2b392d-64d4-4270-da1e-26f913f912c4"
      },
      "outputs": [
        {
          "data": {
            "text/plain": [
              "AnalyzerOutput(output=['Homophobia'], probas={Sexism: 0.039, Body: 0.008, Racism: 0.021, Ideology: 0.014, Homophobia: 0.960})"
            ]
          },
          "execution_count": 31,
          "metadata": {},
          "output_type": "execute_result"
        }
      ],
      "source": [
        "hate_speech_analyzer.predict(\"chega de homossexuais, gays e outros\")"
      ]
    },
    {
      "attachments": {},
      "cell_type": "markdown",
      "metadata": {
        "id": "5dkP6W6fm3GS"
      },
      "source": [
        "## Preprocessing\n",
        "\n",
        "`pysentimiento` features a preprocessing module with various options for manipulating hashtags, emojis, character repetition, and so on."
      ]
    },
    {
      "cell_type": "code",
      "execution_count": 33,
      "metadata": {
        "colab": {
          "base_uri": "https://localhost:8080/",
          "height": 35
        },
        "id": "_1AboMfXmLsL",
        "outputId": "e5833825-5175-415c-bae3-c93bddcb374f"
      },
      "outputs": [
        {
          "data": {
            "text/plain": [
              "\"emoji buzina emoji  O Twitter removeu as postagens de @USER por 'violar as regras de convivência' hashtag breaking news\""
            ]
          },
          "execution_count": 33,
          "metadata": {},
          "output_type": "execute_result"
        }
      ],
      "source": [
        "from pysentimiento.preprocessing import preprocess_tweet\n",
        "\n",
        "preprocess_tweet(\"📢 O Twitter removeu as postagens de @JairBolsonaro por 'violar as regras de convivência' #BreakingNews\", lang=\"pt\")"
      ]
    },
    {
      "cell_type": "code",
      "execution_count": 34,
      "metadata": {
        "colab": {
          "base_uri": "https://localhost:8080/",
          "height": 35
        },
        "id": "le3-AiC0glMe",
        "outputId": "700ee2db-a140-43c6-f988-a9ff16ca1c97"
      },
      "outputs": [
        {
          "data": {
            "text/plain": [
              "\"📢 O Twitter removeu as postagens de @JairBolsonaro por 'violar as regras de convivência' hashtag breaking news\""
            ]
          },
          "execution_count": 34,
          "metadata": {},
          "output_type": "execute_result"
        }
      ],
      "source": [
        "preprocess_tweet(\"📢 O Twitter removeu as postagens de @JairBolsonaro por 'violar as regras de convivência' #BreakingNews\", preprocess_handles=False, demoji=False)"
      ]
    }
  ],
  "metadata": {
    "colab": {
      "provenance": []
    },
    "kernelspec": {
      "display_name": ".venv",
      "language": "python",
      "name": "python3"
    },
    "language_info": {
      "codemirror_mode": {
        "name": "ipython",
        "version": 3
      },
      "file_extension": ".py",
      "mimetype": "text/x-python",
      "name": "python",
      "nbconvert_exporter": "python",
      "pygments_lexer": "ipython3",
      "version": "3.8.16"
    },
    "vscode": {
      "interpreter": {
        "hash": "3fc79ed69e4c2b5a1db8fa17ebb1e82d66421519e5b018d314116a7b4cda9238"
      }
    },
    "widgets": {
      "application/vnd.jupyter.widget-state+json": {
        "0df8ed7666a145ac812d082482cea5d9": {
          "model_module": "@jupyter-widgets/controls",
          "model_module_version": "1.5.0",
          "model_name": "FloatProgressModel",
          "state": {
            "_dom_classes": [],
            "_model_module": "@jupyter-widgets/controls",
            "_model_module_version": "1.5.0",
            "_model_name": "FloatProgressModel",
            "_view_count": null,
            "_view_module": "@jupyter-widgets/controls",
            "_view_module_version": "1.5.0",
            "_view_name": "ProgressView",
            "bar_style": "",
            "description": "",
            "description_tooltip": null,
            "layout": "IPY_MODEL_a82e60f8b34947a096e5bd7fec5cf3d8",
            "max": 60,
            "min": 0,
            "orientation": "horizontal",
            "style": "IPY_MODEL_2651d82db0bf48838cb5f0daf341ef95",
            "value": 60
          }
        },
        "0f3d120257bc425a9813de7956b2e552": {
          "model_module": "@jupyter-widgets/controls",
          "model_module_version": "1.5.0",
          "model_name": "HTMLModel",
          "state": {
            "_dom_classes": [],
            "_model_module": "@jupyter-widgets/controls",
            "_model_module_version": "1.5.0",
            "_model_name": "HTMLModel",
            "_view_count": null,
            "_view_module": "@jupyter-widgets/controls",
            "_view_module_version": "1.5.0",
            "_view_name": "HTMLView",
            "description": "",
            "description_tooltip": null,
            "layout": "IPY_MODEL_4e612379375e433d97318c107b6b9cd9",
            "placeholder": "​",
            "style": "IPY_MODEL_71a43f492c3245529d42cba9bd4733b3",
            "value": " 60/60 [00:00&lt;00:00, 538.77 examples/s]"
          }
        },
        "18d568236ccf471fa8b893299068f5f6": {
          "model_module": "@jupyter-widgets/base",
          "model_module_version": "1.2.0",
          "model_name": "LayoutModel",
          "state": {
            "_model_module": "@jupyter-widgets/base",
            "_model_module_version": "1.2.0",
            "_model_name": "LayoutModel",
            "_view_count": null,
            "_view_module": "@jupyter-widgets/base",
            "_view_module_version": "1.2.0",
            "_view_name": "LayoutView",
            "align_content": null,
            "align_items": null,
            "align_self": null,
            "border": null,
            "bottom": null,
            "display": null,
            "flex": null,
            "flex_flow": null,
            "grid_area": null,
            "grid_auto_columns": null,
            "grid_auto_flow": null,
            "grid_auto_rows": null,
            "grid_column": null,
            "grid_gap": null,
            "grid_row": null,
            "grid_template_areas": null,
            "grid_template_columns": null,
            "grid_template_rows": null,
            "height": null,
            "justify_content": null,
            "justify_items": null,
            "left": null,
            "margin": null,
            "max_height": null,
            "max_width": null,
            "min_height": null,
            "min_width": null,
            "object_fit": null,
            "object_position": null,
            "order": null,
            "overflow": null,
            "overflow_x": null,
            "overflow_y": null,
            "padding": null,
            "right": null,
            "top": null,
            "visibility": null,
            "width": null
          }
        },
        "1fb6ef14e1c9408b8c9a79d322db0f8f": {
          "model_module": "@jupyter-widgets/controls",
          "model_module_version": "1.5.0",
          "model_name": "HTMLModel",
          "state": {
            "_dom_classes": [],
            "_model_module": "@jupyter-widgets/controls",
            "_model_module_version": "1.5.0",
            "_model_name": "HTMLModel",
            "_view_count": null,
            "_view_module": "@jupyter-widgets/controls",
            "_view_module_version": "1.5.0",
            "_view_name": "HTMLView",
            "description": "",
            "description_tooltip": null,
            "layout": "IPY_MODEL_8e7805d5970240709c2a79f4aa2948b8",
            "placeholder": "​",
            "style": "IPY_MODEL_5fcda9a4471249608fd4b379fa1decb5",
            "value": "100%"
          }
        },
        "2651d82db0bf48838cb5f0daf341ef95": {
          "model_module": "@jupyter-widgets/controls",
          "model_module_version": "1.5.0",
          "model_name": "ProgressStyleModel",
          "state": {
            "_model_module": "@jupyter-widgets/controls",
            "_model_module_version": "1.5.0",
            "_model_name": "ProgressStyleModel",
            "_view_count": null,
            "_view_module": "@jupyter-widgets/base",
            "_view_module_version": "1.2.0",
            "_view_name": "StyleView",
            "bar_color": null,
            "description_width": ""
          }
        },
        "378ba918adab481da4104f815ff0570e": {
          "model_module": "@jupyter-widgets/base",
          "model_module_version": "1.2.0",
          "model_name": "LayoutModel",
          "state": {
            "_model_module": "@jupyter-widgets/base",
            "_model_module_version": "1.2.0",
            "_model_name": "LayoutModel",
            "_view_count": null,
            "_view_module": "@jupyter-widgets/base",
            "_view_module_version": "1.2.0",
            "_view_name": "LayoutView",
            "align_content": null,
            "align_items": null,
            "align_self": null,
            "border": null,
            "bottom": null,
            "display": null,
            "flex": null,
            "flex_flow": null,
            "grid_area": null,
            "grid_auto_columns": null,
            "grid_auto_flow": null,
            "grid_auto_rows": null,
            "grid_column": null,
            "grid_gap": null,
            "grid_row": null,
            "grid_template_areas": null,
            "grid_template_columns": null,
            "grid_template_rows": null,
            "height": null,
            "justify_content": null,
            "justify_items": null,
            "left": null,
            "margin": null,
            "max_height": null,
            "max_width": null,
            "min_height": null,
            "min_width": null,
            "object_fit": null,
            "object_position": null,
            "order": null,
            "overflow": null,
            "overflow_x": null,
            "overflow_y": null,
            "padding": null,
            "right": null,
            "top": null,
            "visibility": null,
            "width": null
          }
        },
        "4723ac77d5eb4a5f8d85d3a53dfaafc4": {
          "model_module": "@jupyter-widgets/controls",
          "model_module_version": "1.5.0",
          "model_name": "DescriptionStyleModel",
          "state": {
            "_model_module": "@jupyter-widgets/controls",
            "_model_module_version": "1.5.0",
            "_model_name": "DescriptionStyleModel",
            "_view_count": null,
            "_view_module": "@jupyter-widgets/base",
            "_view_module_version": "1.2.0",
            "_view_name": "StyleView",
            "description_width": ""
          }
        },
        "4a7ddb68c80d4e3385eb7ce1a349d2f0": {
          "model_module": "@jupyter-widgets/controls",
          "model_module_version": "1.5.0",
          "model_name": "FloatProgressModel",
          "state": {
            "_dom_classes": [],
            "_model_module": "@jupyter-widgets/controls",
            "_model_module_version": "1.5.0",
            "_model_name": "FloatProgressModel",
            "_view_count": null,
            "_view_module": "@jupyter-widgets/controls",
            "_view_module_version": "1.5.0",
            "_view_name": "ProgressView",
            "bar_style": "success",
            "description": "",
            "description_tooltip": null,
            "layout": "IPY_MODEL_18d568236ccf471fa8b893299068f5f6",
            "max": 60,
            "min": 0,
            "orientation": "horizontal",
            "style": "IPY_MODEL_66e5bc3ba23e40948e6326cf0b10d7e8",
            "value": 60
          }
        },
        "4e612379375e433d97318c107b6b9cd9": {
          "model_module": "@jupyter-widgets/base",
          "model_module_version": "1.2.0",
          "model_name": "LayoutModel",
          "state": {
            "_model_module": "@jupyter-widgets/base",
            "_model_module_version": "1.2.0",
            "_model_name": "LayoutModel",
            "_view_count": null,
            "_view_module": "@jupyter-widgets/base",
            "_view_module_version": "1.2.0",
            "_view_name": "LayoutView",
            "align_content": null,
            "align_items": null,
            "align_self": null,
            "border": null,
            "bottom": null,
            "display": null,
            "flex": null,
            "flex_flow": null,
            "grid_area": null,
            "grid_auto_columns": null,
            "grid_auto_flow": null,
            "grid_auto_rows": null,
            "grid_column": null,
            "grid_gap": null,
            "grid_row": null,
            "grid_template_areas": null,
            "grid_template_columns": null,
            "grid_template_rows": null,
            "height": null,
            "justify_content": null,
            "justify_items": null,
            "left": null,
            "margin": null,
            "max_height": null,
            "max_width": null,
            "min_height": null,
            "min_width": null,
            "object_fit": null,
            "object_position": null,
            "order": null,
            "overflow": null,
            "overflow_x": null,
            "overflow_y": null,
            "padding": null,
            "right": null,
            "top": null,
            "visibility": null,
            "width": null
          }
        },
        "560f8c216e9342f39dc0868bdad55c77": {
          "model_module": "@jupyter-widgets/base",
          "model_module_version": "1.2.0",
          "model_name": "LayoutModel",
          "state": {
            "_model_module": "@jupyter-widgets/base",
            "_model_module_version": "1.2.0",
            "_model_name": "LayoutModel",
            "_view_count": null,
            "_view_module": "@jupyter-widgets/base",
            "_view_module_version": "1.2.0",
            "_view_name": "LayoutView",
            "align_content": null,
            "align_items": null,
            "align_self": null,
            "border": null,
            "bottom": null,
            "display": null,
            "flex": null,
            "flex_flow": null,
            "grid_area": null,
            "grid_auto_columns": null,
            "grid_auto_flow": null,
            "grid_auto_rows": null,
            "grid_column": null,
            "grid_gap": null,
            "grid_row": null,
            "grid_template_areas": null,
            "grid_template_columns": null,
            "grid_template_rows": null,
            "height": null,
            "justify_content": null,
            "justify_items": null,
            "left": null,
            "margin": null,
            "max_height": null,
            "max_width": null,
            "min_height": null,
            "min_width": null,
            "object_fit": null,
            "object_position": null,
            "order": null,
            "overflow": null,
            "overflow_x": null,
            "overflow_y": null,
            "padding": null,
            "right": null,
            "top": null,
            "visibility": null,
            "width": null
          }
        },
        "5dbef39335af4b0c92f1f0d14692ee1e": {
          "model_module": "@jupyter-widgets/base",
          "model_module_version": "1.2.0",
          "model_name": "LayoutModel",
          "state": {
            "_model_module": "@jupyter-widgets/base",
            "_model_module_version": "1.2.0",
            "_model_name": "LayoutModel",
            "_view_count": null,
            "_view_module": "@jupyter-widgets/base",
            "_view_module_version": "1.2.0",
            "_view_name": "LayoutView",
            "align_content": null,
            "align_items": null,
            "align_self": null,
            "border": null,
            "bottom": null,
            "display": null,
            "flex": null,
            "flex_flow": null,
            "grid_area": null,
            "grid_auto_columns": null,
            "grid_auto_flow": null,
            "grid_auto_rows": null,
            "grid_column": null,
            "grid_gap": null,
            "grid_row": null,
            "grid_template_areas": null,
            "grid_template_columns": null,
            "grid_template_rows": null,
            "height": null,
            "justify_content": null,
            "justify_items": null,
            "left": null,
            "margin": null,
            "max_height": null,
            "max_width": null,
            "min_height": null,
            "min_width": null,
            "object_fit": null,
            "object_position": null,
            "order": null,
            "overflow": null,
            "overflow_x": null,
            "overflow_y": null,
            "padding": null,
            "right": null,
            "top": null,
            "visibility": "hidden",
            "width": null
          }
        },
        "5fcda9a4471249608fd4b379fa1decb5": {
          "model_module": "@jupyter-widgets/controls",
          "model_module_version": "1.5.0",
          "model_name": "DescriptionStyleModel",
          "state": {
            "_model_module": "@jupyter-widgets/controls",
            "_model_module_version": "1.5.0",
            "_model_name": "DescriptionStyleModel",
            "_view_count": null,
            "_view_module": "@jupyter-widgets/base",
            "_view_module_version": "1.2.0",
            "_view_name": "StyleView",
            "description_width": ""
          }
        },
        "66e5bc3ba23e40948e6326cf0b10d7e8": {
          "model_module": "@jupyter-widgets/controls",
          "model_module_version": "1.5.0",
          "model_name": "ProgressStyleModel",
          "state": {
            "_model_module": "@jupyter-widgets/controls",
            "_model_module_version": "1.5.0",
            "_model_name": "ProgressStyleModel",
            "_view_count": null,
            "_view_module": "@jupyter-widgets/base",
            "_view_module_version": "1.2.0",
            "_view_name": "StyleView",
            "bar_color": null,
            "description_width": ""
          }
        },
        "71a43f492c3245529d42cba9bd4733b3": {
          "model_module": "@jupyter-widgets/controls",
          "model_module_version": "1.5.0",
          "model_name": "DescriptionStyleModel",
          "state": {
            "_model_module": "@jupyter-widgets/controls",
            "_model_module_version": "1.5.0",
            "_model_name": "DescriptionStyleModel",
            "_view_count": null,
            "_view_module": "@jupyter-widgets/base",
            "_view_module_version": "1.2.0",
            "_view_name": "StyleView",
            "description_width": ""
          }
        },
        "775981712a49475da2394bfaa01d98ac": {
          "model_module": "@jupyter-widgets/controls",
          "model_module_version": "1.5.0",
          "model_name": "HBoxModel",
          "state": {
            "_dom_classes": [],
            "_model_module": "@jupyter-widgets/controls",
            "_model_module_version": "1.5.0",
            "_model_name": "HBoxModel",
            "_view_count": null,
            "_view_module": "@jupyter-widgets/controls",
            "_view_module_version": "1.5.0",
            "_view_name": "HBoxView",
            "box_style": "",
            "children": [
              "IPY_MODEL_e720332555e44b968c68e2ec97f76540",
              "IPY_MODEL_0df8ed7666a145ac812d082482cea5d9",
              "IPY_MODEL_0f3d120257bc425a9813de7956b2e552"
            ],
            "layout": "IPY_MODEL_5dbef39335af4b0c92f1f0d14692ee1e"
          }
        },
        "8e7805d5970240709c2a79f4aa2948b8": {
          "model_module": "@jupyter-widgets/base",
          "model_module_version": "1.2.0",
          "model_name": "LayoutModel",
          "state": {
            "_model_module": "@jupyter-widgets/base",
            "_model_module_version": "1.2.0",
            "_model_name": "LayoutModel",
            "_view_count": null,
            "_view_module": "@jupyter-widgets/base",
            "_view_module_version": "1.2.0",
            "_view_name": "LayoutView",
            "align_content": null,
            "align_items": null,
            "align_self": null,
            "border": null,
            "bottom": null,
            "display": null,
            "flex": null,
            "flex_flow": null,
            "grid_area": null,
            "grid_auto_columns": null,
            "grid_auto_flow": null,
            "grid_auto_rows": null,
            "grid_column": null,
            "grid_gap": null,
            "grid_row": null,
            "grid_template_areas": null,
            "grid_template_columns": null,
            "grid_template_rows": null,
            "height": null,
            "justify_content": null,
            "justify_items": null,
            "left": null,
            "margin": null,
            "max_height": null,
            "max_width": null,
            "min_height": null,
            "min_width": null,
            "object_fit": null,
            "object_position": null,
            "order": null,
            "overflow": null,
            "overflow_x": null,
            "overflow_y": null,
            "padding": null,
            "right": null,
            "top": null,
            "visibility": null,
            "width": null
          }
        },
        "a82e60f8b34947a096e5bd7fec5cf3d8": {
          "model_module": "@jupyter-widgets/base",
          "model_module_version": "1.2.0",
          "model_name": "LayoutModel",
          "state": {
            "_model_module": "@jupyter-widgets/base",
            "_model_module_version": "1.2.0",
            "_model_name": "LayoutModel",
            "_view_count": null,
            "_view_module": "@jupyter-widgets/base",
            "_view_module_version": "1.2.0",
            "_view_name": "LayoutView",
            "align_content": null,
            "align_items": null,
            "align_self": null,
            "border": null,
            "bottom": null,
            "display": null,
            "flex": null,
            "flex_flow": null,
            "grid_area": null,
            "grid_auto_columns": null,
            "grid_auto_flow": null,
            "grid_auto_rows": null,
            "grid_column": null,
            "grid_gap": null,
            "grid_row": null,
            "grid_template_areas": null,
            "grid_template_columns": null,
            "grid_template_rows": null,
            "height": null,
            "justify_content": null,
            "justify_items": null,
            "left": null,
            "margin": null,
            "max_height": null,
            "max_width": null,
            "min_height": null,
            "min_width": null,
            "object_fit": null,
            "object_position": null,
            "order": null,
            "overflow": null,
            "overflow_x": null,
            "overflow_y": null,
            "padding": null,
            "right": null,
            "top": null,
            "visibility": null,
            "width": null
          }
        },
        "ca0dbf6bac8c4152834fe97abb672609": {
          "model_module": "@jupyter-widgets/base",
          "model_module_version": "1.2.0",
          "model_name": "LayoutModel",
          "state": {
            "_model_module": "@jupyter-widgets/base",
            "_model_module_version": "1.2.0",
            "_model_name": "LayoutModel",
            "_view_count": null,
            "_view_module": "@jupyter-widgets/base",
            "_view_module_version": "1.2.0",
            "_view_name": "LayoutView",
            "align_content": null,
            "align_items": null,
            "align_self": null,
            "border": null,
            "bottom": null,
            "display": null,
            "flex": null,
            "flex_flow": null,
            "grid_area": null,
            "grid_auto_columns": null,
            "grid_auto_flow": null,
            "grid_auto_rows": null,
            "grid_column": null,
            "grid_gap": null,
            "grid_row": null,
            "grid_template_areas": null,
            "grid_template_columns": null,
            "grid_template_rows": null,
            "height": null,
            "justify_content": null,
            "justify_items": null,
            "left": null,
            "margin": null,
            "max_height": null,
            "max_width": null,
            "min_height": null,
            "min_width": null,
            "object_fit": null,
            "object_position": null,
            "order": null,
            "overflow": null,
            "overflow_x": null,
            "overflow_y": null,
            "padding": null,
            "right": null,
            "top": null,
            "visibility": null,
            "width": null
          }
        },
        "d3098337e9ab4bc1b4893fa611a0d38a": {
          "model_module": "@jupyter-widgets/controls",
          "model_module_version": "1.5.0",
          "model_name": "HBoxModel",
          "state": {
            "_dom_classes": [],
            "_model_module": "@jupyter-widgets/controls",
            "_model_module_version": "1.5.0",
            "_model_name": "HBoxModel",
            "_view_count": null,
            "_view_module": "@jupyter-widgets/controls",
            "_view_module_version": "1.5.0",
            "_view_name": "HBoxView",
            "box_style": "",
            "children": [
              "IPY_MODEL_1fb6ef14e1c9408b8c9a79d322db0f8f",
              "IPY_MODEL_4a7ddb68c80d4e3385eb7ce1a349d2f0",
              "IPY_MODEL_d5480ca308df4dbba6837d301c2081ab"
            ],
            "layout": "IPY_MODEL_378ba918adab481da4104f815ff0570e"
          }
        },
        "d5480ca308df4dbba6837d301c2081ab": {
          "model_module": "@jupyter-widgets/controls",
          "model_module_version": "1.5.0",
          "model_name": "HTMLModel",
          "state": {
            "_dom_classes": [],
            "_model_module": "@jupyter-widgets/controls",
            "_model_module_version": "1.5.0",
            "_model_name": "HTMLModel",
            "_view_count": null,
            "_view_module": "@jupyter-widgets/controls",
            "_view_module_version": "1.5.0",
            "_view_name": "HTMLView",
            "description": "",
            "description_tooltip": null,
            "layout": "IPY_MODEL_560f8c216e9342f39dc0868bdad55c77",
            "placeholder": "​",
            "style": "IPY_MODEL_fea2605c42664ab7bb61ac72aaae9299",
            "value": " 60/60 [00:11&lt;00:00,  5.65it/s]"
          }
        },
        "e720332555e44b968c68e2ec97f76540": {
          "model_module": "@jupyter-widgets/controls",
          "model_module_version": "1.5.0",
          "model_name": "HTMLModel",
          "state": {
            "_dom_classes": [],
            "_model_module": "@jupyter-widgets/controls",
            "_model_module_version": "1.5.0",
            "_model_name": "HTMLModel",
            "_view_count": null,
            "_view_module": "@jupyter-widgets/controls",
            "_view_module_version": "1.5.0",
            "_view_name": "HTMLView",
            "description": "",
            "description_tooltip": null,
            "layout": "IPY_MODEL_ca0dbf6bac8c4152834fe97abb672609",
            "placeholder": "​",
            "style": "IPY_MODEL_4723ac77d5eb4a5f8d85d3a53dfaafc4",
            "value": "Map: 100%"
          }
        },
        "fea2605c42664ab7bb61ac72aaae9299": {
          "model_module": "@jupyter-widgets/controls",
          "model_module_version": "1.5.0",
          "model_name": "DescriptionStyleModel",
          "state": {
            "_model_module": "@jupyter-widgets/controls",
            "_model_module_version": "1.5.0",
            "_model_name": "DescriptionStyleModel",
            "_view_count": null,
            "_view_module": "@jupyter-widgets/base",
            "_view_module_version": "1.2.0",
            "_view_name": "StyleView",
            "description_width": ""
          }
        }
      }
    }
  },
  "nbformat": 4,
  "nbformat_minor": 0
}
