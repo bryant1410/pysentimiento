{
  "cells": [
    {
      "attachments": {},
      "cell_type": "markdown",
      "metadata": {
        "id": "C-5ccq7RKfIV"
      },
      "source": [
        "# pysentimiento: A multilingual toolkit for Sentiment Analysis and SocialNLP tasks\n",
        "\n",
        "# Sentiment Analysis and Opinion Mining in Italian\n",
        "\n",
        "\n",
        "\n",
        "In this notebook we show a brief example of how to use [pysentimiento](https://github.com/pysentimiento/pysentimiento/), a multilingual toolkit for opinion mining and sentiment analysis.\n",
        "\n",
        "`pysentimiento` supports the following tasks for Italian:\n",
        "\n",
        "- Sentiment Analysis \n",
        "- Hate Speech Detection\n",
        "- Irony Detection\n",
        "- Emotion Analysis\n",
        "\n",
        "First, let's install the library\n",
        "\n",
        "-- \n",
        "\n",
        "In questa notebook mostriamo un breve esempio di come utilizzare [pysentimiento](https://github.com/pysentimiento/pysentimiento/), un toolkit multilingue per l'estrazione di opinioni e l'analisi del sentiment.\n",
        "\n",
        "`pysentimiento` supporta le seguenti attività per l'italiano:\n",
        "\n",
        "- Analisi del sentimento\n",
        "- Rilevamento di incitamento all'odio \n",
        "- Rilevamento dell'ironia\n",
        "- Analisi delle emozioni\n",
        "\n",
        "Innanzitutto, installiamo la libreria\n"
      ]
    },
    {
      "cell_type": "code",
      "execution_count": 1,
      "metadata": {
        "colab": {
          "base_uri": "https://localhost:8080/"
        },
        "id": "KVnFbpovDEa6",
        "outputId": "c7f7190b-314a-4c0c-f6af-f802eed4afb9"
      },
      "outputs": [
        {
          "name": "stdout",
          "output_type": "stream",
          "text": [
            "Requirement already satisfied: pysentimiento in /users/jmperez/projects/pysentimiento/.venv/lib/python3.8/site-packages (0.5.2rc4)\n",
            "Requirement already satisfied: transformers>=4.13.0 in /users/jmperez/projects/pysentimiento/.venv/lib/python3.8/site-packages (from pysentimiento) (4.26.0)\n",
            "Requirement already satisfied: torch<2.0.0,>=1.13.1 in /users/jmperez/projects/pysentimiento/.venv/lib/python3.8/site-packages (from pysentimiento) (1.13.1)\n",
            "Requirement already satisfied: spacy<4.0.0,>=3.5.0 in /users/jmperez/projects/pysentimiento/.venv/lib/python3.8/site-packages (from pysentimiento) (3.5.0)\n",
            "Requirement already satisfied: emoji<2.0.0,>=1.6.1 in /users/jmperez/projects/pysentimiento/.venv/lib/python3.8/site-packages (from pysentimiento) (1.7.0)\n",
            "Requirement already satisfied: datasets>=1.13.3 in /users/jmperez/projects/pysentimiento/.venv/lib/python3.8/site-packages (from pysentimiento) (2.9.0)\n",
            "Requirement already satisfied: dill<0.3.7 in /users/jmperez/projects/pysentimiento/.venv/lib/python3.8/site-packages (from datasets>=1.13.3->pysentimiento) (0.3.6)\n",
            "Requirement already satisfied: tqdm>=4.62.1 in /users/jmperez/projects/pysentimiento/.venv/lib/python3.8/site-packages (from datasets>=1.13.3->pysentimiento) (4.64.1)\n",
            "Requirement already satisfied: multiprocess in /users/jmperez/projects/pysentimiento/.venv/lib/python3.8/site-packages (from datasets>=1.13.3->pysentimiento) (0.70.14)\n",
            "Requirement already satisfied: pandas in /users/jmperez/projects/pysentimiento/.venv/lib/python3.8/site-packages (from datasets>=1.13.3->pysentimiento) (1.5.3)\n",
            "Requirement already satisfied: aiohttp in /users/jmperez/projects/pysentimiento/.venv/lib/python3.8/site-packages (from datasets>=1.13.3->pysentimiento) (3.7.4.post0)\n",
            "Requirement already satisfied: pyyaml>=5.1 in /users/jmperez/projects/pysentimiento/.venv/lib/python3.8/site-packages (from datasets>=1.13.3->pysentimiento) (6.0)\n",
            "Requirement already satisfied: huggingface-hub<1.0.0,>=0.2.0 in /users/jmperez/projects/pysentimiento/.venv/lib/python3.8/site-packages (from datasets>=1.13.3->pysentimiento) (0.12.0)\n",
            "Requirement already satisfied: xxhash in /users/jmperez/projects/pysentimiento/.venv/lib/python3.8/site-packages (from datasets>=1.13.3->pysentimiento) (3.2.0)\n",
            "Requirement already satisfied: pyarrow>=6.0.0 in /users/jmperez/projects/pysentimiento/.venv/lib/python3.8/site-packages (from datasets>=1.13.3->pysentimiento) (11.0.0)\n",
            "Requirement already satisfied: requests>=2.19.0 in /users/jmperez/projects/pysentimiento/.venv/lib/python3.8/site-packages (from datasets>=1.13.3->pysentimiento) (2.28.2)\n",
            "Requirement already satisfied: fsspec[http]>=2021.11.1 in /users/jmperez/projects/pysentimiento/.venv/lib/python3.8/site-packages (from datasets>=1.13.3->pysentimiento) (2023.1.0)\n",
            "Requirement already satisfied: packaging in /users/jmperez/projects/pysentimiento/.venv/lib/python3.8/site-packages (from datasets>=1.13.3->pysentimiento) (23.0)\n",
            "Requirement already satisfied: responses<0.19 in /users/jmperez/projects/pysentimiento/.venv/lib/python3.8/site-packages (from datasets>=1.13.3->pysentimiento) (0.18.0)\n",
            "Requirement already satisfied: numpy>=1.17 in /users/jmperez/projects/pysentimiento/.venv/lib/python3.8/site-packages (from datasets>=1.13.3->pysentimiento) (1.24.2)\n",
            "Requirement already satisfied: pydantic!=1.8,!=1.8.1,<1.11.0,>=1.7.4 in /users/jmperez/projects/pysentimiento/.venv/lib/python3.8/site-packages (from spacy<4.0.0,>=3.5.0->pysentimiento) (1.10.5)\n",
            "Requirement already satisfied: setuptools in /users/jmperez/projects/pysentimiento/.venv/lib/python3.8/site-packages (from spacy<4.0.0,>=3.5.0->pysentimiento) (67.2.0)\n",
            "Requirement already satisfied: langcodes<4.0.0,>=3.2.0 in /users/jmperez/projects/pysentimiento/.venv/lib/python3.8/site-packages (from spacy<4.0.0,>=3.5.0->pysentimiento) (3.3.0)\n",
            "Requirement already satisfied: wasabi<1.2.0,>=0.9.1 in /users/jmperez/projects/pysentimiento/.venv/lib/python3.8/site-packages (from spacy<4.0.0,>=3.5.0->pysentimiento) (1.1.1)\n",
            "Requirement already satisfied: murmurhash<1.1.0,>=0.28.0 in /users/jmperez/projects/pysentimiento/.venv/lib/python3.8/site-packages (from spacy<4.0.0,>=3.5.0->pysentimiento) (1.0.9)\n",
            "Requirement already satisfied: pathy>=0.10.0 in /users/jmperez/projects/pysentimiento/.venv/lib/python3.8/site-packages (from spacy<4.0.0,>=3.5.0->pysentimiento) (0.10.1)\n",
            "Requirement already satisfied: catalogue<2.1.0,>=2.0.6 in /users/jmperez/projects/pysentimiento/.venv/lib/python3.8/site-packages (from spacy<4.0.0,>=3.5.0->pysentimiento) (2.0.8)\n",
            "Requirement already satisfied: spacy-loggers<2.0.0,>=1.0.0 in /users/jmperez/projects/pysentimiento/.venv/lib/python3.8/site-packages (from spacy<4.0.0,>=3.5.0->pysentimiento) (1.0.4)\n",
            "Requirement already satisfied: thinc<8.2.0,>=8.1.0 in /users/jmperez/projects/pysentimiento/.venv/lib/python3.8/site-packages (from spacy<4.0.0,>=3.5.0->pysentimiento) (8.1.7)\n",
            "Requirement already satisfied: jinja2 in /users/jmperez/projects/pysentimiento/.venv/lib/python3.8/site-packages (from spacy<4.0.0,>=3.5.0->pysentimiento) (3.1.2)\n",
            "Requirement already satisfied: spacy-legacy<3.1.0,>=3.0.11 in /users/jmperez/projects/pysentimiento/.venv/lib/python3.8/site-packages (from spacy<4.0.0,>=3.5.0->pysentimiento) (3.0.12)\n",
            "Requirement already satisfied: typer<0.8.0,>=0.3.0 in /users/jmperez/projects/pysentimiento/.venv/lib/python3.8/site-packages (from spacy<4.0.0,>=3.5.0->pysentimiento) (0.7.0)\n",
            "Requirement already satisfied: smart-open<7.0.0,>=5.2.1 in /users/jmperez/projects/pysentimiento/.venv/lib/python3.8/site-packages (from spacy<4.0.0,>=3.5.0->pysentimiento) (6.3.0)\n",
            "Requirement already satisfied: srsly<3.0.0,>=2.4.3 in /users/jmperez/projects/pysentimiento/.venv/lib/python3.8/site-packages (from spacy<4.0.0,>=3.5.0->pysentimiento) (2.4.5)\n",
            "Requirement already satisfied: preshed<3.1.0,>=3.0.2 in /users/jmperez/projects/pysentimiento/.venv/lib/python3.8/site-packages (from spacy<4.0.0,>=3.5.0->pysentimiento) (3.0.8)\n",
            "Requirement already satisfied: cymem<2.1.0,>=2.0.2 in /users/jmperez/projects/pysentimiento/.venv/lib/python3.8/site-packages (from spacy<4.0.0,>=3.5.0->pysentimiento) (2.0.7)\n",
            "Requirement already satisfied: nvidia-cudnn-cu11==8.5.0.96 in /users/jmperez/projects/pysentimiento/.venv/lib/python3.8/site-packages (from torch<2.0.0,>=1.13.1->pysentimiento) (8.5.0.96)\n",
            "Requirement already satisfied: nvidia-cuda-nvrtc-cu11==11.7.99 in /users/jmperez/projects/pysentimiento/.venv/lib/python3.8/site-packages (from torch<2.0.0,>=1.13.1->pysentimiento) (11.7.99)\n",
            "Requirement already satisfied: typing-extensions in /users/jmperez/projects/pysentimiento/.venv/lib/python3.8/site-packages (from torch<2.0.0,>=1.13.1->pysentimiento) (4.4.0)\n",
            "Requirement already satisfied: nvidia-cublas-cu11==11.10.3.66 in /users/jmperez/projects/pysentimiento/.venv/lib/python3.8/site-packages (from torch<2.0.0,>=1.13.1->pysentimiento) (11.10.3.66)\n",
            "Requirement already satisfied: nvidia-cuda-runtime-cu11==11.7.99 in /users/jmperez/projects/pysentimiento/.venv/lib/python3.8/site-packages (from torch<2.0.0,>=1.13.1->pysentimiento) (11.7.99)\n",
            "Requirement already satisfied: wheel in /users/jmperez/projects/pysentimiento/.venv/lib/python3.8/site-packages (from nvidia-cublas-cu11==11.10.3.66->torch<2.0.0,>=1.13.1->pysentimiento) (0.38.4)\n",
            "Requirement already satisfied: regex!=2019.12.17 in /users/jmperez/projects/pysentimiento/.venv/lib/python3.8/site-packages (from transformers>=4.13.0->pysentimiento) (2022.10.31)\n",
            "Requirement already satisfied: tokenizers!=0.11.3,<0.14,>=0.11.1 in /users/jmperez/projects/pysentimiento/.venv/lib/python3.8/site-packages (from transformers>=4.13.0->pysentimiento) (0.13.2)\n",
            "Requirement already satisfied: filelock in /users/jmperez/projects/pysentimiento/.venv/lib/python3.8/site-packages (from transformers>=4.13.0->pysentimiento) (3.9.0)\n",
            "Requirement already satisfied: async-timeout<4.0,>=3.0 in /users/jmperez/projects/pysentimiento/.venv/lib/python3.8/site-packages (from aiohttp->datasets>=1.13.3->pysentimiento) (3.0.1)\n",
            "Requirement already satisfied: attrs>=17.3.0 in /users/jmperez/projects/pysentimiento/.venv/lib/python3.8/site-packages (from aiohttp->datasets>=1.13.3->pysentimiento) (22.2.0)\n",
            "Requirement already satisfied: chardet<5.0,>=2.0 in /users/jmperez/projects/pysentimiento/.venv/lib/python3.8/site-packages (from aiohttp->datasets>=1.13.3->pysentimiento) (4.0.0)\n",
            "Requirement already satisfied: yarl<2.0,>=1.0 in /users/jmperez/projects/pysentimiento/.venv/lib/python3.8/site-packages (from aiohttp->datasets>=1.13.3->pysentimiento) (1.8.2)\n",
            "Requirement already satisfied: multidict<7.0,>=4.5 in /users/jmperez/projects/pysentimiento/.venv/lib/python3.8/site-packages (from aiohttp->datasets>=1.13.3->pysentimiento) (6.0.4)\n",
            "Requirement already satisfied: certifi>=2017.4.17 in /users/jmperez/projects/pysentimiento/.venv/lib/python3.8/site-packages (from requests>=2.19.0->datasets>=1.13.3->pysentimiento) (2022.12.7)\n",
            "Requirement already satisfied: idna<4,>=2.5 in /users/jmperez/projects/pysentimiento/.venv/lib/python3.8/site-packages (from requests>=2.19.0->datasets>=1.13.3->pysentimiento) (3.4)\n",
            "Requirement already satisfied: charset-normalizer<4,>=2 in /users/jmperez/projects/pysentimiento/.venv/lib/python3.8/site-packages (from requests>=2.19.0->datasets>=1.13.3->pysentimiento) (3.0.1)\n",
            "Requirement already satisfied: urllib3<1.27,>=1.21.1 in /users/jmperez/projects/pysentimiento/.venv/lib/python3.8/site-packages (from requests>=2.19.0->datasets>=1.13.3->pysentimiento) (1.26.14)\n",
            "Requirement already satisfied: confection<1.0.0,>=0.0.1 in /users/jmperez/projects/pysentimiento/.venv/lib/python3.8/site-packages (from thinc<8.2.0,>=8.1.0->spacy<4.0.0,>=3.5.0->pysentimiento) (0.0.4)\n",
            "Requirement already satisfied: blis<0.8.0,>=0.7.8 in /users/jmperez/projects/pysentimiento/.venv/lib/python3.8/site-packages (from thinc<8.2.0,>=8.1.0->spacy<4.0.0,>=3.5.0->pysentimiento) (0.7.9)\n",
            "Requirement already satisfied: click<9.0.0,>=7.1.1 in /users/jmperez/projects/pysentimiento/.venv/lib/python3.8/site-packages (from typer<0.8.0,>=0.3.0->spacy<4.0.0,>=3.5.0->pysentimiento) (8.1.3)\n",
            "Requirement already satisfied: MarkupSafe>=2.0 in /users/jmperez/projects/pysentimiento/.venv/lib/python3.8/site-packages (from jinja2->spacy<4.0.0,>=3.5.0->pysentimiento) (2.1.2)\n",
            "Requirement already satisfied: python-dateutil>=2.8.1 in /users/jmperez/projects/pysentimiento/.venv/lib/python3.8/site-packages (from pandas->datasets>=1.13.3->pysentimiento) (2.8.2)\n",
            "Requirement already satisfied: pytz>=2020.1 in /users/jmperez/projects/pysentimiento/.venv/lib/python3.8/site-packages (from pandas->datasets>=1.13.3->pysentimiento) (2022.7.1)\n",
            "Requirement already satisfied: six>=1.5 in /users/jmperez/projects/pysentimiento/.venv/lib/python3.8/site-packages (from python-dateutil>=2.8.1->pandas->datasets>=1.13.3->pysentimiento) (1.16.0)\n",
            "\n",
            "\u001b[1m[\u001b[0m\u001b[34;49mnotice\u001b[0m\u001b[1;39;49m]\u001b[0m\u001b[39;49m A new release of pip available: \u001b[0m\u001b[31;49m22.3.1\u001b[0m\u001b[39;49m -> \u001b[0m\u001b[32;49m23.0.1\u001b[0m\n",
            "\u001b[1m[\u001b[0m\u001b[34;49mnotice\u001b[0m\u001b[1;39;49m]\u001b[0m\u001b[39;49m To update, run: \u001b[0m\u001b[32;49mpip install --upgrade pip\u001b[0m\n"
          ]
        }
      ],
      "source": [
        "!pip install pysentimiento"
      ]
    },
    {
      "attachments": {},
      "cell_type": "markdown",
      "metadata": {
        "id": "Hoei-uwvLV9-"
      },
      "source": [
        "Let's create an analyzer. The `create_analyzer` receives the task and the language as parameters."
      ]
    },
    {
      "cell_type": "code",
      "execution_count": 2,
      "metadata": {
        "colab": {
          "base_uri": "https://localhost:8080/"
        },
        "id": "zeHz6sDuAbFz",
        "outputId": "65b47abc-54bf-4804-bb00-1c8ce6b649b0"
      },
      "outputs": [],
      "source": [
        "from pysentimiento import create_analyzer\n",
        "analyzer = create_analyzer(task=\"sentiment\", lang=\"it\")\n"
      ]
    },
    {
      "attachments": {},
      "cell_type": "markdown",
      "metadata": {
        "id": "PVuD_60yLnYN"
      },
      "source": [
        "\n",
        "The sentiment analysis module for Italian is based on the [SENTIPOLC@EvalITA](http://www.di.unito.it/~tutreeb/sentipolc-evalita16/) dataset, which is annotated with two labels:\n",
        "\n",
        "- has the text a positive sentiment? (pos)\n",
        "- has the text a negative sentiment? (neg)\n",
        "\n",
        "`pos` and `neg` are binary variables, thus this results in 4 combinations:\n",
        "\n",
        "- if `pos` is 0 and `neg` is 0, the text is neutral\n",
        "- if `pos` is 1 and `neg` is 0, the text has a positive sentiment}\n",
        "- if `pos` is 0 and `neg` is 1, the text has a negative sentiment\n",
        "- if `pos` is 1 and `neg` is 1, the text has both a positive and a negative sentiment (we call this a mixed sentiment)\n",
        "\n",
        "(see [TASKS](docs/TASKS.md) for more information)\n",
        "\n"
      ]
    },
    {
      "cell_type": "code",
      "execution_count": 3,
      "metadata": {
        "colab": {
          "base_uri": "https://localhost:8080/"
        },
        "id": "Gq-i7iU-Lfyl",
        "outputId": "07418a53-cb1c-498c-f287-e60c8af00dc9"
      },
      "outputs": [
        {
          "data": {
            "text/plain": [
              "AnalyzerOutput(output=['pos'], probas={pos: 0.969, neg: 0.009})"
            ]
          },
          "execution_count": 3,
          "metadata": {},
          "output_type": "execute_result"
        }
      ],
      "source": [
        "# A positive text in Italian\n",
        "analyzer.predict(\"Questo è fantastico\")"
      ]
    },
    {
      "attachments": {},
      "cell_type": "markdown",
      "metadata": {},
      "source": [
        "We have `pos` output alone"
      ]
    },
    {
      "cell_type": "code",
      "execution_count": 5,
      "metadata": {
        "colab": {
          "base_uri": "https://localhost:8080/"
        },
        "id": "ktkizc1FLjXZ",
        "outputId": "39e1ff35-b573-486c-b3de-6b439cd99d40"
      },
      "outputs": [
        {
          "data": {
            "text/plain": [
              "AnalyzerOutput(output=['neg'], probas={pos: 0.029, neg: 0.989})"
            ]
          },
          "execution_count": 5,
          "metadata": {},
          "output_type": "execute_result"
        }
      ],
      "source": [
        "analyzer.predict(\"Questo è una merda\")"
      ]
    },
    {
      "cell_type": "code",
      "execution_count": 9,
      "metadata": {
        "colab": {
          "base_uri": "https://localhost:8080/"
        },
        "id": "AWczZn9KLlod",
        "outputId": "9d445bf1-7429-4887-a3e3-c9bca9503b4c"
      },
      "outputs": [
        {
          "data": {
            "text/plain": [
              "AnalyzerOutput(output=['pos', 'neg'], probas={pos: 0.827, neg: 0.988})"
            ]
          },
          "execution_count": 9,
          "metadata": {},
          "output_type": "execute_result"
        }
      ],
      "source": [
        "# A mixed-sentiment text in Italian\n",
        "analyzer.predict(\"Sono contento che il Bayern abbia vinto, ma sono triste per Messi\")"
      ]
    },
    {
      "cell_type": "code",
      "execution_count": 10,
      "metadata": {},
      "outputs": [
        {
          "data": {
            "text/plain": [
              "AnalyzerOutput(output=[], probas={pos: 0.010, neg: 0.018})"
            ]
          },
          "execution_count": 10,
          "metadata": {},
          "output_type": "execute_result"
        }
      ],
      "source": [
        "# A neutral text in Italian\n",
        "analyzer.predict(\"Cosa è questo?\")"
      ]
    },
    {
      "attachments": {},
      "cell_type": "markdown",
      "metadata": {
        "id": "HZVo2CUNmGoK"
      },
      "source": [
        "### Emojis\n",
        "\n",
        "It supports the use of emojis through the [emoji](https://pypi.org/project/emoji/) library.\n"
      ]
    },
    {
      "cell_type": "code",
      "execution_count": 11,
      "metadata": {
        "colab": {
          "base_uri": "https://localhost:8080/"
        },
        "id": "yCFPVTwyuPI_",
        "outputId": "47feaa5a-e3ce-4155-dd7e-8554913bd2c8"
      },
      "outputs": [
        {
          "data": {
            "text/plain": [
              "AnalyzerOutput(output=['neg'], probas={pos: 0.069, neg: 0.992})"
            ]
          },
          "execution_count": 11,
          "metadata": {},
          "output_type": "execute_result"
        }
      ],
      "source": [
        "analyzer.predict(\"🤢\")"
      ]
    },
    {
      "attachments": {},
      "cell_type": "markdown",
      "metadata": {
        "id": "LdN1CDnqnhtQ"
      },
      "source": [
        "## Hate Speech\n",
        "\n",
        "`pysentimiento` also supports hate speech detection for Italian, by training models using the [HaSpeeDe@EvalITA](http://www.di.unito.it/~tutreeb/haspeede-evalita20/index.html) dataset.\n",
        "\n",
        "In this case, we have a multi-label approach as well, where the outputs are:\n",
        "\n",
        "- does the text contains hate speech? (`hate`)\n",
        "- does the text contains a stereotype? (`stereotype`)"
      ]
    },
    {
      "cell_type": "code",
      "execution_count": 12,
      "metadata": {
        "colab": {
          "base_uri": "https://localhost:8080/"
        },
        "id": "ZeuozqEWnhtQ",
        "outputId": "ab02de9e-020f-4830-ea65-dfcbb58ac2a3"
      },
      "outputs": [
        {
          "name": "stderr",
          "output_type": "stream",
          "text": [
            "loading configuration file config.json from cache at /users/jmperez/.cache/huggingface/hub/models--pysentimiento--bert-it-hate-speech/snapshots/9a60ac39953b872bca7f904729b0c421de42ecc9/config.json\n",
            "Model config BertConfig {\n",
            "  \"_name_or_path\": \"pysentimiento/bert-it-hate-speech\",\n",
            "  \"architectures\": [\n",
            "    \"BertForSequenceClassification\"\n",
            "  ],\n",
            "  \"attention_probs_dropout_prob\": 0.1,\n",
            "  \"classifier_dropout\": null,\n",
            "  \"hidden_act\": \"gelu\",\n",
            "  \"hidden_dropout_prob\": 0.1,\n",
            "  \"hidden_size\": 768,\n",
            "  \"id2label\": {\n",
            "    \"0\": \"hateful\",\n",
            "    \"1\": \"stereotype\"\n",
            "  },\n",
            "  \"initializer_range\": 0.02,\n",
            "  \"intermediate_size\": 3072,\n",
            "  \"label2id\": {\n",
            "    \"hateful\": 0,\n",
            "    \"stereotype\": 1\n",
            "  },\n",
            "  \"layer_norm_eps\": 1e-12,\n",
            "  \"max_position_embeddings\": 512,\n",
            "  \"model_type\": \"bert\",\n",
            "  \"num_attention_heads\": 12,\n",
            "  \"num_hidden_layers\": 12,\n",
            "  \"pad_token_id\": 0,\n",
            "  \"position_embedding_type\": \"absolute\",\n",
            "  \"problem_type\": \"multi_label_classification\",\n",
            "  \"torch_dtype\": \"float32\",\n",
            "  \"transformers_version\": \"4.26.0\",\n",
            "  \"type_vocab_size\": 2,\n",
            "  \"use_cache\": true,\n",
            "  \"vocab_size\": 31104\n",
            "}\n",
            "\n",
            "loading weights file pytorch_model.bin from cache at /users/jmperez/.cache/huggingface/hub/models--pysentimiento--bert-it-hate-speech/snapshots/9a60ac39953b872bca7f904729b0c421de42ecc9/pytorch_model.bin\n",
            "All model checkpoint weights were used when initializing BertForSequenceClassification.\n",
            "\n",
            "All the weights of BertForSequenceClassification were initialized from the model checkpoint at pysentimiento/bert-it-hate-speech.\n",
            "If your task is similar to the task the model of the checkpoint was trained on, you can already use BertForSequenceClassification for predictions without further training.\n",
            "loading file vocab.txt from cache at /users/jmperez/.cache/huggingface/hub/models--pysentimiento--bert-it-hate-speech/snapshots/9a60ac39953b872bca7f904729b0c421de42ecc9/vocab.txt\n",
            "loading file tokenizer.json from cache at /users/jmperez/.cache/huggingface/hub/models--pysentimiento--bert-it-hate-speech/snapshots/9a60ac39953b872bca7f904729b0c421de42ecc9/tokenizer.json\n",
            "loading file added_tokens.json from cache at /users/jmperez/.cache/huggingface/hub/models--pysentimiento--bert-it-hate-speech/snapshots/9a60ac39953b872bca7f904729b0c421de42ecc9/added_tokens.json\n",
            "loading file special_tokens_map.json from cache at /users/jmperez/.cache/huggingface/hub/models--pysentimiento--bert-it-hate-speech/snapshots/9a60ac39953b872bca7f904729b0c421de42ecc9/special_tokens_map.json\n",
            "loading file tokenizer_config.json from cache at /users/jmperez/.cache/huggingface/hub/models--pysentimiento--bert-it-hate-speech/snapshots/9a60ac39953b872bca7f904729b0c421de42ecc9/tokenizer_config.json\n",
            "PyTorch: setting up devices\n",
            "The default value for the training argument `--report_to` will change in v5 (from all installed integrations to none). In v5, you will need to use `--report_to all` to get the same behavior as now. You should start updating your code and make this info disappear :-).\n"
          ]
        }
      ],
      "source": [
        "hate_speech_analyzer = create_analyzer(task=\"hate_speech\", lang=\"it\")"
      ]
    },
    {
      "cell_type": "code",
      "execution_count": 18,
      "metadata": {
        "colab": {
          "base_uri": "https://localhost:8080/"
        },
        "id": "DCVoCKLcnhtQ",
        "outputId": "4850bc59-a058-402b-be63-4a57ad47a46e"
      },
      "outputs": [
        {
          "data": {
            "text/plain": [
              "AnalyzerOutput(output=['hateful'], probas={hateful: 0.907, stereotype: 0.155})"
            ]
          },
          "execution_count": 18,
          "metadata": {},
          "output_type": "execute_result"
        }
      ],
      "source": [
        "hate_speech_analyzer.predict(\"Non voglio vedere un altro immigrato nel mio paese! Spero che li restituiscano presto in barca\")"
      ]
    },
    {
      "cell_type": "code",
      "execution_count": 19,
      "metadata": {
        "colab": {
          "base_uri": "https://localhost:8080/"
        },
        "id": "BPDxtfWJnhtR",
        "outputId": "14f002c4-bce9-4968-833d-e61767191278"
      },
      "outputs": [
        {
          "data": {
            "text/plain": [
              "AnalyzerOutput(output=['stereotype'], probas={hateful: 0.184, stereotype: 0.898})"
            ]
          },
          "execution_count": 19,
          "metadata": {},
          "output_type": "execute_result"
        }
      ],
      "source": [
        "hate_speech_analyzer.predict(\"Hai mai visto un povero ebreo? Sono tutti ricchi e avidi\")"
      ]
    },
    {
      "cell_type": "code",
      "execution_count": 20,
      "metadata": {
        "colab": {
          "base_uri": "https://localhost:8080/"
        },
        "id": "ZaX94rk7nhtR",
        "outputId": "aa2b392d-64d4-4270-da1e-26f913f912c4"
      },
      "outputs": [
        {
          "data": {
            "text/plain": [
              "AnalyzerOutput(output=['hateful', 'stereotype'], probas={hateful: 0.838, stereotype: 0.770})"
            ]
          },
          "execution_count": 20,
          "metadata": {},
          "output_type": "execute_result"
        }
      ],
      "source": [
        "hate_speech_analyzer.predict(\"Tutti i musulmani portano dentro il terrorista. non puoi fidarti di loro\")"
      ]
    },
    {
      "attachments": {},
      "cell_type": "markdown",
      "metadata": {},
      "source": [
        "## Emotion detection\n",
        "\n",
        "We use [FEEL-IT](https://github.com/MilaNLProc/feel-it) dataset for emotion detection. This dataset is annotated with 4 emotions:\n",
        "\n",
        "- anger\n",
        "- fear\n",
        "- joy\n",
        "- sadness\n",
        "\n"
      ]
    },
    {
      "cell_type": "code",
      "execution_count": 30,
      "metadata": {},
      "outputs": [
        {
          "name": "stderr",
          "output_type": "stream",
          "text": [
            "loading configuration file config.json from cache at /users/jmperez/.cache/huggingface/hub/models--pysentimiento--bert-it-emotion/snapshots/24abd20917487cc870876f4e936f56d9641dfe7e/config.json\n",
            "Model config BertConfig {\n",
            "  \"_name_or_path\": \"pysentimiento/bert-it-emotion\",\n",
            "  \"architectures\": [\n",
            "    \"BertForSequenceClassification\"\n",
            "  ],\n",
            "  \"attention_probs_dropout_prob\": 0.1,\n",
            "  \"classifier_dropout\": null,\n",
            "  \"hidden_act\": \"gelu\",\n",
            "  \"hidden_dropout_prob\": 0.1,\n",
            "  \"hidden_size\": 768,\n",
            "  \"id2label\": {\n",
            "    \"0\": \"joy\",\n",
            "    \"1\": \"anger\",\n",
            "    \"2\": \"sadness\",\n",
            "    \"3\": \"fear\"\n",
            "  },\n",
            "  \"initializer_range\": 0.02,\n",
            "  \"intermediate_size\": 3072,\n",
            "  \"label2id\": {\n",
            "    \"anger\": 1,\n",
            "    \"fear\": 3,\n",
            "    \"joy\": 0,\n",
            "    \"sadness\": 2\n",
            "  },\n",
            "  \"layer_norm_eps\": 1e-12,\n",
            "  \"max_position_embeddings\": 512,\n",
            "  \"model_type\": \"bert\",\n",
            "  \"num_attention_heads\": 12,\n",
            "  \"num_hidden_layers\": 12,\n",
            "  \"pad_token_id\": 0,\n",
            "  \"position_embedding_type\": \"absolute\",\n",
            "  \"problem_type\": \"single_label_classification\",\n",
            "  \"torch_dtype\": \"float32\",\n",
            "  \"transformers_version\": \"4.26.0\",\n",
            "  \"type_vocab_size\": 2,\n",
            "  \"use_cache\": true,\n",
            "  \"vocab_size\": 31104\n",
            "}\n",
            "\n",
            "loading weights file pytorch_model.bin from cache at /users/jmperez/.cache/huggingface/hub/models--pysentimiento--bert-it-emotion/snapshots/24abd20917487cc870876f4e936f56d9641dfe7e/pytorch_model.bin\n",
            "All model checkpoint weights were used when initializing BertForSequenceClassification.\n",
            "\n",
            "All the weights of BertForSequenceClassification were initialized from the model checkpoint at pysentimiento/bert-it-emotion.\n",
            "If your task is similar to the task the model of the checkpoint was trained on, you can already use BertForSequenceClassification for predictions without further training.\n",
            "loading file vocab.txt from cache at /users/jmperez/.cache/huggingface/hub/models--pysentimiento--bert-it-emotion/snapshots/24abd20917487cc870876f4e936f56d9641dfe7e/vocab.txt\n",
            "loading file tokenizer.json from cache at /users/jmperez/.cache/huggingface/hub/models--pysentimiento--bert-it-emotion/snapshots/24abd20917487cc870876f4e936f56d9641dfe7e/tokenizer.json\n",
            "loading file added_tokens.json from cache at /users/jmperez/.cache/huggingface/hub/models--pysentimiento--bert-it-emotion/snapshots/24abd20917487cc870876f4e936f56d9641dfe7e/added_tokens.json\n",
            "loading file special_tokens_map.json from cache at /users/jmperez/.cache/huggingface/hub/models--pysentimiento--bert-it-emotion/snapshots/24abd20917487cc870876f4e936f56d9641dfe7e/special_tokens_map.json\n",
            "loading file tokenizer_config.json from cache at /users/jmperez/.cache/huggingface/hub/models--pysentimiento--bert-it-emotion/snapshots/24abd20917487cc870876f4e936f56d9641dfe7e/tokenizer_config.json\n",
            "PyTorch: setting up devices\n",
            "The default value for the training argument `--report_to` will change in v5 (from all installed integrations to none). In v5, you will need to use `--report_to all` to get the same behavior as now. You should start updating your code and make this info disappear :-).\n"
          ]
        }
      ],
      "source": [
        "emotion_analyzer = create_analyzer(\"emotion\", \"it\")\n"
      ]
    },
    {
      "cell_type": "code",
      "execution_count": 31,
      "metadata": {},
      "outputs": [
        {
          "data": {
            "text/plain": [
              "AnalyzerOutput(output=joy, probas={joy: 0.972, sadness: 0.019, anger: 0.004, fear: 0.004})"
            ]
          },
          "execution_count": 31,
          "metadata": {},
          "output_type": "execute_result"
        }
      ],
      "source": [
        "emotion_analyzer.predict(\"Sono felice di essere qui\")"
      ]
    },
    {
      "cell_type": "code",
      "execution_count": 32,
      "metadata": {},
      "outputs": [
        {
          "data": {
            "text/plain": [
              "AnalyzerOutput(output=sadness, probas={sadness: 0.956, fear: 0.027, joy: 0.013, anger: 0.004})"
            ]
          },
          "execution_count": 32,
          "metadata": {},
          "output_type": "execute_result"
        }
      ],
      "source": [
        "emotion_analyzer.predict(\"Siamo fuori della Copa. E un giorno tristísimo..\")"
      ]
    },
    {
      "attachments": {},
      "cell_type": "markdown",
      "metadata": {
        "id": "5dkP6W6fm3GS"
      },
      "source": [
        "## Preprocessing\n",
        "\n",
        "`pysentimiento` features a preprocessing module with various options for manipulating hashtags, emojis, character repetition, and so on."
      ]
    },
    {
      "cell_type": "code",
      "execution_count": 21,
      "metadata": {
        "colab": {
          "base_uri": "https://localhost:8080/",
          "height": 35
        },
        "id": "_1AboMfXmLsL",
        "outputId": "e5833825-5175-415c-bae3-c93bddcb374f"
      },
      "outputs": [
        {
          "data": {
            "text/plain": [
              "'emoji altoparlante emoji  ##user dice che \"l\\'Italia non è un Paese razzista\"'"
            ]
          },
          "execution_count": 21,
          "metadata": {},
          "output_type": "execute_result"
        }
      ],
      "source": [
        "from pysentimiento.preprocessing import preprocess_tweet\n",
        "\n",
        "preprocess_tweet(\"📢 @MatteoSalvini dice che \\\"l'Italia non è un Paese razzista\\\"\", lang=\"it\")"
      ]
    },
    {
      "cell_type": "code",
      "execution_count": 23,
      "metadata": {
        "colab": {
          "base_uri": "https://localhost:8080/",
          "height": 35
        },
        "id": "le3-AiC0glMe",
        "outputId": "700ee2db-a140-43c6-f988-a9ff16ca1c97"
      },
      "outputs": [
        {
          "data": {
            "text/plain": [
              "'📢 @MatteoSalvini dice che \"l\\'Italia non è un Paese razzista\"'"
            ]
          },
          "execution_count": 23,
          "metadata": {},
          "output_type": "execute_result"
        }
      ],
      "source": [
        "preprocess_tweet(\n",
        "    \"📢 @MatteoSalvini dice che \\\"l'Italia non è un Paese razzista\\\"\", \n",
        "    lang=\"it\", preprocess_handles=False, demoji=False)"
      ]
    }
  ],
  "metadata": {
    "colab": {
      "provenance": []
    },
    "kernelspec": {
      "display_name": ".venv",
      "language": "python",
      "name": "python3"
    },
    "language_info": {
      "codemirror_mode": {
        "name": "ipython",
        "version": 3
      },
      "file_extension": ".py",
      "mimetype": "text/x-python",
      "name": "python",
      "nbconvert_exporter": "python",
      "pygments_lexer": "ipython3",
      "version": "3.8.16"
    },
    "vscode": {
      "interpreter": {
        "hash": "3fc79ed69e4c2b5a1db8fa17ebb1e82d66421519e5b018d314116a7b4cda9238"
      }
    },
    "widgets": {
      "application/vnd.jupyter.widget-state+json": {
        "0df8ed7666a145ac812d082482cea5d9": {
          "model_module": "@jupyter-widgets/controls",
          "model_module_version": "1.5.0",
          "model_name": "FloatProgressModel",
          "state": {
            "_dom_classes": [],
            "_model_module": "@jupyter-widgets/controls",
            "_model_module_version": "1.5.0",
            "_model_name": "FloatProgressModel",
            "_view_count": null,
            "_view_module": "@jupyter-widgets/controls",
            "_view_module_version": "1.5.0",
            "_view_name": "ProgressView",
            "bar_style": "",
            "description": "",
            "description_tooltip": null,
            "layout": "IPY_MODEL_a82e60f8b34947a096e5bd7fec5cf3d8",
            "max": 60,
            "min": 0,
            "orientation": "horizontal",
            "style": "IPY_MODEL_2651d82db0bf48838cb5f0daf341ef95",
            "value": 60
          }
        },
        "0f3d120257bc425a9813de7956b2e552": {
          "model_module": "@jupyter-widgets/controls",
          "model_module_version": "1.5.0",
          "model_name": "HTMLModel",
          "state": {
            "_dom_classes": [],
            "_model_module": "@jupyter-widgets/controls",
            "_model_module_version": "1.5.0",
            "_model_name": "HTMLModel",
            "_view_count": null,
            "_view_module": "@jupyter-widgets/controls",
            "_view_module_version": "1.5.0",
            "_view_name": "HTMLView",
            "description": "",
            "description_tooltip": null,
            "layout": "IPY_MODEL_4e612379375e433d97318c107b6b9cd9",
            "placeholder": "​",
            "style": "IPY_MODEL_71a43f492c3245529d42cba9bd4733b3",
            "value": " 60/60 [00:00&lt;00:00, 538.77 examples/s]"
          }
        },
        "18d568236ccf471fa8b893299068f5f6": {
          "model_module": "@jupyter-widgets/base",
          "model_module_version": "1.2.0",
          "model_name": "LayoutModel",
          "state": {
            "_model_module": "@jupyter-widgets/base",
            "_model_module_version": "1.2.0",
            "_model_name": "LayoutModel",
            "_view_count": null,
            "_view_module": "@jupyter-widgets/base",
            "_view_module_version": "1.2.0",
            "_view_name": "LayoutView",
            "align_content": null,
            "align_items": null,
            "align_self": null,
            "border": null,
            "bottom": null,
            "display": null,
            "flex": null,
            "flex_flow": null,
            "grid_area": null,
            "grid_auto_columns": null,
            "grid_auto_flow": null,
            "grid_auto_rows": null,
            "grid_column": null,
            "grid_gap": null,
            "grid_row": null,
            "grid_template_areas": null,
            "grid_template_columns": null,
            "grid_template_rows": null,
            "height": null,
            "justify_content": null,
            "justify_items": null,
            "left": null,
            "margin": null,
            "max_height": null,
            "max_width": null,
            "min_height": null,
            "min_width": null,
            "object_fit": null,
            "object_position": null,
            "order": null,
            "overflow": null,
            "overflow_x": null,
            "overflow_y": null,
            "padding": null,
            "right": null,
            "top": null,
            "visibility": null,
            "width": null
          }
        },
        "1fb6ef14e1c9408b8c9a79d322db0f8f": {
          "model_module": "@jupyter-widgets/controls",
          "model_module_version": "1.5.0",
          "model_name": "HTMLModel",
          "state": {
            "_dom_classes": [],
            "_model_module": "@jupyter-widgets/controls",
            "_model_module_version": "1.5.0",
            "_model_name": "HTMLModel",
            "_view_count": null,
            "_view_module": "@jupyter-widgets/controls",
            "_view_module_version": "1.5.0",
            "_view_name": "HTMLView",
            "description": "",
            "description_tooltip": null,
            "layout": "IPY_MODEL_8e7805d5970240709c2a79f4aa2948b8",
            "placeholder": "​",
            "style": "IPY_MODEL_5fcda9a4471249608fd4b379fa1decb5",
            "value": "100%"
          }
        },
        "2651d82db0bf48838cb5f0daf341ef95": {
          "model_module": "@jupyter-widgets/controls",
          "model_module_version": "1.5.0",
          "model_name": "ProgressStyleModel",
          "state": {
            "_model_module": "@jupyter-widgets/controls",
            "_model_module_version": "1.5.0",
            "_model_name": "ProgressStyleModel",
            "_view_count": null,
            "_view_module": "@jupyter-widgets/base",
            "_view_module_version": "1.2.0",
            "_view_name": "StyleView",
            "bar_color": null,
            "description_width": ""
          }
        },
        "378ba918adab481da4104f815ff0570e": {
          "model_module": "@jupyter-widgets/base",
          "model_module_version": "1.2.0",
          "model_name": "LayoutModel",
          "state": {
            "_model_module": "@jupyter-widgets/base",
            "_model_module_version": "1.2.0",
            "_model_name": "LayoutModel",
            "_view_count": null,
            "_view_module": "@jupyter-widgets/base",
            "_view_module_version": "1.2.0",
            "_view_name": "LayoutView",
            "align_content": null,
            "align_items": null,
            "align_self": null,
            "border": null,
            "bottom": null,
            "display": null,
            "flex": null,
            "flex_flow": null,
            "grid_area": null,
            "grid_auto_columns": null,
            "grid_auto_flow": null,
            "grid_auto_rows": null,
            "grid_column": null,
            "grid_gap": null,
            "grid_row": null,
            "grid_template_areas": null,
            "grid_template_columns": null,
            "grid_template_rows": null,
            "height": null,
            "justify_content": null,
            "justify_items": null,
            "left": null,
            "margin": null,
            "max_height": null,
            "max_width": null,
            "min_height": null,
            "min_width": null,
            "object_fit": null,
            "object_position": null,
            "order": null,
            "overflow": null,
            "overflow_x": null,
            "overflow_y": null,
            "padding": null,
            "right": null,
            "top": null,
            "visibility": null,
            "width": null
          }
        },
        "4723ac77d5eb4a5f8d85d3a53dfaafc4": {
          "model_module": "@jupyter-widgets/controls",
          "model_module_version": "1.5.0",
          "model_name": "DescriptionStyleModel",
          "state": {
            "_model_module": "@jupyter-widgets/controls",
            "_model_module_version": "1.5.0",
            "_model_name": "DescriptionStyleModel",
            "_view_count": null,
            "_view_module": "@jupyter-widgets/base",
            "_view_module_version": "1.2.0",
            "_view_name": "StyleView",
            "description_width": ""
          }
        },
        "4a7ddb68c80d4e3385eb7ce1a349d2f0": {
          "model_module": "@jupyter-widgets/controls",
          "model_module_version": "1.5.0",
          "model_name": "FloatProgressModel",
          "state": {
            "_dom_classes": [],
            "_model_module": "@jupyter-widgets/controls",
            "_model_module_version": "1.5.0",
            "_model_name": "FloatProgressModel",
            "_view_count": null,
            "_view_module": "@jupyter-widgets/controls",
            "_view_module_version": "1.5.0",
            "_view_name": "ProgressView",
            "bar_style": "success",
            "description": "",
            "description_tooltip": null,
            "layout": "IPY_MODEL_18d568236ccf471fa8b893299068f5f6",
            "max": 60,
            "min": 0,
            "orientation": "horizontal",
            "style": "IPY_MODEL_66e5bc3ba23e40948e6326cf0b10d7e8",
            "value": 60
          }
        },
        "4e612379375e433d97318c107b6b9cd9": {
          "model_module": "@jupyter-widgets/base",
          "model_module_version": "1.2.0",
          "model_name": "LayoutModel",
          "state": {
            "_model_module": "@jupyter-widgets/base",
            "_model_module_version": "1.2.0",
            "_model_name": "LayoutModel",
            "_view_count": null,
            "_view_module": "@jupyter-widgets/base",
            "_view_module_version": "1.2.0",
            "_view_name": "LayoutView",
            "align_content": null,
            "align_items": null,
            "align_self": null,
            "border": null,
            "bottom": null,
            "display": null,
            "flex": null,
            "flex_flow": null,
            "grid_area": null,
            "grid_auto_columns": null,
            "grid_auto_flow": null,
            "grid_auto_rows": null,
            "grid_column": null,
            "grid_gap": null,
            "grid_row": null,
            "grid_template_areas": null,
            "grid_template_columns": null,
            "grid_template_rows": null,
            "height": null,
            "justify_content": null,
            "justify_items": null,
            "left": null,
            "margin": null,
            "max_height": null,
            "max_width": null,
            "min_height": null,
            "min_width": null,
            "object_fit": null,
            "object_position": null,
            "order": null,
            "overflow": null,
            "overflow_x": null,
            "overflow_y": null,
            "padding": null,
            "right": null,
            "top": null,
            "visibility": null,
            "width": null
          }
        },
        "560f8c216e9342f39dc0868bdad55c77": {
          "model_module": "@jupyter-widgets/base",
          "model_module_version": "1.2.0",
          "model_name": "LayoutModel",
          "state": {
            "_model_module": "@jupyter-widgets/base",
            "_model_module_version": "1.2.0",
            "_model_name": "LayoutModel",
            "_view_count": null,
            "_view_module": "@jupyter-widgets/base",
            "_view_module_version": "1.2.0",
            "_view_name": "LayoutView",
            "align_content": null,
            "align_items": null,
            "align_self": null,
            "border": null,
            "bottom": null,
            "display": null,
            "flex": null,
            "flex_flow": null,
            "grid_area": null,
            "grid_auto_columns": null,
            "grid_auto_flow": null,
            "grid_auto_rows": null,
            "grid_column": null,
            "grid_gap": null,
            "grid_row": null,
            "grid_template_areas": null,
            "grid_template_columns": null,
            "grid_template_rows": null,
            "height": null,
            "justify_content": null,
            "justify_items": null,
            "left": null,
            "margin": null,
            "max_height": null,
            "max_width": null,
            "min_height": null,
            "min_width": null,
            "object_fit": null,
            "object_position": null,
            "order": null,
            "overflow": null,
            "overflow_x": null,
            "overflow_y": null,
            "padding": null,
            "right": null,
            "top": null,
            "visibility": null,
            "width": null
          }
        },
        "5dbef39335af4b0c92f1f0d14692ee1e": {
          "model_module": "@jupyter-widgets/base",
          "model_module_version": "1.2.0",
          "model_name": "LayoutModel",
          "state": {
            "_model_module": "@jupyter-widgets/base",
            "_model_module_version": "1.2.0",
            "_model_name": "LayoutModel",
            "_view_count": null,
            "_view_module": "@jupyter-widgets/base",
            "_view_module_version": "1.2.0",
            "_view_name": "LayoutView",
            "align_content": null,
            "align_items": null,
            "align_self": null,
            "border": null,
            "bottom": null,
            "display": null,
            "flex": null,
            "flex_flow": null,
            "grid_area": null,
            "grid_auto_columns": null,
            "grid_auto_flow": null,
            "grid_auto_rows": null,
            "grid_column": null,
            "grid_gap": null,
            "grid_row": null,
            "grid_template_areas": null,
            "grid_template_columns": null,
            "grid_template_rows": null,
            "height": null,
            "justify_content": null,
            "justify_items": null,
            "left": null,
            "margin": null,
            "max_height": null,
            "max_width": null,
            "min_height": null,
            "min_width": null,
            "object_fit": null,
            "object_position": null,
            "order": null,
            "overflow": null,
            "overflow_x": null,
            "overflow_y": null,
            "padding": null,
            "right": null,
            "top": null,
            "visibility": "hidden",
            "width": null
          }
        },
        "5fcda9a4471249608fd4b379fa1decb5": {
          "model_module": "@jupyter-widgets/controls",
          "model_module_version": "1.5.0",
          "model_name": "DescriptionStyleModel",
          "state": {
            "_model_module": "@jupyter-widgets/controls",
            "_model_module_version": "1.5.0",
            "_model_name": "DescriptionStyleModel",
            "_view_count": null,
            "_view_module": "@jupyter-widgets/base",
            "_view_module_version": "1.2.0",
            "_view_name": "StyleView",
            "description_width": ""
          }
        },
        "66e5bc3ba23e40948e6326cf0b10d7e8": {
          "model_module": "@jupyter-widgets/controls",
          "model_module_version": "1.5.0",
          "model_name": "ProgressStyleModel",
          "state": {
            "_model_module": "@jupyter-widgets/controls",
            "_model_module_version": "1.5.0",
            "_model_name": "ProgressStyleModel",
            "_view_count": null,
            "_view_module": "@jupyter-widgets/base",
            "_view_module_version": "1.2.0",
            "_view_name": "StyleView",
            "bar_color": null,
            "description_width": ""
          }
        },
        "71a43f492c3245529d42cba9bd4733b3": {
          "model_module": "@jupyter-widgets/controls",
          "model_module_version": "1.5.0",
          "model_name": "DescriptionStyleModel",
          "state": {
            "_model_module": "@jupyter-widgets/controls",
            "_model_module_version": "1.5.0",
            "_model_name": "DescriptionStyleModel",
            "_view_count": null,
            "_view_module": "@jupyter-widgets/base",
            "_view_module_version": "1.2.0",
            "_view_name": "StyleView",
            "description_width": ""
          }
        },
        "775981712a49475da2394bfaa01d98ac": {
          "model_module": "@jupyter-widgets/controls",
          "model_module_version": "1.5.0",
          "model_name": "HBoxModel",
          "state": {
            "_dom_classes": [],
            "_model_module": "@jupyter-widgets/controls",
            "_model_module_version": "1.5.0",
            "_model_name": "HBoxModel",
            "_view_count": null,
            "_view_module": "@jupyter-widgets/controls",
            "_view_module_version": "1.5.0",
            "_view_name": "HBoxView",
            "box_style": "",
            "children": [
              "IPY_MODEL_e720332555e44b968c68e2ec97f76540",
              "IPY_MODEL_0df8ed7666a145ac812d082482cea5d9",
              "IPY_MODEL_0f3d120257bc425a9813de7956b2e552"
            ],
            "layout": "IPY_MODEL_5dbef39335af4b0c92f1f0d14692ee1e"
          }
        },
        "8e7805d5970240709c2a79f4aa2948b8": {
          "model_module": "@jupyter-widgets/base",
          "model_module_version": "1.2.0",
          "model_name": "LayoutModel",
          "state": {
            "_model_module": "@jupyter-widgets/base",
            "_model_module_version": "1.2.0",
            "_model_name": "LayoutModel",
            "_view_count": null,
            "_view_module": "@jupyter-widgets/base",
            "_view_module_version": "1.2.0",
            "_view_name": "LayoutView",
            "align_content": null,
            "align_items": null,
            "align_self": null,
            "border": null,
            "bottom": null,
            "display": null,
            "flex": null,
            "flex_flow": null,
            "grid_area": null,
            "grid_auto_columns": null,
            "grid_auto_flow": null,
            "grid_auto_rows": null,
            "grid_column": null,
            "grid_gap": null,
            "grid_row": null,
            "grid_template_areas": null,
            "grid_template_columns": null,
            "grid_template_rows": null,
            "height": null,
            "justify_content": null,
            "justify_items": null,
            "left": null,
            "margin": null,
            "max_height": null,
            "max_width": null,
            "min_height": null,
            "min_width": null,
            "object_fit": null,
            "object_position": null,
            "order": null,
            "overflow": null,
            "overflow_x": null,
            "overflow_y": null,
            "padding": null,
            "right": null,
            "top": null,
            "visibility": null,
            "width": null
          }
        },
        "a82e60f8b34947a096e5bd7fec5cf3d8": {
          "model_module": "@jupyter-widgets/base",
          "model_module_version": "1.2.0",
          "model_name": "LayoutModel",
          "state": {
            "_model_module": "@jupyter-widgets/base",
            "_model_module_version": "1.2.0",
            "_model_name": "LayoutModel",
            "_view_count": null,
            "_view_module": "@jupyter-widgets/base",
            "_view_module_version": "1.2.0",
            "_view_name": "LayoutView",
            "align_content": null,
            "align_items": null,
            "align_self": null,
            "border": null,
            "bottom": null,
            "display": null,
            "flex": null,
            "flex_flow": null,
            "grid_area": null,
            "grid_auto_columns": null,
            "grid_auto_flow": null,
            "grid_auto_rows": null,
            "grid_column": null,
            "grid_gap": null,
            "grid_row": null,
            "grid_template_areas": null,
            "grid_template_columns": null,
            "grid_template_rows": null,
            "height": null,
            "justify_content": null,
            "justify_items": null,
            "left": null,
            "margin": null,
            "max_height": null,
            "max_width": null,
            "min_height": null,
            "min_width": null,
            "object_fit": null,
            "object_position": null,
            "order": null,
            "overflow": null,
            "overflow_x": null,
            "overflow_y": null,
            "padding": null,
            "right": null,
            "top": null,
            "visibility": null,
            "width": null
          }
        },
        "ca0dbf6bac8c4152834fe97abb672609": {
          "model_module": "@jupyter-widgets/base",
          "model_module_version": "1.2.0",
          "model_name": "LayoutModel",
          "state": {
            "_model_module": "@jupyter-widgets/base",
            "_model_module_version": "1.2.0",
            "_model_name": "LayoutModel",
            "_view_count": null,
            "_view_module": "@jupyter-widgets/base",
            "_view_module_version": "1.2.0",
            "_view_name": "LayoutView",
            "align_content": null,
            "align_items": null,
            "align_self": null,
            "border": null,
            "bottom": null,
            "display": null,
            "flex": null,
            "flex_flow": null,
            "grid_area": null,
            "grid_auto_columns": null,
            "grid_auto_flow": null,
            "grid_auto_rows": null,
            "grid_column": null,
            "grid_gap": null,
            "grid_row": null,
            "grid_template_areas": null,
            "grid_template_columns": null,
            "grid_template_rows": null,
            "height": null,
            "justify_content": null,
            "justify_items": null,
            "left": null,
            "margin": null,
            "max_height": null,
            "max_width": null,
            "min_height": null,
            "min_width": null,
            "object_fit": null,
            "object_position": null,
            "order": null,
            "overflow": null,
            "overflow_x": null,
            "overflow_y": null,
            "padding": null,
            "right": null,
            "top": null,
            "visibility": null,
            "width": null
          }
        },
        "d3098337e9ab4bc1b4893fa611a0d38a": {
          "model_module": "@jupyter-widgets/controls",
          "model_module_version": "1.5.0",
          "model_name": "HBoxModel",
          "state": {
            "_dom_classes": [],
            "_model_module": "@jupyter-widgets/controls",
            "_model_module_version": "1.5.0",
            "_model_name": "HBoxModel",
            "_view_count": null,
            "_view_module": "@jupyter-widgets/controls",
            "_view_module_version": "1.5.0",
            "_view_name": "HBoxView",
            "box_style": "",
            "children": [
              "IPY_MODEL_1fb6ef14e1c9408b8c9a79d322db0f8f",
              "IPY_MODEL_4a7ddb68c80d4e3385eb7ce1a349d2f0",
              "IPY_MODEL_d5480ca308df4dbba6837d301c2081ab"
            ],
            "layout": "IPY_MODEL_378ba918adab481da4104f815ff0570e"
          }
        },
        "d5480ca308df4dbba6837d301c2081ab": {
          "model_module": "@jupyter-widgets/controls",
          "model_module_version": "1.5.0",
          "model_name": "HTMLModel",
          "state": {
            "_dom_classes": [],
            "_model_module": "@jupyter-widgets/controls",
            "_model_module_version": "1.5.0",
            "_model_name": "HTMLModel",
            "_view_count": null,
            "_view_module": "@jupyter-widgets/controls",
            "_view_module_version": "1.5.0",
            "_view_name": "HTMLView",
            "description": "",
            "description_tooltip": null,
            "layout": "IPY_MODEL_560f8c216e9342f39dc0868bdad55c77",
            "placeholder": "​",
            "style": "IPY_MODEL_fea2605c42664ab7bb61ac72aaae9299",
            "value": " 60/60 [00:11&lt;00:00,  5.65it/s]"
          }
        },
        "e720332555e44b968c68e2ec97f76540": {
          "model_module": "@jupyter-widgets/controls",
          "model_module_version": "1.5.0",
          "model_name": "HTMLModel",
          "state": {
            "_dom_classes": [],
            "_model_module": "@jupyter-widgets/controls",
            "_model_module_version": "1.5.0",
            "_model_name": "HTMLModel",
            "_view_count": null,
            "_view_module": "@jupyter-widgets/controls",
            "_view_module_version": "1.5.0",
            "_view_name": "HTMLView",
            "description": "",
            "description_tooltip": null,
            "layout": "IPY_MODEL_ca0dbf6bac8c4152834fe97abb672609",
            "placeholder": "​",
            "style": "IPY_MODEL_4723ac77d5eb4a5f8d85d3a53dfaafc4",
            "value": "Map: 100%"
          }
        },
        "fea2605c42664ab7bb61ac72aaae9299": {
          "model_module": "@jupyter-widgets/controls",
          "model_module_version": "1.5.0",
          "model_name": "DescriptionStyleModel",
          "state": {
            "_model_module": "@jupyter-widgets/controls",
            "_model_module_version": "1.5.0",
            "_model_name": "DescriptionStyleModel",
            "_view_count": null,
            "_view_module": "@jupyter-widgets/base",
            "_view_module_version": "1.2.0",
            "_view_name": "StyleView",
            "description_width": ""
          }
        }
      }
    }
  },
  "nbformat": 4,
  "nbformat_minor": 0
}
