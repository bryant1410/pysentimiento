{
 "cells": [
  {
   "cell_type": "code",
   "execution_count": 39,
   "metadata": {},
   "outputs": [
    {
     "name": "stdout",
     "output_type": "stream",
     "text": [
      "The autoreload extension is already loaded. To reload it, use:\n",
      "  %reload_ext autoreload\n"
     ]
    }
   ],
   "source": [
    "%load_ext autoreload\n",
    "%autoreload 2\n",
    "\n",
    "import pandas as pd\n",
    "\n",
    "df = pd.read_table(\"https://raw.githubusercontent.com/eliabisconti/haspeede/master/Dataset/haspeede2_dev_taskAB.tsv\")\n",
    "\n",
    "df_test = pd.read_table(\"https://raw.githubusercontent.com/collab-uniba/HateSpeechDetection_ITA/70d0b4240bb373c0e0a10f8a09abdc4d91f1b98e/Test%20sui%20Tweet/Train%20e%20test%20set%20UmBERTo/haspeede2_reference_taskAB-tweets.csv\", header=None, names=[\"id\", \"text\", \"hs\", \"stereotype\"])"
   ]
  },
  {
   "cell_type": "code",
   "execution_count": 40,
   "metadata": {},
   "outputs": [
    {
     "data": {
      "text/plain": [
       "((5606, 4), (1231, 4), (1263, 4))"
      ]
     },
     "execution_count": 40,
     "metadata": {},
     "output_type": "execute_result"
    }
   ],
   "source": [
    "from sklearn.model_selection import train_test_split\n",
    "\n",
    "\n",
    "train_df, dev_df = train_test_split(\n",
    "    df, test_size=0.18, random_state=2022)\n",
    "\n",
    "train_df.shape, dev_df.shape, df_test.shape"
   ]
  },
  {
   "cell_type": "code",
   "execution_count": 41,
   "metadata": {},
   "outputs": [
    {
     "data": {
      "text/plain": [
       "(Index(['id', 'text', 'hs', 'stereotype'], dtype='object'),\n",
       " Index(['id', 'text', 'hs', 'stereotype'], dtype='object'),\n",
       " Index(['id', 'text', 'hs', 'stereotype'], dtype='object'))"
      ]
     },
     "execution_count": 41,
     "metadata": {},
     "output_type": "execute_result"
    }
   ],
   "source": [
    "train_df.columns = [t.strip() for t in train_df.columns]\n",
    "dev_df.columns = [t.strip() for t in dev_df.columns]\n",
    "df_test.columns = [t.strip() for t in df_test.columns]\n",
    "\n",
    "train_df.columns, dev_df.columns, df_test.columns"
   ]
  },
  {
   "cell_type": "code",
   "execution_count": 42,
   "metadata": {},
   "outputs": [],
   "source": [
    "from datasets import DatasetDict, Dataset, Value, Features, ClassLabel\n",
    "\n",
    "features = Features({\n",
    "    'id': Value('string'),\n",
    "    'text': Value('string'),\n",
    "    'hs': ClassLabel(num_classes=2, names=[\"non hateful\", \"hateful\"]),\n",
    "    \"stereotype\": ClassLabel(num_classes=2, names=[\"non stereotype\", \"stereotype\"]),\n",
    "})\n",
    "\n",
    "train = Dataset.from_pandas(train_df, features=features, preserve_index=False)\n",
    "dev = Dataset.from_pandas(dev_df, features=features, preserve_index=False)\n",
    "test = Dataset.from_pandas(df_test, features=features, preserve_index=False)\n",
    "\n",
    "ds = DatasetDict(\n",
    "    train=train,\n",
    "    dev=dev,\n",
    "    test=test\n",
    ")"
   ]
  },
  {
   "cell_type": "code",
   "execution_count": 43,
   "metadata": {},
   "outputs": [
    {
     "name": "stderr",
     "output_type": "stream",
     "text": [
      "Pushing split train to the Hub.\n",
      "Resuming upload of the dataset shards.\n"
     ]
    },
    {
     "data": {
      "application/vnd.jupyter.widget-view+json": {
       "model_id": "06ef8d722a0442fcbeb4c7930e5564df",
       "version_major": 2,
       "version_minor": 0
      },
      "text/plain": [
       "Pushing dataset shards to the dataset hub:   0%|          | 0/1 [00:00<?, ?it/s]"
      ]
     },
     "metadata": {},
     "output_type": "display_data"
    },
    {
     "name": "stderr",
     "output_type": "stream",
     "text": [
      "Pushing split dev to the Hub.\n",
      "Resuming upload of the dataset shards.\n"
     ]
    },
    {
     "data": {
      "application/vnd.jupyter.widget-view+json": {
       "model_id": "9b229bb9ea0443ecab31f8e27b36eaff",
       "version_major": 2,
       "version_minor": 0
      },
      "text/plain": [
       "Pushing dataset shards to the dataset hub:   0%|          | 0/1 [00:00<?, ?it/s]"
      ]
     },
     "metadata": {},
     "output_type": "display_data"
    },
    {
     "name": "stderr",
     "output_type": "stream",
     "text": [
      "Pushing split test to the Hub.\n"
     ]
    },
    {
     "data": {
      "application/vnd.jupyter.widget-view+json": {
       "model_id": "189c96fe744a45f5b099283eee684679",
       "version_major": 2,
       "version_minor": 0
      },
      "text/plain": [
       "Pushing dataset shards to the dataset hub:   0%|          | 0/1 [00:00<?, ?it/s]"
      ]
     },
     "metadata": {},
     "output_type": "display_data"
    },
    {
     "data": {
      "application/vnd.jupyter.widget-view+json": {
       "model_id": "28e1ec090b01425198f29cbc7648e864",
       "version_major": 2,
       "version_minor": 0
      },
      "text/plain": [
       "Creating parquet from Arrow format:   0%|          | 0/2 [00:00<?, ?ba/s]"
      ]
     },
     "metadata": {},
     "output_type": "display_data"
    },
    {
     "data": {
      "application/vnd.jupyter.widget-view+json": {
       "model_id": "6d6b8f6a1e4344c5a441e51bfceb0799",
       "version_major": 2,
       "version_minor": 0
      },
      "text/plain": [
       "Upload 1 LFS files:   0%|          | 0/1 [00:00<?, ?it/s]"
      ]
     },
     "metadata": {},
     "output_type": "display_data"
    }
   ],
   "source": [
    "ds.push_to_hub(\"pysentimiento/it_haspeede\", private=True)"
   ]
  },
  {
   "attachments": {},
   "cell_type": "markdown",
   "metadata": {},
   "source": [
    "## Check Haspeede 2020"
   ]
  },
  {
   "cell_type": "code",
   "execution_count": 10,
   "metadata": {},
   "outputs": [
    {
     "name": "stderr",
     "output_type": "stream",
     "text": [
      "Using custom data configuration pysentimiento--it_haspeede-213526540a343f67\n",
      "Found cached dataset parquet (/users/jmperez/.cache/huggingface/datasets/pysentimiento___parquet/pysentimiento--it_haspeede-213526540a343f67/0.0.0/2a3b91fbd88a2c90d1dbbb32b460cf621d31bd5b05b934492fdef7d8d6f236ec)\n"
     ]
    },
    {
     "data": {
      "application/vnd.jupyter.widget-view+json": {
       "model_id": "b592746d28d24682ae545b78d1a4052d",
       "version_major": 2,
       "version_minor": 0
      },
      "text/plain": [
       "  0%|          | 0/2 [00:00<?, ?it/s]"
      ]
     },
     "metadata": {},
     "output_type": "display_data"
    },
    {
     "data": {
      "text/plain": [
       "DatasetDict({\n",
       "    dev: Dataset({\n",
       "        features: ['id', 'text', 'hs', 'stereotype'],\n",
       "        num_rows: 1231\n",
       "    })\n",
       "    train: Dataset({\n",
       "        features: ['id', 'text', 'hs', 'stereotype'],\n",
       "        num_rows: 5606\n",
       "    })\n",
       "})"
      ]
     },
     "execution_count": 10,
     "metadata": {},
     "output_type": "execute_result"
    }
   ],
   "source": [
    "from datasets import load_dataset\n",
    "\n",
    "ds = load_dataset(\"pysentimiento/it_haspeede\")\n",
    "\n",
    "ds"
   ]
  },
  {
   "cell_type": "code",
   "execution_count": 12,
   "metadata": {},
   "outputs": [
    {
     "data": {
      "text/plain": [
       "training    6840\n",
       "test_tw     1263\n",
       "test_nw      500\n",
       "Name: set, dtype: int64"
      ]
     },
     "execution_count": 12,
     "metadata": {},
     "output_type": "execute_result"
    }
   ],
   "source": [
    "df = pd.read_csv(\"../../data/hate/haspeede2020.csv\")\n",
    "\n",
    "df[\"set\"].value_counts()"
   ]
  },
  {
   "cell_type": "code",
   "execution_count": 11,
   "metadata": {},
   "outputs": [
    {
     "data": {
      "text/plain": [
       "6837"
      ]
     },
     "execution_count": 11,
     "metadata": {},
     "output_type": "execute_result"
    }
   ],
   "source": [
    "text_ds = ds[\"train\"][\"text\"] + ds[\"dev\"][\"text\"]\n",
    "\n",
    "len(text_ds)"
   ]
  },
  {
   "cell_type": "code",
   "execution_count": 19,
   "metadata": {},
   "outputs": [
    {
     "data": {
      "text/html": [
       "<div>\n",
       "<style scoped>\n",
       "    .dataframe tbody tr th:only-of-type {\n",
       "        vertical-align: middle;\n",
       "    }\n",
       "\n",
       "    .dataframe tbody tr th {\n",
       "        vertical-align: top;\n",
       "    }\n",
       "\n",
       "    .dataframe thead th {\n",
       "        text-align: right;\n",
       "    }\n",
       "</style>\n",
       "<table border=\"1\" class=\"dataframe\">\n",
       "  <thead>\n",
       "    <tr style=\"text-align: right;\">\n",
       "      <th></th>\n",
       "      <th>id_source</th>\n",
       "      <th>text_original</th>\n",
       "      <th>set</th>\n",
       "      <th>dataset</th>\n",
       "    </tr>\n",
       "  </thead>\n",
       "  <tbody>\n",
       "    <tr>\n",
       "      <th>0</th>\n",
       "      <td>_1039886625994694656</td>\n",
       "      <td>L'immigrato che non piace alla sinistra razzis...</td>\n",
       "      <td>training</td>\n",
       "      <td>HaSpeeDe2020</td>\n",
       "    </tr>\n",
       "    <tr>\n",
       "      <th>1</th>\n",
       "      <td>_1039892173595062273</td>\n",
       "      <td>Educazione stradale, i Vigili in Pensione sezi...</td>\n",
       "      <td>training</td>\n",
       "      <td>HaSpeeDe2020</td>\n",
       "    </tr>\n",
       "    <tr>\n",
       "      <th>2</th>\n",
       "      <td>_1039910346432147456</td>\n",
       "      <td>@AFoccardi @SoniaGrotto ... ma tutti i psicola...</td>\n",
       "      <td>training</td>\n",
       "      <td>HaSpeeDe2020</td>\n",
       "    </tr>\n",
       "    <tr>\n",
       "      <th>3</th>\n",
       "      <td>_1039913608287801346</td>\n",
       "      <td>Un grave episodio che evidenzia i danni dell'#...</td>\n",
       "      <td>training</td>\n",
       "      <td>HaSpeeDe2020</td>\n",
       "    </tr>\n",
       "    <tr>\n",
       "      <th>4</th>\n",
       "      <td>_1039916875226988544</td>\n",
       "      <td>@GiorgiaMeloni @FratellidItaIia A Gio' visto c...</td>\n",
       "      <td>training</td>\n",
       "      <td>HaSpeeDe2020</td>\n",
       "    </tr>\n",
       "    <tr>\n",
       "      <th>...</th>\n",
       "      <td>...</td>\n",
       "      <td>...</td>\n",
       "      <td>...</td>\n",
       "      <td>...</td>\n",
       "    </tr>\n",
       "    <tr>\n",
       "      <th>8598</th>\n",
       "      <td>_titoli-cri-597</td>\n",
       "      <td>L'Imam di Catania contro i clandestini: \"Basta...</td>\n",
       "      <td>test_nw</td>\n",
       "      <td>HaSpeeDe2020</td>\n",
       "    </tr>\n",
       "    <tr>\n",
       "      <th>8599</th>\n",
       "      <td>_titoli-cri-62</td>\n",
       "      <td>Sapete cosa voglio fare agli immigrati violent...</td>\n",
       "      <td>test_nw</td>\n",
       "      <td>HaSpeeDe2020</td>\n",
       "    </tr>\n",
       "    <tr>\n",
       "      <th>8600</th>\n",
       "      <td>_titoli-cri-64</td>\n",
       "      <td>Sapete quanti soldi diamo agli immigrati e qua...</td>\n",
       "      <td>test_nw</td>\n",
       "      <td>HaSpeeDe2020</td>\n",
       "    </tr>\n",
       "    <tr>\n",
       "      <th>8601</th>\n",
       "      <td>_titoli-cri-9</td>\n",
       "      <td>Così i profughi ci svuotano i negozi a Pordenone</td>\n",
       "      <td>test_nw</td>\n",
       "      <td>HaSpeeDe2020</td>\n",
       "    </tr>\n",
       "    <tr>\n",
       "      <th>8602</th>\n",
       "      <td>_titoli-cri-99</td>\n",
       "      <td>“Uomini dell’Isis dietro i flussi dei migranti...</td>\n",
       "      <td>test_nw</td>\n",
       "      <td>HaSpeeDe2020</td>\n",
       "    </tr>\n",
       "  </tbody>\n",
       "</table>\n",
       "<p>8603 rows × 4 columns</p>\n",
       "</div>"
      ],
      "text/plain": [
       "                 id_source                                      text_original  \\\n",
       "0     _1039886625994694656  L'immigrato che non piace alla sinistra razzis...   \n",
       "1     _1039892173595062273  Educazione stradale, i Vigili in Pensione sezi...   \n",
       "2     _1039910346432147456  @AFoccardi @SoniaGrotto ... ma tutti i psicola...   \n",
       "3     _1039913608287801346  Un grave episodio che evidenzia i danni dell'#...   \n",
       "4     _1039916875226988544  @GiorgiaMeloni @FratellidItaIia A Gio' visto c...   \n",
       "...                    ...                                                ...   \n",
       "8598       _titoli-cri-597  L'Imam di Catania contro i clandestini: \"Basta...   \n",
       "8599        _titoli-cri-62  Sapete cosa voglio fare agli immigrati violent...   \n",
       "8600        _titoli-cri-64  Sapete quanti soldi diamo agli immigrati e qua...   \n",
       "8601         _titoli-cri-9   Così i profughi ci svuotano i negozi a Pordenone   \n",
       "8602        _titoli-cri-99  “Uomini dell’Isis dietro i flussi dei migranti...   \n",
       "\n",
       "           set       dataset  \n",
       "0     training  HaSpeeDe2020  \n",
       "1     training  HaSpeeDe2020  \n",
       "2     training  HaSpeeDe2020  \n",
       "3     training  HaSpeeDe2020  \n",
       "4     training  HaSpeeDe2020  \n",
       "...        ...           ...  \n",
       "8598   test_nw  HaSpeeDe2020  \n",
       "8599   test_nw  HaSpeeDe2020  \n",
       "8600   test_nw  HaSpeeDe2020  \n",
       "8601   test_nw  HaSpeeDe2020  \n",
       "8602   test_nw  HaSpeeDe2020  \n",
       "\n",
       "[8603 rows x 4 columns]"
      ]
     },
     "execution_count": 19,
     "metadata": {},
     "output_type": "execute_result"
    }
   ],
   "source": [
    "df"
   ]
  },
  {
   "cell_type": "code",
   "execution_count": 16,
   "metadata": {},
   "outputs": [],
   "source": [
    "training_df = df[df[\"set\"] == \"train\"]"
   ]
  },
  {
   "cell_type": "code",
   "execution_count": 17,
   "metadata": {},
   "outputs": [
    {
     "data": {
      "text/plain": [
       "0"
      ]
     },
     "execution_count": 17,
     "metadata": {},
     "output_type": "execute_result"
    }
   ],
   "source": [
    "len(set(training_df[\"text_original\"]) - set(text_ds))"
   ]
  },
  {
   "cell_type": "code",
   "execution_count": 21,
   "metadata": {},
   "outputs": [],
   "source": [
    "test_df = df[df[\"set\"] == \"test_tw\"]"
   ]
  },
  {
   "cell_type": "code",
   "execution_count": 24,
   "metadata": {},
   "outputs": [
    {
     "data": {
      "text/plain": [
       "'@LaStampaTV @LaStampa i musulmano ammazzano tutti quelli che per il loro fumoso cervello sono \"infedeli\". i nostri terroristi istituzionali ci obbligano ad accogliere e mantenere i nostri assassini'"
      ]
     },
     "execution_count": 24,
     "metadata": {},
     "output_type": "execute_result"
    }
   ],
   "source": [
    "test_df[\"text_original\"].iloc[0]"
   ]
  },
  {
   "cell_type": "code",
   "execution_count": 30,
   "metadata": {},
   "outputs": [],
   "source": []
  },
  {
   "cell_type": "code",
   "execution_count": 32,
   "metadata": {},
   "outputs": [
    {
     "data": {
      "text/html": [
       "<div>\n",
       "<style scoped>\n",
       "    .dataframe tbody tr th:only-of-type {\n",
       "        vertical-align: middle;\n",
       "    }\n",
       "\n",
       "    .dataframe tbody tr th {\n",
       "        vertical-align: top;\n",
       "    }\n",
       "\n",
       "    .dataframe thead th {\n",
       "        text-align: right;\n",
       "    }\n",
       "</style>\n",
       "<table border=\"1\" class=\"dataframe\">\n",
       "  <thead>\n",
       "    <tr style=\"text-align: right;\">\n",
       "      <th></th>\n",
       "      <th>text</th>\n",
       "      <th>hs</th>\n",
       "      <th>stereotype</th>\n",
       "    </tr>\n",
       "    <tr>\n",
       "      <th>id</th>\n",
       "      <th></th>\n",
       "      <th></th>\n",
       "      <th></th>\n",
       "    </tr>\n",
       "  </thead>\n",
       "  <tbody>\n",
       "    <tr>\n",
       "      <th>11834</th>\n",
       "      <td>@user A me pare una scelta politica suicida puntare tutto su una battaglia sicuramente perdente ...</td>\n",
       "      <td>1</td>\n",
       "      <td>0</td>\n",
       "    </tr>\n",
       "    <tr>\n",
       "      <th>12113</th>\n",
       "      <td>@user e' un perfetto musulmano!!! chi dice il contrario mente, applica alla lettera la sura \"la ...</td>\n",
       "      <td>1</td>\n",
       "      <td>1</td>\n",
       "    </tr>\n",
       "    <tr>\n",
       "      <th>11770</th>\n",
       "      <td>Mai Tg e i giornaloni hanno parlato di questa ennesima porcata fatta da immigrati ?? ⤵️⤵️⤵️⤵️  S...</td>\n",
       "      <td>1</td>\n",
       "      <td>1</td>\n",
       "    </tr>\n",
       "    <tr>\n",
       "      <th>11937</th>\n",
       "      <td>@user Ipocriti farabutti. Fanno morire i terremotati per I Bastardi clandestini immigrati schifosi.</td>\n",
       "      <td>1</td>\n",
       "      <td>1</td>\n",
       "    </tr>\n",
       "    <tr>\n",
       "      <th>11870</th>\n",
       "      <td>@user @user @user L'IMMIGRAZIONE C'E' STATO UN CALO FISIOLOGICO QUANTI RINPATRII HA FATTO ? CI S...</td>\n",
       "      <td>1</td>\n",
       "      <td>1</td>\n",
       "    </tr>\n",
       "    <tr>\n",
       "      <th>...</th>\n",
       "      <td>...</td>\n",
       "      <td>...</td>\n",
       "      <td>...</td>\n",
       "    </tr>\n",
       "    <tr>\n",
       "      <th>10091</th>\n",
       "      <td>Il Razzismo gli viene inculcato sin da bambini dal corano e dall'islam Cani, Maiali. Cristiani e...</td>\n",
       "      <td>1</td>\n",
       "      <td>1</td>\n",
       "    </tr>\n",
       "    <tr>\n",
       "      <th>10046</th>\n",
       "      <td>PERCHÉ DI QUESTO ORRENDO STUPRO NON DI PARLA? INFORMAZIONE CORROTTA,LA SINISTRA CONTINUA A COPRI...</td>\n",
       "      <td>1</td>\n",
       "      <td>1</td>\n",
       "    </tr>\n",
       "    <tr>\n",
       "      <th>10377</th>\n",
       "      <td>FERMIAMO L'IMPOSTORE. Forse saranno necesarie altre CROCIATE, visto che il fiume di fango non si...</td>\n",
       "      <td>1</td>\n",
       "      <td>1</td>\n",
       "    </tr>\n",
       "    <tr>\n",
       "      <th>10199</th>\n",
       "      <td>@user @user @user @user @user @user @user @user @user @user Matteo non si tocca...fuori i delinq...</td>\n",
       "      <td>1</td>\n",
       "      <td>1</td>\n",
       "    </tr>\n",
       "    <tr>\n",
       "      <th>10574</th>\n",
       "      <td>Ci vuole \"coraggio\" ad abbinare la parola Eguaglianza all'Islam! Credo che, tra i tanti, proprio...</td>\n",
       "      <td>1</td>\n",
       "      <td>1</td>\n",
       "    </tr>\n",
       "  </tbody>\n",
       "</table>\n",
       "<p>1263 rows × 3 columns</p>\n",
       "</div>"
      ],
      "text/plain": [
       "                                                                                                      text  \\\n",
       "id                                                                                                           \n",
       "11834  @user A me pare una scelta politica suicida puntare tutto su una battaglia sicuramente perdente ...   \n",
       "12113  @user e' un perfetto musulmano!!! chi dice il contrario mente, applica alla lettera la sura \"la ...   \n",
       "11770  Mai Tg e i giornaloni hanno parlato di questa ennesima porcata fatta da immigrati ?? ⤵️⤵️⤵️⤵️  S...   \n",
       "11937  @user Ipocriti farabutti. Fanno morire i terremotati per I Bastardi clandestini immigrati schifosi.   \n",
       "11870  @user @user @user L'IMMIGRAZIONE C'E' STATO UN CALO FISIOLOGICO QUANTI RINPATRII HA FATTO ? CI S...   \n",
       "...                                                                                                    ...   \n",
       "10091  Il Razzismo gli viene inculcato sin da bambini dal corano e dall'islam Cani, Maiali. Cristiani e...   \n",
       "10046  PERCHÉ DI QUESTO ORRENDO STUPRO NON DI PARLA? INFORMAZIONE CORROTTA,LA SINISTRA CONTINUA A COPRI...   \n",
       "10377  FERMIAMO L'IMPOSTORE. Forse saranno necesarie altre CROCIATE, visto che il fiume di fango non si...   \n",
       "10199  @user @user @user @user @user @user @user @user @user @user Matteo non si tocca...fuori i delinq...   \n",
       "10574  Ci vuole \"coraggio\" ad abbinare la parola Eguaglianza all'Islam! Credo che, tra i tanti, proprio...   \n",
       "\n",
       "       hs  stereotype  \n",
       "id                     \n",
       "11834   1           0  \n",
       "12113   1           1  \n",
       "11770   1           1  \n",
       "11937   1           1  \n",
       "11870   1           1  \n",
       "...    ..         ...  \n",
       "10091   1           1  \n",
       "10046   1           1  \n",
       "10377   1           1  \n",
       "10199   1           1  \n",
       "10574   1           1  \n",
       "\n",
       "[1263 rows x 3 columns]"
      ]
     },
     "execution_count": 32,
     "metadata": {},
     "output_type": "execute_result"
    }
   ],
   "source": [
    "pd.options.display.max_colwidth = 100\n",
    "\n",
    "df_test"
   ]
  },
  {
   "cell_type": "code",
   "execution_count": null,
   "metadata": {},
   "outputs": [],
   "source": [
    "df_t"
   ]
  }
 ],
 "metadata": {
  "kernelspec": {
   "display_name": ".venv",
   "language": "python",
   "name": "python3"
  },
  "language_info": {
   "codemirror_mode": {
    "name": "ipython",
    "version": 3
   },
   "file_extension": ".py",
   "mimetype": "text/x-python",
   "name": "python",
   "nbconvert_exporter": "python",
   "pygments_lexer": "ipython3",
   "version": "3.8.16"
  },
  "orig_nbformat": 4,
  "vscode": {
   "interpreter": {
    "hash": "3fc79ed69e4c2b5a1db8fa17ebb1e82d66421519e5b018d314116a7b4cda9238"
   }
  }
 },
 "nbformat": 4,
 "nbformat_minor": 2
}
