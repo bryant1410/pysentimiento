{
 "cells": [
  {
   "cell_type": "code",
   "execution_count": 1,
   "metadata": {},
   "outputs": [],
   "source": [
    "%load_ext autoreload\n",
    "%autoreload 2\n",
    "\n",
    "import pandas as pd\n",
    "from pysentimiento.preprocessing import preprocess_tweet\n",
    "\n",
    "df = pd.read_table(\"https://raw.githubusercontent.com/eliabisconti/haspeede/master/Dataset/haspeede2_dev_taskAB.tsv\")\n",
    "\n",
    "df[\"split\"] = \"train\"\n",
    "\n",
    "df_test = pd.read_table(\"https://raw.githubusercontent.com/collab-uniba/HateSpeechDetection_ITA/70d0b4240bb373c0e0a10f8a09abdc4d91f1b98e/Test%20sui%20Tweet/Train%20e%20test%20set%20UmBERTo/haspeede2_reference_taskAB-tweets.csv\", header=None, names=[\"id\", \"text\", \"hs\", \"stereotype\"])\n",
    "\n",
    "df_test[\"split\"] = \"test\"\n",
    "\n",
    "df.columns = [t.strip() for t in df.columns]\n",
    "df_test.columns = [t.strip() for t in df_test.columns]\n",
    "\n",
    "df = pd.concat([df, df_test], axis=0)\n",
    "\n",
    "\n",
    "#  These are the original tweets, but they lack the labels\n",
    "df_true = pd.read_csv(\"../../data/hate/haspeede2020.csv\")\n",
    "\n",
    "#df_true = df_true[df_true[\"set\"].isin([\"training\", \"test_tw\"])].copy()\n",
    "\n",
    "df_true[\"text\"] = df_true[\"text_original\"].apply(\n",
    "    lambda x: preprocess_tweet(x, lang=\"it\", user_token=\"@user\", demoji=False, preprocess_hashtags=False))\n"
   ]
  },
  {
   "cell_type": "code",
   "execution_count": 2,
   "metadata": {},
   "outputs": [
    {
     "data": {
      "application/vnd.jupyter.widget-view+json": {
       "model_id": "a1dd48526b44442e82dba02f79ed95c7",
       "version_major": 2,
       "version_minor": 0
      },
      "text/plain": [
       "  0%|          | 0/8100 [00:00<?, ?it/s]"
      ]
     },
     "metadata": {},
     "output_type": "display_data"
    },
    {
     "name": "stdout",
     "output_type": "stream",
     "text": [
      "0\n",
      "Could not find a similar tweet for\n",
      "+++#Siria🇸🇾 Evacuati civili dalla città terroristi #IS avanzano dopo violenti scontri con Esercito #siriano a #Palmira ma non è finita+++ \n",
      "Preprocessed: +++#Siria🇸🇾 Evacuati civili dalla città terroristi\n",
      "Most similar: La via italiana alla lotta al terrorismo di matrice islamica https://t.co/qb6Rkqk9jS\n",
      "Ratio: 59\n",
      "================================================================================\n",
      "1\n",
      "Could not find a similar tweet for\n",
      "Lavori da #rom URL \n",
      "Preprocessed: Lavori da #rom URL \n",
      "Most similar: Lavori da #rom https://t.co/YEBMTbhsDQ\n",
      "Ratio: 79\n",
      "================================================================================\n",
      "2\n",
      "Could not find a similar tweet for\n",
      "Roma, nascerà un nuovo campo rom URL URL \n",
      "Preprocessed: Roma, nascerà un nuovo campo rom URL URL \n",
      "Most similar: Roma, nascerà un nuovo campo rom https://t.co/HxFGhTUE5n - Adriano Montanaro Alessandria\n",
      "Ratio: 85\n",
      "================================================================================\n",
      "3\n",
      "Could not find a similar tweet for\n",
      "Studentessa cinese morta a #Roma condannati i due nomadi URL \"condannati\" a rimanere liberi grazie alle depenalizzazioni \n",
      "Preprocessed: Studentessa cinese morta a #Roma condannati i due \n",
      "Most similar: Studentessa cinese morta a Roma, fermati due giovani residenti campo rom di via Salviati https://t.co/fwBwE2OMlf #cronaca\n",
      "Ratio: 80\n",
      "================================================================================\n",
      "4\n",
      "Could not find a similar tweet for\n",
      "leggi speciali x i rom URL \n",
      "Preprocessed: leggi speciali x i rom URL \n",
      "Most similar: leggi speciali x i rom https://t.co/l2VduVXvWj\n",
      "Ratio: 85\n",
      "================================================================================\n",
      "5\n",
      "Could not find a similar tweet for\n",
      "URL della serie ...rom brava gente ...un'opportunità per tutti noi! \n",
      "Preprocessed: URL della serie ...rom brava gente ...un'opportuni\n",
      "Most similar: https://t.co/hxOco79LIy della serie ...rom brava gente ...un'opportunità per tutti noi!\n",
      "Ratio: 74\n",
      "================================================================================\n",
      "6\n",
      "Could not find a similar tweet for\n",
      "Roma, stupro al campo rom del Prenestino. Il pm: «L'insediamento ... - Il Messaggero URL #Roma #news \n",
      "Preprocessed: Roma, stupro al campo rom del Prenestino. Il pm: «\n",
      "Most similar: https://t.co/ZP2TnDge4Y Roma, stupro al campo rom del Prenestino. Il pm: «L’insediamento va chiuso» #ansa #news\n",
      "Ratio: 72\n",
      "================================================================================\n",
      "7\n",
      "Could not find a similar tweet for\n",
      "Come Repubblica.it racconta solo una parte della storia di Birmingham... URL #islam #10aprile #cassimatis #G7Energy \n",
      "Preprocessed: Come Repubblica.it racconta solo una parte della s\n",
      "Most similar: Come Repubblica.it racconta solo una parte della storia di Birmingham... https://t.co/HWFInxFBh6 #islam #10aprile #cassimatis #G7Energy\n",
      "Ratio: 78\n",
      "================================================================================\n",
      "8\n",
      "Could not find a similar tweet for\n",
      "Roma, quei podisti perseguitati dai rom URL URL \n",
      "Preprocessed: Roma, quei podisti perseguitati dai rom URL URL \n",
      "Most similar: Roma, quei podisti perseguitati dai rom https://t.co/ioEXYazw9h https://t.co/TkSwA8KAhQ\n",
      "Ratio: 85\n",
      "================================================================================\n",
      "9\n",
      "Could not find a similar tweet for\n",
      "✳️@MatiasRomany▶✳️lmmcompanyfull▶Sabato Santo Oggi voglio augurare un week-end di pace, amore e rifiuto di azioni terroristiche #NoMas♻♻ \n",
      "Preprocessed: ✳️@MatiasRomany▶✳️lmmcompanyfull▶Sabato Santo Oggi\n",
      "Most similar: ✳️@MatiasRomany▶✳️lmmcompanyfull▶Sabato Santo Oggi voglio augurare un week-end di pace, amore e rifiuto di azioni terroristiche #NoMas♻♻\n",
      "Ratio: 78\n",
      "================================================================================\n",
      "10\n",
      "Could not find a similar tweet for\n",
      "Un terrorista pedinato URL \n",
      "Preprocessed: Un terrorista pedinato URL \n",
      "Most similar: Un terrorista pedinato https://t.co/JEjhv5dPBJ\n",
      "Ratio: 85\n",
      "================================================================================\n",
      "11\n",
      "Could not find a similar tweet for\n",
      "Accordo Italia-Libia sui migranti, i punti salienti: Da controllo confini a finanziamento centri accoglienza libici URL \n",
      "Preprocessed: Accordo Italia-Libia sui migranti, i punti salient\n",
      "Most similar: https://t.co/XNskwt6uL1 Accordo Italia-Libia sui migranti, i punti salienti #ansa #news\n",
      "Ratio: 72\n",
      "================================================================================\n",
      "12\n",
      "Could not find a similar tweet for\n",
      "@user @user siii �������������� come mafia capitale ��������������magna magna..\"con rom e clandestini si guadagna… URL \n",
      "Preprocessed: @user @user siii �������������� come mafia capital\n",
      "Most similar: @battistabd @virginiaraggi siii �������������� come mafia capitale ��������������magna magna..\"con rom e clandestini si guadagna… https://t.co/GvOfdhYzfH\n",
      "Ratio: 78\n",
      "================================================================================\n",
      "13\n",
      "Could not find a similar tweet for\n",
      "URL Un gruppo di donne rumene trasforma l'esperienza culinaria rom in un catering itinerante  #GiraIlMondo #FareImpresa \n",
      "Preprocessed: URL Un gruppo di donne rumene trasforma l'esperien\n",
      "Most similar: https://t.co/F2TDk118TZ Un gruppo di donne rumene trasforma l'esperienza culinaria rom in un catering itinerante  #GiraIlMondo #FareImpresa\n",
      "Ratio: 74\n",
      "================================================================================\n",
      "14\n",
      "Could not find a similar tweet for\n",
      "URL #Marocco Finalmente un pò di civiltà. In un paese a maggioranza musulmana non capita di certo tutti i giorni. #islam \n",
      "Preprocessed: URL #Marocco Finalmente un pò di civiltà. In un pa\n",
      "Most similar: https://t.co/4KeNihk8vj #Marocco Finalmente un pò di civiltà. In un paese a maggioranza musulmana non capita di certo tutti i giorni. #islam\n",
      "Ratio: 74\n",
      "================================================================================\n",
      "15\n",
      "Could not find a similar tweet for\n",
      "URL Dati del Viminale  Cresce immigrazione Italia \n",
      "Preprocessed: URL Dati del Viminale  Cresce immigrazione Italia \n",
      "Most similar: https://t.co/Q1NSnTmyEE Dati del Viminale  Cresce immigrazione Italia\n",
      "Ratio: 74\n",
      "================================================================================\n",
      "16\n",
      "Could not find a similar tweet for\n",
      "Italia@sottoinchiesta con @user su@user #terrorismo #SanPietroburgo URL \n",
      "Preprocessed: Italia@sottoinchiesta con @user su@user #terrorism\n",
      "Most similar: Italia@sottoinchiesta con @manufalcetti su@radio1rai #terrorismo #SanPietroburgo https://t.co/IDHk369ePG\n",
      "Ratio: 76\n",
      "================================================================================\n",
      "17\n",
      "Could not find a similar tweet for\n",
      "@user venduti rom mafie palazzinari tutti contro..è meglio cadere con le armi ..( Roma capitale del malaffare politic! \n",
      "Preprocessed: @user venduti rom mafie palazzinari tutti contro..\n",
      "Most similar: @LUCIADIMARCO2..cafoni venduti rom mafie palazzinari tutti contro..è meglio cadere con le armi ..( Roma capitale del malaffare politic!\n",
      "Ratio: 84\n",
      "================================================================================\n",
      "18\n",
      "Could not find a similar tweet for\n",
      "URL l'inutilità di TS si vede anche da prime pagine come questa utile solo a denigrare avversario e proprietà straniera. \n",
      "Preprocessed: URL l'inutilità di TS si vede anche da prime pagin\n",
      "Most similar: https://t.co/ydZpAlCJfK l'inutilità di TS si vede anche da prime pagine come questa utile solo a denigrare avversario e proprietà straniera.\n",
      "Ratio: 74\n",
      "================================================================================\n",
      "19\n",
      "Could not find a similar tweet for\n",
      "URL fossi nei 2 nomadi preferirei la prigione, la comunità cinese non perdona... \n",
      "Preprocessed: URL fossi nei 2 nomadi preferirei la prigione, la \n",
      "Most similar: https://t.co/Bc0DnZ0YtY fossi nei 2 nomadi preferirei la prigione, la comunità cinese non perdona...\n",
      "Ratio: 74\n",
      "================================================================================\n",
      "20\n",
      "Could not find a similar tweet for\n",
      "URL Cosa sta succedendo ai campi rom di Roma sotto l'era di Virginia Raggi… URL \n",
      "Preprocessed: URL Cosa sta succedendo ai campi rom di Roma sotto\n",
      "Most similar: https://t.co/TnVsL4qlDf Cosa sta succedendo ai campi rom di Roma sotto l'era di Virginia Raggi… https://t.co/iPiZ4KHYjc\n",
      "Ratio: 74\n",
      "================================================================================\n",
      "21\n",
      "Could not find a similar tweet for\n",
      "URL non sono razzista e non tutti i #rom o #zingari delinquono ma controlli maggiori al campo di #castelromano no? \n",
      "Preprocessed: URL non sono razzista e non tutti i #rom o #zingar\n",
      "Most similar: https://t.co/vreU4iBlzu non sono razzista e non tutti i #rom o #zingari delinquono ma controlli maggiori al campo di #castelromano no?\n",
      "Ratio: 74\n",
      "================================================================================\n",
      "22\n",
      "Could not find a similar tweet for\n",
      "URL A Roma italiani senza casa alloggiati nel container dei rom #ansa #news \n",
      "Preprocessed: URL A Roma italiani senza casa alloggiati nel cont\n",
      "Most similar: https://t.co/9CGH1t1qdi A Roma italiani senza casa alloggiati nel container dei rom #ansa #news\n",
      "Ratio: 74\n",
      "================================================================================\n",
      "23\n",
      "Could not find a similar tweet for\n",
      "����������@rondolino su @user che parla di situazione rom come1 raZZZZZista omofobo della Lega?che Dio ce ne scampi! Da cattosiniXtri redenti! \n",
      "Preprocessed: ����������@rondolino su @user che parla di situazi\n",
      "Most similar: ����������@rondolino su @La7tv che parla di situazione rom come1 raZZZZZista omofobo della Lega?che Dio ce ne scampi! Da cattosiniXtri redenti!\n",
      "Ratio: 75\n",
      "================================================================================\n",
      "24\n",
      "Could not find a similar tweet for\n",
      "Roma, nascerà un nuovo campo rom - IlGiornale.it URL via @user \n",
      "Preprocessed: Roma, nascerà un nuovo campo rom - IlGiornale.it U\n",
      "Most similar: Roma, nascerà un nuovo campo rom https://t.co/cwZr69ykGD https://t.co/g5khVnLbkj\n",
      "Ratio: 82\n",
      "================================================================================\n",
      "25\n",
      "Could not find a similar tweet for\n",
      "++(Napoli, ancora sparatorie in strada. Perché non trattiamo questi criminali come terroristi?)++ URL \n",
      "Preprocessed: ++(Napoli, ancora sparatorie in strada. Perché non\n",
      "Most similar: Napoli, uomo preso a martellate in testa da immigrato | Tutti i Crimini degli Immigrati https://t.co/VtpHUc0ty0\n",
      "Ratio: 58\n",
      "================================================================================\n",
      "26\n",
      "Could not find a similar tweet for\n",
      "studenti stranieri all'@UniTrieste più del doppio della media nazionale, dato importante e positivo \n",
      "Preprocessed: studenti stranieri all'@UniTrieste più del doppio \n",
      "Most similar: studenti stranieri all'@UniTrieste più del doppio della media nazionale, dato importante e positivo\n",
      "Ratio: 84\n",
      "================================================================================\n",
      "27\n",
      "Could not find a similar tweet for\n",
      "URL Roma, aggrediscono e rapinano anziano di 81 anni in ascensore: arrestati due rom #ansa #news \n",
      "Preprocessed: URL Roma, aggrediscono e rapinano anziano di 81 an\n",
      "Most similar: https://t.co/FE4i5fTH4M Roma, aggrediscono e rapinano anziano di 81 anni in ascensore: arrestati due rom #ansa #news\n",
      "Ratio: 74\n",
      "================================================================================\n",
      "28\n",
      "Could not find a similar tweet for\n",
      "Roma, quei podisti perseguitati dai rom URL URL \n",
      "Preprocessed: Roma, quei podisti perseguitati dai rom URL URL \n",
      "Most similar: Roma, quei podisti perseguitati dai rom https://t.co/ioEXYazw9h https://t.co/TkSwA8KAhQ\n",
      "Ratio: 85\n",
      "================================================================================\n",
      "29\n",
      "Could not find a similar tweet for\n",
      "@user @user @user @user @user vi ricordo.che x questioni squisitamente IT votano anche muslim e rom... \n",
      "Preprocessed: @user @user @user @user @user vi ricordo.che x que\n",
      "Most similar: @emilianalfano @angealfa @gessicabella3 @lauraboldrini @matteorenzi vi ricordo.che x questioni squisitamente IT votano anche muslim e rom...\n",
      "Ratio: 82\n",
      "================================================================================\n",
      "30\n",
      "Could not find a similar tweet for\n",
      "No vabbè questi hanno vinto tutto ahhhahhaahahhahaaahahahah #CarnevaleVenezia2017 #carnevale #Lidl #rom… URL \n",
      "Preprocessed: No vabbè questi hanno vinto tutto ahhhahhaahahhaha\n",
      "Most similar: No vabbè questi hanno vinto tutto ahhhahhaahahhahaaahahahah #CarnevaleVenezia2017 #carnevale #Lidl #rom… https://t.co/Z0i0IRcP43\n",
      "Ratio: 80\n",
      "================================================================================\n",
      "31\n",
      "Could not find a similar tweet for\n",
      "+++#Roma #Marconi, paura sull’autobus: tossicodipendente terrorizza bambini diretti a scuola – FOTO+++ URL \n",
      "Preprocessed: +++#Roma #Marconi, paura sull’autobus: tossicodipe\n",
      "Most similar: #Roma, aggressioni razziste sugli autobus: banda di minorenni terrorizzava immigrati.\n",
      "\n",
      "Si presentavano in gruppo per accerchiare la loro vittima e dopo averla insultata con frasi razziste l'aggredivano con violenza utilizzando calci, pugni e ginocchiate.\n",
      "\n",
      "https://t.co/6hCYjIrmlt\n",
      "Ratio: 58\n",
      "================================================================================\n",
      "32\n",
      "Could not find a similar tweet for\n",
      "URL  islamici qui in italia fanno figli perche' sono dei mantenuti dai comuni cosa che per ITALIANI non e' proprio cosi' \n",
      "Preprocessed: URL  islamici qui in italia fanno figli perche' so\n",
      "Most similar: https://t.co/QHthnQBFQo  islamici qui in italia fanno figli perche' sono dei mantenuti dai comuni cosa che per ITALIANI non e' proprio cosi'\n",
      "Ratio: 74\n",
      "================================================================================\n",
      "33\n",
      "Could not find a similar tweet for\n",
      "URLGiusto così, non se ne può più di questi stranieri che pensano di avere solo diritti.Forza @user \n",
      "Preprocessed: URLGiusto così, non se ne può più di questi strani\n",
      "Most similar: http://t.co/O9woidCS6CGiusto così, non se ne può più di questi stranieri che pensano di avere solo diritti.Forza @matteosalvinimi\n",
      "Ratio: 78\n",
      "================================================================================\n",
      "34\n",
      "Could not find a similar tweet for\n",
      "URL questo è ciò che corano le tue \"RISORSE \" di merda oltre a uno stile di vita che ci stimola solo la PIPI'💣💥 \n",
      "Preprocessed: URL questo è ciò che corano le tue \"RISORSE \" di m\n",
      "Most similar: https://t.co/iFxR22Foan💥BoldrinA questo è ciò che corano le tue \"RISORSE \" di merda oltre a uno stile di vita che ci stimola solo la PIPI'💣💥\n",
      "Ratio: 56\n",
      "================================================================================\n",
      "35\n",
      "Could not find a similar tweet for\n",
      "“@Noiconsalvini: Perugia: immigrati spaccano statua della Madonna, la prendono a calci e ci orinano sopra ” #lacrime \n",
      "Preprocessed: “@Noiconsalvini: Perugia: immigrati spaccano statu\n",
      "Most similar: “@Noiconsalvini: Perugia: immigrati spaccano statua della Madonna, la prendono a calci e ci orinano sopra ” #lacrime\n",
      "Ratio: 77\n",
      "================================================================================\n",
      "36\n",
      "Could not find a similar tweet for\n",
      "#omnibusla7.it Dopo S.O.S. riportare i profughi nei porti libici,affondare barconi.Se incidente militare scoppia caso mondiale \n",
      "Preprocessed: #omnibusla7.it Dopo S.O.S. riportare i profughi ne\n",
      "Most similar: #omnibusla7.it Dopo S.O.S. riportare i profughi nei porti libici,affondare barconi.Se incidente militare scoppia caso mondiale\n",
      "Ratio: 80\n",
      "================================================================================\n",
      "37\n",
      "Could not find a similar tweet for\n",
      "URL Alfano, come ogni altro europeista ha ancora il coraggio di parlare.. L'Europa deve opporsi all'avanzata islamica. \n",
      "Preprocessed: URL Alfano, come ogni altro europeista ha ancora i\n",
      "Most similar: https://t.co/fgTHETiHfh Alfano, come ogni altro europeista ha ancora il coraggio di parlare.. L'Europa deve opporsi all'avanzata islamica.\n",
      "Ratio: 74\n",
      "================================================================================\n",
      "38\n",
      "Could not find a similar tweet for\n",
      "Ma tanto prima i profughi! URL URL\" \n",
      "Preprocessed: Ma tanto prima i profughi! URL URL\" \n",
      "Most similar: Ma tanto prima i profughi! http://t.co/a08ITQgLdt http://t.co/kpLji577f0\\\"\n",
      "Ratio: 78\n",
      "================================================================================\n",
      "39\n",
      "Could not find a similar tweet for\n",
      "“@indivanados: 700 migranti affogano ma nel frattempo vengono a galla tutti gli stronzi #MareOmnium URL”#fecciaitaliana \n",
      "Preprocessed: “@indivanados: 700 migranti affogano ma nel fratte\n",
      "Most similar: “@indivanados: 700 migranti affogano ma nel frattempo vengono a galla tutti gli stronzi #MareOmnium http://t.co/vnq9sophtd”#fecciaitaliana\n",
      "Ratio: 82\n",
      "================================================================================\n",
      "40\n",
      "Could not find a similar tweet for\n",
      "@user @user islam -africa = feccia del mondo.chi non lo avesse ancora capito si svegli .amen \n",
      "Preprocessed: @user @user islam -africa = feccia del mondo.chi n\n",
      "Most similar: @LegaNordVeneta @MASSIMO097 islam -africa = feccia del mondo.chi non lo avesse ancora capito si svegli .amen\n",
      "Ratio: 84\n",
      "================================================================================\n",
      "41\n",
      "Could not find a similar tweet for\n",
      "URL via @user  Questo ignobile atto dovrebbe mettere fine alla carriera da strafottente migrante del nord africano. La tolleranza per questi atti deve essere \"ZERO ASSOLUTO\". I tempi dell'arroganza da parte dei migranti sono finiti con la fine del PD. \n",
      "Preprocessed: URL via @user  Questo ignobile atto dovrebbe mette\n",
      "Most similar: https://t.co/vh4Gpval04 via @ilGiornale\n",
      "\n",
      "Questo ignobile atto dovrebbe mettere fine alla carriera da strafottente migrante del nord africano.\n",
      "La tolleranza per questi atti deve essere \"ZERO ASSOLUTO\".\n",
      "I tempi dell'arroganza da parte dei migranti sono finiti con la fine del PD.\n",
      "Ratio: 70\n",
      "================================================================================\n",
      "42\n",
      "Could not find a similar tweet for\n",
      "URL \"In protesta anche per avere Sky\". Così i migranti sbugiardano i buonisti. URL \n",
      "Preprocessed: URL \"In protesta anche per avere Sky\". Così i migr\n",
      "Most similar: https://t.co/xBtyNsVyGp: \"In protesta anche per avere Sky\". Così i migranti sbugiardano i buonisti.\n",
      "https://t.co/TfRuQovIbY\n",
      "Ratio: 72\n",
      "================================================================================\n",
      "43\n",
      "Could not find a similar tweet for\n",
      "URL PESTATA BRUTALMENTE MINACCIATA DI MORTE E INFINE STUPRATA, ARRESTATO MIGRANTE AFRICANO. #ONU  non siamo razzisti siamo stanchi di queste merdeeeee....andate a fanculoooo #adessobastaaa \n",
      "Preprocessed: URL PESTATA BRUTALMENTE MINACCIATA DI MORTE E INFI\n",
      "Most similar: https://t.co/NrtRJT9AUp\n",
      "PESTATA BRUTALMENTE MINACCIATA DI MORTE E INFINE STUPRATA, ARRESTATO MIGRANTE AFRICANO.\n",
      "#ONU  non siamo razzisti siamo stanchi di queste merdeeeee....andate a fanculoooo\n",
      "#adessobastaaa\n",
      "Ratio: 72\n",
      "================================================================================\n",
      "44\n",
      "Could not find a similar tweet for\n",
      "URL  Con le nascite ci sottometteranno alla sharia, l'europa sarà conquistata dall'Islam. Nubi nere come pece sull'avvenire dei nostri figli.Saremo capaci di fermare l'islamizzazione del continente? Saremo capaci di preservare noi stessi e la nostra cultura? \n",
      "Preprocessed: URL  Con le nascite ci sottometteranno alla sharia\n",
      "Most similar: https://t.co/UrZeXckAb3\n",
      "\n",
      "Con le nascite ci sottometteranno alla sharia, l'europa sarà conquistata dall'Islam. Nubi nere come pece sull'avvenire dei nostri figli.Saremo capaci di fermare l'islamizzazione del continente? Saremo capaci di preservare noi stessi e la nostra cultura?\n",
      "Ratio: 70\n",
      "================================================================================\n",
      "45\n",
      "Could not find a similar tweet for\n",
      "URL  Situazione a confine #CROAZIA dove migliaia di immigrati clandestini stanno attraversando indistrubati il confine x arrivare in Europa  L'esistenza del nostro Futuro (del loro e dei loro Paesi) è in pericolo  Fermare l'immigrazione clandestina è un DOVERE \n",
      "Preprocessed: URL  Situazione a confine #CROAZIA dove migliaia d\n",
      "Most similar: https://t.co/N6vY3XNBlc\n",
      "\n",
      "Situazione a confine #CROAZIA dove migliaia di immigrati clandestini stanno attraversando indistrubati il confine x arrivare in Europa\n",
      "\n",
      "L'esistenza del nostro Futuro (del loro e dei loro Paesi) è in pericolo\n",
      "\n",
      "Fermare l'immigrazione clandestina è un DOVERE\n",
      "Ratio: 70\n",
      "================================================================================\n",
      "46\n",
      "Could not find a similar tweet for\n",
      "URL Viminale: \"184 migranti sbarcati a Lampedusa, Malta scarica il problema  sull'Italia\" - Tgcom24. URL  tramite @user \n",
      "Preprocessed: URL Viminale: \"184 migranti sbarcati a Lampedusa, \n",
      "Most similar: https://t.co/ZVVsrafLfc: Viminale: \"184 migranti sbarcati a Lampedusa, Malta scarica il problema \n",
      "sull'Italia\" - Tgcom24.\n",
      "https://t.co/R7KkAZy8xf\n",
      "\n",
      "tramite @GoogleNews\n",
      "Ratio: 72\n",
      "================================================================================\n",
      "47\n",
      "Could not find a similar tweet for\n",
      "URL di @user Veronesi choc sul governo: 'Sistema che uccide i migranti' Lo scrittore, che aveva appoggiato Saviano, all'attacco: \"Hanno creato una macchina da guerra per farli annegare\" \n",
      "Preprocessed: URL di @user Veronesi choc sul governo: 'Sistema c\n",
      "Most similar: https://t.co/hKKBDdG50K di @ilGiornale Veronesi choc sul governo:\n",
      "'Sistema che uccide i migranti'\n",
      "Lo scrittore, che aveva appoggiato Saviano, all'attacco: \"Hanno creato una macchina da guerra per farli annegare\"\n",
      "Ratio: 72\n",
      "================================================================================\n",
      "48\n",
      "Could not find a similar tweet for\n",
      "Pietre e petardi contro case migranti URL URL \n",
      "Preprocessed: Pietre e petardi contro case migranti URL URL \n",
      "Most similar: Pietre e petardi contro case migranti https://t.co/yoycg1lbRI https://t.co/RS3h6W6PSD\n",
      "Ratio: 85\n",
      "================================================================================\n",
      "49\n",
      "Could not find a similar tweet for\n",
      "Il.mondo zingari.non riesco a chiamarli rom non mi viene. Facciamo mille euro al giorno rubando. Offesa inaccettabile per chi si alza rutti I santi giorni per andare a lavoro. Tabula rasa per queste merde. Senza pietà.  URL \n",
      "Preprocessed: Il.mondo zingari.non riesco a chiamarli rom non mi\n",
      "Most similar: Il.mondo zingari.non riesco a chiamarli rom non mi viene.\n",
      "Facciamo mille euro al giorno rubando.\n",
      "Offesa inaccettabile per chi si alza rutti I santi giorni per andare a lavoro.\n",
      "Tabula rasa per queste merde.\n",
      "Senza pietà.\n",
      "\n",
      "https://t.co/5RzdVjXwRm\n",
      "Ratio: 82\n",
      "================================================================================\n",
      "50\n",
      "Could not find a similar tweet for\n",
      "URL Ma se la Boldrini sta zitta non è meglio? Si ricordi che potrà parlare solo quando rinuncerà alla guardia del corpo a lei e ai suoi parenti. Noi non abbiamo protezioni che ci difendono dai sciacalli immigrati. \n",
      "Preprocessed: URL Ma se la Boldrini sta zitta non è meglio? Si r\n",
      "Most similar: https://t.co/PqpPhiVwoy. Ma se la Boldrini sta zitta non è meglio? Si ricordi che potrà parlare solo quando rinuncerà alla guardia del corpo a lei e ai suoi parenti. Noi non abbiamo protezioni che ci difendono dai sciacalli immigrati.\n",
      "Ratio: 72\n",
      "================================================================================\n",
      "51\n",
      "Could not find a similar tweet for\n",
      "URL Ora anche in Francia si stanno accorgendo che il ritorno di alcune malattie e'  dovuto all'immigrazione...#Leuropa #Eu \n",
      "Preprocessed: URL Ora anche in Francia si stanno accorgendo che \n",
      "Most similar: https://t.co/rFqr0GtIMS\n",
      "Ora anche in Francia si stanno accorgendo che il ritorno di alcune malattie e'  dovuto all'immigrazione...#Leuropa #Eu\n",
      "Ratio: 72\n",
      "================================================================================\n",
      "52\n",
      "Could not find a similar tweet for\n",
      "URL ‼️Condividete a raffica. Per la prima volta una \"alta\" rappresentante della UNHCR ammette contiguità con Soros e le carte di credito fornite a immigrati  Adesso vengano ancora a dirci che siamo dei visionari malati.  SBUGIARDATI \n",
      "Preprocessed: URL ‼️Condividete a raffica. Per la prima volta un\n",
      "Most similar: https://t.co/eGTKyCurRP\n",
      "‼️Condividete a raffica. Per la prima volta una \"alta\" rappresentante della UNHCR ammette contiguità con Soros e le carte di credito fornite a immigrati \n",
      "Adesso vengano ancora a dirci che siamo dei visionari malati. \n",
      "SBUGIARDATI\n",
      "Ratio: 70\n",
      "================================================================================\n",
      "53\n",
      "Could not find a similar tweet for\n",
      "Non tutti gli islamici sono terroristi...ma...tutti i terroristi sono islamici. \n",
      "Preprocessed: Non tutti gli islamici sono terroristi...ma...tutt\n",
      "Most similar: Non tutti i Mussulmani son terroristi, Ma tutti i terroristi sono mussulmani. TOLLERANZA ZERO CONTRO QUESTI ANIMALI! #SriLanka\n",
      "Ratio: 72\n",
      "================================================================================\n",
      "54\n",
      "Could not find a similar tweet for\n",
      "URL mesi i porti italiani sono chiusi. Da mesi abbiamo detto basta all' immigrazione/invasione selvaggia.Lo sanno i clandestini, i mercanti ed i collaborazionisti negrieri delle ong.Ma nonostante ciò quest'ultimi adorano provocare, sperando nel fattaccio \n",
      "Preprocessed: URL mesi i porti italiani sono chiusi. Da mesi abb\n",
      "Most similar: https://t.co/bX8NqmPPp4Da mesi i porti italiani sono chiusi. Da mesi abbiamo detto basta all' immigrazione/invasione selvaggia.Lo sanno i clandestini, i mercanti ed i collaborazionisti negrieri delle ong.Ma nonostante ciò quest'ultimi adorano provocare, sperando nel fattaccio\n",
      "Ratio: 74\n",
      "================================================================================\n",
      "55\n",
      "Could not find a similar tweet for\n",
      "URL   Questi sono i nuovi immigrati voluti dalla sinistra italiana. Questo \" animale \" non troverebbe posto neppure in una giungla, invece ce lo ritroviamo qui. Occorre tutelarci è SUBITO.\n",
      "Preprocessed: URL   Questi sono i nuovi immigrati voluti dalla s\n",
      "Most similar: https://t.co/h2c9Ac75X4   Questi sono i nuovi immigrati voluti dalla sinistra italiana. Questo \" animale \" non troverebbe posto neppure in una giungla, invece ce lo ritroviamo qui. Occorre tutelarci è SUBITO.\n",
      "Ratio: 74\n",
      "================================================================================\n",
      "56\n",
      "Could not find a similar tweet for\n",
      "URL Il giornale on line #IlDolomiti  ha pubblicato un interessante articolo che rivela il modo \"illegale\" in cui si sta sviluppando il #traffico dei #migranti e la #tratta di esseri umani dai paesi #africani verso l'#Europa. #portichiusi #GabrieleBaratto\n",
      "Preprocessed: URL Il giornale on line #IlDolomiti  ha pubblicato\n",
      "Most similar: https://t.co/qvPpmtgvZE\n",
      "Il giornale on line #IlDolomiti  ha pubblicato un interessante articolo che rivela il modo \"illegale\" in cui si sta sviluppando il #traffico dei #migranti e la #tratta di esseri umani dai paesi #africani verso l'#Europa.\n",
      "#portichiusi\n",
      "#GabrieleBaratto\n",
      "Ratio: 72\n",
      "================================================================================\n",
      "57\n",
      "Could not find a similar tweet for\n",
      "FIGLI DI........MALEDETTI, DITTATORI,....... E I DIRITTI UMANI? QUELLI SI DEVONO SOLO AI MIGRANTI AFRICANI..\n",
      "Preprocessed: FIGLI DI........MALEDETTI, DITTATORI,....... E I D\n",
      "Most similar: FIGLI DI........MALEDETTI, DITTATORI,....... E I DIRITTI UMANI? QUELLI SI DEVONO SOLO AI MIGRANTI AFRICANI..\n",
      "Ratio: 82\n",
      "================================================================================\n",
      "58\n",
      "Could not find a similar tweet for\n",
      "URL l'Italia è fatta ora facciamo gli italiani  chi ci ha depredato va fuori dai coglioni insieme a quelli che ci hanno venduti no comunisti no PD  No forze che ci vendono il culo  no immigrati inutili\n",
      "Preprocessed: URL l'Italia è fatta ora facciamo gli italiani  ch\n",
      "Most similar: https://t.co/LgOQYDJja7 l'Italia è fatta\n",
      "ora facciamo gli italiani\n",
      " chi ci ha depredato va fuori dai coglioni insieme a quelli che ci hanno venduti\n",
      "no comunisti no PD\n",
      " No forze che ci vendono il culo \n",
      "no immigrati inutili\n",
      "Ratio: 72\n",
      "================================================================================\n",
      "59\n",
      "Could not find a similar tweet for\n",
      "URL Bin SALMAN Saruman prophet mohammed crazy ] [ che, voi avete messo in piedi: tutta questa pagliacciata del Corano soltanto per stuprare le bambine e derubare i cadaveri innocenti! te la do io la guerra contro la Russia e contro la CINA!\n",
      "Preprocessed: URL Bin SALMAN Saruman prophet mohammed crazy ] [ \n",
      "Most similar: https://t.co/FiJlBVuJvs\n",
      "Bin SALMAN Saruman prophet mohammed crazy ] [ che, voi avete messo in piedi: tutta questa pagliacciata del Corano soltanto per stuprare le bambine e derubare i cadaveri innocenti!\n",
      "te la do io la guerra contro la Russia e contro la CINA!\n",
      "Ratio: 72\n",
      "================================================================================\n",
      "60\n",
      "Could not find a similar tweet for\n",
      "URL. MA I PIDIOTI NON ACCETTANO CHE I TERRORISTI ISLAMICI SIANO CHIAMATI FIGLI DI PUTTANA,... SI DEVE DIRE FIGLI DI BUONA DONNA !!!!!!\n",
      "Preprocessed: URL. MA I PIDIOTI NON ACCETTANO CHE I TERRORISTI I\n",
      "Most similar: https://t.co/LtqswvHsIk. MA I PIDIOTI NON ACCETTANO CHE I TERRORISTI ISLAMICI SIANO CHIAMATI FIGLI DI PUTTANA,... SI DEVE DIRE FIGLI DI BUONA DONNA !!!!!!\n",
      "Ratio: 74\n",
      "================================================================================\n",
      "61\n",
      "Could not find a similar tweet for\n",
      "URL Cittadinanza, i \"nuovi italiani\" della seconda generazione scendono in piazza, l'obiettivo è rilanciare lo Ius soli da parte dei figli e le figlie di immigrati. L'appuntamento per una manifestazione a Roma il 9 maggio,giorno della festa dell’Unione Europea\n",
      "Preprocessed: URL Cittadinanza, i \"nuovi italiani\" della seconda\n",
      "Most similar: https://t.co/K2EeoKgOdn Cittadinanza, i \"nuovi italiani\" della seconda generazione scendono in piazza, l'obiettivo è rilanciare lo Ius soli da parte dei figli e le figlie di immigrati. L'appuntamento per una manifestazione a Roma il 9 maggio,giorno della festa dell’Unione Europea\n",
      "Ratio: 74\n",
      "================================================================================\n",
      "62\n",
      "Could not find a similar tweet for\n",
      "++ SEA EYE, I MIGRANTI RIFIUTANO LO SBARCO. SALVINI: \"BUON VIAGGIO A BERLINO\" ++ URL\n",
      "Preprocessed: ++ SEA EYE, I MIGRANTI RIFIUTANO LO SBARCO. SALVIN\n",
      "Most similar: @andreasso1951 L'ITALIA E' CASA NOSTRA I MIGRANTI STIANO A CASA LORO\n",
      "L'ITALIA E' CASA NOSTRA I MIGRANTI STIANO A CASA LORO\n",
      "L'ITALIA E' CASA NOSTRA I MIGRANTI STIANO A CASA LORO\n",
      "L'ITALIA E' CASA NOSTRA I MIGRANTI STIANO A CASA LORO\n",
      "L'ITALIA E' CASA NOSTRA I MIGRANTI STIANO A CASA LORO\n",
      "Ratio: 46\n",
      "================================================================================\n"
     ]
    }
   ],
   "source": [
    "from thefuzz import fuzz\n",
    "from tqdm.auto import tqdm\n",
    "# Find the most similar tweet in df_test[\"text\"]\n",
    "\n",
    "best_indices = []\n",
    "original_text = []\n",
    "num_errors = 0\n",
    "\n",
    "limit = 50\n",
    "\n",
    "file = open(\"log.txt\", \"w\")\n",
    "\n",
    "for idx, row in tqdm(df.iterrows(), total=len(df)):\n",
    "    # Find the most similar tweet in df_test[\"text\"]\n",
    "    text = row[\"text\"][:limit]\n",
    "\n",
    "    ratios = []\n",
    "\n",
    "    for idx2, row2 in df_true.iterrows():\n",
    "        ratio = fuzz.partial_ratio(row2[\"text\"][:limit], text)\n",
    "        ratios.append((idx2, ratio, row2[\"text_original\"]))\n",
    "        if ratio == 100:\n",
    "            break\n",
    "\n",
    "    ratios = sorted(ratios, key=lambda x: x[1], reverse=True)\n",
    "    best_idx, ratio, new_text = ratios[0]\n",
    "\n",
    "    if ratio > 85:\n",
    "        best_indices.append(best_idx)\n",
    "        original_text.append(new_text)\n",
    "        # Remove from df_true to make it faster\n",
    "        df_true = df_true.drop(best_idx)\n",
    "        print(\"=\"*80, file=file)\n",
    "        print(f'{ratio} -- {row[\"text\"]} -> {new_text}', file=file)\n",
    "    else:\n",
    "        best_indices.append(None)\n",
    "        original_text.append(None)\n",
    "        print(num_errors)\n",
    "        print(f\"Could not find a similar tweet for\\n{row['text']}\")\n",
    "        print(f\"Preprocessed: {text}\")\n",
    "        print(f\"Most similar: {new_text}\")\n",
    "        print(f\"Ratio: {ratio}\")\n",
    "        print(\"=\" * 80)\n",
    "        num_errors += 1\n",
    "        "
   ]
  },
  {
   "cell_type": "code",
   "execution_count": 3,
   "metadata": {},
   "outputs": [
    {
     "data": {
      "text/plain": [
       "63"
      ]
     },
     "execution_count": 3,
     "metadata": {},
     "output_type": "execute_result"
    }
   ],
   "source": [
    "df[\"original_text\"] = original_text\n",
    "\n",
    "# Count na values\n",
    "\n",
    "df[\"original_text\"].isna().sum()"
   ]
  },
  {
   "cell_type": "code",
   "execution_count": 4,
   "metadata": {},
   "outputs": [
    {
     "data": {
      "text/plain": [
       "(566, 5)"
      ]
     },
     "execution_count": 4,
     "metadata": {},
     "output_type": "execute_result"
    }
   ],
   "source": [
    "df_true.shape"
   ]
  },
  {
   "cell_type": "code",
   "execution_count": 5,
   "metadata": {},
   "outputs": [
    {
     "data": {
      "application/vnd.jupyter.widget-view+json": {
       "model_id": "37dc7a46600445de9a2258be2e5f8ece",
       "version_major": 2,
       "version_minor": 0
      },
      "text/plain": [
       "  0%|          | 0/8100 [00:00<?, ?it/s]"
      ]
     },
     "metadata": {},
     "output_type": "display_data"
    }
   ],
   "source": [
    "num_errors = 0\n",
    "for idx, row in tqdm(df.iterrows(), total=len(df)):\n",
    "    # Find the most similar tweet in df_test[\"text\"]\n",
    "    if pd.notna(row[\"original_text\"]):\n",
    "        continue\n",
    "    text = row[\"text\"][:limit]\n",
    "\n",
    "    ratios = []\n",
    "\n",
    "    for idx2, row2 in df_true.iterrows():\n",
    "        ratio = fuzz.partial_ratio(row2[\"text\"][:limit], text)\n",
    "        ratios.append((idx2, ratio, row2[\"text\"]))\n",
    "        if ratio == 100:\n",
    "            break\n",
    "\n",
    "    ratios = sorted(ratios, key=lambda x: x[1], reverse=True)\n",
    "    best_idx, ratio, new_text = ratios[0]\n",
    "\n",
    "    if ratio > 55:\n",
    "        # Remove from df_true to make it faster\n",
    "        df_true = df_true.drop(best_idx)\n",
    "\n",
    "        df.loc[idx, \"original_text\"] = new_text\n",
    "   "
   ]
  },
  {
   "cell_type": "code",
   "execution_count": 6,
   "metadata": {},
   "outputs": [
    {
     "data": {
      "text/plain": [
       "4"
      ]
     },
     "execution_count": 6,
     "metadata": {},
     "output_type": "execute_result"
    }
   ],
   "source": [
    "df[\"original_text\"].isna().sum()"
   ]
  },
  {
   "cell_type": "code",
   "execution_count": 7,
   "metadata": {},
   "outputs": [],
   "source": [
    "df.to_csv(\"haspeede2020.csv\", index=False)"
   ]
  },
  {
   "cell_type": "code",
   "execution_count": 1,
   "metadata": {},
   "outputs": [],
   "source": [
    "%load_ext autoreload\n",
    "%autoreload 2\n",
    "\n",
    "import pandas as pd\n",
    "\n",
    "df = pd.read_csv(\"haspeede2020.csv\")"
   ]
  },
  {
   "cell_type": "code",
   "execution_count": 2,
   "metadata": {},
   "outputs": [
    {
     "data": {
      "text/html": [
       "<div>\n",
       "<style scoped>\n",
       "    .dataframe tbody tr th:only-of-type {\n",
       "        vertical-align: middle;\n",
       "    }\n",
       "\n",
       "    .dataframe tbody tr th {\n",
       "        vertical-align: top;\n",
       "    }\n",
       "\n",
       "    .dataframe thead th {\n",
       "        text-align: right;\n",
       "    }\n",
       "</style>\n",
       "<table border=\"1\" class=\"dataframe\">\n",
       "  <thead>\n",
       "    <tr style=\"text-align: right;\">\n",
       "      <th></th>\n",
       "      <th>id</th>\n",
       "      <th>text</th>\n",
       "      <th>hs</th>\n",
       "      <th>stereotype</th>\n",
       "      <th>split</th>\n",
       "      <th>original_text</th>\n",
       "    </tr>\n",
       "  </thead>\n",
       "  <tbody>\n",
       "    <tr>\n",
       "      <th>0</th>\n",
       "      <td>2066</td>\n",
       "      <td>È terrorismo anche questo, per mettere in uno stato di soggezione le persone e renderle innocue, mentre qualcuno... URL</td>\n",
       "      <td>0</td>\n",
       "      <td>0</td>\n",
       "      <td>train</td>\n",
       "      <td>È terrorismo anche questo, per mettere in uno stato di soggezione le persone e renderle innocue, mentre qualcuno... https://t.co/GFAvh0QLe5</td>\n",
       "    </tr>\n",
       "    <tr>\n",
       "      <th>1</th>\n",
       "      <td>2045</td>\n",
       "      <td>@user @user infatti finché ci hanno guadagnato con i campi #rom tutto era ok con #Alemanno #Ipocriti</td>\n",
       "      <td>0</td>\n",
       "      <td>0</td>\n",
       "      <td>train</td>\n",
       "      <td>@Nanoalto @FedeAngeli infatti finché ci hanno guadagnato con i campi #rom tutto era ok con #Alemanno #Ipocriti</td>\n",
       "    </tr>\n",
       "    <tr>\n",
       "      <th>2</th>\n",
       "      <td>61</td>\n",
       "      <td>Corriere: Tangenti, Mafia Capitale dimenticataMazzette su buche e campi rom URL #roma</td>\n",
       "      <td>0</td>\n",
       "      <td>0</td>\n",
       "      <td>train</td>\n",
       "      <td>Corriere: Tangenti, Mafia Capitale dimenticataMazzette su buche e campi rom https://t.co/RTPu3LNTzF #roma</td>\n",
       "    </tr>\n",
       "    <tr>\n",
       "      <th>3</th>\n",
       "      <td>1259</td>\n",
       "      <td>@user ad uno ad uno, perché quando i migranti israeliti arrivarono in terra di Canaan fecero fuori tutti i Canaaniti.</td>\n",
       "      <td>0</td>\n",
       "      <td>0</td>\n",
       "      <td>train</td>\n",
       "      <td>@Pontifex_it ad uno ad uno, perché quando i migranti israeliti arrivarono in terra di Canaan fecero fuori tutti i Canaaniti.</td>\n",
       "    </tr>\n",
       "    <tr>\n",
       "      <th>4</th>\n",
       "      <td>949</td>\n",
       "      <td>Il divertimento del giorno? Trovare i patrioti italiani che inneggiano contro i rom facendo la spesa alla #Lidl (multinazionale tedesca).</td>\n",
       "      <td>0</td>\n",
       "      <td>0</td>\n",
       "      <td>train</td>\n",
       "      <td>Il divertimento del giorno? Trovare i patrioti italiani che inneggiano contro i rom facendo la spesa alla #Lidl (multinazionale tedesca).</td>\n",
       "    </tr>\n",
       "    <tr>\n",
       "      <th>...</th>\n",
       "      <td>...</td>\n",
       "      <td>...</td>\n",
       "      <td>...</td>\n",
       "      <td>...</td>\n",
       "      <td>...</td>\n",
       "      <td>...</td>\n",
       "    </tr>\n",
       "    <tr>\n",
       "      <th>8095</th>\n",
       "      <td>10091</td>\n",
       "      <td>Il Razzismo gli viene inculcato sin da bambini dal corano e dall'islam Cani, Maiali. Cristiani ed Ebrei sono impuri, infedeli e da sterminare. Il nemico e gran Pezzo di Merda è colui che li vuole qui a tutti i costi.</td>\n",
       "      <td>1</td>\n",
       "      <td>1</td>\n",
       "      <td>test</td>\n",
       "      <td>Il Razzismo gli viene inculcato sin da bambini dal corano e dall'islam Cani, Maiali. Cristiani ed Ebrei sono impuri, infedeli e da sterminare. Il nemico e gran Pezzo di Merda è colui che li vuole qui a tutti i costi.</td>\n",
       "    </tr>\n",
       "    <tr>\n",
       "      <th>8096</th>\n",
       "      <td>10046</td>\n",
       "      <td>PERCHÉ DI QUESTO ORRENDO STUPRO NON DI PARLA? INFORMAZIONE CORROTTA,LA SINISTRA CONTINUA A COPRIRE I DELINQUENTI STRANIERI !! #viterbo #casapound #migranti URL</td>\n",
       "      <td>1</td>\n",
       "      <td>1</td>\n",
       "      <td>test</td>\n",
       "      <td>PERCHÉ DI QUESTO ORRENDO STUPRO NON DI PARLA? INFORMAZIONE CORROTTA,LA SINISTRA CONTINUA A COPRIRE I DELINQUENTI STRANIERI !! #viterbo #casapound #migranti https://t.co/mcCMiyJJFN</td>\n",
       "    </tr>\n",
       "    <tr>\n",
       "      <th>8097</th>\n",
       "      <td>10377</td>\n",
       "      <td>FERMIAMO L'IMPOSTORE. Forse saranno necesarie altre CROCIATE, visto che il fiume di fango non si ferma.Anzi Vaticano, SX e POTERI MASSONICI ci stanno massacrando. Quando mai in Italia qualcuno veniva SGOZZATO, PRESO A SPRANGATE, FATTO A PEZZI? Fermiamo l'invasione dell'ISLAM!!!</td>\n",
       "      <td>1</td>\n",
       "      <td>1</td>\n",
       "      <td>test</td>\n",
       "      <td>FERMIAMO L'IMPOSTORE. Forse saranno necesarie altre CROCIATE, visto che il fiume di fango non si ferma.Anzi Vaticano, SX e POTERI MASSONICI ci stanno massacrando. Quando mai in Italia qualcuno veniva SGOZZATO, PRESO A SPRANGATE, FATTO A PEZZI? Fermiamo l'invasione dell'ISLAM!!!</td>\n",
       "    </tr>\n",
       "    <tr>\n",
       "      <th>8098</th>\n",
       "      <td>10199</td>\n",
       "      <td>@user @user @user @user @user @user @user @user @user @user Matteo non si tocca...fuori i delinquenti stranieri da casa nostra !</td>\n",
       "      <td>1</td>\n",
       "      <td>1</td>\n",
       "      <td>test</td>\n",
       "      <td>@rep_bologna @beppe_grillo\\n@AlfonsoBonafede\\n@Mov5Stelle\\n@DaniloToninelli\\n@Roberto_Fico\\n@Eli_Trenta\\n@GiuliaGrilloM5S\\n@c_appendino\\n@virginiaraggi\\n@nogarin\\n@LuigiGallo15\\n@BarbaraLezzi\\n@ANMagistrati\\n@luigidimaio\\n@GiuseppeConteIT rispedire a casa loro criminali stranieri no vero? Solo costi!!!</td>\n",
       "    </tr>\n",
       "    <tr>\n",
       "      <th>8099</th>\n",
       "      <td>10574</td>\n",
       "      <td>Ci vuole \"coraggio\" ad abbinare la parola Eguaglianza all'Islam! Credo che, tra i tanti, proprio gli omosessuali dovrebbero indignarsi dinanzi a queste dimostrazioni di ignoranza. Per omosessualità, in alcuni Paesi Islamici, si muore ancora oggi. Altro che bandiere della Pace...! URL</td>\n",
       "      <td>1</td>\n",
       "      <td>1</td>\n",
       "      <td>test</td>\n",
       "      <td>Ci vuole \"coraggio\" ad abbinare la parola Eguaglianza all'Islam!\\nCredo che, tra i tanti, proprio gli omosessuali dovrebbero indignarsi dinanzi a queste dimostrazioni di ignoranza.\\nPer omosessualità, in alcuni Paesi Islamici, si muore ancora oggi.\\nAltro che bandiere della Pace...! https://t.co/oCFeC49srP</td>\n",
       "    </tr>\n",
       "  </tbody>\n",
       "</table>\n",
       "<p>8100 rows × 6 columns</p>\n",
       "</div>"
      ],
      "text/plain": [
       "         id  \\\n",
       "0      2066   \n",
       "1      2045   \n",
       "2        61   \n",
       "3      1259   \n",
       "4       949   \n",
       "...     ...   \n",
       "8095  10091   \n",
       "8096  10046   \n",
       "8097  10377   \n",
       "8098  10199   \n",
       "8099  10574   \n",
       "\n",
       "                                                                                                                                                                                                                                                                                              text  \\\n",
       "0                                                                                                                                                                         È terrorismo anche questo, per mettere in uno stato di soggezione le persone e renderle innocue, mentre qualcuno... URL    \n",
       "1                                                                                                                                                                                            @user @user infatti finché ci hanno guadagnato con i campi #rom tutto era ok con #Alemanno #Ipocriti    \n",
       "2                                                                                                                                                                                                           Corriere: Tangenti, Mafia Capitale dimenticataMazzette su buche e campi rom URL #roma    \n",
       "3                                                                                                                                                                           @user ad uno ad uno, perché quando i migranti israeliti arrivarono in terra di Canaan fecero fuori tutti i Canaaniti.    \n",
       "4                                                                                                                                                       Il divertimento del giorno? Trovare i patrioti italiani che inneggiano contro i rom facendo la spesa alla #Lidl (multinazionale tedesca).    \n",
       "...                                                                                                                                                                                                                                                                                            ...   \n",
       "8095                                                                      Il Razzismo gli viene inculcato sin da bambini dal corano e dall'islam Cani, Maiali. Cristiani ed Ebrei sono impuri, infedeli e da sterminare. Il nemico e gran Pezzo di Merda è colui che li vuole qui a tutti i costi.   \n",
       "8096                                                                                                                               PERCHÉ DI QUESTO ORRENDO STUPRO NON DI PARLA? INFORMAZIONE CORROTTA,LA SINISTRA CONTINUA A COPRIRE I DELINQUENTI STRANIERI !! #viterbo #casapound #migranti URL   \n",
       "8097        FERMIAMO L'IMPOSTORE. Forse saranno necesarie altre CROCIATE, visto che il fiume di fango non si ferma.Anzi Vaticano, SX e POTERI MASSONICI ci stanno massacrando. Quando mai in Italia qualcuno veniva SGOZZATO, PRESO A SPRANGATE, FATTO A PEZZI? Fermiamo l'invasione dell'ISLAM!!!   \n",
       "8098                                                                                                                                                              @user @user @user @user @user @user @user @user @user @user Matteo non si tocca...fuori i delinquenti stranieri da casa nostra !   \n",
       "8099  Ci vuole \"coraggio\" ad abbinare la parola Eguaglianza all'Islam! Credo che, tra i tanti, proprio gli omosessuali dovrebbero indignarsi dinanzi a queste dimostrazioni di ignoranza. Per omosessualità, in alcuni Paesi Islamici, si muore ancora oggi. Altro che bandiere della Pace...! URL   \n",
       "\n",
       "      hs  stereotype  split  \\\n",
       "0      0           0  train   \n",
       "1      0           0  train   \n",
       "2      0           0  train   \n",
       "3      0           0  train   \n",
       "4      0           0  train   \n",
       "...   ..         ...    ...   \n",
       "8095   1           1   test   \n",
       "8096   1           1   test   \n",
       "8097   1           1   test   \n",
       "8098   1           1   test   \n",
       "8099   1           1   test   \n",
       "\n",
       "                                                                                                                                                                                                                                                                                                            original_text  \n",
       "0                                                                                                                                                                             È terrorismo anche questo, per mettere in uno stato di soggezione le persone e renderle innocue, mentre qualcuno... https://t.co/GFAvh0QLe5  \n",
       "1                                                                                                                                                                                                          @Nanoalto @FedeAngeli infatti finché ci hanno guadagnato con i campi #rom tutto era ok con #Alemanno #Ipocriti  \n",
       "2                                                                                                                                                                                                               Corriere: Tangenti, Mafia Capitale dimenticataMazzette su buche e campi rom https://t.co/RTPu3LNTzF #roma  \n",
       "3                                                                                                                                                                                            @Pontifex_it ad uno ad uno, perché quando i migranti israeliti arrivarono in terra di Canaan fecero fuori tutti i Canaaniti.  \n",
       "4                                                                                                                                                                               Il divertimento del giorno? Trovare i patrioti italiani che inneggiano contro i rom facendo la spesa alla #Lidl (multinazionale tedesca).  \n",
       "...                                                                                                                                                                                                                                                                                                                   ...  \n",
       "8095                                                                                             Il Razzismo gli viene inculcato sin da bambini dal corano e dall'islam Cani, Maiali. Cristiani ed Ebrei sono impuri, infedeli e da sterminare. Il nemico e gran Pezzo di Merda è colui che li vuole qui a tutti i costi.  \n",
       "8096                                                                                                                                  PERCHÉ DI QUESTO ORRENDO STUPRO NON DI PARLA? INFORMAZIONE CORROTTA,LA SINISTRA CONTINUA A COPRIRE I DELINQUENTI STRANIERI !! #viterbo #casapound #migranti https://t.co/mcCMiyJJFN  \n",
       "8097                               FERMIAMO L'IMPOSTORE. Forse saranno necesarie altre CROCIATE, visto che il fiume di fango non si ferma.Anzi Vaticano, SX e POTERI MASSONICI ci stanno massacrando. Quando mai in Italia qualcuno veniva SGOZZATO, PRESO A SPRANGATE, FATTO A PEZZI? Fermiamo l'invasione dell'ISLAM!!!  \n",
       "8098      @rep_bologna @beppe_grillo\\n@AlfonsoBonafede\\n@Mov5Stelle\\n@DaniloToninelli\\n@Roberto_Fico\\n@Eli_Trenta\\n@GiuliaGrilloM5S\\n@c_appendino\\n@virginiaraggi\\n@nogarin\\n@LuigiGallo15\\n@BarbaraLezzi\\n@ANMagistrati\\n@luigidimaio\\n@GiuseppeConteIT rispedire a casa loro criminali stranieri no vero? Solo costi!!!  \n",
       "8099  Ci vuole \"coraggio\" ad abbinare la parola Eguaglianza all'Islam!\\nCredo che, tra i tanti, proprio gli omosessuali dovrebbero indignarsi dinanzi a queste dimostrazioni di ignoranza.\\nPer omosessualità, in alcuni Paesi Islamici, si muore ancora oggi.\\nAltro che bandiere della Pace...! https://t.co/oCFeC49srP  \n",
       "\n",
       "[8100 rows x 6 columns]"
      ]
     },
     "execution_count": 2,
     "metadata": {},
     "output_type": "execute_result"
    }
   ],
   "source": [
    "pd.options.display.max_colwidth = 1000\n",
    "\n",
    "df"
   ]
  },
  {
   "attachments": {},
   "cell_type": "markdown",
   "metadata": {},
   "source": [
    "## Sanity check\n"
   ]
  },
  {
   "cell_type": "code",
   "execution_count": 2,
   "metadata": {},
   "outputs": [
    {
     "data": {
      "application/vnd.jupyter.widget-view+json": {
       "model_id": "322c38245a23438890fdd9b34e187a9b",
       "version_major": 2,
       "version_minor": 0
      },
      "text/plain": [
       "  0%|          | 0/8100 [00:00<?, ?it/s]"
      ]
     },
     "metadata": {},
     "output_type": "display_data"
    }
   ],
   "source": [
    "#check that meanings with sentence bert are more or less the same\n",
    "import numpy as np\n",
    "from sentence_transformers import SentenceTransformer\n",
    "from tqdm.auto import tqdm\n",
    "from pysentimiento.preprocessing import preprocess_tweet\n",
    "\n",
    "model = SentenceTransformer('distiluse-base-multilingual-cased-v1')\n",
    "\n",
    "num_errors = 0\n",
    "for idx, row in tqdm(df.iterrows(), total=len(df)):\n",
    "    if pd.isna(row[\"original_text\"]):\n",
    "        continue\n",
    "    text = row[\"text\"]\n",
    "    original_text = preprocess_tweet(row[\"original_text\"], lang=\"it\", user_token=\"@user\", url_token=\"URL\", demoji=False, preprocess_hashtags=False)\n",
    "\n",
    "    text_emb = model.encode(text)\n",
    "    original_text_emb = model.encode(original_text)\n",
    "    \n",
    "    # Check cosine similarity\n",
    "    cos_sim = np.dot(text_emb, original_text_emb) / (np.linalg.norm(text_emb) * np.linalg.norm(original_text_emb))\n",
    "\n",
    "    df.loc[idx, \"cos_sim\"] = cos_sim\n",
    "\n",
    "\n"
   ]
  },
  {
   "cell_type": "code",
   "execution_count": 3,
   "metadata": {},
   "outputs": [],
   "source": [
    "df.to_csv(\"haspeede2020.cossim.csv\", index=False)"
   ]
  },
  {
   "cell_type": "code",
   "execution_count": 1,
   "metadata": {},
   "outputs": [],
   "source": [
    "%load_ext autoreload\n",
    "%autoreload 2\n",
    "\n",
    "import pandas as pd\n",
    "\n",
    "df = pd.read_csv(\"haspeede2020.cossim.csv\")"
   ]
  },
  {
   "cell_type": "code",
   "execution_count": 7,
   "metadata": {},
   "outputs": [
    {
     "name": "stdout",
     "output_type": "stream",
     "text": [
      "Business rom: nel mirino della Procura coop e politici URL URL \n",
      "Business rom: nel mirino della Procura coop e politici https://t.co/mZ5W8AIRvh - Adriano Montanaro Alessandria\n",
      "0.7423011660575867\n",
      "================================================================================\n",
      "Business rom: nel mirino della Procura coop e politici URL - Adriano Montanaro Alessandria \n",
      "Business rom: nel mirino della Procura coop e politici #newsrss24italia https://t.co/KLq65B2KvL\n",
      "0.7373237013816833\n",
      "================================================================================\n",
      "Il rom che derubò Ermes dà fuoco alla sua roulotte per ottenere una casa sto figlio di zoccola ha capito bene cosa fare x sistemarsi \n",
      "Il rom che derubò Ermes dà fuoco alla sua roulotte per ottenere una casa #Generale https://t.co/k9DVPcNf85\n",
      "0.701755166053772\n",
      "================================================================================\n",
      "Il rom che derubò Ermes dà fuoco alla sua roulotte per ottenere una casa #Generale URL \n",
      "Il rom che derubò Ermes dà fuoco alla sua roulotte per ottenere una casa sto figlio di zoccola ha capito bene cosa fare x sistemarsi\n",
      "0.701755166053772\n",
      "================================================================================\n",
      "Accordo Italia-Libia sui migranti, i punti salienti: Da controllo confini a finanziamento centri accoglienza libici URL \n",
      "https://##url Accordo Italia-Libia sui migranti, i punti salienti #ansa #news\n",
      "0.6953782439231873\n",
      "================================================================================\n",
      "Iniziano le scuole, immigrati già pronti a spacciare URL \"il loro stile di vita sarà il nostro stile di vita\" by Soros Boldrini Renzi \n",
      "Iniziano le scuole, immigrati già pronti a spacciare https://t.co/SV6COVGcUq\n",
      "0.684346616268158\n",
      "================================================================================\n",
      "Iniziano le scuole, immigrati già pronti a spacciare URL \n",
      "Iniziano le scuole, immigrati già pronti a spacciare https://t.co/fXXYyBeVqA \"il loro stile di vita sarà il nostro stile di vita\" by Soros Boldrini Renzi\n",
      "0.684346616268158\n",
      "================================================================================\n",
      "L’ordine ai giornalisti: “Nascondete i crimini degli immigrati” URL \n",
      "L’ordine ai giornalisti: “Nascondete i crimini degli immigrati” https://t.co/iNvz8d8GKm iI giornalai che nascondono i crimini dei CLANDESTINI si dovrebbero vergognare un immigrato e colui che entra con permesso documenti, chi entra senza e un DELINQUENTE e CLANDESTINO.WL🇮🇹\n",
      "0.6594167947769165\n",
      "================================================================================\n",
      "L’ordine ai giornalisti: “Nascondete i crimini degli immigrati” URL iI giornalai che nascondono i crimini dei CLANDESTINI si dovrebbero vergognare un immigrato e colui che entra con permesso documenti, chi entra senza e un DELINQUENTE e CLANDESTINO.WL🇮🇹 \n",
      "L’ordine ai giornalisti: “Nascondete i crimini degli immigrati” https://t.co/uqgYTzdUDb\n",
      "0.6478833556175232\n",
      "================================================================================\n",
      "@user @user @user @user @user @user @user @user @user @user @user @user @user @user @user @user rispedire a casa loro criminali stranieri no vero? Solo costi!!! \n",
      "@SergioSierra67 @Corriere @corrieremilano @rep_milano @repubblica @AnsaLombardia @vivimilano @MilanoFree @MilanoDaButtare @newsmilano @viverebaggio @TgrLombardia @milano_today @MetroNewsItalia @TelelombardiaTV @M5SMunicipio8 La polizia comunica che non è di loro competenza e i vigili non fanno nulla - ne multe ne sgombero. I #rom che girano qui sono sempre gli stessi (stesse auto, caravan ecc). Te li ritrovi anche nelle case popolari\n",
      "0.6448354721069336\n",
      "================================================================================\n",
      "@user @user @user @user @user @user @user @user @user @user @user @user @user @user @user @user La polizia comunica che non è di loro competenza e i vigili non fanno nulla - ne multe ne sgombero. I #rom che girano qui sono sempre gli stessi (stesse auto, caravan ecc). Te li ritrovi anche nelle case popolari \n",
      "@antonioripa @pomante_sergio @ilCarando @Norni2L @NicolaBellu @lorenzop2311 @_beneathsurface @Scacciavillani @Ross444 @cambiareilpd @Gianni_Elia @luca_vota @69banji @MrETP @damiano755 @trattovideo @nicolomontarini @gzibordi @LiberoB91 @jacopone2 @christian_fsi @enricoug @Almagesto75 @damianofaraone @MauriDema @guffanti_marco @lupecchioli @ulrico_dp @TriderG8 @a_manassero @rihezi @Luca_Mussati @gustinicchi @MerlinoMmerlino @IzzoNico @Spazioalchimia @paolopasquale @SignorErnesto @MPenikas @paolobarbieri62 @fiodena6 @incercadicensur @AntiPUDE @TommyBrain @f_lanciano @NoPost3 @cosmista6 @ema_trotter @matteo_turri Come?? La pacchia non doveva finire per gli immigrati? E il reddito di cittadinanza? E quota 100?\n",
      "0.6228547096252441\n",
      "================================================================================\n",
      "@user @user @user @user @user @user @user @user @user @user @user l'importante e' la sicurezza degli italiani. ogni giorno gli immigrati compiono 1/3 dei reati totali. Se dite che in se' non c'e' invasione (cio' su cuiconcordo) dove sta il pronlema e' evidente. A Mi c'e' Chinatown e quella comunita' non commette 1/3 dei reati, tutt'altro 😂 \n",
      "@mazarantonello1 @pa_tere @OGiannino @PaoloGentiloni @EnricoLetta @matteorenzi @CarloCalenda @Mov5Stelle @LegaSalvini E' un rimpatrio di migranti economici\n",
      "0.6077769994735718\n",
      "================================================================================\n",
      "@user @user @user @user @user @user @user @user @user E' un rimpatrio di migranti economici \n",
      "@BlackLight01 @chiara_bruzzano @chia_re_tta @Marco98768384 @Roberto70318484 @MauroMusacchi @patcoke @MartaEcca @MariaTe11173583 @matteosalvinimi Vai a cercarti i dati sulla popolazione carceraria o sui reati commesso da stranieri! Poi ne riparliamo!!! L'Italia è diventata una cloaca, ma la colpa non la do ai ragazzi che arrivano, molti dei quali sono bravi e onesti,  la colpa è dei governi precedenti che li hanno (segue)\n",
      "0.5931216478347778\n",
      "================================================================================\n",
      "@user @user @user @user @user @user @user @user @user @user @user @user @user @user @user @user @user @user @user @user @user @user @user @user @user @user @user @user @user @user @user @user @user @user @user @user @user @user @user @user @user @user @user @user @user @user @user @user @user @user Frase fatta: Non tutti i Mussulmani sono terroristi e lo confermo lavorando e vivendo con loro,ma tutti i terroristi lo sono, pertanto (con le scuse) accertata la larga frangia violenta islamica, vanno monitorati fin dal loro ingresso in paesi cristiani. Radicalizzarsi è un nulla \n",
      "@SDC02899267 @cavallaro_lore @RedieRoss @VinnieVegaPF @francescatotolo @SoniaGrotto @cristalaltea @LuanaCelli2 @PaolaCaron9 @CinziaRuta1 @add966 @LisadaCa @maria_emme @EFFEBUTTINA @25O319 @Branca02branca @ausoloda @carmentpf @monicavianello @Giadaforevah @PiovonoLameNERE Infatti mi fa ancor +schifo che a fronte di un'emergenza assoluta come quella dell' INVASIONE ISLAMICA di un continente i 5S lungo dall'avere in programma lo stop all'immigrazione illegale abbiano attirato tanto italiani(di cui alcuni assai probabilmente veri poveri)per le tasche\n",
      "0.5930489301681519\n",
      "================================================================================\n",
      "@user @user @user @user @user @user @user @user @user @user @user @user @user @user @user @user @user @user @user @user @user @user @user @user @user @user @user @user @user @user @user @user @user @user @user @user @user @user @user @user @user @user @user @user @user @user @user @user @user Come?? La pacchia non doveva finire per gli immigrati? E il reddito di cittadinanza? E quota 100? \n",
      "@esseasterisco @coccaclaudio @francetomm @chiarachiara75 @Loryge69 @matteosalvinimi @lauraleghista @M_decimoMeridio @LupoTantoBuono @nativoitalico @italia_nel_caos l'importante e' la sicurezza degli italiani. ogni giorno gli immigrati compiono 1/3 dei reati totali. Se dite che in se' non c'e' invasione (cio' su cuiconcordo) dove sta il pronlema e' evidente. A Mi c'e' Chinatown e quella comunita' non commette 1/3 dei reati, tutt'altro 😂\n",
      "0.5924748182296753\n",
      "================================================================================\n",
      "@user @user @user @user @user @user @user @user @user @user @user @user @user @user @user Le sue gesta pro mussulmani sono sotto gli occhi di tutti !  Ogni commento e inutile.....  Ha un solo obiettivo, il governo mondiale con il #New #World #Order! URL\n",
      "@a_meluzzi @NicolaPorro @Avvenire_Nei @Corriere @GiorgiaMeloni @LegaSalvini @Rinaldi_euro @ImolaOggi @CesareSacchetti @IlPrimatoN @francescatotolo Chiudete i porti chiudete i portafogli e spediteli a calci in culo nelle patrie galere..basta far finta che va tutto bene per evitare che comincia la psicosi terrorismo viviamo ogni giorno di sopprusi e angherie di mano islamica dobbiamo aspettare che ci fanno saltare anche qui?\n",
      "0.5858192443847656\n",
      "================================================================================\n",
      "@user @user @user @user @user @user @user @user @user @user @user @user @user @user @user @user @user 3. Questi sono i versi dei testi sacri dell'Islam che i musulmani applicano quando devono sterminare gli ebrei (e i cristiani), a partire dal 627 quando lo stesso Profeta Maometto decapitò personalmente tutti gli ebrei di Medina. Milosevic quali versi del Vangelo ha applicato? 🤔 URL \n",
      "@vilma95823176 @coccaclaudio @SoniaGrotto @sabrimaggioni @edda_manghi @IsabellaDiManno @BarbaraRaval @alexfa33658899 @laura_basta @marcell32459385 @mgdj56 @MonycaMarini @PiovonoLameNERE @chiossi_manuela @laperlaneranera @FmMosca @LaValigiaDiAnna @elenabulla1 @iosonokarma @giuseppelacara @51fini @giusepppe961 Infatti io per questo ho votato lega 💚 sentii le sue promesse e priorità contro i clandestini e l' Islam 💚\n",
      "0.5722870230674744\n",
      "================================================================================\n",
      "@user @user @user @user @user @user @user @user @user @user @user Mi chiedo continuamente come faranno a far digerire gli omosessuali ai loro amici islam. Li usano per fare il volo della colombina dai tetti. #islamreligionedipace \n",
      "@BiogalFa @lucia_ticozzi @a_meluzzi @DanieleMiso @Casear_Iulius @eryka_bo @gabrillasarti2 @BiazzoRiccardo @carmentpf @RedditCittadini @klapka_jerome @laltraguanciama @SoniaGrotto @lacerci65 @erzappa @matteosalvinimi @lafricachiama @emergency_ong @luigidimaio @Palazzo_Chigi @Marzia_M @TELADOIOLANIUS @intuslegens @mulemar @Mov5Stelle @Roberto_Fico @MartinSchulz @JunckerEU @squilibrioxxx @ItaliaSicuraTW @poliziadistato @michelanera @micheledorota @GiorgiaMeloni @Europarl_IT @Onuitalia @GDF @MaxLandra @GiusTW @AndCappe @CronacheI @ADTacitus @elenabulla1 @benq_antonio @Noiconsalvini @pezzearculo @lauraleghista @ResistNazionale @tom_longobardi @franco67176598 Frase fatta:\n",
      "Non tutti i Mussulmani sono terroristi e lo confermo lavorando e vivendo con loro,ma tutti i terroristi lo sono, pertanto (con le scuse) accertata la larga frangia violenta islamica, vanno monitorati fin dal loro ingresso in paesi cristiani.\n",
      "Radicalizzarsi è un nulla\n",
      "0.53898024559021\n",
      "================================================================================\n",
      "@user @user @user @user @user @user @user @user @user @user @user @user noi Italiani dobbiamo uscire da UE questa fasulla Unione Europea serve solo x portarci via venti milioni di € annui iniziamo ad espellere anche noi tutti gli stranieri che non hanno lavoro e insieme loro anche la vecchia politica che ci ha ridotti cosi \n",
      "@UGiangrieco @Pontifex_it @IAntRiz @Avvenire_Nei @fam_cristiana @santegidionews @CLiberazione @CeiSociale @ChiesaCattolica @CaritasItaliana .....e i soliti cretini ancora ad organizzare manifestazioni e corteo pro migranti, lo capiranno mai che per loro siamo terra di conquista e carne da macello? Dura purtroppo\n",
      "0.5328724980354309\n",
      "================================================================================\n",
      "@user @user @user @user @user @user @user @user @user @user @user @user @user @user questo dell'ISLAM è un gioco troppo pericoloso che il NWO UE sta facendo contro la civiltà ebraico-cristiana. Riconoscere ad Hamas il DIRITTO di spendere i soldi,   sarebbe come averli consegnati nelle mani di Osama Bin Laden: Armamenti Addestramento Attentati\n",
      "@AntonioDvx @Charlotte3117 @duxfightdemon @patriziagatto3 @lameduck1960 @Schakyra4 @mbwManzoni @giovanniproto67 @aspettaaspetta @laperlaneranera @Gabbiacane @guidosfe @Gianmar26145917 https://t.co/UoDpCqSzFz @AntonioSocci1  \n",
      "Inquietante! Uccisioni di massa di persone innocenti uccise dall'ISIS questi sono crimini di guerra dell'IslAm. Questo è ISIS eseguendo molti in questo modo se si rifiutano di convertire o accettare SHaRIA Law.\n",
      "0.5305256247520447\n",
      "================================================================================\n",
      "@user @user @user @user @user @user @user @user @user @user .....e i soliti cretini ancora ad organizzare manifestazioni e corteo pro migranti, lo capiranno mai che per loro siamo terra di conquista e carne da macello? Dura purtroppo \n",
      "@Lantidiplomatic @SabrinaPileri67 @ElioLannutti @PatriziaRametta @valy_s @NicolaMorra63 @beppe_grillo @antonio_bordin @MarcelloFoa @luigidimaio @Rinaldi_euro @GiuseppeConteIT noi Italiani dobbiamo uscire da UE questa fasulla Unione Europea serve solo x portarci via venti milioni di € annui iniziamo ad espellere anche noi tutti gli stranieri che non hanno lavoro e insieme loro anche la vecchia politica che ci ha ridotti cosi\n",
      "0.5305213928222656\n",
      "================================================================================\n",
      "@user @user @user @user @user @user @user @user @user @user @user Questione di punti di vista: per qualcuno è  criminale  lasciare in mare i migranti per qualcun altro raccoglierli e farli diventare materiale da ingrasso per cooperative che al massimo sanno accogliere i contributi europei. \n",
      "@danilosantini65 @duxfightdemon @GiuseppeConteIT @matteosalvinimi @bianco_lore @MonycaMarini @Storace @mery_savio @sarettaa7 @iosonokarma @pantera2318 @pbecchi @PiovonoRoseNere @ilneigesurliege Ba ragione il Presidente,  l'importante è  distinguere migranti regolari da clandestini,  i primi,  come gli Italiani del dopo guerra,  arrivano in maniera regolare con regolari documenti e richieste,  come accade in tutto il mondo!\n",
      "0.5099812150001526\n",
      "================================================================================\n",
      "@user @user @user @user @user @user @user @user @user @user @user @user @user @user @user @user @user @user @user @user @user @user @user @user @user @user Ricordo per inciso che da decenni ormai i Rom  sono intoccabili.illegalità totale impunità etc.etc possono finire in carcere solo dopo una decina di condanne, da anni guidano senza patente e assicurazione e chi viene investito sono cazzi suoi........amen \n",
      "@campsoscar @scandura @robertosaviano @EPalazzotto @RadioRadicale @M_RSezione @AdaColau @repubblica @fattoquotidiano @NFratoianni @openarms_it Questione di punti di vista: per qualcuno è  criminale  lasciare in mare i migranti per qualcun altro raccoglierli e farli diventare materiale da ingrasso per cooperative che al massimo sanno accogliere i contributi europei.\n",
      "0.4970350861549377\n",
      "================================================================================\n",
      "@user @user @user @user @user @user @user @user @user @user @user @user @user @user @user @user @user Sono anni ed anni che sbarcano con i cellulari nuovi ma nessun giornalista o magistrato indaga per saperne la provenienza? TUTTO REGOLARE, o non bisogna fare chiarezza, perchè i TELEFONINI sono strumenti che istigano all'immigrazione clandestina, penalmente perseguibile per legge\n",
      "@AntonioDvx @BarbaraRaval @M_decimoMeridio @guidosfe @alexfa33658899 @SoniaGrotto @MichelaJoy @Adri19510 @AdryWebber @lunastorta13 @Barbara34041885 @razorblack66 @AnnaMarchetto3 @a_meluzzi @vfeltri Ma perché dovremmo rinunciare o modificare le nostre \"abitudini\" solo per compiacere stranieri di altre religioni!? Sono loro a casa nostra e devono adattarsi altrimenti quella è la porta! E se andandosene portassero con loro i pidioti ci farebbero cosa gradita.\n",
      "0.4880169332027435\n",
      "================================================================================\n",
      "@user @user @user @user @user @user @user @user @user @user @user @user Infatti ...2,5 miliardi di debito ...il comune nn riesce ad incassare  le tasse... Nn riesce a vendere gli immobili e il coglione vuole i migranti ....ci vuole un pignoramento preventivo di tutti gli averi di questo psicopatico suoi e della sua famiglia \n",
      "@mariucciapedal1 @Fiero70600786 @ChiodiDonatella @guidosfe @assaloni @jacketizi @Ketty57664851 @LucyMilano92 @Diogene55 @Ardito44427177 @Julie_Massino @Gianmar26145917 @mapiele @aspettaaspetta @Mirith_ @effe_grazia @Bierbrauer53 @CaptAmericaTO @peppealbi @giandomenic45 @Mania48Mania53 @seneca4949 lo so lo stiamo vedendo tutti i giorni fanno finta di difendere i diritti dei gay per far svuotare le culle in modo che la popolazione italiana a lungo termine diminuisce e allora poi per loro sarà normale far entrare milioni di mussulmani che i gay li buttano giu dai palazzi\n",
      "0.4575856029987335\n",
      "================================================================================\n",
      "@user @user @user @user @user @user @user @user @user @user @user Se in questo paese non c’è più la libertà di augurare la stessa sorte che è toccata alle vittime stuprate da migranti che sono poi quelli difesi dalla signora Boldrini, allora è morta la libertà di parola di pensiero e di opinione perché non c’è stata nessuna offesa \n",
      "@WomanWithPen @_CircoMassimo_ @CarloCalenda @matteorenzi @davidealgebris @BentivogliMarco @marattin @davidefaraone @maumartina @nunziapenelope Non vorrai ora tu negar, o donna pennuta, che la vision di Serra faceva il paio col Renzi venditore di \"ingegneri da noi cazzuti e a buon mercato\". Venghino, siori! - e vennero coloro che incolpano i migranti di abbassare il costo del lavoro. @emmaincorsivo ruleZ @bobocraxi 😎\n",
      "0.4513842463493347\n",
      "================================================================================\n",
      "@user @user @user @user @user @user @user @user @user @user @user @user @user @user @user @user @user @user @user @user @user @user lo so lo stiamo vedendo tutti i giorni fanno finta di difendere i diritti dei gay per far svuotare le culle in modo che la popolazione italiana a lungo termine diminuisce e allora poi per loro sarà normale far entrare milioni di mussulmani che i gay li buttano giu dai palazzi\n",
      "@AndreaAllamano @CiccinaLupo @andreavarsalona @MoriMrc @chiossimanuela2 @Pat_Zago @LaurinoNicola @lucvit69 @Camillamariani4 @Acidelius @Musso___ @ValerioMalvezzi @a_meluzzi @fdragoni @Vickiegogreen @Luin_Painting Attenzione perché a breve diventeremo come la Svezia dove avere una posizione critica nei confronti degli immigrati illegali è reato di odio razziale. Non manca molto, avete sentito la Raggi oggi sulla situazione di Roma?\n",
      "0.4477968513965606\n",
      "================================================================================\n",
      "@user @user @user @user @user @user @user @user @user @user @user @user @user URL @user   Inquietante! Uccisioni di massa di persone innocenti uccise dall'ISIS questi sono crimini di guerra dell'IslAm. Questo è ISIS eseguendo molti in questo modo se si rifiutano di convertire o accettare SHaRIA Law.\n",
      "@AntonioDvx @Serenel73 @Charlotte3117 @duxfightdemon @patriziagatto3 @lameduck1960 @Schakyra4 @mbwManzoni @PaguroBernardo1 @giovanniproto67 @Rinaldi_euro @aspettaaspetta @Gabbiacane @guidosfe @Gianmar26145917 @a_meluzzi @francescatotolo Sono anni ed anni che sbarcano con i cellulari nuovi\n",
      "ma nessun giornalista o magistrato indaga per saperne la provenienza?\n",
      "TUTTO REGOLARE, o non bisogna fare chiarezza,\n",
      "perchè i TELEFONINI sono strumenti che istigano all'immigrazione clandestina, penalmente perseguibile per legge\n",
      "0.4442614912986755\n",
      "================================================================================\n",
      "@user @user @user @user @user @user @user @user @user @user @user a me fa venire voglia di prendere a calci loro e le loro famiglie,e mandarli a viverfe sotto i ponti, come hanno fatto loro con migliaia di italiani in questi anni, allo scopo di agevolare e mantenere invasori finti profughi stupratori spacciatori e assassini. \n",
      "@Antonel15773761 @a_meluzzi @AdryWebber @claudioerpiu @curorenzi @RosarioDiFusco @INarratore @laperlaneranera @Adri19510 @angelo_ra_ @adrianobusolin @SoniaGrotto @M_decimoMeridio @Dddddd08854100 @davidinodade Le sue gesta pro mussulmani sono sotto gli occhi di tutti !\n",
      "\n",
      "Ogni commento e inutile.....\n",
      "\n",
      "Ha un solo obiettivo, il governo mondiale con il #New #World #Order! https://t.co/WpgTSpshTE\n",
      "0.4382575154304504\n",
      "================================================================================\n",
      "@user @user @user @user @user @user @user @user @user @user @user @user @user @user @user @user @user @user @user @user @user @user Infatti io per questo ho votato lega 💚 sentii le sue promesse e priorità contro i clandestini e l' Islam 💚 \n",
      "@sarettaa7 @SoniaGrotto @danilosantini65 @MonycaMarini @alexfa33658899 @Ale_Mussolini_ @Storace @matteosalvinimi @LoredanaBianco5 @pbecchi @pantera2318 @irenestorti1 Infatti ...2,5 miliardi di debito ...il comune nn riesce ad incassare  le tasse... Nn riesce a vendere gli immobili e il coglione vuole i migranti ....ci vuole un pignoramento preventivo di tutti gli averi di questo psicopatico suoi e della sua famiglia\n",
      "0.4350649416446686\n",
      "================================================================================\n",
      "@user @user @user @user @user @user @user @user @user @user @user @user @user l’islam respinge i principi della separazione tra Stato e religione, la democrazia e la sovranità popolare; respinge altresì la equivalenza di ogni e qualsiasi religione e la loro indiscutibile sottomissione e subordinazione alla Autorità dello Stato; esclude l'autodeterminazione \n",
      "@danilosantini65 @Ale_Mussolini_ @iosonokarma @Storace @matteosalvinimi @sarettaa7 @MonycaMarini @LoredanaBianco5 @pbecchi @pantera2318 @irenestorti1 a me fa venire voglia di prendere a calci loro e le loro famiglie,e mandarli a viverfe sotto i ponti, come hanno fatto loro con migliaia di italiani in questi anni, allo scopo di agevolare e mantenere invasori finti profughi stupratori spacciatori e assassini.\n",
      "0.4278103113174438\n",
      "================================================================================\n",
      "@user @user @user @user @user @user @user @user @user @user @user @user @user @user @user Ma perché dovremmo rinunciare o modificare le nostre \"abitudini\" solo per compiacere stranieri di altre religioni!? Sono loro a casa nostra e devono adattarsi altrimenti quella è la porta! E se andandosene portassero con loro i pidioti ci farebbero cosa gradita.\n",
      "@islamlie2 @gasparripdl @a_meluzzi @LucioMalan @magdicristiano @franco_sala @lucabattanta @Elena07617349 @LisadaCa quante navi della marina\n",
      "0.4169358909130096\n",
      "================================================================================\n",
      "@user @user @user @user @user @user @user @user @user @user @user @user @user @user @user @user @user @user @user @user @user Infatti mi fa ancor +schifo che a fronte di un'emergenza assoluta come quella dell' INVASIONE ISLAMICA di un continente i 5S lungo dall'avere in programma lo stop all'immigrazione illegale abbiano attirato tanto italiani(di cui alcuni assai probabilmente veri poveri)per le tasche \n",
      "@Topino88265603 @marcell32459385 @a_meluzzi @chiossi_manuela @mapiele @coccaclaudio @Carlo_essec @SoniaGrotto @Adri19510 @adrianobusolin @razorblack66 @sabrimaggioni @INarratore l’islam respinge i principi della separazione tra Stato e religione, la democrazia e la sovranità popolare; respinge altresì la equivalenza di ogni e qualsiasi religione e la loro indiscutibile sottomissione e subordinazione alla Autorità dello Stato; esclude l'autodeterminazione\n",
      "0.3920032978057861\n",
      "================================================================================\n",
      "@user @user @user @user @user @user @user @user @user quante navi della marina \n",
      "@beabri @lauraboldrini @PossibileIt @A_LisaCorrado @ellyesse @RossMuroni @civati @AvvAMaestri @Fra0283 @FranzFoti @_MarcoV_ Se in questo paese non c’è più la libertà di augurare la stessa sorte che è toccata alle vittime stuprate da migranti che sono poi quelli difesi dalla signora Boldrini, allora è morta la libertà di parola di pensiero e di opinione perché non c’è stata nessuna offesa\n",
      "0.3782646059989929\n",
      "================================================================================\n",
      "@user @user @user @user @user @user @user @user @user @user @user @user @user @user Ba ragione il Presidente,  l'importante è  distinguere migranti regolari da clandestini,  i primi,  come gli Italiani del dopo guerra,  arrivano in maniera regolare con regolari documenti e richieste,  come accade in tutto il mondo! \n",
      "@IAmJamesTheBond @Ereda_V @a_meluzzi @LucioMalan @GianandreaGaian @gasparripdl @lucabattanta @LisadaCa @Imlacerci @BarghoutKawtar @franco_sala Mi chiedo continuamente come faranno a far digerire gli omosessuali ai loro amici islam.\n",
      "Li usano per fare il volo della colombina dai tetti.\n",
      "#islamreligionedipace\n",
      "0.3754928708076477\n",
      "================================================================================\n",
      "@user @user @user @user @user @user @user @user @user Cosa hai inaugurato ' IL NUOVO BUNGA BUNGA? protezione del patrimonio culturale? l'identitá dei popoli? proteggerlo da guerre e terrorismo? Se prima non elimini israele con tutti i loro sionisti di merda,cosa vuoi proteggere,la minchia.Tu sai come proteggerti il culo,vero??????? \n",
      "@BiogalFa @eryka_bo @nmirotti @adriano1949 @a_m_295 @Mov5Stelle @luigidimaio @GiuseppeConteIT @matteosalvinimi @RedditCittadini @AndCappe @a_meluzzi @Viminale @lacerci65 @elenabulla1 @SoniaGrotto @GiusTW @POPOLOdiTWlTTER @CriminImmigratl @GDF @laltraguanciama @Marzia_M @CrisiFinanza @CorteContiPress @ItaliaSicuraTW @Poppulista Ricordo per inciso che da decenni ormai i Rom  sono intoccabili.illegalità totale impunità etc.etc possono finire in carcere solo dopo una decina di condanne, da anni guidano senza patente e assicurazione e chi viene investito sono cazzi suoi........amen\n",
      "0.3688974380493164\n",
      "================================================================================\n",
      "I ragazzi di #Iuventa su #NemoRai2 Finché c'è gente che muore, dobbiamo aiutarla. Mi fa paura chi odia i #migranti solo in quanto tali. ✌️️ \n",
      "https://##url   Questi sono i nuovi immigrati voluti dalla sinistra italiana. Questo \" animale \" non troverebbe posto neppure in una giungla, invece ce lo ritroviamo qui. Occorre tutelarci è SUBITO.\n",
      "0.3628724813461303\n",
      "================================================================================\n",
      "@user @user @user @user @user @user @user @user @user Vivendo in mezzo a due campi rom a Roma posso confermare che questa politica è un suicidio, se si vogliono ancora fomentare la rabbia e l'odio tra cittadini e istituzioni beh complimenti obiettivo centrato.\n",
      "@SinistroTOP @SecondoPaulo @annamariapapa4a @LaMentegatta @Fabrizi68466563 @web_lucia @mariantferrante @sarettaa7 @Andreasciuridae @GAlloero Matteo non si tocca...fuori i delinquenti stranieri da casa nostra !\n",
      "0.3549815714359283\n",
      "================================================================================\n",
      "@user @user @user @user @user @user @user @user @user @user @user Chiudete i porti chiudete i portafogli e spediteli a calci in culo nelle patrie galere..basta far finta che va tutto bene per evitare che comincia la psicosi terrorismo viviamo ogni giorno di sopprusi e angherie di mano islamica dobbiamo aspettare che ci fanno saltare anche qui?\n",
      "@antonio_bordin @PatriziaRametta @oinot49 @ValeMameli @evavola @Rinaldi_euro @Luca_Mussati @AndFranchini @valy_s Vivendo in mezzo a due campi rom a Roma posso confermare che questa politica è un suicidio, se si vogliono ancora fomentare la rabbia e l'odio tra cittadini e istituzioni beh complimenti obiettivo centrato.\n",
      "0.353535532951355\n",
      "================================================================================\n",
      "@user @user @user @user @user @user @user @user @user @user Vai a cercarti i dati sulla popolazione carceraria o sui reati commesso da stranieri! Poi ne riparliamo!!! L'Italia è diventata una cloaca, ma la colpa non la do ai ragazzi che arrivano, molti dei quali sono bravi e onesti,  la colpa è dei governi precedenti che li hanno (segue) \n",
      "@Giosel4 @lucabattanta @matteorenzi @s_margiotta @LisadaCa @lacerci65 @LucioMalan @giuliomeotti @Don_Lazzara @GianandreaGaian @GiampaoloRossi @gasparripdl @franco_sala @lumorisi @PatriziaRametta @SoniaGrotto @BiloFausto 3. Questi sono i versi dei testi sacri dell'Islam che i musulmani applicano quando devono sterminare gli ebrei (e i cristiani), a partire dal 627 quando lo stesso Profeta Maometto decapitò personalmente tutti gli ebrei di Medina. Milosevic quali versi del Vangelo ha applicato? 🤔 https://t.co/i0k0SDLgpY\n",
      "0.3459783494472503\n",
      "================================================================================\n",
      "@user @user @user @user @user @user @user @user @user @user Non vorrai ora tu negar, o donna pennuta, che la vision di Serra faceva il paio col Renzi venditore di \"ingegneri da noi cazzuti e a buon mercato\". Venghino, siori! - e vennero coloro che incolpano i migranti di abbassare il costo del lavoro. @user ruleZ @user 😎 \n",
      "@ManlioDS @UN @GiuseppeConteIT @Mov5Stelle @luigidimaio @ItalyMFA @M5S_Senato @M5S_Camera @ItalyUN_NY Cosa hai inaugurato ' IL NUOVO BUNGA BUNGA? protezione del patrimonio culturale? l'identitá dei popoli? proteggerlo da guerre e terrorismo? Se prima non elimini israele con tutti i loro sionisti di merda,cosa vuoi proteggere,la minchia.Tu sai come proteggerti il culo,vero???????\n",
      "0.343171626329422\n",
      "================================================================================\n",
      "Virtus Italia: 87 euro per ogni minore straniero e rom, ma erano fantasmi URL\n",
      "@user @user siii ��� come mafia capitale ���magna magna..\"con rom e clandestini si guadagna ##url\n",
      "0.3414380252361297\n",
      "================================================================================\n",
      "@user @user @user @user @user @user @user @user @user @user @user @user @user @user @user @user Attenzione perché a breve diventeremo come la Svezia dove avere una posizione critica nei confronti degli immigrati illegali è reato di odio razziale. Non manca molto, avete sentito la Raggi oggi sulla situazione di Roma?\n",
      "@laperlaneranera @AntonioDvx @Charlotte3117 @duxfightdemon @patriziagatto3 @lameduck1960 @Schakyra4 @mbwManzoni @aspettaaspetta @Gabbiacane @guidosfe @Gianmar26145917 @SteelMcJones @PatriziaRametta questo dell'ISLAM è un gioco troppo pericoloso che il NWO UE sta facendo contro la civiltà ebraico-cristiana. Riconoscere ad Hamas il DIRITTO di spendere i soldi,\n",
      " \n",
      "sarebbe come averli consegnati nelle mani di Osama Bin Laden:\n",
      "Armamenti Addestramento Attentati\n",
      "0.3297352194786072\n",
      "================================================================================\n",
      "Saluti romani a #TorreMaura. Rivolti a donne e bambini rom. Ecco chi fomenta le rivolte nelle periferie. #CasaPound e #ForzaNuova...forti coi deboli  #NazItalia #fuoriifascistidallecittà #antifascistisempre #nonazi #nofascismo #antifa URL\n",
      "https://##url #Marocco Finalmente un pò di civiltà. In un paese a maggioranza musulmana non capita di certo tutti i giorni. #islam\n",
      "0.3133458495140075\n",
      "================================================================================\n",
      "ORA FANNO PURE LA PATETICA \"#PENTOLATA\" CONTRO IL DECRETO #SICUREZZA Mega flop del raduno della #sinistra a #Milano contro le norme sull'#immigrazione. Tra pentole e tragicomici slogan, a sinistra chiedono ancora più immigrati in Italia! Sono veramente fuori dal mondo! URL\n",
      "https://##url Studentessa cinese morta a Roma, condannati i due nomadi che la derubarono #ansa #news\n",
      "0.2699151933193207\n",
      "================================================================================\n",
      "L’argentina di Bergoglio: “Anche noi vogliamo il muro anti-immigrati”.... URL \n",
      "FIGLI DI...MALEDETTI, DITTATORI,... E I DIRITTI UMANI? QUELLI SI DEVONO SOLO AI MIGRANTI AFRICANI..\n",
      "0.2668885588645935\n",
      "================================================================================\n",
      "Reinserimento nomadi, un “business della solidarietà colpa della politica!\" - Torino Oggi URL #Torino #news \n",
      "https://##url Cittadinanza, i \"nuovi italiani\" della seconda generazione scendono in piazza, l'obiettivo è rilanciare lo Ius soli da parte dei figli e le figlie di immigrati. L'appuntamento per una manifestazione a Roma il 9 maggio,giorno della festa dellUnione Europea\n",
      "0.262109637260437\n",
      "================================================================================\n",
      "Due cittadini di Roma tentano di portare un po di pane ai Rom a torre Maura..Sono stati spintonati, minacciati, e insultati davanti alla @user e nessuno è intervenuto ..E' questa la giustizia in Italia ? URL\n",
      "https://##url Dati del Viminale  Cresce immigrazione Italia\n",
      "0.260145366191864\n",
      "================================================================================\n",
      "La Capitaneria di porto ha vietato l’avvicinamento a #SeaWatch3 Niente passerella per #Martina, #Orfini, #Faraone ecc. Se il #PD si fosse speso in favore degli italiani, la metà di quanto stia facendo per i migranti,oggi sarebbe al 50% Invece per noi si è voltato dall’altra parte URL\n",
      "https://##url Roma, stupro al campo rom del Prenestino. Il pm: \"Linsediamento va chiuso\" #ansa #news\n",
      "0.2539041936397552\n",
      "================================================================================\n",
      "@user Mi fa schifo questa chiesa a servizio dell’islam e di Soros\n",
      "Un terrorista pedinato ##url\n",
      "0.2489930391311645\n",
      "================================================================================\n",
      "Si, così si deve fare, i criminali  stranieri  devono  scontare  la pena  al loro paese. In Romania poi io so che sono molto  più  duri di noi. Questa  è  la strada giusta.\n",
      "https://##url Accordo Italia-Libia sui migranti, i punti salienti #ansa #news\n",
      "0.2388185709714889\n",
      "================================================================================\n",
      "#Roma Baraccopoli, Baldassarre: \"Stiamo lavorando per chiudere i campi rom\" URL URL \n",
      "https://##url l'Italia è fatta\n",
      "ora facciamo gli italiani\n",
      " chi ci ha depredato va fuori dai coglioni insieme a quelli che ci hanno venduti\n",
      "no comunisti no PD\n",
      " No forze che ci vendono il culo \n",
      "no immigrati inutili\n",
      "0.2302627712488174\n",
      "================================================================================\n",
      "@user Non condivido il gesto di gettare a terra il Corano. Se uno non lo condivide non lo legge. Ma gli altri non sono persone che possono e riescono a vedere in un mondo civile. Non possono adeguarsi a una cultura occidentale.\n",
      "✳️@user▶✳️lmmcompanyfull▶Sabato Santo Oggi voglio augurare un week-end di pace, amore e rifiuto di azioni terroristiche #NoMas♻♻\n",
      "0.2283328026533126\n",
      "================================================================================\n",
      "Gruppo di rom aggredisce una donna nella metropolitana di Roma URL \n",
      "https://##url\n",
      "Bin SALMAN Saruman prophet mohammed crazy ] [ che, voi avete messo in piedi: tutta questa pagliacciata del Corano soltanto per stuprare le bambine e derubare i cadaveri innocenti!\n",
      "te la do io la guerra contro la Russia e contro la CINA!\n",
      "0.1691757887601852\n",
      "================================================================================\n",
      "Mimmo Lucano non ha favorito matrimoni di comodo tra cittadini di Riace e migranti né risultano frodi negli appalti della gestione dei rifiuti del Comune. URL\n",
      "https://##url Un gruppo di donne rumene trasforma l'esperienza culinaria rom in un catering itinerante  #GiraIlMondo #FareImpresa\n",
      "0.1555269509553909\n",
      "================================================================================\n",
      "6 milioni di ebrei, 3 milioni e 300 mila prigionieri di guerra, un milione di oppositori politici,500 mila Rom, 9 mila omosessuali, 2250 testimoni di Geova,270 mila tra disabili e malati fi mente,tra gli 80 mila e i 200 mila massoni.  Vittime della #Shoah.  #GiornatadellaMemoria URL\n",
      "leggi speciali x i rom ##url\n",
      "0.1466480493545532\n",
      "================================================================================\n",
      "Studentessa cinese morta a Roma, fermato un ventenne: è un nomade del campo di via Salviati URL via @user \n",
      "https://##url\n",
      "Il giornale on line #IlDolomiti  ha pubblicato un interessante articolo che rivela il modo \"illegale\" in cui si sta sviluppando il #traffico dei #migranti e la #tratta di esseri umani dai paesi #africani verso l'#Europa.\n",
      "#portichiusi\n",
      "#GabrieleBaratto\n",
      "0.145506739616394\n",
      "================================================================================\n",
      "Io ne risponderò, del mio amore verso migranti e italiani, vorrei da Lei la stessa convinzione. Il mio scopo è giustizia per tutti. #DirittiAllaMeta quando la meta è la giustizia. URL\n",
      "Roma, quei podisti perseguitati dai rom ##url ##url\n",
      "0.1419625580310821\n",
      "================================================================================\n",
      "Le rom chiuse in gabbia dai dipendenti della Lidl diventa virale.Si accende la polemica!! URL \n",
      "https://##url. MA I PIDIOTI NON ACCETTANO CHE I TERRORISTI ISLAMICI SIANO CHIAMATI FIGLI DI PUTTANA,... SI DEVE DIRE FIGLI DI BUONA DONNA !!!\n",
      "0.1359088569879531\n",
      "================================================================================\n",
      "Un cuore grande. Salvini non querela Bossi padre e nemmeno Bossi figlio che così possono scansare la condanna e, addirittura, tenersi il maltolto. Spietato con i migranti, ma un cuore grande con i ladri: questa è la cifra del nostro ministro dell’Interno.\n",
      "https://##url della serie ...rom brava gente ...un'opportunità per tutti noi!\n",
      "0.1200058609247207\n",
      "================================================================================\n",
      "A Dresda c'è il \"bonus Violenza\" per immigrati. Noi che ci lamentiamo delle sentenze nei nostri giudici, in Germania c'è di peggio di peggio. Botte e stupro a un'assistente sociale da parte di un siriano: assolto perché \" poverino non sapeva fosse reato\" Avrà capito adesso?\n",
      "Come ##url racconta solo una parte della storia di Birmingham... ##url #islam #10aprile #cassimatis #G7Energy\n",
      "0.1195744127035141\n",
      "================================================================================\n",
      "Basta guardare il lento inesorabile cambiamento subito da paesi come il #Libano o l' #Egitto dove prima dell' #islamizzazione le donne andavano in spiaggia in costume. Bisogna studiare e informarsi. L' #islam nn è il nostro futuro. Va combattuto e anni€nt@/0. URL\n",
      "Lavori da #rom ##url\n",
      "0.1151639074087143\n",
      "================================================================================\n",
      "E comunque io ho iniziato a scrivere assiduamente su Twitter per legittima difesa. Cioè quando questi imbecilli sono andati al governo.  E ho fatto bene.  #ApriteiPorti sono esseri umani e bambini prima che stranieri.\n",
      "Roma, nascerà un nuovo campo rom - ##url ##url via @user\n",
      "0.0535217225551605\n",
      "================================================================================\n"
     ]
    }
   ],
   "source": [
    "# Count less than 0.5\n",
    "\n",
    "possible_errors = df[df[\"cos_sim\"] < 0.75].sort_values(\"cos_sim\", ascending=False)\n",
    "\n",
    "for idx, row in possible_errors.iterrows():\n",
    "    print(row[\"text\"])\n",
    "    print(row[\"original_text\"])\n",
    "    print(row[\"cos_sim\"])\n",
    "    print(\"=\"*80)"
   ]
  },
  {
   "cell_type": "code",
   "execution_count": 20,
   "metadata": {},
   "outputs": [],
   "source": [
    "df_ok = df[df[\"cos_sim\"] >= 0.71].copy()"
   ]
  },
  {
   "cell_type": "code",
   "execution_count": 21,
   "metadata": {},
   "outputs": [
    {
     "data": {
      "text/plain": [
       "train    6797\n",
       "test     1238\n",
       "Name: split, dtype: int64"
      ]
     },
     "execution_count": 21,
     "metadata": {},
     "output_type": "execute_result"
    }
   ],
   "source": [
    "df_ok[\"split\"].value_counts()"
   ]
  },
  {
   "cell_type": "code",
   "execution_count": 22,
   "metadata": {},
   "outputs": [
    {
     "data": {
      "text/plain": [
       "train    6837\n",
       "test     1263\n",
       "Name: split, dtype: int64"
      ]
     },
     "execution_count": 22,
     "metadata": {},
     "output_type": "execute_result"
    }
   ],
   "source": [
    "df[\"split\"].value_counts()"
   ]
  },
  {
   "cell_type": "code",
   "execution_count": 23,
   "metadata": {},
   "outputs": [],
   "source": [
    "# drop text column and cossim\n",
    "df_ok = df_ok.drop(\"text\", axis=1)\n",
    "df_ok = df_ok.drop(\"cos_sim\", axis=1)\n",
    "# Rename original_text to text\n",
    "df_ok = df_ok.rename(columns={\"original_text\": \"text\"})"
   ]
  },
  {
   "cell_type": "code",
   "execution_count": 27,
   "metadata": {},
   "outputs": [
    {
     "data": {
      "text/plain": [
       "((6588, 4), (1447, 4), (1238, 4))"
      ]
     },
     "execution_count": 27,
     "metadata": {},
     "output_type": "execute_result"
    }
   ],
   "source": [
    "from sklearn.model_selection import train_test_split\n",
    "\n",
    "\n",
    "df_train = df_ok[df_ok[\"split\"] == \"train\"].copy()\n",
    "df_test = df_ok[df_ok[\"split\"] == \"test\"].copy()\n",
    "\n",
    "train_df, dev_df = train_test_split(\n",
    "    df_ok, test_size=0.18, random_state=2022)\n",
    "\n",
    "# drop split column\n",
    "train_df = train_df.drop(\"split\", axis=1)\n",
    "dev_df = dev_df.drop(\"split\", axis=1)\n",
    "df_test = df_test.drop(\"split\", axis=1)\n",
    "\n",
    "\n",
    "train_df.shape, dev_df.shape, df_test.shape"
   ]
  },
  {
   "cell_type": "code",
   "execution_count": 28,
   "metadata": {},
   "outputs": [
    {
     "data": {
      "text/plain": [
       "(Index(['id', 'hs', 'stereotype', 'text'], dtype='object'),\n",
       " Index(['id', 'hs', 'stereotype', 'text'], dtype='object'),\n",
       " Index(['id', 'hs', 'stereotype', 'text'], dtype='object'))"
      ]
     },
     "execution_count": 28,
     "metadata": {},
     "output_type": "execute_result"
    }
   ],
   "source": [
    "pd.options.display.max_colwidth = 200\n",
    "train_df.columns, dev_df.columns, df_test.columns"
   ]
  },
  {
   "cell_type": "code",
   "execution_count": 29,
   "metadata": {},
   "outputs": [],
   "source": [
    "from datasets import DatasetDict, Dataset, Value, Features, ClassLabel\n",
    "\n",
    "features = Features({\n",
    "    'id': Value('string'),\n",
    "    'text': Value('string'),\n",
    "    'hs': ClassLabel(num_classes=2, names=[\"non hateful\", \"hateful\"]),\n",
    "    \"stereotype\": ClassLabel(num_classes=2, names=[\"non stereotype\", \"stereotype\"]),\n",
    "})\n",
    "\n",
    "train = Dataset.from_pandas(train_df, features=features, preserve_index=False)\n",
    "dev = Dataset.from_pandas(dev_df, features=features, preserve_index=False)\n",
    "test = Dataset.from_pandas(df_test, features=features, preserve_index=False)\n",
    "\n",
    "ds = DatasetDict(\n",
    "    train=train,\n",
    "    dev=dev,\n",
    "    test=test\n",
    ")"
   ]
  },
  {
   "cell_type": "code",
   "execution_count": 30,
   "metadata": {},
   "outputs": [
    {
     "name": "stderr",
     "output_type": "stream",
     "text": [
      "Pushing split train to the Hub.\n"
     ]
    },
    {
     "data": {
      "application/vnd.jupyter.widget-view+json": {
       "model_id": "e91b43c72a7e471aa05e84fe1eae5037",
       "version_major": 2,
       "version_minor": 0
      },
      "text/plain": [
       "Pushing dataset shards to the dataset hub:   0%|          | 0/1 [00:00<?, ?it/s]"
      ]
     },
     "metadata": {},
     "output_type": "display_data"
    },
    {
     "data": {
      "application/vnd.jupyter.widget-view+json": {
       "model_id": "ff3ed242f4204c37b49a3a70cf9918af",
       "version_major": 2,
       "version_minor": 0
      },
      "text/plain": [
       "Creating parquet from Arrow format:   0%|          | 0/7 [00:00<?, ?ba/s]"
      ]
     },
     "metadata": {},
     "output_type": "display_data"
    },
    {
     "data": {
      "application/vnd.jupyter.widget-view+json": {
       "model_id": "1b5bc602e25940f1aee54bb6243e33fa",
       "version_major": 2,
       "version_minor": 0
      },
      "text/plain": [
       "Upload 1 LFS files:   0%|          | 0/1 [00:00<?, ?it/s]"
      ]
     },
     "metadata": {},
     "output_type": "display_data"
    },
    {
     "data": {
      "application/vnd.jupyter.widget-view+json": {
       "model_id": "8119c000f02344a597edc265c8136ff1",
       "version_major": 2,
       "version_minor": 0
      },
      "text/plain": [
       "Deleting unused files from dataset repository:   0%|          | 0/1 [00:00<?, ?it/s]"
      ]
     },
     "metadata": {},
     "output_type": "display_data"
    },
    {
     "name": "stderr",
     "output_type": "stream",
     "text": [
      "Pushing split dev to the Hub.\n"
     ]
    },
    {
     "data": {
      "application/vnd.jupyter.widget-view+json": {
       "model_id": "5a87fc856e46426c8a0a993712fce8de",
       "version_major": 2,
       "version_minor": 0
      },
      "text/plain": [
       "Pushing dataset shards to the dataset hub:   0%|          | 0/1 [00:00<?, ?it/s]"
      ]
     },
     "metadata": {},
     "output_type": "display_data"
    },
    {
     "data": {
      "application/vnd.jupyter.widget-view+json": {
       "model_id": "69b5cd9d718f4fe894ac08c75e0c5799",
       "version_major": 2,
       "version_minor": 0
      },
      "text/plain": [
       "Creating parquet from Arrow format:   0%|          | 0/2 [00:00<?, ?ba/s]"
      ]
     },
     "metadata": {},
     "output_type": "display_data"
    },
    {
     "data": {
      "application/vnd.jupyter.widget-view+json": {
       "model_id": "1c0c44c3a362478094c99418e22c621d",
       "version_major": 2,
       "version_minor": 0
      },
      "text/plain": [
       "Upload 1 LFS files:   0%|          | 0/1 [00:00<?, ?it/s]"
      ]
     },
     "metadata": {},
     "output_type": "display_data"
    },
    {
     "data": {
      "application/vnd.jupyter.widget-view+json": {
       "model_id": "74e10b5e4511427a9e3e2abff414952e",
       "version_major": 2,
       "version_minor": 0
      },
      "text/plain": [
       "Deleting unused files from dataset repository:   0%|          | 0/1 [00:00<?, ?it/s]"
      ]
     },
     "metadata": {},
     "output_type": "display_data"
    },
    {
     "name": "stderr",
     "output_type": "stream",
     "text": [
      "Pushing split test to the Hub.\n"
     ]
    },
    {
     "data": {
      "application/vnd.jupyter.widget-view+json": {
       "model_id": "d9784c63112142edab393c14d6624d3c",
       "version_major": 2,
       "version_minor": 0
      },
      "text/plain": [
       "Pushing dataset shards to the dataset hub:   0%|          | 0/1 [00:00<?, ?it/s]"
      ]
     },
     "metadata": {},
     "output_type": "display_data"
    },
    {
     "data": {
      "application/vnd.jupyter.widget-view+json": {
       "model_id": "88e0d76edbb6427e9e7e043b88dd40a9",
       "version_major": 2,
       "version_minor": 0
      },
      "text/plain": [
       "Creating parquet from Arrow format:   0%|          | 0/2 [00:00<?, ?ba/s]"
      ]
     },
     "metadata": {},
     "output_type": "display_data"
    },
    {
     "data": {
      "application/vnd.jupyter.widget-view+json": {
       "model_id": "bf225f68b9bf4877b87155bef152036e",
       "version_major": 2,
       "version_minor": 0
      },
      "text/plain": [
       "Upload 1 LFS files:   0%|          | 0/1 [00:00<?, ?it/s]"
      ]
     },
     "metadata": {},
     "output_type": "display_data"
    },
    {
     "data": {
      "application/vnd.jupyter.widget-view+json": {
       "model_id": "feca1cb4f3ff473f95e1f795ad0b4a0e",
       "version_major": 2,
       "version_minor": 0
      },
      "text/plain": [
       "Deleting unused files from dataset repository:   0%|          | 0/1 [00:00<?, ?it/s]"
      ]
     },
     "metadata": {},
     "output_type": "display_data"
    }
   ],
   "source": [
    "ds.push_to_hub(\"pysentimiento/it_haspeede\", private=True)"
   ]
  },
  {
   "attachments": {},
   "cell_type": "markdown",
   "metadata": {},
   "source": [
    "## Check Haspeede 2020"
   ]
  },
  {
   "cell_type": "code",
   "execution_count": 10,
   "metadata": {},
   "outputs": [
    {
     "name": "stderr",
     "output_type": "stream",
     "text": [
      "Using custom data configuration pysentimiento--it_haspeede-213526540a343f67\n",
      "Found cached dataset parquet (/users/jmperez/.cache/huggingface/datasets/pysentimiento___parquet/pysentimiento--it_haspeede-213526540a343f67/0.0.0/2a3b91fbd88a2c90d1dbbb32b460cf621d31bd5b05b934492fdef7d8d6f236ec)\n"
     ]
    },
    {
     "data": {
      "application/vnd.jupyter.widget-view+json": {
       "model_id": "b592746d28d24682ae545b78d1a4052d",
       "version_major": 2,
       "version_minor": 0
      },
      "text/plain": [
       "  0%|          | 0/2 [00:00<?, ?it/s]"
      ]
     },
     "metadata": {},
     "output_type": "display_data"
    },
    {
     "data": {
      "text/plain": [
       "DatasetDict({\n",
       "    dev: Dataset({\n",
       "        features: ['id', 'text', 'hs', 'stereotype'],\n",
       "        num_rows: 1231\n",
       "    })\n",
       "    train: Dataset({\n",
       "        features: ['id', 'text', 'hs', 'stereotype'],\n",
       "        num_rows: 5606\n",
       "    })\n",
       "})"
      ]
     },
     "execution_count": 10,
     "metadata": {},
     "output_type": "execute_result"
    }
   ],
   "source": [
    "from datasets import load_dataset\n",
    "\n",
    "ds = load_dataset(\"pysentimiento/it_haspeede\")\n",
    "\n",
    "ds"
   ]
  },
  {
   "cell_type": "code",
   "execution_count": 15,
   "metadata": {},
   "outputs": [
    {
     "name": "stdout",
     "output_type": "stream",
     "text": [
      "Could not find a similar tweet for #ERROR!\n",
      "Most similar: E L'IMAM FRANCESCO CONTINUA A SOSTENERE CHE GLI IMMIGRATI NON SONO UN PROBLEMA.  URL\n"
     ]
    }
   ],
   "source": []
  },
  {
   "cell_type": "code",
   "execution_count": 16,
   "metadata": {},
   "outputs": [],
   "source": [
    "training_df = df[df[\"set\"] == \"train\"]"
   ]
  },
  {
   "cell_type": "code",
   "execution_count": 17,
   "metadata": {},
   "outputs": [
    {
     "data": {
      "text/plain": [
       "0"
      ]
     },
     "execution_count": 17,
     "metadata": {},
     "output_type": "execute_result"
    }
   ],
   "source": [
    "len(set(training_df[\"text_original\"]) - set(text_ds))"
   ]
  },
  {
   "cell_type": "code",
   "execution_count": 21,
   "metadata": {},
   "outputs": [],
   "source": [
    "test_df = df[df[\"set\"] == \"test_tw\"]"
   ]
  },
  {
   "cell_type": "code",
   "execution_count": 24,
   "metadata": {},
   "outputs": [
    {
     "data": {
      "text/plain": [
       "'@LaStampaTV @LaStampa i musulmano ammazzano tutti quelli che per il loro fumoso cervello sono \"infedeli\". i nostri terroristi istituzionali ci obbligano ad accogliere e mantenere i nostri assassini'"
      ]
     },
     "execution_count": 24,
     "metadata": {},
     "output_type": "execute_result"
    }
   ],
   "source": [
    "test_df[\"text_original\"].iloc[0]"
   ]
  },
  {
   "cell_type": "code",
   "execution_count": 30,
   "metadata": {},
   "outputs": [],
   "source": []
  },
  {
   "cell_type": "code",
   "execution_count": 32,
   "metadata": {},
   "outputs": [
    {
     "data": {
      "text/html": [
       "<div>\n",
       "<style scoped>\n",
       "    .dataframe tbody tr th:only-of-type {\n",
       "        vertical-align: middle;\n",
       "    }\n",
       "\n",
       "    .dataframe tbody tr th {\n",
       "        vertical-align: top;\n",
       "    }\n",
       "\n",
       "    .dataframe thead th {\n",
       "        text-align: right;\n",
       "    }\n",
       "</style>\n",
       "<table border=\"1\" class=\"dataframe\">\n",
       "  <thead>\n",
       "    <tr style=\"text-align: right;\">\n",
       "      <th></th>\n",
       "      <th>text</th>\n",
       "      <th>hs</th>\n",
       "      <th>stereotype</th>\n",
       "    </tr>\n",
       "    <tr>\n",
       "      <th>id</th>\n",
       "      <th></th>\n",
       "      <th></th>\n",
       "      <th></th>\n",
       "    </tr>\n",
       "  </thead>\n",
       "  <tbody>\n",
       "    <tr>\n",
       "      <th>11834</th>\n",
       "      <td>@user A me pare una scelta politica suicida puntare tutto su una battaglia sicuramente perdente ...</td>\n",
       "      <td>1</td>\n",
       "      <td>0</td>\n",
       "    </tr>\n",
       "    <tr>\n",
       "      <th>12113</th>\n",
       "      <td>@user e' un perfetto musulmano!!! chi dice il contrario mente, applica alla lettera la sura \"la ...</td>\n",
       "      <td>1</td>\n",
       "      <td>1</td>\n",
       "    </tr>\n",
       "    <tr>\n",
       "      <th>11770</th>\n",
       "      <td>Mai Tg e i giornaloni hanno parlato di questa ennesima porcata fatta da immigrati ?? ⤵️⤵️⤵️⤵️  S...</td>\n",
       "      <td>1</td>\n",
       "      <td>1</td>\n",
       "    </tr>\n",
       "    <tr>\n",
       "      <th>11937</th>\n",
       "      <td>@user Ipocriti farabutti. Fanno morire i terremotati per I Bastardi clandestini immigrati schifosi.</td>\n",
       "      <td>1</td>\n",
       "      <td>1</td>\n",
       "    </tr>\n",
       "    <tr>\n",
       "      <th>11870</th>\n",
       "      <td>@user @user @user L'IMMIGRAZIONE C'E' STATO UN CALO FISIOLOGICO QUANTI RINPATRII HA FATTO ? CI S...</td>\n",
       "      <td>1</td>\n",
       "      <td>1</td>\n",
       "    </tr>\n",
       "    <tr>\n",
       "      <th>...</th>\n",
       "      <td>...</td>\n",
       "      <td>...</td>\n",
       "      <td>...</td>\n",
       "    </tr>\n",
       "    <tr>\n",
       "      <th>10091</th>\n",
       "      <td>Il Razzismo gli viene inculcato sin da bambini dal corano e dall'islam Cani, Maiali. Cristiani e...</td>\n",
       "      <td>1</td>\n",
       "      <td>1</td>\n",
       "    </tr>\n",
       "    <tr>\n",
       "      <th>10046</th>\n",
       "      <td>PERCHÉ DI QUESTO ORRENDO STUPRO NON DI PARLA? INFORMAZIONE CORROTTA,LA SINISTRA CONTINUA A COPRI...</td>\n",
       "      <td>1</td>\n",
       "      <td>1</td>\n",
       "    </tr>\n",
       "    <tr>\n",
       "      <th>10377</th>\n",
       "      <td>FERMIAMO L'IMPOSTORE. Forse saranno necesarie altre CROCIATE, visto che il fiume di fango non si...</td>\n",
       "      <td>1</td>\n",
       "      <td>1</td>\n",
       "    </tr>\n",
       "    <tr>\n",
       "      <th>10199</th>\n",
       "      <td>@user @user @user @user @user @user @user @user @user @user Matteo non si tocca...fuori i delinq...</td>\n",
       "      <td>1</td>\n",
       "      <td>1</td>\n",
       "    </tr>\n",
       "    <tr>\n",
       "      <th>10574</th>\n",
       "      <td>Ci vuole \"coraggio\" ad abbinare la parola Eguaglianza all'Islam! Credo che, tra i tanti, proprio...</td>\n",
       "      <td>1</td>\n",
       "      <td>1</td>\n",
       "    </tr>\n",
       "  </tbody>\n",
       "</table>\n",
       "<p>1263 rows × 3 columns</p>\n",
       "</div>"
      ],
      "text/plain": [
       "                                                                                                      text  \\\n",
       "id                                                                                                           \n",
       "11834  @user A me pare una scelta politica suicida puntare tutto su una battaglia sicuramente perdente ...   \n",
       "12113  @user e' un perfetto musulmano!!! chi dice il contrario mente, applica alla lettera la sura \"la ...   \n",
       "11770  Mai Tg e i giornaloni hanno parlato di questa ennesima porcata fatta da immigrati ?? ⤵️⤵️⤵️⤵️  S...   \n",
       "11937  @user Ipocriti farabutti. Fanno morire i terremotati per I Bastardi clandestini immigrati schifosi.   \n",
       "11870  @user @user @user L'IMMIGRAZIONE C'E' STATO UN CALO FISIOLOGICO QUANTI RINPATRII HA FATTO ? CI S...   \n",
       "...                                                                                                    ...   \n",
       "10091  Il Razzismo gli viene inculcato sin da bambini dal corano e dall'islam Cani, Maiali. Cristiani e...   \n",
       "10046  PERCHÉ DI QUESTO ORRENDO STUPRO NON DI PARLA? INFORMAZIONE CORROTTA,LA SINISTRA CONTINUA A COPRI...   \n",
       "10377  FERMIAMO L'IMPOSTORE. Forse saranno necesarie altre CROCIATE, visto che il fiume di fango non si...   \n",
       "10199  @user @user @user @user @user @user @user @user @user @user Matteo non si tocca...fuori i delinq...   \n",
       "10574  Ci vuole \"coraggio\" ad abbinare la parola Eguaglianza all'Islam! Credo che, tra i tanti, proprio...   \n",
       "\n",
       "       hs  stereotype  \n",
       "id                     \n",
       "11834   1           0  \n",
       "12113   1           1  \n",
       "11770   1           1  \n",
       "11937   1           1  \n",
       "11870   1           1  \n",
       "...    ..         ...  \n",
       "10091   1           1  \n",
       "10046   1           1  \n",
       "10377   1           1  \n",
       "10199   1           1  \n",
       "10574   1           1  \n",
       "\n",
       "[1263 rows x 3 columns]"
      ]
     },
     "execution_count": 32,
     "metadata": {},
     "output_type": "execute_result"
    }
   ],
   "source": [
    "pd.options.display.max_colwidth = 100\n",
    "\n",
    "df_test"
   ]
  },
  {
   "cell_type": "code",
   "execution_count": null,
   "metadata": {},
   "outputs": [],
   "source": [
    "df_t"
   ]
  }
 ],
 "metadata": {
  "kernelspec": {
   "display_name": ".venv",
   "language": "python",
   "name": "python3"
  },
  "language_info": {
   "codemirror_mode": {
    "name": "ipython",
    "version": 3
   },
   "file_extension": ".py",
   "mimetype": "text/x-python",
   "name": "python",
   "nbconvert_exporter": "python",
   "pygments_lexer": "ipython3",
   "version": "3.8.16"
  },
  "orig_nbformat": 4,
  "vscode": {
   "interpreter": {
    "hash": "3fc79ed69e4c2b5a1db8fa17ebb1e82d66421519e5b018d314116a7b4cda9238"
   }
  }
 },
 "nbformat": 4,
 "nbformat_minor": 2
}
