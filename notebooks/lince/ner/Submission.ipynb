{
 "cells": [
  {
   "cell_type": "code",
   "execution_count": 1,
   "metadata": {},
   "outputs": [
    {
     "name": "stdout",
     "output_type": "stream",
     "text": [
      "robertuito-lince-ner-uncased  robertuito-lince-sentiment\n",
      "robertuito-lince-pos\t      robertuito-lince-sentiment-2\n"
     ]
    }
   ],
   "source": [
    "!ls ../../../models/"
   ]
  },
  {
   "cell_type": "code",
   "execution_count": 2,
   "metadata": {},
   "outputs": [
    {
     "name": "stderr",
     "output_type": "stream",
     "text": [
      "Reusing dataset lince (/root/.cache/huggingface/datasets/lince/ner_spaeng/1.0.0/10d41747f55f0849fa84ac579ea1acfa7df49aa2015b60426bc459c111b3d589)\n"
     ]
    },
    {
     "data": {
      "application/vnd.jupyter.widget-view+json": {
       "model_id": "7607e35e706447098e0588ea3fa2e919",
       "version_major": 2,
       "version_minor": 0
      },
      "text/plain": [
       "  0%|          | 0/3 [00:00<?, ?it/s]"
      ]
     },
     "metadata": {},
     "output_type": "display_data"
    },
    {
     "name": "stderr",
     "output_type": "stream",
     "text": [
      "Loading cached processed dataset at /root/.cache/huggingface/datasets/lince/ner_spaeng/1.0.0/10d41747f55f0849fa84ac579ea1acfa7df49aa2015b60426bc459c111b3d589/cache-98e277271cd16b75.arrow\n",
      "Loading cached processed dataset at /root/.cache/huggingface/datasets/lince/ner_spaeng/1.0.0/10d41747f55f0849fa84ac579ea1acfa7df49aa2015b60426bc459c111b3d589/cache-8ff715c63222e434.arrow\n",
      "Loading cached processed dataset at /root/.cache/huggingface/datasets/lince/ner_spaeng/1.0.0/10d41747f55f0849fa84ac579ea1acfa7df49aa2015b60426bc459c111b3d589/cache-8b685d7fa06b5f0b.arrow\n"
     ]
    }
   ],
   "source": [
    "%load_ext autoreload\n",
    "%autoreload 2\n",
    "from transformers import AutoModelForTokenClassification, AutoTokenizer\n",
    "from pysentimiento.lince.ner import load_datasets\n",
    "\n",
    "model_name = \"../../../models/robertuito-lince-ner-uncased\"\n",
    "\n",
    "model = AutoModelForTokenClassification.from_pretrained(model_name)\n",
    "\n",
    "\n",
    "tokenizer = AutoTokenizer.from_pretrained(model_name)\n",
    "tokenizer.model_max_length = 128\n",
    "\n",
    "_, _, test_dataset = load_datasets(lang=\"es\", preprocess=False)"
   ]
  },
  {
   "cell_type": "code",
   "execution_count": 3,
   "metadata": {},
   "outputs": [
    {
     "data": {
      "application/vnd.jupyter.widget-view+json": {
       "model_id": "5dc6f5193a9a4595a70e88712b5622e9",
       "version_major": 2,
       "version_minor": 0
      },
      "text/plain": [
       "  0%|          | 0/23527 [00:00<?, ?ex/s]"
      ]
     },
     "metadata": {},
     "output_type": "display_data"
    }
   ],
   "source": [
    "from datasets import Dataset\n",
    "from pysentimiento.lince.ner import preprocess_token, tokenize_and_align_labels\n",
    "\n",
    "original_words = test_dataset[\"words\"]\n",
    "\n",
    "test_dataset = test_dataset.map(\n",
    "    lambda x: {\n",
    "        \"words\": [preprocess_token(word, \"es\") for word in x[\"words\"]]\n",
    "    }\n",
    ")\n"
   ]
  },
  {
   "cell_type": "code",
   "execution_count": 4,
   "metadata": {},
   "outputs": [
    {
     "data": {
      "application/vnd.jupyter.widget-view+json": {
       "model_id": "730fc20a1c8941d785dfc4a199749814",
       "version_major": 2,
       "version_minor": 0
      },
      "text/plain": [
       "  0%|          | 0/736 [00:00<?, ?ba/s]"
      ]
     },
     "metadata": {},
     "output_type": "display_data"
    }
   ],
   "source": [
    "\n",
    "tokenize_fun = lambda x: tokenize_and_align_labels(x, tokenizer)\n",
    "test_dataset = test_dataset.map(\n",
    "    tokenize_fun, batched=True, batch_size=32, \n",
    ")\n",
    "\n",
    "test_dataset = test_dataset.remove_columns([\"labels\"])"
   ]
  },
  {
   "cell_type": "code",
   "execution_count": 5,
   "metadata": {},
   "outputs": [
    {
     "data": {
      "application/vnd.jupyter.widget-view+json": {
       "model_id": "e6cc73a3f8664835b63a05e6bfade392",
       "version_major": 2,
       "version_minor": 0
      },
      "text/plain": [
       "  0%|          | 0/23527 [00:00<?, ?it/s]"
      ]
     },
     "metadata": {},
     "output_type": "display_data"
    },
    {
     "name": "stdout",
     "output_type": "stream",
     "text": [
      "0 problematic instances\n"
     ]
    }
   ],
   "source": [
    "from tqdm.auto import tqdm\n",
    "\n",
    "problematic_instances = []\n",
    "\n",
    "for idx, row in tqdm(enumerate(test_dataset), total=len(test_dataset)):\n",
    "    word_ids = row[\"word_ids\"]\n",
    "    input_ids = row[\"input_ids\"]\n",
    "    words = original_words[idx]\n",
    "    if not (word_ids[-2] + 1) == len(words):\n",
    "        problematic_instances.append(idx)\n",
    "\n",
    "print(f\"{len(problematic_instances)} problematic instances\")\n",
    "assert len(problematic_instances) == 0"
   ]
  },
  {
   "cell_type": "code",
   "execution_count": 6,
   "metadata": {},
   "outputs": [
    {
     "name": "stderr",
     "output_type": "stream",
     "text": [
      "The following columns in the test set  don't have a corresponding argument in `RobertaForTokenClassification.forward` and have been ignored: word_ids, lid, idx, words, ner.\n",
      "***** Running Prediction *****\n",
      "  Num examples = 23527\n",
      "  Batch size = 32\n"
     ]
    },
    {
     "data": {
      "text/html": [
       "\n",
       "    <div>\n",
       "      \n",
       "      <progress value='736' max='736' style='width:300px; height:20px; vertical-align: middle;'></progress>\n",
       "      [736/736 01:02]\n",
       "    </div>\n",
       "    "
      ],
      "text/plain": [
       "<IPython.core.display.HTML object>"
      ]
     },
     "metadata": {},
     "output_type": "display_data"
    }
   ],
   "source": [
    "from transformers import DataCollatorForTokenClassification, Trainer, TrainingArguments\n",
    "data_collator = DataCollatorForTokenClassification(tokenizer)\n",
    "\n",
    "train_args = TrainingArguments(\n",
    "    output_dir=\"./test/\",\n",
    "    per_device_eval_batch_size=32,\n",
    "    do_train=False,\n",
    ")\n",
    "\n",
    "trainer_args = {\n",
    "    \"model\": model,\n",
    "    \"args\": train_args,\n",
    "    \"eval_dataset\": test_dataset,\n",
    "    \"data_collator\": data_collator,\n",
    "    \"tokenizer\": tokenizer,\n",
    "}\n",
    "\n",
    "eval_trainer = Trainer(**trainer_args)\n",
    "ret = eval_trainer.predict(test_dataset)"
   ]
  },
  {
   "cell_type": "code",
   "execution_count": 7,
   "metadata": {},
   "outputs": [
    {
     "data": {
      "application/vnd.jupyter.widget-view+json": {
       "model_id": "40f35fc2854b46e29e41afd0c584a546",
       "version_major": 2,
       "version_minor": 0
      },
      "text/plain": [
       "  0%|          | 0/23527 [00:00<?, ?it/s]"
      ]
     },
     "metadata": {},
     "output_type": "display_data"
    },
    {
     "name": "stdout",
     "output_type": "stream",
     "text": [
      "================================================================================\n",
      "8722\n",
      "[('\"', 'O'), ('Lmao', 'O'), ('!', 'O'), ('\\ue411\\ue412', None), ('ima', 'O'), ('turn', 'O'), ('into', 'O'), ('one', 'O'), ('foreal', 'O'), ('lol', 'O'), ('I', 'O'), ('told', 'O'), ('you', 'O'), ('!', 'O'), ('I', 'O'), ('like', 'O'), ('Mexican', 'O'), ('chicks', 'O'), (',', 'O'), ('Mexican', 'O'), ('food', 'O'), (',', 'O'), ('Mexican', 'O'), ('jobs', 'O'), ('lol', 'O'), ('\"', 'O'), ('Hes', 'O'), ('something', 'O'), ('else', 'O'), ('!!!', 'O'), (':D', 'O')]\n",
      "================================================================================\n",
      "9637\n",
      "[('“', 'O'), ('@_laguera01', 'O'), (':', 'O'), ('Los', 'O'), ('bailes', 'O'), ('de', 'O'), ('Mexico', 'B-LOC'), ('no', 'O'), ('son', 'O'), ('chingaderas', 'O'), ('como', 'O'), ('las', 'O'), ('de', 'O'), ('aqui', 'O'), ('.', 'O'), ('\\ue50f\\ue01a\\ue312', None), ('🎊', 'O'), ('\\ue047\\ue30c', None), ('”', 'O')]\n",
      "================================================================================\n",
      "16313\n",
      "[('RT', 'O'), ('@adamaris_cruzz', 'O'), (':', 'O'), ('Mis', 'O'), ('nenaaaas', 'O'), ('\\ue022\\ue022\\ue022\\ue022', None), ('@andreanoguera1d', 'O'), ('http://t.co/JVuhkno7oo', 'O')]\n"
     ]
    }
   ],
   "source": [
    "from tqdm.auto import tqdm\n",
    "from pysentimiento.lince.ner import id2label, label2id\n",
    "\n",
    "outputs = []\n",
    "\n",
    "for idx, row in tqdm(enumerate(test_dataset), total=len(test_dataset)):\n",
    "    word_ids = row[\"word_ids\"]\n",
    "    input_ids = row[\"input_ids\"]\n",
    "    words = original_words[idx]\n",
    "    assert (word_ids[-2] + 1) == len(words)\n",
    "    preds = ret.predictions[idx]\n",
    "\n",
    "    sentence_output = []\n",
    "    current_word_id = None\n",
    "\n",
    "    sentence_output = [None] * len(words)\n",
    "\n",
    "    for word_id, token_id, pred in zip(word_ids, input_ids, preds):\n",
    "        token = tokenizer.decode(token_id)\n",
    "        if current_word_id != word_id and word_id is not None:\n",
    "            current_word_id = word_id\n",
    "            label = id2label[pred.argmax()]\n",
    "            sentence_output[current_word_id] = label\n",
    "    \n",
    "    if not all(sentence_output):\n",
    "        print(\"=\"*80)\n",
    "        print(idx)\n",
    "        print(list(zip(\n",
    "            words,\n",
    "            sentence_output,\n",
    "        )))\n",
    "\n",
    "        # Filling gaps\n",
    "        sentence_output = [s or 'O' for s in sentence_output]\n",
    "        \n",
    "    outputs.append(sentence_output)\n"
   ]
  },
  {
   "cell_type": "markdown",
   "metadata": {},
   "source": [
    "Toda pura mierda"
   ]
  },
  {
   "cell_type": "code",
   "execution_count": 10,
   "metadata": {},
   "outputs": [],
   "source": [
    "def write_list(path, data):\n",
    "    with open(path, \"w\") as f:\n",
    "        for sentence in data:\n",
    "            for row in sentence:\n",
    "                f.write(f\"{row}\\n\")\n",
    "            f.write(\"\\n\")\n",
    "\n",
    "write_list(\"../submissions/02_uncased/ner_spa_eng.txt\", outputs)"
   ]
  },
  {
   "cell_type": "code",
   "execution_count": 62,
   "metadata": {},
   "outputs": [
    {
     "data": {
      "text/plain": [
       "108212755"
      ]
     },
     "execution_count": 62,
     "metadata": {},
     "output_type": "execute_result"
    }
   ],
   "source": [
    "import torch\n",
    "sum(map(torch.numel, model.parameters()))"
   ]
  },
  {
   "cell_type": "code",
   "execution_count": null,
   "metadata": {},
   "outputs": [],
   "source": []
  }
 ],
 "metadata": {
  "interpreter": {
   "hash": "387abc9bc94d8eb1bd0148a5d4cb2bf99bc3b40fa501b808e2b508b4f65ed831"
  },
  "kernelspec": {
   "display_name": "Python 3.7.12 64-bit ('pysentimiento-bwlKzHxB-py3.7': poetry)",
   "language": "python",
   "name": "python3"
  },
  "language_info": {
   "codemirror_mode": {
    "name": "ipython",
    "version": 3
   },
   "file_extension": ".py",
   "mimetype": "text/x-python",
   "name": "python",
   "nbconvert_exporter": "python",
   "pygments_lexer": "ipython3",
   "version": "3.7.12"
  },
  "orig_nbformat": 4
 },
 "nbformat": 4,
 "nbformat_minor": 2
}
