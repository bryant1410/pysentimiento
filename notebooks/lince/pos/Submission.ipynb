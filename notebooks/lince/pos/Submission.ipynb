{
 "cells": [
  {
   "cell_type": "code",
   "execution_count": 1,
   "metadata": {},
   "outputs": [
    {
     "name": "stdout",
     "output_type": "stream",
     "text": [
      "robertuito-lince-pos  robertuito-lince-sentiment  robertuito-lince-sentiment-2\n"
     ]
    }
   ],
   "source": [
    "!ls ../../../models/"
   ]
  },
  {
   "cell_type": "code",
   "execution_count": 4,
   "metadata": {},
   "outputs": [
    {
     "name": "stdout",
     "output_type": "stream",
     "text": [
      "The autoreload extension is already loaded. To reload it, use:\n",
      "  %reload_ext autoreload\n"
     ]
    },
    {
     "name": "stderr",
     "output_type": "stream",
     "text": [
      "Reusing dataset lince (/root/.cache/huggingface/datasets/lince/pos_spaeng/1.0.0/10d41747f55f0849fa84ac579ea1acfa7df49aa2015b60426bc459c111b3d589)\n"
     ]
    },
    {
     "data": {
      "application/vnd.jupyter.widget-view+json": {
       "model_id": "58c701f958464ec9b7b78a07902f0989",
       "version_major": 2,
       "version_minor": 0
      },
      "text/plain": [
       "  0%|          | 0/3 [00:00<?, ?it/s]"
      ]
     },
     "metadata": {},
     "output_type": "display_data"
    },
    {
     "name": "stderr",
     "output_type": "stream",
     "text": [
      "Loading cached processed dataset at /root/.cache/huggingface/datasets/lince/pos_spaeng/1.0.0/10d41747f55f0849fa84ac579ea1acfa7df49aa2015b60426bc459c111b3d589/cache-135d204f96f66baa.arrow\n",
      "Loading cached processed dataset at /root/.cache/huggingface/datasets/lince/pos_spaeng/1.0.0/10d41747f55f0849fa84ac579ea1acfa7df49aa2015b60426bc459c111b3d589/cache-0ada48fff114da4c.arrow\n",
      "Loading cached processed dataset at /root/.cache/huggingface/datasets/lince/pos_spaeng/1.0.0/10d41747f55f0849fa84ac579ea1acfa7df49aa2015b60426bc459c111b3d589/cache-94a4a8128eaebf6a.arrow\n",
      "Loading cached processed dataset at /root/.cache/huggingface/datasets/lince/pos_spaeng/1.0.0/10d41747f55f0849fa84ac579ea1acfa7df49aa2015b60426bc459c111b3d589/cache-b25ee59dae025001.arrow\n",
      "Loading cached processed dataset at /root/.cache/huggingface/datasets/lince/pos_spaeng/1.0.0/10d41747f55f0849fa84ac579ea1acfa7df49aa2015b60426bc459c111b3d589/cache-7420b238145cf866.arrow\n",
      "Loading cached processed dataset at /root/.cache/huggingface/datasets/lince/pos_spaeng/1.0.0/10d41747f55f0849fa84ac579ea1acfa7df49aa2015b60426bc459c111b3d589/cache-014dc3657611e5ed.arrow\n"
     ]
    }
   ],
   "source": [
    "%load_ext autoreload\n",
    "%autoreload 2\n",
    "from transformers import AutoModelForTokenClassification, AutoTokenizer\n",
    "from pysentimiento.lince.pos import load_datasets\n",
    "\n",
    "model_path = \"../../../models/robertuito-lince-pos\"\n",
    "\n",
    "model = AutoModelForTokenClassification.from_pretrained(model_path)\n",
    "\n",
    "\n",
    "tokenizer = AutoTokenizer.from_pretrained(model_path)\n",
    "tokenizer.model_max_length = 128\n",
    "\n",
    "_, _, test_dataset = load_datasets(lang=\"es\", preprocess=False)"
   ]
  },
  {
   "cell_type": "code",
   "execution_count": 5,
   "metadata": {},
   "outputs": [
    {
     "data": {
      "application/vnd.jupyter.widget-view+json": {
       "model_id": "5f1639be635944cd9336e76fb947d782",
       "version_major": 2,
       "version_minor": 0
      },
      "text/plain": [
       "  0%|          | 0/10720 [00:00<?, ?ex/s]"
      ]
     },
     "metadata": {},
     "output_type": "display_data"
    },
    {
     "data": {
      "application/vnd.jupyter.widget-view+json": {
       "model_id": "b2fd8616ddb44a588c37df8af4db1d93",
       "version_major": 2,
       "version_minor": 0
      },
      "text/plain": [
       "  0%|          | 0/335 [00:00<?, ?ba/s]"
      ]
     },
     "metadata": {},
     "output_type": "display_data"
    }
   ],
   "source": [
    "from datasets import Dataset\n",
    "from pysentimiento.lince.pos import preprocess_token, tokenize_and_align_labels\n",
    "\n",
    "\"\"\"\n",
    "Hago esto porque necesito las palabras originales\n",
    "\"\"\"\n",
    "\n",
    "\n",
    "original_words = test_dataset[\"words\"]\n",
    "\n",
    "test_dataset = test_dataset.map(\n",
    "    lambda x: {\n",
    "        \"words\": [preprocess_token(word, \"es\") for word in x[\"words\"]]\n",
    "    }\n",
    ")\n",
    "\n",
    "\n",
    "tokenize_fun = lambda x: tokenize_and_align_labels(x, tokenizer)\n",
    "test_dataset = test_dataset.map(\n",
    "    tokenize_fun, batched=True, batch_size=32, \n",
    ")\n",
    "\n",
    "test_dataset = test_dataset.remove_columns([\"labels\"])"
   ]
  },
  {
   "cell_type": "code",
   "execution_count": 6,
   "metadata": {},
   "outputs": [
    {
     "data": {
      "application/vnd.jupyter.widget-view+json": {
       "model_id": "76d86c0d0ee6411daf870f8ab6b44935",
       "version_major": 2,
       "version_minor": 0
      },
      "text/plain": [
       "  0%|          | 0/10720 [00:00<?, ?it/s]"
      ]
     },
     "metadata": {},
     "output_type": "display_data"
    },
    {
     "name": "stdout",
     "output_type": "stream",
     "text": [
      "0 problematic instances\n"
     ]
    }
   ],
   "source": [
    "from tqdm.auto import tqdm\n",
    "\n",
    "problematic_instances = []\n",
    "\n",
    "for idx, row in tqdm(enumerate(test_dataset), total=len(test_dataset)):\n",
    "    word_ids = row[\"word_ids\"]\n",
    "    input_ids = row[\"input_ids\"]\n",
    "    words = original_words[idx]\n",
    "    if not (word_ids[-2] + 1) == len(words):\n",
    "        problematic_instances.append(idx)\n",
    "\n",
    "print(f\"{len(problematic_instances)} problematic instances\")\n",
    "assert len(problematic_instances) == 0"
   ]
  },
  {
   "cell_type": "code",
   "execution_count": 7,
   "metadata": {},
   "outputs": [
    {
     "name": "stderr",
     "output_type": "stream",
     "text": [
      "The following columns in the test set  don't have a corresponding argument in `RobertaForTokenClassification.forward` and have been ignored: idx, lid, word_ids, pos, words.\n",
      "***** Running Prediction *****\n",
      "  Num examples = 10720\n",
      "  Batch size = 32\n"
     ]
    },
    {
     "data": {
      "text/html": [
       "\n",
       "    <div>\n",
       "      \n",
       "      <progress value='335' max='335' style='width:300px; height:20px; vertical-align: middle;'></progress>\n",
       "      [335/335 00:15]\n",
       "    </div>\n",
       "    "
      ],
      "text/plain": [
       "<IPython.core.display.HTML object>"
      ]
     },
     "metadata": {},
     "output_type": "display_data"
    }
   ],
   "source": [
    "from transformers import DataCollatorForTokenClassification, Trainer, TrainingArguments\n",
    "data_collator = DataCollatorForTokenClassification(tokenizer)\n",
    "\n",
    "train_args = TrainingArguments(\n",
    "    output_dir=\"./test/\",\n",
    "    per_device_eval_batch_size=32,\n",
    "    do_train=False,\n",
    ")\n",
    "\n",
    "trainer_args = {\n",
    "    \"model\": model,\n",
    "    \"args\": train_args,\n",
    "    \"eval_dataset\": test_dataset,\n",
    "    \"data_collator\": data_collator,\n",
    "    \"tokenizer\": tokenizer,\n",
    "}\n",
    "\n",
    "eval_trainer = Trainer(**trainer_args)\n",
    "ret = eval_trainer.predict(test_dataset)"
   ]
  },
  {
   "cell_type": "code",
   "execution_count": 16,
   "metadata": {},
   "outputs": [
    {
     "data": {
      "application/vnd.jupyter.widget-view+json": {
       "model_id": "05caac3882a44ac6969d38aeb234a492",
       "version_major": 2,
       "version_minor": 0
      },
      "text/plain": [
       "  0%|          | 0/10720 [00:00<?, ?it/s]"
      ]
     },
     "metadata": {},
     "output_type": "display_data"
    }
   ],
   "source": [
    "from tqdm.auto import tqdm\n",
    "from pysentimiento.lince.pos import id2label, label2id\n",
    "\n",
    "outputs = []\n",
    "\n",
    "for idx, row in tqdm(enumerate(test_dataset), total=len(test_dataset)):\n",
    "    word_ids = row[\"word_ids\"]\n",
    "    input_ids = row[\"input_ids\"]\n",
    "    words = original_words[idx]\n",
    "    assert (word_ids[-2] + 1) == len(words)\n",
    "    preds = ret.predictions[idx]\n",
    "\n",
    "    sentence_output = []\n",
    "    current_word_id = None\n",
    "\n",
    "    sentence_output = [None] * len(words)\n",
    "\n",
    "    for word_id, token_id, pred in zip(word_ids, input_ids, preds):\n",
    "        token = tokenizer.decode(token_id)\n",
    "        if current_word_id != word_id and word_id is not None:\n",
    "            current_word_id = word_id\n",
    "            label = id2label[pred.argmax()]\n",
    "            # FIX: Split \"B-\"\n",
    "            label = label.split(\"-\")[-1]\n",
    "            sentence_output[current_word_id] = label\n",
    "    \n",
    "    if not all(sentence_output):\n",
    "        print(\"=\"*80)\n",
    "        print(idx)\n",
    "        print(list(zip(\n",
    "            words,\n",
    "            sentence_output,\n",
    "        )))\n",
    "\n",
    "        # Filling gaps\n",
    "        sentence_output = [s or 'O' for s in sentence_output]\n",
    "        \n",
    "    outputs.append(sentence_output)\n"
   ]
  },
  {
   "cell_type": "markdown",
   "metadata": {},
   "source": [
    "Toda pura mierda"
   ]
  },
  {
   "cell_type": "code",
   "execution_count": 17,
   "metadata": {},
   "outputs": [],
   "source": [
    "def write_list(path, data):\n",
    "    with open(path, \"w\") as f:\n",
    "        for sentence in data:\n",
    "            for row in sentence:\n",
    "                f.write(f\"{row}\\n\")\n",
    "            f.write(\"\\n\")\n",
    "\n",
    "write_list(\"../submissions/01_robertuito/pos_spa_eng.txt\", outputs)"
   ]
  },
  {
   "cell_type": "code",
   "execution_count": 62,
   "metadata": {},
   "outputs": [
    {
     "data": {
      "text/plain": [
       "108212755"
      ]
     },
     "execution_count": 62,
     "metadata": {},
     "output_type": "execute_result"
    }
   ],
   "source": [
    "import torch\n",
    "sum(map(torch.numel, model.parameters()))"
   ]
  },
  {
   "cell_type": "code",
   "execution_count": null,
   "metadata": {},
   "outputs": [],
   "source": []
  }
 ],
 "metadata": {
  "interpreter": {
   "hash": "387abc9bc94d8eb1bd0148a5d4cb2bf99bc3b40fa501b808e2b508b4f65ed831"
  },
  "kernelspec": {
   "display_name": "Python 3.7.12 64-bit ('pysentimiento-bwlKzHxB-py3.7': poetry)",
   "language": "python",
   "name": "python3"
  },
  "language_info": {
   "codemirror_mode": {
    "name": "ipython",
    "version": 3
   },
   "file_extension": ".py",
   "mimetype": "text/x-python",
   "name": "python",
   "nbconvert_exporter": "python",
   "pygments_lexer": "ipython3",
   "version": "3.7.12"
  },
  "orig_nbformat": 4
 },
 "nbformat": 4,
 "nbformat_minor": 2
}
