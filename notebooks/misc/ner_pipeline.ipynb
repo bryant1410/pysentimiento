{
 "cells": [
  {
   "cell_type": "code",
   "execution_count": 32,
   "metadata": {},
   "outputs": [
    {
     "data": {
      "text/plain": [
       "[Venga, que, esto, es, una, risa, tío]"
      ]
     },
     "execution_count": 32,
     "metadata": {},
     "output_type": "execute_result"
    }
   ],
   "source": [
    "%load_ext autoreload\n",
    "%autoreload 2\n",
    "\n",
    "# Load spacy tokenizer\n",
    "from spacy.lang.es import Spanish\n",
    "\n",
    "nlp = Spanish()\n",
    "\n",
    "spacy_tokenizer = nlp.tokenizer\n",
    "\n",
    "list(spacy_tokenizer(\"Venga que esto es una risa tío\"))"
   ]
  },
  {
   "cell_type": "code",
   "execution_count": 33,
   "metadata": {},
   "outputs": [],
   "source": [
    "from transformers import AutoTokenizer, AutoModelForTokenClassification\n",
    "\n",
    "model_name = \"pysentimiento/robertuito-ner\"\n",
    "\n",
    "tokenizer = AutoTokenizer.from_pretrained(model_name)\n",
    "model = AutoModelForTokenClassification.from_pretrained(model_name)"
   ]
  },
  {
   "cell_type": "code",
   "execution_count": 43,
   "metadata": {},
   "outputs": [],
   "source": [
    "sentences = [\n",
    "    \"abran paso al mejor de todos los tiempos, Leonel Andrés messi cuccittini\",\n",
    "    \"sos el mejor leo\",\n",
    "]\n",
    "\n",
    "\n",
    "words = [\n",
    "    [token.text for token in spacy_tokenizer(sentence)] for sentence in sentences\n",
    "]\n",
    "    \n",
    "\n"
   ]
  },
  {
   "cell_type": "code",
   "execution_count": 44,
   "metadata": {},
   "outputs": [],
   "source": [
    "import torch \n",
    "\n",
    "\n",
    "inputs = tokenizer(words, is_split_into_words=True, padding=True)\n",
    "\n",
    "model_inputs = {k: torch.tensor(v) for k, v in inputs.items()}\n",
    "\n",
    "outs = model(**model_inputs)"
   ]
  },
  {
   "cell_type": "code",
   "execution_count": 49,
   "metadata": {},
   "outputs": [],
   "source": [
    "id2label = model.config.id2label\n",
    "\n",
    "outputs = torch.argmax(outs.logits, dim=2)\n",
    "\n"
   ]
  },
  {
   "cell_type": "code",
   "execution_count": 50,
   "metadata": {},
   "outputs": [
    {
     "data": {
      "text/plain": [
       "tensor([[ 0,  0,  0,  0,  0,  0,  0,  0,  0,  0, 11, 12, 12, 12, 12, 12, 12,  0],\n",
       "        [ 0,  0,  0,  0, 11,  0,  0,  0,  0,  0,  0,  0,  0,  0,  0,  0,  0,  0]])"
      ]
     },
     "execution_count": 50,
     "metadata": {},
     "output_type": "execute_result"
    }
   ],
   "source": [
    "outputs"
   ]
  },
  {
   "cell_type": "code",
   "execution_count": 59,
   "metadata": {},
   "outputs": [
    {
     "name": "stdout",
     "output_type": "stream",
     "text": [
      "['abran', 'paso', 'al', 'mejor', 'de', 'todos', 'los', 'tiempos', ',', 'Leonel', 'Andrés', 'messi', 'cuccittini']\n",
      "tensor([ 0,  0,  0,  0,  0,  0,  0,  0,  0,  0, 11, 12, 12, 12, 12, 12, 12,  0])\n",
      "[None, 0, 1, 2, 3, 4, 5, 6, 7, 8, 9, 10, 11, 12, 12, 12, 12, None]\n",
      "[('abran', 'O'), ('paso', 'O'), ('al', 'O'), ('mejor', 'O'), ('de', 'O'), ('todos', 'O'), ('los', 'O'), ('tiempos', 'O'), (',', 'O'), ('Leonel', 'B-PER'), ('Andrés', 'I-PER'), ('messi', 'I-PER'), ('cuccittini', 'I-PER')]\n",
      "['sos', 'el', 'mejor', 'leo']\n",
      "tensor([ 0,  0,  0,  0, 11,  0,  0,  0,  0,  0,  0,  0,  0,  0,  0,  0,  0,  0])\n",
      "[None, 0, 1, 2, 3, None, None, None, None, None, None, None, None, None, None, None, None, None]\n",
      "[('sos', 'O'), ('el', 'O'), ('mejor', 'O'), ('leo', 'B-PER')]\n"
     ]
    }
   ],
   "source": [
    "labels = []\n",
    "\n",
    "for i, (sentence, output) in enumerate(zip(words, outputs)):\n",
    "\n",
    "    sentence_labels = [None for _ in sentence]\n",
    "    print(sentence)\n",
    "    print(output)\n",
    "    word_ids = inputs.word_ids(i)\n",
    "    print(word_ids)\n",
    "\n",
    "    for word_id, label in zip(word_ids, output):\n",
    "        if word_id is not None and sentence_labels[word_id] is None:\n",
    "                sentence_labels[word_id] = id2label[label.item()]\n",
    "\n",
    "    print(list(zip(sentence, sentence_labels)))\n",
    "    # for word, label in zip(sentence, output):\n",
    "    #     print(word, id2label[label.item()])"
   ]
  },
  {
   "cell_type": "code",
   "execution_count": 40,
   "metadata": {},
   "outputs": [
    {
     "ename": "TypeError",
     "evalue": "'NoneType' object is not subscriptable",
     "output_type": "error",
     "traceback": [
      "\u001b[0;31m---------------------------------------------------------------------------\u001b[0m",
      "\u001b[0;31mTypeError\u001b[0m                                 Traceback (most recent call last)",
      "Cell \u001b[0;32mIn[40], line 4\u001b[0m\n\u001b[1;32m      1\u001b[0m labels \u001b[39m=\u001b[39m [\u001b[39mNone\u001b[39;00m \u001b[39mfor\u001b[39;00m x \u001b[39min\u001b[39;00m words]\n\u001b[1;32m      3\u001b[0m \u001b[39mfor\u001b[39;00m i, label \u001b[39min\u001b[39;00m \u001b[39menumerate\u001b[39m(outputs):\n\u001b[0;32m----> 4\u001b[0m     word_id \u001b[39m=\u001b[39m inputs\u001b[39m.\u001b[39;49mword_ids()[\u001b[39m0\u001b[39;49m][i]\n\u001b[1;32m      6\u001b[0m     \u001b[39mif\u001b[39;00m word_id \u001b[39mis\u001b[39;00m \u001b[39mnot\u001b[39;00m \u001b[39mNone\u001b[39;00m \u001b[39mand\u001b[39;00m labels[word_id] \u001b[39mis\u001b[39;00m \u001b[39mNone\u001b[39;00m:\n\u001b[1;32m      7\u001b[0m         labels[word_id] \u001b[39m=\u001b[39m label\n",
      "\u001b[0;31mTypeError\u001b[0m: 'NoneType' object is not subscriptable"
     ]
    }
   ],
   "source": [
    "\n",
    "\n",
    "for i, sent in enumerate(words):\n",
    "    for i, label in enumerate(outputs):\n",
    "        word_id = inputs.word_ids(i)[i]\n",
    "\n",
    "        if word_id is not None and labels[word_id] is None:\n",
    "            labels[word_id] = label"
   ]
  },
  {
   "cell_type": "code",
   "execution_count": null,
   "metadata": {},
   "outputs": [],
   "source": []
  }
 ],
 "metadata": {
  "kernelspec": {
   "display_name": ".venv",
   "language": "python",
   "name": "python3"
  },
  "language_info": {
   "codemirror_mode": {
    "name": "ipython",
    "version": 3
   },
   "file_extension": ".py",
   "mimetype": "text/x-python",
   "name": "python",
   "nbconvert_exporter": "python",
   "pygments_lexer": "ipython3",
   "version": "3.8.12"
  },
  "orig_nbformat": 4,
  "vscode": {
   "interpreter": {
    "hash": "937b9937b084de7c01ff6f8c8ec75cb4264b181d3731e2c746ab087eed3df4a9"
   }
  }
 },
 "nbformat": 4,
 "nbformat_minor": 2
}
