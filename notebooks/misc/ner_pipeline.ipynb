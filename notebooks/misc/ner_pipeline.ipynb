{
 "cells": [
  {
   "cell_type": "code",
   "execution_count": 64,
   "metadata": {},
   "outputs": [
    {
     "data": {
      "text/plain": [
       "[Venga, que, esto, es, una, risa, tío]"
      ]
     },
     "execution_count": 64,
     "metadata": {},
     "output_type": "execute_result"
    }
   ],
   "source": [
    "%load_ext autoreload\n",
    "%autoreload 2\n",
    "\n",
    "# Load spacy tokenizer\n",
    "from spacy.lang.es import Spanish\n",
    "\n",
    "nlp = Spanish()\n",
    "\n",
    "spacy_tokenizer = nlp.tokenizer\n",
    "\n",
    "list(spacy_tokenizer(\"Venga que esto es una risa tío\"))"
   ]
  },
  {
   "cell_type": "code",
   "execution_count": 65,
   "metadata": {},
   "outputs": [],
   "source": [
    "from transformers import AutoTokenizer, AutoModelForTokenClassification\n",
    "\n",
    "model_name = \"pysentimiento/robertuito-ner\"\n",
    "\n",
    "tokenizer = AutoTokenizer.from_pretrained(model_name)\n",
    "model = AutoModelForTokenClassification.from_pretrained(model_name)"
   ]
  },
  {
   "cell_type": "code",
   "execution_count": 66,
   "metadata": {},
   "outputs": [],
   "source": [
    "sentences = [\n",
    "    \"abran paso al mejor de todos los tiempos, Leonel Andrés messi cuccittini\",\n",
    "    \"sos el mejor leo\",\n",
    "]\n",
    "\n",
    "\n",
    "words = [\n",
    "    [token.text for token in spacy_tokenizer(sentence)] for sentence in sentences\n",
    "]\n",
    "    \n",
    "\n"
   ]
  },
  {
   "cell_type": "code",
   "execution_count": 67,
   "metadata": {},
   "outputs": [],
   "source": [
    "import torch \n",
    "\n",
    "\n",
    "inputs = tokenizer(words, is_split_into_words=True, padding=True)\n",
    "\n",
    "model_inputs = {k: torch.tensor(v) for k, v in inputs.items()}\n",
    "\n",
    "outs = model(**model_inputs)"
   ]
  },
  {
   "cell_type": "code",
   "execution_count": 68,
   "metadata": {},
   "outputs": [],
   "source": [
    "id2label = model.config.id2label\n",
    "\n",
    "outputs = torch.argmax(outs.logits, dim=2)\n",
    "\n"
   ]
  },
  {
   "cell_type": "code",
   "execution_count": 69,
   "metadata": {},
   "outputs": [
    {
     "data": {
      "text/plain": [
       "tensor([[ 0,  0,  0,  0,  0,  0,  0,  0,  0,  0, 11, 12, 12, 12, 12, 12, 12,  0],\n",
       "        [ 0,  0,  0,  0, 11,  0,  0,  0,  0,  0,  0,  0,  0,  0,  0,  0,  0,  0]])"
      ]
     },
     "execution_count": 69,
     "metadata": {},
     "output_type": "execute_result"
    }
   ],
   "source": [
    "outputs"
   ]
  },
  {
   "cell_type": "code",
   "execution_count": 70,
   "metadata": {},
   "outputs": [
    {
     "name": "stdout",
     "output_type": "stream",
     "text": [
      "['abran', 'paso', 'al', 'mejor', 'de', 'todos', 'los', 'tiempos', ',', 'Leonel', 'Andrés', 'messi', 'cuccittini']\n",
      "tensor([ 0,  0,  0,  0,  0,  0,  0,  0,  0,  0, 11, 12, 12, 12, 12, 12, 12,  0])\n",
      "[None, 0, 1, 2, 3, 4, 5, 6, 7, 8, 9, 10, 11, 12, 12, 12, 12, None]\n",
      "[('abran', 'O'), ('paso', 'O'), ('al', 'O'), ('mejor', 'O'), ('de', 'O'), ('todos', 'O'), ('los', 'O'), ('tiempos', 'O'), (',', 'O'), ('Leonel', 'B-PER'), ('Andrés', 'I-PER'), ('messi', 'I-PER'), ('cuccittini', 'I-PER')]\n",
      "['sos', 'el', 'mejor', 'leo']\n",
      "tensor([ 0,  0,  0,  0, 11,  0,  0,  0,  0,  0,  0,  0,  0,  0,  0,  0,  0,  0])\n",
      "[None, 0, 1, 2, 3, None, None, None, None, None, None, None, None, None, None, None, None, None]\n",
      "[('sos', 'O'), ('el', 'O'), ('mejor', 'O'), ('leo', 'B-PER')]\n"
     ]
    }
   ],
   "source": [
    "labels = []\n",
    "\n",
    "for i, (sentence, output) in enumerate(zip(words, outputs)):\n",
    "\n",
    "    sentence_labels = [None for _ in sentence]\n",
    "    print(sentence)\n",
    "    print(output)\n",
    "    word_ids = inputs.word_ids(i)\n",
    "    print(word_ids)\n",
    "\n",
    "    for word_id, label in zip(word_ids, output):\n",
    "        if word_id is not None and sentence_labels[word_id] is None:\n",
    "                sentence_labels[word_id] = id2label[label.item()]\n",
    "\n",
    "    print(list(zip(sentence, sentence_labels)))\n",
    "    # for word, label in zip(sentence, output):\n",
    "    #     print(word, id2label[label.item()])"
   ]
  },
  {
   "attachments": {},
   "cell_type": "markdown",
   "metadata": {},
   "source": [
    "## Analyzer"
   ]
  },
  {
   "cell_type": "code",
   "execution_count": 74,
   "metadata": {},
   "outputs": [
    {
     "name": "stdout",
     "output_type": "stream",
     "text": [
      "> \u001b[0;32m/home/jmperez/projects/pysentimiento/pysentimiento/analyzer.py\u001b[0m(401)\u001b[0;36mcreate_analyzer\u001b[0;34m()\u001b[0m\n",
      "\u001b[0;32m    399 \u001b[0;31m    \u001b[0;32mimport\u001b[0m \u001b[0mipdb\u001b[0m\u001b[0;34m\u001b[0m\u001b[0;34m\u001b[0m\u001b[0m\n",
      "\u001b[0m\u001b[0;32m    400 \u001b[0;31m    \u001b[0mipdb\u001b[0m\u001b[0;34m.\u001b[0m\u001b[0mset_trace\u001b[0m\u001b[0;34m(\u001b[0m\u001b[0;34m)\u001b[0m\u001b[0;34m\u001b[0m\u001b[0;34m\u001b[0m\u001b[0m\n",
      "\u001b[0m\u001b[0;32m--> 401 \u001b[0;31m    \u001b[0;32mreturn\u001b[0m \u001b[0manalyzer_class\u001b[0m\u001b[0;34m.\u001b[0m\u001b[0mfrom_model_name\u001b[0m\u001b[0;34m(\u001b[0m\u001b[0mmodel_name\u001b[0m\u001b[0;34m,\u001b[0m \u001b[0mtask\u001b[0m\u001b[0;34m,\u001b[0m \u001b[0mpreprocessing_args\u001b[0m\u001b[0;34m,\u001b[0m \u001b[0mlang\u001b[0m\u001b[0;34m=\u001b[0m\u001b[0mlang\u001b[0m\u001b[0;34m,\u001b[0m \u001b[0;34m**\u001b[0m\u001b[0mkwargs\u001b[0m\u001b[0;34m)\u001b[0m\u001b[0;34m\u001b[0m\u001b[0;34m\u001b[0m\u001b[0m\n",
      "\u001b[0m\n"
     ]
    },
    {
     "name": "stderr",
     "output_type": "stream",
     "text": [
      "loading configuration file config.json from cache at /home/jmperez/.cache/huggingface/hub/models--pysentimiento--robertuito-ner/snapshots/c5c1a4673c8e833e9a66b5bf2942988e65349538/config.json\n",
      "Model config RobertaConfig {\n",
      "  \"_name_or_path\": \"pysentimiento/robertuito-ner\",\n",
      "  \"architectures\": [\n",
      "    \"RobertaForTokenClassification\"\n",
      "  ],\n",
      "  \"attention_probs_dropout_prob\": 0.1,\n",
      "  \"bos_token_id\": 0,\n",
      "  \"classifier_dropout\": null,\n",
      "  \"eos_token_id\": 2,\n",
      "  \"gradient_checkpointing\": false,\n",
      "  \"hidden_act\": \"gelu\",\n",
      "  \"hidden_dropout_prob\": 0.1,\n",
      "  \"hidden_size\": 768,\n",
      "  \"id2label\": {\n",
      "    \"0\": \"O\",\n",
      "    \"1\": \"B-EVENT\",\n",
      "    \"2\": \"I-EVENT\",\n",
      "    \"3\": \"B-GROUP\",\n",
      "    \"4\": \"I-GROUP\",\n",
      "    \"5\": \"B-LOC\",\n",
      "    \"6\": \"I-LOC\",\n",
      "    \"7\": \"B-ORG\",\n",
      "    \"8\": \"I-ORG\",\n",
      "    \"9\": \"B-OTHER\",\n",
      "    \"10\": \"I-OTHER\",\n",
      "    \"11\": \"B-PER\",\n",
      "    \"12\": \"I-PER\",\n",
      "    \"13\": \"B-PROD\",\n",
      "    \"14\": \"I-PROD\",\n",
      "    \"15\": \"B-TIME\",\n",
      "    \"16\": \"I-TIME\",\n",
      "    \"17\": \"B-TITLE\",\n",
      "    \"18\": \"I-TITLE\"\n",
      "  },\n",
      "  \"initializer_range\": 0.02,\n",
      "  \"intermediate_size\": 3072,\n",
      "  \"label2id\": {\n",
      "    \"B-EVENT\": 1,\n",
      "    \"B-GROUP\": 3,\n",
      "    \"B-LOC\": 5,\n",
      "    \"B-ORG\": 7,\n",
      "    \"B-OTHER\": 9,\n",
      "    \"B-PER\": 11,\n",
      "    \"B-PROD\": 13,\n",
      "    \"B-TIME\": 15,\n",
      "    \"B-TITLE\": 17,\n",
      "    \"I-EVENT\": 2,\n",
      "    \"I-GROUP\": 4,\n",
      "    \"I-LOC\": 6,\n",
      "    \"I-ORG\": 8,\n",
      "    \"I-OTHER\": 10,\n",
      "    \"I-PER\": 12,\n",
      "    \"I-PROD\": 14,\n",
      "    \"I-TIME\": 16,\n",
      "    \"I-TITLE\": 18,\n",
      "    \"O\": 0\n",
      "  },\n",
      "  \"layer_norm_eps\": 1e-12,\n",
      "  \"max_position_embeddings\": 130,\n",
      "  \"model_type\": \"roberta\",\n",
      "  \"num_attention_heads\": 12,\n",
      "  \"num_hidden_layers\": 12,\n",
      "  \"pad_token_id\": 1,\n",
      "  \"position_embedding_type\": \"absolute\",\n",
      "  \"torch_dtype\": \"float32\",\n",
      "  \"transformers_version\": \"4.26.0\",\n",
      "  \"type_vocab_size\": 1,\n",
      "  \"use_cache\": true,\n",
      "  \"vocab_size\": 30002\n",
      "}\n",
      "\n",
      "loading weights file pytorch_model.bin from cache at /home/jmperez/.cache/huggingface/hub/models--pysentimiento--robertuito-ner/snapshots/c5c1a4673c8e833e9a66b5bf2942988e65349538/pytorch_model.bin\n",
      "All model checkpoint weights were used when initializing RobertaForTokenClassification.\n",
      "\n",
      "All the weights of RobertaForTokenClassification were initialized from the model checkpoint at pysentimiento/robertuito-ner.\n",
      "If your task is similar to the task the model of the checkpoint was trained on, you can already use RobertaForTokenClassification for predictions without further training.\n",
      "loading file tokenizer.json from cache at /home/jmperez/.cache/huggingface/hub/models--pysentimiento--robertuito-ner/snapshots/c5c1a4673c8e833e9a66b5bf2942988e65349538/tokenizer.json\n",
      "loading file added_tokens.json from cache at None\n",
      "loading file special_tokens_map.json from cache at /home/jmperez/.cache/huggingface/hub/models--pysentimiento--robertuito-ner/snapshots/c5c1a4673c8e833e9a66b5bf2942988e65349538/special_tokens_map.json\n",
      "loading file tokenizer_config.json from cache at /home/jmperez/.cache/huggingface/hub/models--pysentimiento--robertuito-ner/snapshots/c5c1a4673c8e833e9a66b5bf2942988e65349538/tokenizer_config.json\n",
      "PyTorch: setting up devices\n",
      "The default value for the training argument `--report_to` will change in v5 (from all installed integrations to none). In v5, you will need to use `--report_to all` to get the same behavior as now. You should start updating your code and make this info disappear :-).\n"
     ]
    }
   ],
   "source": [
    "from pysentimiento import create_analyzer\n",
    "ner_analyzer = create_analyzer(\"ner\", lang=\"es\")"
   ]
  },
  {
   "cell_type": "code",
   "execution_count": 86,
   "metadata": {},
   "outputs": [
    {
     "name": "stdout",
     "output_type": "stream",
     "text": [
      "> \u001b[0;32m/home/jmperez/projects/pysentimiento/pysentimiento/analyzer.py\u001b[0m(303)\u001b[0;36mdecode\u001b[0;34m()\u001b[0m\n",
      "\u001b[0;32m    302 \u001b[0;31m\u001b[0;34m\u001b[0m\u001b[0m\n",
      "\u001b[0m\u001b[0;32m--> 303 \u001b[0;31m        \u001b[0;32mfor\u001b[0m \u001b[0msegment\u001b[0m \u001b[0;32min\u001b[0m \u001b[0mentities\u001b[0m\u001b[0;34m:\u001b[0m\u001b[0;34m\u001b[0m\u001b[0;34m\u001b[0m\u001b[0m\n",
      "\u001b[0m\u001b[0;32m    304 \u001b[0;31m            segment[\"text\"] = \"\".join(\n",
      "\u001b[0m\n",
      "> \u001b[0;32m/home/jmperez/projects/pysentimiento/pysentimiento/analyzer.py\u001b[0m(303)\u001b[0;36mdecode\u001b[0;34m()\u001b[0m\n",
      "\u001b[0;32m    302 \u001b[0;31m\u001b[0;34m\u001b[0m\u001b[0m\n",
      "\u001b[0m\u001b[0;32m--> 303 \u001b[0;31m        \u001b[0;32mfor\u001b[0m \u001b[0msegment\u001b[0m \u001b[0;32min\u001b[0m \u001b[0mentities\u001b[0m\u001b[0;34m:\u001b[0m\u001b[0;34m\u001b[0m\u001b[0;34m\u001b[0m\u001b[0m\n",
      "\u001b[0m\u001b[0;32m    304 \u001b[0;31m            segment[\"text\"] = \"\".join(\n",
      "\u001b[0m\n"
     ]
    },
    {
     "data": {
      "text/plain": [
       "[[{'type': 'PER',\n",
       "   'text': 'Leonel Andrés messi cuccittini',\n",
       "   'start': 42,\n",
       "   'end': 72}],\n",
       " [{'type': 'PER', 'text': 'leo', 'start': 13, 'end': 16}]]"
      ]
     },
     "execution_count": 86,
     "metadata": {},
     "output_type": "execute_result"
    }
   ],
   "source": [
    "ner_analyzer.predict(sentences)"
   ]
  },
  {
   "cell_type": "code",
   "execution_count": null,
   "metadata": {},
   "outputs": [],
   "source": []
  }
 ],
 "metadata": {
  "kernelspec": {
   "display_name": ".venv",
   "language": "python",
   "name": "python3"
  },
  "language_info": {
   "codemirror_mode": {
    "name": "ipython",
    "version": 3
   },
   "file_extension": ".py",
   "mimetype": "text/x-python",
   "name": "python",
   "nbconvert_exporter": "python",
   "pygments_lexer": "ipython3",
   "version": "3.8.12"
  },
  "orig_nbformat": 4,
  "vscode": {
   "interpreter": {
    "hash": "937b9937b084de7c01ff6f8c8ec75cb4264b181d3731e2c746ab087eed3df4a9"
   }
  }
 },
 "nbformat": 4,
 "nbformat_minor": 2
}
