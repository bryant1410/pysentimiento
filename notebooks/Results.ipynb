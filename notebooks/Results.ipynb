{
 "cells": [
  {
   "attachments": {},
   "cell_type": "markdown",
   "metadata": {},
   "source": [
    "# Results\n",
    "\n",
    "In this notebook we explore the results of the experiments, which are stored in wandb"
   ]
  },
  {
   "cell_type": "code",
   "execution_count": 1,
   "metadata": {},
   "outputs": [],
   "source": [
    "# Get wandb api object\n",
    "import wandb\n",
    "\n",
    "api = wandb.Api()\n",
    "\n",
    "# Get all runs\n",
    "project = api.project(\"pysentimiento\")\n",
    "\n",
    "\n",
    "# Get all runs for sentiment and lang es\n",
    "es_runs = [r for r in api.runs(\"pysentimiento\", {\"config.lang\": \"es\"}) if not r.sweep]\n",
    "en_runs = [r for r in api.runs(\"pysentimiento\", {\"config.lang\": \"en\"}) if not r.sweep]\n"
   ]
  },
  {
   "attachments": {},
   "cell_type": "markdown",
   "metadata": {},
   "source": [
    "## Spanish results"
   ]
  },
  {
   "cell_type": "code",
   "execution_count": 2,
   "metadata": {},
   "outputs": [],
   "source": [
    "data = []\n",
    "\n",
    "renames = {\n",
    "    \"PlanTL-GOB-ES/roberta-base-bne\": \"roberta\",\n",
    "    \"bertin-project/bertin-roberta-base-spanish\": \"bertin\",\n",
    "    \"dccuchile/bert-base-spanish-wwm-cased\": \"beto\",\n",
    "    \"mrm8488/electricidad-base-discriminator\": \"electricidad\",\n",
    "    \"pysentimiento/robertuito-base-uncased\": \"robertuito\",\n",
    "}\n",
    "\n",
    "for run in es_runs:\n",
    "    # Get model name\n",
    "    model_name = run.config[\"model\"]\n",
    "    # Get task \n",
    "    task = run.config[\"task\"]\n",
    "    # Get Macro f1 performance\n",
    "    macro_f1 = run.summary[\"test_macro_f1\"]\n",
    "\n",
    "    data.append({\n",
    "        \"model\": renames[model_name],\n",
    "        \"task\": task,\n",
    "        \"macro_f1\": macro_f1,\n",
    "    })"
   ]
  },
  {
   "cell_type": "code",
   "execution_count": 3,
   "metadata": {},
   "outputs": [
    {
     "data": {
      "text/html": [
       "<div>\n",
       "<style scoped>\n",
       "    .dataframe tbody tr th:only-of-type {\n",
       "        vertical-align: middle;\n",
       "    }\n",
       "\n",
       "    .dataframe tbody tr th {\n",
       "        vertical-align: top;\n",
       "    }\n",
       "\n",
       "    .dataframe thead th {\n",
       "        text-align: right;\n",
       "    }\n",
       "</style>\n",
       "<table border=\"1\" class=\"dataframe\">\n",
       "  <thead>\n",
       "    <tr style=\"text-align: right;\">\n",
       "      <th>task</th>\n",
       "      <th>emotion</th>\n",
       "      <th>hate_speech</th>\n",
       "      <th>irony</th>\n",
       "      <th>sentiment</th>\n",
       "    </tr>\n",
       "    <tr>\n",
       "      <th>model</th>\n",
       "      <th></th>\n",
       "      <th></th>\n",
       "      <th></th>\n",
       "      <th></th>\n",
       "    </tr>\n",
       "  </thead>\n",
       "  <tbody>\n",
       "    <tr>\n",
       "      <th>bertin</th>\n",
       "      <td>50.2 +- 2.9</td>\n",
       "      <td>68.7 +- 1.5</td>\n",
       "      <td>69.3 +- 1.4</td>\n",
       "      <td>65.3 +- 0.5</td>\n",
       "    </tr>\n",
       "    <tr>\n",
       "      <th>beto</th>\n",
       "      <td>52.2 +- 1.4</td>\n",
       "      <td>73.3 +- 0.8</td>\n",
       "      <td>71.5 +- 0.5</td>\n",
       "      <td>67.2 +- 0.6</td>\n",
       "    </tr>\n",
       "    <tr>\n",
       "      <th>electricidad</th>\n",
       "      <td>46.3 +- 2.3</td>\n",
       "      <td>71.8 +- 1.0</td>\n",
       "      <td>67.1 +- 2.1</td>\n",
       "      <td>65.3 +- 0.5</td>\n",
       "    </tr>\n",
       "    <tr>\n",
       "      <th>roberta</th>\n",
       "      <td>53.1 +- 2.2</td>\n",
       "      <td>73.1 +- 2.8</td>\n",
       "      <td>71.9 +- 0.9</td>\n",
       "      <td>67.3 +- 0.3</td>\n",
       "    </tr>\n",
       "    <tr>\n",
       "      <th>robertuito</th>\n",
       "      <td>55.3 +- 0.8</td>\n",
       "      <td>76.1 +- 0.5</td>\n",
       "      <td>74.1 +- 0.7</td>\n",
       "      <td>70.2 +- 0.2</td>\n",
       "    </tr>\n",
       "  </tbody>\n",
       "</table>\n",
       "</div>"
      ],
      "text/plain": [
       "task              emotion  hate_speech        irony    sentiment\n",
       "model                                                           \n",
       "bertin        50.2 +- 2.9  68.7 +- 1.5  69.3 +- 1.4  65.3 +- 0.5\n",
       "beto          52.2 +- 1.4  73.3 +- 0.8  71.5 +- 0.5  67.2 +- 0.6\n",
       "electricidad  46.3 +- 2.3  71.8 +- 1.0  67.1 +- 2.1  65.3 +- 0.5\n",
       "roberta       53.1 +- 2.2  73.1 +- 2.8  71.9 +- 0.9  67.3 +- 0.3\n",
       "robertuito    55.3 +- 0.8  76.1 +- 0.5  74.1 +- 0.7  70.2 +- 0.2"
      ]
     },
     "execution_count": 3,
     "metadata": {},
     "output_type": "execute_result"
    }
   ],
   "source": [
    "import pandas as pd\n",
    "\n",
    "df = pd.DataFrame(data)\n",
    "\n",
    "# Group by model and task\n",
    "\n",
    "grouped = df.groupby([\"task\", \"model\"])\n",
    "\n",
    "# Get mean macro f1 plus standard deviation in a single line with +- inbetween\n",
    "\n",
    "df_results = (grouped.mean() * 100).round(1).astype(str) + \" +- \" + (grouped.std() * 100).round(1).astype(str)\n",
    "\n",
    "df_results = df_results.unstack(\"task\")\n",
    "df_results.columns = df_results.columns.droplevel(0)\n",
    "\n",
    "df_results"
   ]
  },
  {
   "cell_type": "code",
   "execution_count": 5,
   "metadata": {},
   "outputs": [
    {
     "name": "stdout",
     "output_type": "stream",
     "text": [
      "| model        | emotion     | hate_speech   | irony       | sentiment   |\n",
      "|:-------------|:------------|:--------------|:------------|:------------|\n",
      "| bertin       | 50.2 +- 2.9 | 68.7 +- 1.5   | 69.3 +- 1.4 | 65.3 +- 0.5 |\n",
      "| beto         | 52.2 +- 1.4 | 73.3 +- 0.8   | 71.5 +- 0.5 | 67.2 +- 0.6 |\n",
      "| electricidad | 46.3 +- 2.3 | 71.8 +- 1.0   | 67.1 +- 2.1 | 65.3 +- 0.5 |\n",
      "| roberta      | 53.1 +- 2.2 | 73.1 +- 2.8   | 71.9 +- 0.9 | 67.3 +- 0.3 |\n",
      "| robertuito   | 55.3 +- 0.8 | 76.1 +- 0.5   | 74.1 +- 0.7 | 70.2 +- 0.2 |\n"
     ]
    }
   ],
   "source": [
    "print(df_results.to_markdown())"
   ]
  },
  {
   "attachments": {},
   "cell_type": "markdown",
   "metadata": {},
   "source": [
    "## English results"
   ]
  },
  {
   "cell_type": "code",
   "execution_count": 6,
   "metadata": {},
   "outputs": [
    {
     "name": "stdout",
     "output_type": "stream",
     "text": [
      "electric-sweep-12\n",
      "glowing-sweep-11\n",
      "wobbly-sweep-10\n",
      "clear-sweep-9\n",
      "woven-sweep-8\n",
      "vocal-sweep-7\n",
      "rural-sweep-6\n",
      "logical-sweep-5\n",
      "autumn-sweep-4\n",
      "cerulean-sweep-3\n",
      "earnest-sweep-2\n",
      "ethereal-sweep-1\n"
     ]
    }
   ],
   "source": [
    "data = []\n",
    "\n",
    "renames = {\n",
    "    \"vinai/bertweet-base\": \"bertweet\",\n",
    "    \"roberta-base\": \"roberta\",\n",
    "    \"bert-base-uncased\": \"bert\",\n",
    "    \"google/electra-base-discriminator\": \"electra\",\n",
    "    \"pysentimiento/robertuito-base-uncased\": \"robertuito\",\n",
    "}\n",
    "\n",
    "odd_runs = []\n",
    "\n",
    "for run in en_runs:\n",
    "    # Get model name\n",
    "    model_name = run.config[\"model\"]\n",
    "    # Get task \n",
    "    task = run.config[\"task\"]\n",
    "    \n",
    "    # Get Macro f1 performance\n",
    "    try:\n",
    "        macro_f1 = run.summary[\"test_macro_f1\"]\n",
    "    except KeyError:\n",
    "        print(run.name)\n",
    "        odd_runs.append(run)\n",
    "        continue \n",
    "    \n",
    "    data.append({\n",
    "        \"model\": renames[model_name],\n",
    "        \"task\": task,\n",
    "        \"macro_f1\": macro_f1,\n",
    "    })"
   ]
  },
  {
   "cell_type": "code",
   "execution_count": 7,
   "metadata": {},
   "outputs": [
    {
     "data": {
      "text/html": [
       "<div>\n",
       "<style scoped>\n",
       "    .dataframe tbody tr th:only-of-type {\n",
       "        vertical-align: middle;\n",
       "    }\n",
       "\n",
       "    .dataframe tbody tr th {\n",
       "        vertical-align: top;\n",
       "    }\n",
       "\n",
       "    .dataframe thead th {\n",
       "        text-align: right;\n",
       "    }\n",
       "</style>\n",
       "<table border=\"1\" class=\"dataframe\">\n",
       "  <thead>\n",
       "    <tr style=\"text-align: right;\">\n",
       "      <th>task</th>\n",
       "      <th>emotion</th>\n",
       "      <th>hate_speech</th>\n",
       "      <th>irony</th>\n",
       "      <th>sentiment</th>\n",
       "    </tr>\n",
       "    <tr>\n",
       "      <th>model</th>\n",
       "      <th></th>\n",
       "      <th></th>\n",
       "      <th></th>\n",
       "      <th></th>\n",
       "    </tr>\n",
       "  </thead>\n",
       "  <tbody>\n",
       "    <tr>\n",
       "      <th>bert</th>\n",
       "      <td>42.7 +- 0.6</td>\n",
       "      <td>56.0 +- 0.8</td>\n",
       "      <td>68.1 +- 2.2</td>\n",
       "      <td>69.6 +- 0.4</td>\n",
       "    </tr>\n",
       "    <tr>\n",
       "      <th>bertweet</th>\n",
       "      <td>43.1 +- 1.8</td>\n",
       "      <td>57.7 +- 0.7</td>\n",
       "      <td>80.8 +- 0.7</td>\n",
       "      <td>72.0 +- 0.4</td>\n",
       "    </tr>\n",
       "    <tr>\n",
       "      <th>electra</th>\n",
       "      <td>37.2 +- 2.9</td>\n",
       "      <td>55.6 +- 0.6</td>\n",
       "      <td>71.3 +- 1.8</td>\n",
       "      <td>70.9 +- 0.4</td>\n",
       "    </tr>\n",
       "    <tr>\n",
       "      <th>roberta</th>\n",
       "      <td>45.0 +- 0.9</td>\n",
       "      <td>55.1 +- 0.4</td>\n",
       "      <td>70.4 +- 2.9</td>\n",
       "      <td>70.4 +- 0.3</td>\n",
       "    </tr>\n",
       "    <tr>\n",
       "      <th>robertuito</th>\n",
       "      <td>43.0 +- 3.3</td>\n",
       "      <td>57.5 +- 0.2</td>\n",
       "      <td>73.9 +- 1.4</td>\n",
       "      <td>69.6 +- 0.5</td>\n",
       "    </tr>\n",
       "  </tbody>\n",
       "</table>\n",
       "</div>"
      ],
      "text/plain": [
       "task            emotion  hate_speech        irony    sentiment\n",
       "model                                                         \n",
       "bert        42.7 +- 0.6  56.0 +- 0.8  68.1 +- 2.2  69.6 +- 0.4\n",
       "bertweet    43.1 +- 1.8  57.7 +- 0.7  80.8 +- 0.7  72.0 +- 0.4\n",
       "electra     37.2 +- 2.9  55.6 +- 0.6  71.3 +- 1.8  70.9 +- 0.4\n",
       "roberta     45.0 +- 0.9  55.1 +- 0.4  70.4 +- 2.9  70.4 +- 0.3\n",
       "robertuito  43.0 +- 3.3  57.5 +- 0.2  73.9 +- 1.4  69.6 +- 0.5"
      ]
     },
     "execution_count": 7,
     "metadata": {},
     "output_type": "execute_result"
    }
   ],
   "source": [
    "df = pd.DataFrame(data)\n",
    "\n",
    "# Group by model and task\n",
    "\n",
    "grouped = df.groupby([\"task\", \"model\"])\n",
    "\n",
    "# Get mean macro f1 plus standard deviation in a single line with +- inbetween\n",
    "\n",
    "df_results = (grouped.mean() * 100).round(1).astype(str) + \" +- \" + (grouped.std() * 100).round(1).astype(str)\n",
    "\n",
    "df_results = df_results.unstack(\"task\")\n",
    "df_results.columns = df_results.columns.droplevel(0)\n",
    "\n",
    "df_results"
   ]
  },
  {
   "cell_type": "code",
   "execution_count": 8,
   "metadata": {},
   "outputs": [
    {
     "name": "stdout",
     "output_type": "stream",
     "text": [
      "| model      | emotion     | hate_speech   | irony       | sentiment   |\n",
      "|:-----------|:------------|:--------------|:------------|:------------|\n",
      "| bert       | 42.7 +- 0.6 | 56.0 +- 0.8   | 68.1 +- 2.2 | 69.6 +- 0.4 |\n",
      "| bertweet   | 43.1 +- 1.8 | 57.7 +- 0.7   | 80.8 +- 0.7 | 72.0 +- 0.4 |\n",
      "| electra    | 37.2 +- 2.9 | 55.6 +- 0.6   | 71.3 +- 1.8 | 70.9 +- 0.4 |\n",
      "| roberta    | 45.0 +- 0.9 | 55.1 +- 0.4   | 70.4 +- 2.9 | 70.4 +- 0.3 |\n",
      "| robertuito | 43.0 +- 3.3 | 57.5 +- 0.2   | 73.9 +- 1.4 | 69.6 +- 0.5 |\n"
     ]
    }
   ],
   "source": [
    "print(df_results.to_markdown())"
   ]
  },
  {
   "cell_type": "code",
   "execution_count": null,
   "metadata": {},
   "outputs": [],
   "source": []
  }
 ],
 "metadata": {
  "kernelspec": {
   "display_name": ".venv",
   "language": "python",
   "name": "python3"
  },
  "language_info": {
   "codemirror_mode": {
    "name": "ipython",
    "version": 3
   },
   "file_extension": ".py",
   "mimetype": "text/x-python",
   "name": "python",
   "nbconvert_exporter": "python",
   "pygments_lexer": "ipython3",
   "version": "3.11.1"
  },
  "orig_nbformat": 4,
  "vscode": {
   "interpreter": {
    "hash": "3fc79ed69e4c2b5a1db8fa17ebb1e82d66421519e5b018d314116a7b4cda9238"
   }
  }
 },
 "nbformat": 4,
 "nbformat_minor": 2
}
